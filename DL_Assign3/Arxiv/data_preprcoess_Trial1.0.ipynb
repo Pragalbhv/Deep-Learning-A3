{
 "cells": [
  {
   "cell_type": "code",
   "execution_count": 1,
   "id": "cdd4dbb1",
   "metadata": {},
   "outputs": [],
   "source": [
    "import pandas as pd"
   ]
  },
  {
   "cell_type": "code",
   "execution_count": 2,
   "id": "55566c28",
   "metadata": {},
   "outputs": [],
   "source": [
    "df=pd.read_csv('aksharantar_sampled/hin/hin_train.csv')"
   ]
  },
  {
   "cell_type": "code",
   "execution_count": 4,
   "id": "eb77a065",
   "metadata": {},
   "outputs": [
    {
     "data": {
      "text/plain": [
       "'बिन्द्या'"
      ]
     },
     "execution_count": 4,
     "metadata": {},
     "output_type": "execute_result"
    }
   ],
   "source": [
    "df['शस्त्रागार'].to_numpy()[0]"
   ]
  },
  {
   "cell_type": "code",
   "execution_count": 5,
   "id": "1ece7ec0",
   "metadata": {},
   "outputs": [],
   "source": [
    "def hindi_tokenizer(hindi_word):\n",
    "    return list(hindi_word)"
   ]
  },
  {
   "cell_type": "code",
   "execution_count": 6,
   "id": "5ff86add",
   "metadata": {},
   "outputs": [
    {
     "data": {
      "text/plain": [
       "['श', 'स', '्', 'त', '्', 'र', 'ा', 'ग', 'ा', 'र']"
      ]
     },
     "execution_count": 6,
     "metadata": {},
     "output_type": "execute_result"
    }
   ],
   "source": [
    "hindi_tokenizer('शस्त्रागार')"
   ]
  },
  {
   "cell_type": "code",
   "execution_count": 7,
   "id": "1ea11264",
   "metadata": {},
   "outputs": [],
   "source": [
    "def hindi_alphabet_vocab(df):\n",
    "    hindi_vocab=[]\n",
    "    for word in df['शस्त्रागार']:\n",
    "        for alphabet in hindi_tokenizer(word):\n",
    "            if alphabet in hindi_vocab:\n",
    "                pass\n",
    "            else:\n",
    "                hindi_vocab.append(alphabet)\n",
    "    # end of words, now do for word   'शस्त्रागार'\n",
    "    word ='शस्त्रागार'\n",
    "    for alphabet in hindi_tokenizer(word):\n",
    "        if alphabet in hindi_vocab:\n",
    "            pass\n",
    "        else:\n",
    "            hindi_vocab.append(alphabet)\n",
    "            \n",
    "    hindi_vocab.append('<')\n",
    "    hindi_vocab.append('>')\n",
    "    hindi_vocab.append('.')\n",
    "    return hindi_vocab\n",
    "        \n",
    "    \n",
    "    \n",
    "        "
   ]
  },
  {
   "cell_type": "code",
   "execution_count": 8,
   "id": "b204cd64",
   "metadata": {},
   "outputs": [],
   "source": [
    "hindi_vocab=hindi_alphabet_vocab(df)"
   ]
  },
  {
   "cell_type": "code",
   "execution_count": 9,
   "id": "ccfac512",
   "metadata": {},
   "outputs": [
    {
     "data": {
      "text/html": [
       "<div>\n",
       "<style scoped>\n",
       "    .dataframe tbody tr th:only-of-type {\n",
       "        vertical-align: middle;\n",
       "    }\n",
       "\n",
       "    .dataframe tbody tr th {\n",
       "        vertical-align: top;\n",
       "    }\n",
       "\n",
       "    .dataframe thead th {\n",
       "        text-align: right;\n",
       "    }\n",
       "</style>\n",
       "<table border=\"1\" class=\"dataframe\">\n",
       "  <thead>\n",
       "    <tr style=\"text-align: right;\">\n",
       "      <th></th>\n",
       "      <th>shastragaar</th>\n",
       "      <th>शस्त्रागार</th>\n",
       "    </tr>\n",
       "  </thead>\n",
       "  <tbody>\n",
       "    <tr>\n",
       "      <th>0</th>\n",
       "      <td>bindhya</td>\n",
       "      <td>बिन्द्या</td>\n",
       "    </tr>\n",
       "    <tr>\n",
       "      <th>1</th>\n",
       "      <td>kirankant</td>\n",
       "      <td>किरणकांत</td>\n",
       "    </tr>\n",
       "    <tr>\n",
       "      <th>2</th>\n",
       "      <td>yagyopaveet</td>\n",
       "      <td>यज्ञोपवीत</td>\n",
       "    </tr>\n",
       "    <tr>\n",
       "      <th>3</th>\n",
       "      <td>ratania</td>\n",
       "      <td>रटानिया</td>\n",
       "    </tr>\n",
       "    <tr>\n",
       "      <th>4</th>\n",
       "      <td>vaganyache</td>\n",
       "      <td>वागण्याचे</td>\n",
       "    </tr>\n",
       "    <tr>\n",
       "      <th>...</th>\n",
       "      <td>...</td>\n",
       "      <td>...</td>\n",
       "    </tr>\n",
       "    <tr>\n",
       "      <th>51194</th>\n",
       "      <td>toned</td>\n",
       "      <td>टोंड</td>\n",
       "    </tr>\n",
       "    <tr>\n",
       "      <th>51195</th>\n",
       "      <td>mutanaazaa</td>\n",
       "      <td>मुतनाज़ा</td>\n",
       "    </tr>\n",
       "    <tr>\n",
       "      <th>51196</th>\n",
       "      <td>asahmaton</td>\n",
       "      <td>असहमतों</td>\n",
       "    </tr>\n",
       "    <tr>\n",
       "      <th>51197</th>\n",
       "      <td>sulgaayin</td>\n",
       "      <td>सुलगायीं</td>\n",
       "    </tr>\n",
       "    <tr>\n",
       "      <th>51198</th>\n",
       "      <td>anchuthengu</td>\n",
       "      <td>अंचुतेंगु</td>\n",
       "    </tr>\n",
       "  </tbody>\n",
       "</table>\n",
       "<p>51199 rows × 2 columns</p>\n",
       "</div>"
      ],
      "text/plain": [
       "       shastragaar शस्त्रागार\n",
       "0          bindhya   बिन्द्या\n",
       "1        kirankant   किरणकांत\n",
       "2      yagyopaveet  यज्ञोपवीत\n",
       "3          ratania    रटानिया\n",
       "4       vaganyache  वागण्याचे\n",
       "...            ...        ...\n",
       "51194        toned       टोंड\n",
       "51195   mutanaazaa   मुतनाज़ा\n",
       "51196    asahmaton    असहमतों\n",
       "51197    sulgaayin   सुलगायीं\n",
       "51198  anchuthengu  अंचुतेंगु\n",
       "\n",
       "[51199 rows x 2 columns]"
      ]
     },
     "execution_count": 9,
     "metadata": {},
     "output_type": "execute_result"
    }
   ],
   "source": [
    "df"
   ]
  },
  {
   "cell_type": "code",
   "execution_count": 10,
   "id": "d4554449",
   "metadata": {},
   "outputs": [],
   "source": [
    "def english_tokenizer(english_word):\n",
    "    return list(english_word)"
   ]
  },
  {
   "cell_type": "code",
   "execution_count": 11,
   "id": "d8003916",
   "metadata": {},
   "outputs": [],
   "source": [
    "def english_alphabet_vocab(df):\n",
    "    english_vocab=[]\n",
    "    for word in df['shastragaar']:\n",
    "        for alphabet in english_tokenizer(word):\n",
    "            if alphabet in english_vocab:\n",
    "                pass\n",
    "            else:\n",
    "                english_vocab.append(alphabet)\n",
    "    # end of words, now do for word   'शस्त्रागार'\n",
    "    word ='shastragaar'\n",
    "    for alphabet in english_tokenizer(word):\n",
    "        if alphabet in english_vocab:\n",
    "            pass\n",
    "        else:\n",
    "            english_vocab.append(alphabet)\n",
    "            \n",
    "    english_vocab.append('<')\n",
    "    english_vocab.append('>')\n",
    "    english_vocab.append('.')\n",
    "    return english_vocab"
   ]
  },
  {
   "cell_type": "code",
   "execution_count": 12,
   "id": "1998d0cc",
   "metadata": {},
   "outputs": [],
   "source": [
    "english_vocab=english_alphabet_vocab(df)"
   ]
  },
  {
   "cell_type": "code",
   "execution_count": 13,
   "id": "7e9bbaf5",
   "metadata": {},
   "outputs": [
    {
     "name": "stdout",
     "output_type": "stream",
     "text": [
      "Length of Hindi Vocab:- 67\n",
      "Length of English Vocab:- 29\n"
     ]
    }
   ],
   "source": [
    "print('Length of Hindi Vocab:-', len(hindi_vocab))\n",
    "print('Length of English Vocab:-', len(english_vocab))"
   ]
  },
  {
   "cell_type": "code",
   "execution_count": 14,
   "id": "b0d8ec53",
   "metadata": {},
   "outputs": [],
   "source": [
    "max_len=0\n",
    "\n",
    "for i,j in zip(df['shastragaar'],df['शस्त्रागार']):\n",
    "    max_len=max(max_len,max(len(english_tokenizer(i)), len(hindi_tokenizer(j))))\n",
    "    \n"
   ]
  },
  {
   "cell_type": "code",
   "execution_count": 15,
   "id": "937dc2ce",
   "metadata": {},
   "outputs": [
    {
     "data": {
      "text/plain": [
       "24"
      ]
     },
     "execution_count": 15,
     "metadata": {},
     "output_type": "execute_result"
    }
   ],
   "source": [
    "max_len"
   ]
  },
  {
   "cell_type": "markdown",
   "id": "1393cdc6",
   "metadata": {},
   "source": [
    "# let us set max length to 30 _> for safety"
   ]
  },
  {
   "cell_type": "code",
   "execution_count": 16,
   "id": "5a030155",
   "metadata": {},
   "outputs": [],
   "source": [
    "new_df = pd.concat([df,df],ignore_index=True)"
   ]
  },
  {
   "cell_type": "code",
   "execution_count": 17,
   "id": "bcd5dea2",
   "metadata": {},
   "outputs": [
    {
     "data": {
      "text/html": [
       "<div>\n",
       "<style scoped>\n",
       "    .dataframe tbody tr th:only-of-type {\n",
       "        vertical-align: middle;\n",
       "    }\n",
       "\n",
       "    .dataframe tbody tr th {\n",
       "        vertical-align: top;\n",
       "    }\n",
       "\n",
       "    .dataframe thead th {\n",
       "        text-align: right;\n",
       "    }\n",
       "</style>\n",
       "<table border=\"1\" class=\"dataframe\">\n",
       "  <thead>\n",
       "    <tr style=\"text-align: right;\">\n",
       "      <th></th>\n",
       "      <th>shastragaar</th>\n",
       "      <th>शस्त्रागार</th>\n",
       "    </tr>\n",
       "  </thead>\n",
       "  <tbody>\n",
       "    <tr>\n",
       "      <th>0</th>\n",
       "      <td>bindhya</td>\n",
       "      <td>बिन्द्या</td>\n",
       "    </tr>\n",
       "    <tr>\n",
       "      <th>1</th>\n",
       "      <td>kirankant</td>\n",
       "      <td>किरणकांत</td>\n",
       "    </tr>\n",
       "    <tr>\n",
       "      <th>2</th>\n",
       "      <td>yagyopaveet</td>\n",
       "      <td>यज्ञोपवीत</td>\n",
       "    </tr>\n",
       "    <tr>\n",
       "      <th>3</th>\n",
       "      <td>ratania</td>\n",
       "      <td>रटानिया</td>\n",
       "    </tr>\n",
       "    <tr>\n",
       "      <th>4</th>\n",
       "      <td>vaganyache</td>\n",
       "      <td>वागण्याचे</td>\n",
       "    </tr>\n",
       "    <tr>\n",
       "      <th>...</th>\n",
       "      <td>...</td>\n",
       "      <td>...</td>\n",
       "    </tr>\n",
       "    <tr>\n",
       "      <th>102393</th>\n",
       "      <td>toned</td>\n",
       "      <td>टोंड</td>\n",
       "    </tr>\n",
       "    <tr>\n",
       "      <th>102394</th>\n",
       "      <td>mutanaazaa</td>\n",
       "      <td>मुतनाज़ा</td>\n",
       "    </tr>\n",
       "    <tr>\n",
       "      <th>102395</th>\n",
       "      <td>asahmaton</td>\n",
       "      <td>असहमतों</td>\n",
       "    </tr>\n",
       "    <tr>\n",
       "      <th>102396</th>\n",
       "      <td>sulgaayin</td>\n",
       "      <td>सुलगायीं</td>\n",
       "    </tr>\n",
       "    <tr>\n",
       "      <th>102397</th>\n",
       "      <td>anchuthengu</td>\n",
       "      <td>अंचुतेंगु</td>\n",
       "    </tr>\n",
       "  </tbody>\n",
       "</table>\n",
       "<p>102398 rows × 2 columns</p>\n",
       "</div>"
      ],
      "text/plain": [
       "        shastragaar शस्त्रागार\n",
       "0           bindhya   बिन्द्या\n",
       "1         kirankant   किरणकांत\n",
       "2       yagyopaveet  यज्ञोपवीत\n",
       "3           ratania    रटानिया\n",
       "4        vaganyache  वागण्याचे\n",
       "...             ...        ...\n",
       "102393        toned       टोंड\n",
       "102394   mutanaazaa   मुतनाज़ा\n",
       "102395    asahmaton    असहमतों\n",
       "102396    sulgaayin   सुलगायीं\n",
       "102397  anchuthengu  अंचुतेंगु\n",
       "\n",
       "[102398 rows x 2 columns]"
      ]
     },
     "execution_count": 17,
     "metadata": {},
     "output_type": "execute_result"
    }
   ],
   "source": [
    "new_df"
   ]
  },
  {
   "cell_type": "code",
   "execution_count": 18,
   "id": "4a6f2bc5",
   "metadata": {},
   "outputs": [],
   "source": []
  },
  {
   "cell_type": "code",
   "execution_count": 112,
   "id": "c03b0677",
   "metadata": {},
   "outputs": [],
   "source": [
    "def encode(do_onehot=True):\n",
    "    'returns encoder function'\n",
    "    def one_hot_encode_alphabet(alphabet,alphabet_to_index):\n",
    "    \n",
    "        # Initialize a zero vector of length equal to the number of alphabets plus one for unseen alphabets\n",
    "        one_hot_vector = [0] * (len(alphabet_to_index) + 1)\n",
    "        # Set the indices of the alphabets present in the sentence to 1\n",
    "\n",
    "        if alphabet.lower() in alphabet_to_index:\n",
    "            one_hot_vector[alphabet_to_index[alphabet.lower()]] = 1\n",
    "        else:\n",
    "            # Set the last index to 1 to represent any unseen alphabets\n",
    "            one_hot_vector[-1] = 1\n",
    "        return one_hot_vector\n",
    "    def simple(alphabet,alphabet_to_index):\n",
    "        try:\n",
    "            return alphabet_to_index[alphabet.lower()]\n",
    "        except:\n",
    "            return len(alphabet_to_index)\n",
    "    \n",
    "    \n",
    "    if do_onehot:\n",
    "        return one_hot_encode_alphabet\n",
    "    else:\n",
    "        return simple\n",
    "        "
   ]
  },
  {
   "cell_type": "code",
   "execution_count": 90,
   "id": "3c1b42f7",
   "metadata": {},
   "outputs": [
    {
     "data": {
      "text/plain": [
       "1"
      ]
     },
     "execution_count": 90,
     "metadata": {},
     "output_type": "execute_result"
    }
   ],
   "source": [
    "encode(False)('a',{'a':1})"
   ]
  },
  {
   "cell_type": "code",
   "execution_count": 98,
   "id": "2ff769d4",
   "metadata": {},
   "outputs": [],
   "source": [
    "def encode_word(word,alphabet_to_index,encoder=encode()):\n",
    "    max_len=30\n",
    "    word='<'+word+'>'\n",
    "    \n",
    "    while len(word)<30:\n",
    "        word+='.'\n",
    "    \n",
    "    \n",
    "    \n",
    "    word_encode=[]\n",
    "    for letter in word:\n",
    "        word_encode.append(encoder(letter,alphabet_to_index))\n",
    "    \n",
    "    return word_encode"
   ]
  },
  {
   "cell_type": "code",
   "execution_count": 113,
   "id": "476ea87d",
   "metadata": {},
   "outputs": [
    {
     "data": {
      "text/plain": [
       "[26,\n",
       " 0,\n",
       " 0,\n",
       " 0,\n",
       " 0,\n",
       " 0,\n",
       " 0,\n",
       " 0,\n",
       " 0,\n",
       " 0,\n",
       " 0,\n",
       " 0,\n",
       " 0,\n",
       " 0,\n",
       " 0,\n",
       " 0,\n",
       " 0,\n",
       " 0,\n",
       " 0,\n",
       " 0,\n",
       " 0,\n",
       " 0,\n",
       " 0,\n",
       " 0,\n",
       " 0,\n",
       " 0,\n",
       " 27,\n",
       " 28,\n",
       " 28,\n",
       " 28]"
      ]
     },
     "execution_count": 113,
     "metadata": {},
     "output_type": "execute_result"
    }
   ],
   "source": [
    "english_alphabet_to_index = {alphabet: index for index, alphabet in enumerate(english_vocab)}\n",
    "encode_word('b'*25,english_alphabet_to_index,encoder=encode(False))"
   ]
  },
  {
   "cell_type": "code",
   "execution_count": null,
   "id": "cbde9739",
   "metadata": {},
   "outputs": [],
   "source": []
  },
  {
   "cell_type": "code",
   "execution_count": 96,
   "id": "0c79fc3c",
   "metadata": {},
   "outputs": [
    {
     "data": {
      "text/plain": [
       "{'b': 0,\n",
       " 'i': 1,\n",
       " 'n': 2,\n",
       " 'd': 3,\n",
       " 'h': 4,\n",
       " 'y': 5,\n",
       " 'a': 6,\n",
       " 'k': 7,\n",
       " 'r': 8,\n",
       " 't': 9,\n",
       " 'g': 10,\n",
       " 'o': 11,\n",
       " 'p': 12,\n",
       " 'v': 13,\n",
       " 'e': 14,\n",
       " 'c': 15,\n",
       " 's': 16,\n",
       " 'm': 17,\n",
       " 'u': 18,\n",
       " 'w': 19,\n",
       " 'l': 20,\n",
       " 'j': 21,\n",
       " 'x': 22,\n",
       " 'f': 23,\n",
       " 'z': 24,\n",
       " 'q': 25,\n",
       " '<': 26,\n",
       " '>': 27,\n",
       " '.': 28}"
      ]
     },
     "execution_count": 96,
     "metadata": {},
     "output_type": "execute_result"
    }
   ],
   "source": [
    "english_alphabet_to_index"
   ]
  },
  {
   "cell_type": "code",
   "execution_count": 38,
   "id": "ba1e89d8",
   "metadata": {},
   "outputs": [
    {
     "name": "stdout",
     "output_type": "stream",
     "text": [
      "bindhya बिन्द्या\n",
      "kirankant किरणकांत\n",
      "yagyopaveet यज्ञोपवीत\n",
      "ratania रटानिया\n",
      "vaganyache वागण्याचे\n",
      "deshbharamadhye देशभरामध्ये\n",
      "sughadpan सुघड़पन\n",
      "mohiwal मोहीवाल\n",
      "sarvasangrah सर्वसंग्रह\n",
      "baseko बसेको\n",
      "tumchyapaiki तुमच्यापैकी\n"
     ]
    }
   ],
   "source": [
    "iterA=0\n",
    "for i,a in zip(df['shastragaar'],df['शस्त्रागार']):\n",
    "    print(i,a)\n",
    "    iterA+=1\n",
    "    if iterA>10:\n",
    "        break"
   ]
  },
  {
   "cell_type": "code",
   "execution_count": 114,
   "id": "ee16191c",
   "metadata": {},
   "outputs": [
    {
     "data": {
      "text/plain": [
       "[26,\n",
       " 26,\n",
       " 14,\n",
       " 2,\n",
       " 10,\n",
       " 29,\n",
       " 14,\n",
       " 11,\n",
       " 16,\n",
       " 27,\n",
       " 27,\n",
       " 28,\n",
       " 28,\n",
       " 28,\n",
       " 28,\n",
       " 28,\n",
       " 28,\n",
       " 28,\n",
       " 28,\n",
       " 28,\n",
       " 28,\n",
       " 28,\n",
       " 28,\n",
       " 28,\n",
       " 28,\n",
       " 28,\n",
       " 28,\n",
       " 28,\n",
       " 28,\n",
       " 28]"
      ]
     },
     "execution_count": 114,
     "metadata": {},
     "output_type": "execute_result"
    }
   ],
   "source": [
    "encode_word('<eng_eos>',english_alphabet_to_index,encoder=encode(False))"
   ]
  },
  {
   "cell_type": "code",
   "execution_count": 122,
   "id": "ec094743",
   "metadata": {},
   "outputs": [],
   "source": [
    "import numpy as np"
   ]
  },
  {
   "cell_type": "code",
   "execution_count": 117,
   "id": "28706e91",
   "metadata": {},
   "outputs": [],
   "source": [
    "max_len=30\n",
    "def dataset_generator(df_train,df_val=None,df_test=None,do_onehot=True):\n",
    "    # we generate the vocabulary from train and validation only!\n",
    "    new_df = pd.concat([df_train,df_val],ignore_index=True)\n",
    "    hindi_vocab=hindi_alphabet_vocab(new_df)\n",
    "    english_vocab=english_alphabet_vocab(new_df)\n",
    "    \n",
    "\n",
    "    \n",
    "    '''\n",
    "    vocab generated. Now we one hot them?\n",
    "    yes-> because one hot encoding will ensure that distances don't have meaning 1,2 for a,b\n",
    "    and 26 for z would imply b is closer to a\n",
    "    '''\n",
    "    \n",
    "    # Create a dictionary to map alphabets to their index\n",
    "    \n",
    "    hindi_alphabet_to_index = {alphabet: index for index, alphabet in enumerate(hindi_vocab)}\n",
    "    index_to_hindi_alphabet = {index:alphabet  for index, alphabet in enumerate(hindi_vocab)}\n",
    "    \n",
    "    english_alphabet_to_index = {alphabet: index for index, alphabet in enumerate(english_vocab)}\n",
    "    index_to_english_alphabet = {index:alphabet  for index, alphabet in enumerate(english_vocab)}\n",
    "    \n",
    "    #training_data\n",
    "    training_input=[]\n",
    "    training_output=[]\n",
    "    \n",
    "    #validation\n",
    "    valid_input=[]\n",
    "    valid_output=[]\n",
    "    \n",
    "    #test\n",
    "    test_input=[]\n",
    "    test_output=[]\n",
    "    \n",
    "    for eng_word,hindi_word in zip(df_train['shastragaar'],df_train['शस्त्रागार']):\n",
    "        training_input.append(encode_word(eng_word,english_alphabet_to_index,encoder=encode(do_onehot)))\n",
    "        training_output.append(encode_word(hindi_word,hindi_alphabet_to_index,encoder=encode(do_onehot)))\n",
    "\n",
    "        \n",
    "    if df_val:\n",
    "        for eng_word,hindi_word in zip(df_val['shastragaar'],df_val['शस्त्रागार']):\n",
    "            valid_input.append(encode_word(eng_word,english_alphabet_to_index,encoder=encode(do_onehot)))\n",
    "            valid_output.append(encode_word(hindi_word,hindi_alphabet_to_index,encoder=encode(do_onehot)))\n",
    "\n",
    "        \n",
    "    if df_test:\n",
    "        for eng_word,hindi_word in zip(df_test['shastragaar'],df_test['शस्त्रागार']):\n",
    "            test_input.append(encode_word(eng_word,english_alphabet_to_index,encoder=encode(do_onehot)))\n",
    "            test_output.append(encode_word(hindi_word,hindi_alphabet_to_index,encoder=encode(do_onehot)))\n",
    "\n",
    "    \n",
    "    if do_onehot:\n",
    "        np.save('one_hot_data/X_train.npy',training_input)\n",
    "        np.save('one_hot_data/y_train.npy',training_output)\n",
    "        np.save('one_hot_data/X_val.npy',valid_input)\n",
    "        np.save('one_hot_data/y_val.npy',valid_output)\n",
    "        np.save('one_hot_data/X_test.npy',test_input)\n",
    "        np.save('one_hot_data/y_test.npy',test_output)\n",
    "    else:\n",
    "        np.save('simple_data/X_train.npy',training_input)\n",
    "        np.save('simple_data/y_train.npy',training_output)\n",
    "        np.save('simple_data/X_val.npy',valid_input)\n",
    "        np.save('simple_data/y_val.npy',valid_output)\n",
    "        np.save('simple_data/X_test.npy',test_input)\n",
    "        np.save('simple_data/y_test.npy',test_output)        \n",
    "    \n",
    "    return\n",
    "\n",
    "    \n",
    "    \n",
    "    \n",
    "    \n",
    "    \n",
    "    \n",
    "\n",
    "    \n",
    "    \n",
    "    \n",
    "    \n",
    "    \n",
    "    \n",
    "    "
   ]
  },
  {
   "cell_type": "code",
   "execution_count": 118,
   "id": "fbc669c3",
   "metadata": {},
   "outputs": [],
   "source": [
    "a,b=dataset_generator(df)"
   ]
  },
  {
   "cell_type": "code",
   "execution_count": 124,
   "id": "493016de",
   "metadata": {},
   "outputs": [],
   "source": [
    "np.save('a.npy',a)"
   ]
  },
  {
   "cell_type": "code",
   "execution_count": 130,
   "id": "50f28173",
   "metadata": {},
   "outputs": [
    {
     "data": {
      "text/plain": [
       "(30, 30)"
      ]
     },
     "execution_count": 130,
     "metadata": {},
     "output_type": "execute_result"
    }
   ],
   "source": [
    "np.load('a.npy')[0].shape"
   ]
  },
  {
   "cell_type": "code",
   "execution_count": 120,
   "id": "b3c367a6",
   "metadata": {},
   "outputs": [
    {
     "data": {
      "text/plain": [
       "51199"
      ]
     },
     "execution_count": 120,
     "metadata": {},
     "output_type": "execute_result"
    }
   ],
   "source": [
    "len(a)"
   ]
  },
  {
   "cell_type": "code",
   "execution_count": 121,
   "id": "73de7b62",
   "metadata": {},
   "outputs": [
    {
     "data": {
      "text/plain": [
       "51199"
      ]
     },
     "execution_count": 121,
     "metadata": {},
     "output_type": "execute_result"
    }
   ],
   "source": [
    "len(df)"
   ]
  },
  {
   "cell_type": "code",
   "execution_count": 39,
   "id": "f5802b7a",
   "metadata": {},
   "outputs": [],
   "source": [
    "# def hindi_one_hot(vocab):\n",
    "#     "
   ]
  },
  {
   "cell_type": "code",
   "execution_count": 40,
   "id": "509eefd8",
   "metadata": {},
   "outputs": [
    {
     "data": {
      "text/plain": [
       "'bindhya'"
      ]
     },
     "execution_count": 40,
     "metadata": {},
     "output_type": "execute_result"
    }
   ],
   "source": [
    "df['shastragaar'].iloc[0]"
   ]
  },
  {
   "cell_type": "code",
   "execution_count": null,
   "id": "0805ecc2",
   "metadata": {},
   "outputs": [],
   "source": []
  },
  {
   "cell_type": "code",
   "execution_count": null,
   "id": "c4183cae",
   "metadata": {},
   "outputs": [],
   "source": [
    "\n",
    "\n",
    "\n",
    "data = ['the cat sat on the mat', 'the dog sat on the rug', 'the quick brown fox jumps over the lazy dog']\n",
    "encoded_data = one_hot_encode_alphabets(data)\n",
    "print(encoded_data)\n",
    "```\n",
    "\n",
    "This will output:\n",
    "```\n",
    "[[0, 0, 1, 0, 1, 0, 1, 1, 0, 0, 0, 0, 1, 1, 1, 0, 0, 1, 1, 1, 0, 0, 0, 0, 0, 0, 0], [0, 0, 0, 1, 1, 0,\n",
    "```\n",
    "\n",
    "Is this what you were looking for?"
   ]
  }
 ],
 "metadata": {
  "kernelspec": {
   "display_name": "Python 3 (ipykernel)",
   "language": "python",
   "name": "python3"
  },
  "language_info": {
   "codemirror_mode": {
    "name": "ipython",
    "version": 3
   },
   "file_extension": ".py",
   "mimetype": "text/x-python",
   "name": "python",
   "nbconvert_exporter": "python",
   "pygments_lexer": "ipython3",
   "version": "3.10.6"
  }
 },
 "nbformat": 4,
 "nbformat_minor": 5
}
