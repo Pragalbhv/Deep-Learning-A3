{
 "cells": [
  {
   "cell_type": "code",
   "execution_count": 1,
   "id": "40aef9e9",
   "metadata": {},
   "outputs": [],
   "source": [
    "from utils import *\n",
    "import numpy as np\n",
    "import pickle\n",
    "# import torch"
   ]
  },
  {
   "cell_type": "code",
   "execution_count": 2,
   "id": "d60a160e",
   "metadata": {},
   "outputs": [],
   "source": [
    "hindi_alphabet_to_index=pickle.load(open('vocab_tools/hindi_alphabet_to_index.pickle', 'rb'))\n",
    "english_alphabet_to_index=pickle.load(open('vocab_tools/english_alphabet_to_index.pickle', 'rb'))\n",
    "index_to_english_alphabet=pickle.load(open('vocab_tools/index_to_english_alphabet.pickle', 'rb'))\n",
    "index_to_hindi_alphabet=pickle.load(open('vocab_tools/index_to_hindi_alphabet.pickle', 'rb'))"
   ]
  },
  {
   "cell_type": "code",
   "execution_count": 31,
   "id": "552bff5c",
   "metadata": {},
   "outputs": [],
   "source": [
    "X_train=np.load('one_hot_data/X_train.npy')\n",
    "X_valid=np.load('one_hot_data/X_val.npy')\n",
    "\n",
    "y_train=np.load('one_hot_data/y_train.npy')\n",
    "y_valid=np.load('one_hot_data/y_val.npy')"
   ]
  },
  {
   "cell_type": "code",
   "execution_count": 22,
   "id": "a7509b1f",
   "metadata": {},
   "outputs": [
    {
     "data": {
      "text/plain": [
       "(51199, 30, 68)"
      ]
     },
     "execution_count": 22,
     "metadata": {},
     "output_type": "execute_result"
    }
   ],
   "source": [
    "y_train.shape #index, seqlen, vocab/embedding length"
   ]
  },
  {
   "cell_type": "code",
   "execution_count": null,
   "id": "2bfe1dd9",
   "metadata": {},
   "outputs": [],
   "source": [
    "class LSTM1(nn.Module): #src:-https://cnvrg.io/pytorch-lstm/ authored by Ahmad Anis\n",
    "    def __init__(self, num_classes, input_size, hidden_size, num_layers, seq_length,dtype):\n",
    "        super(LSTM1, self).__init__()\n",
    "        self.num_classes = num_classes #number of classes\n",
    "        self.num_layers = num_layers #number of layers\n",
    "        self.input_size = input_size #input size\n",
    "        self.hidden_size = hidden_size #hidden state\n",
    "        self.seq_length = seq_length #sequence length\n",
    "        self.dtype=dtype\n",
    "\n",
    "        self.lstm = nn.LSTM(input_size=input_size, hidden_size=hidden_size,\n",
    "                          num_layers=num_layers, batch_first=True).double() #lstm\n",
    "        self.fc_1 =  nn.Linear(hidden_size, 128).double() #fully connected 1\n",
    "        self.fc = nn.Linear(128, num_classes).double() #fully connected last layer\n",
    "\n",
    "        self.relu = nn.ReLU().double()\n",
    "    \n",
    "    def forward(self,x):\n",
    "        h_0 = Variable(torch.zeros(self.num_layers, x.size(0), self.hidden_size,device=my_device,dtype=self.dtype)) #hidden state\n",
    "        c_0 = Variable(torch.zeros(self.num_layers, x.size(0), self.hidden_size,device=my_device,dtype=self.dtype)) #internal state\n",
    "        # Propagate input through LSTM\n",
    "        output, (hn, cn) = self.lstm(x, (h_0, c_0)) #lstm with input, hidden, and internal state\n",
    "        hn = hn.view(-1, self.hidden_size) #reshaping the data for Dense layer next\n",
    "        out = self.relu(hn)\n",
    "        out = self.fc_1(out) #first Dense\n",
    "        out = self.relu(out) #relu\n",
    "        out = self.fc(out) #Final Output\n",
    "        return out"
   ]
  },
  {
   "cell_type": "code",
   "execution_count": null,
   "id": "8f71a91a",
   "metadata": {},
   "outputs": [],
   "source": [
    "class EncoderRNN(nn.Module):\n",
    "    def __init__(self, input_size, hidden_size):\n",
    "        super(EncoderRNN, self).__init__()\n",
    "        self.hidden_size = hidden_size\n",
    "\n",
    "        self.embedding = nn.Embedding(input_size, hidden_size)\n",
    "        self.gru = nn.GRU(hidden_size, hidden_size)\n",
    "\n",
    "    def forward(self, input, hidden):\n",
    "        embedded = self.embedding(input).view(1, 1, -1)\n",
    "        output = embedded\n",
    "        output, hidden = self.gru(output, hidden)\n",
    "        return output, hidden\n",
    "\n",
    "    def initHidden(self):\n",
    "        return torch.zeros(1, 1, self.hidden_size, device=device)"
   ]
  },
  {
   "cell_type": "code",
   "execution_count": 11,
   "id": "c947da55",
   "metadata": {},
   "outputs": [],
   "source": [
    "import numpy as np\n",
    "y_test=np.load('simple_data/y_train.npy')"
   ]
  },
  {
   "cell_type": "code",
   "execution_count": 13,
   "id": "ff65aab6",
   "metadata": {},
   "outputs": [
    {
     "data": {
      "text/plain": [
       "array([64,  0,  1,  2,  3,  4,  3,  5,  6, 65, 66, 66, 66, 66, 66, 66, 66,\n",
       "       66, 66, 66, 66, 66, 66, 66, 66, 66, 66, 66, 66, 66])"
      ]
     },
     "execution_count": 13,
     "metadata": {},
     "output_type": "execute_result"
    }
   ],
   "source": [
    "y_test[0]"
   ]
  },
  {
   "cell_type": "code",
   "execution_count": 26,
   "id": "9d8c485f",
   "metadata": {},
   "outputs": [],
   "source": [
    "import torch\n",
    "from torch import nn\n",
    "embedding = nn.Embedding(68,128)"
   ]
  },
  {
   "cell_type": "code",
   "execution_count": 27,
   "id": "6d964c6f",
   "metadata": {},
   "outputs": [
    {
     "data": {
      "text/plain": [
       "tensor([64,  0,  1,  2,  3,  4,  3,  5,  6, 65, 66, 66, 66, 66, 66, 66, 66, 66,\n",
       "        66, 66, 66, 66, 66, 66, 66, 66, 66, 66, 66, 66])"
      ]
     },
     "execution_count": 27,
     "metadata": {},
     "output_type": "execute_result"
    }
   ],
   "source": [
    "torch.tensor(y_test[0])"
   ]
  },
  {
   "cell_type": "code",
   "execution_count": 36,
   "id": "bd865c08",
   "metadata": {},
   "outputs": [
    {
     "data": {
      "text/plain": [
       "(30, 68)"
      ]
     },
     "execution_count": 36,
     "metadata": {},
     "output_type": "execute_result"
    }
   ],
   "source": [
    "y_valid[0].shape"
   ]
  },
  {
   "cell_type": "code",
   "execution_count": 33,
   "id": "1f2ca005",
   "metadata": {},
   "outputs": [
    {
     "data": {
      "text/plain": [
       "torch.Size([30, 68, 128])"
      ]
     },
     "execution_count": 33,
     "metadata": {},
     "output_type": "execute_result"
    }
   ],
   "source": [
    "embedding(torch.tensor(y_valid[0])).shape"
   ]
  }
 ],
 "metadata": {
  "kernelspec": {
   "display_name": "Python 3 (ipykernel)",
   "language": "python",
   "name": "python3"
  },
  "language_info": {
   "codemirror_mode": {
    "name": "ipython",
    "version": 3
   },
   "file_extension": ".py",
   "mimetype": "text/x-python",
   "name": "python",
   "nbconvert_exporter": "python",
   "pygments_lexer": "ipython3",
   "version": "3.10.6"
  }
 },
 "nbformat": 4,
 "nbformat_minor": 5
}
