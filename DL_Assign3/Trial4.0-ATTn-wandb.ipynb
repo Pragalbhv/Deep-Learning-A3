{
 "cells": [
  {
   "cell_type": "code",
   "execution_count": 1,
   "id": "40aef9e9",
   "metadata": {},
   "outputs": [],
   "source": [
    "from utils import *\n",
    "import numpy as np\n",
    "import pickle\n",
    "import wandb"
   ]
  },
  {
   "cell_type": "code",
   "execution_count": 2,
   "id": "d60a160e",
   "metadata": {},
   "outputs": [],
   "source": [
    "index_to_english_alphabet=pickle.load(open('vocab_tools/index_to_english_alphabet.pickle', 'rb'))\n",
    "index_to_hindi_alphabet=pickle.load(open('vocab_tools/index_to_hindi_alphabet.pickle', 'rb'))\n",
    "\n",
    "hindi_alphabet_to_index=pickle.load(open('vocab_tools/hindi_alphabet_to_index.pickle', 'rb')) \n",
    "english_alphabet_to_index=pickle.load(open('vocab_tools/english_alphabet_to_index.pickle', 'rb')) "
   ]
  },
  {
   "cell_type": "code",
   "execution_count": 3,
   "id": "552bff5c",
   "metadata": {},
   "outputs": [],
   "source": [
    "X_train=np.load('simple_data/X_train.npy')\n",
    "X_valid=np.load('simple_data/X_val.npy')\n",
    "\n",
    "y_train=np.load('simple_data/y_train.npy')\n",
    "y_valid=np.load('simple_data/y_val.npy')"
   ]
  },
  {
   "cell_type": "code",
   "execution_count": 4,
   "id": "c8bb32fd",
   "metadata": {},
   "outputs": [
    {
     "name": "stderr",
     "output_type": "stream",
     "text": [
      "/opt/anaconda/envs/shared_conda_env/lib/python3.10/site-packages/tqdm/auto.py:22: TqdmWarning: IProgress not found. Please update jupyter and ipywidgets. See https://ipywidgets.readthedocs.io/en/stable/user_install.html\n",
      "  from .autonotebook import tqdm as notebook_tqdm\n"
     ]
    }
   ],
   "source": [
    "from __future__ import print_function, division\n",
    "import os\n",
    "import torch\n",
    "import pandas as pd\n",
    "from skimage import io, transform\n",
    "import numpy as np\n",
    "import matplotlib.pyplot as plt\n",
    "from torch.utils.data import Dataset, DataLoader\n",
    "from torchvision import transforms, utils\n",
    "\n",
    "# Ignore warnings\n",
    "import warnings\n",
    "warnings.filterwarnings(\"ignore\")\n",
    "\n",
    "plt.ion()   # interactive mode"
   ]
  },
  {
   "cell_type": "code",
   "execution_count": 5,
   "id": "9e291758",
   "metadata": {},
   "outputs": [],
   "source": [
    "class Eng_Hind_Dataset(Dataset):\n",
    "    \"\"\"Face Landmarks dataset.\"\"\"\n",
    "\n",
    "    def __init__(self, in_file, out_file, root_dir='simple_data',device='cuda'):\n",
    "        \"\"\"\n",
    "        Args:\n",
    "            csv_file (string): Path to the csv file with annotations.\n",
    "            root_dir (string): Directory with all the images.\n",
    "            transform (callable, optional): Optional transform to be applied\n",
    "                on a sample.\n",
    "        \"\"\"\n",
    "        self.input = torch.tensor(np.load(root_dir+'/'+in_file))\n",
    "        self.output = torch.tensor(np.load(root_dir+'/'+out_file))\n",
    "        \n",
    "        assert(len(self.input)==len(self.output),\"Error: I/O Lengths must be same\")\n",
    "        \n",
    "\n",
    "    def __len__(self):\n",
    "        return len(self.input)\n",
    "\n",
    "    def __getitem__(self, idx):\n",
    "        if torch.is_tensor(idx):\n",
    "            idx = idx.tolist()\n",
    "            \n",
    "        X=self.input[idx]\n",
    "        X=X.to(device)\n",
    "        y=self.output[idx]\n",
    "        y=y.to(device)\n",
    "        \n",
    "\n",
    "\n",
    "        sample = {'input': X, 'output': y}\n",
    "\n",
    "        return sample"
   ]
  },
  {
   "cell_type": "code",
   "execution_count": 6,
   "id": "7d2d17d3",
   "metadata": {},
   "outputs": [],
   "source": [
    "device = torch.device('cuda' if torch.cuda.is_available() else 'cpu')"
   ]
  },
  {
   "cell_type": "code",
   "execution_count": 7,
   "id": "6d715496",
   "metadata": {},
   "outputs": [
    {
     "data": {
      "text/plain": [
       "device(type='cuda')"
      ]
     },
     "execution_count": 7,
     "metadata": {},
     "output_type": "execute_result"
    }
   ],
   "source": [
    "device"
   ]
  },
  {
   "cell_type": "code",
   "execution_count": 8,
   "id": "7c6f5263",
   "metadata": {},
   "outputs": [],
   "source": [
    "training_data=Eng_Hind_Dataset(\"X_train.npy\",\"y_train.npy\",device=device)\n",
    "val_data=Eng_Hind_Dataset(\"X_val.npy\",\"y_val.npy\",device=device)\n",
    "test_data=Eng_Hind_Dataset(\"X_test.npy\",\"y_test.npy\",device=device)"
   ]
  },
  {
   "cell_type": "code",
   "execution_count": 9,
   "id": "7b576ed4",
   "metadata": {},
   "outputs": [],
   "source": [
    "train_dataloader = DataLoader(training_data, batch_size=16,shuffle=True)"
   ]
  },
  {
   "cell_type": "code",
   "execution_count": 10,
   "id": "53944bf0",
   "metadata": {},
   "outputs": [],
   "source": [
    "val_dataloader = DataLoader(val_data, batch_size=16,shuffle=True)"
   ]
  },
  {
   "cell_type": "code",
   "execution_count": 11,
   "id": "29d97754",
   "metadata": {},
   "outputs": [],
   "source": [
    "import torch.nn as nn"
   ]
  },
  {
   "cell_type": "code",
   "execution_count": 12,
   "id": "e383a857",
   "metadata": {},
   "outputs": [],
   "source": [
    "def cell_type(mode:str='rnn'):\n",
    "    mode=mode.lower()\n",
    "    if mode == 'rnn':\n",
    "        return nn.RNN\n",
    "    elif mode =='gru':\n",
    "        return nn.GRU\n",
    "    else:\n",
    "        return nn.LSTM\n",
    "        "
   ]
  },
  {
   "cell_type": "code",
   "execution_count": 13,
   "id": "1e094b08",
   "metadata": {},
   "outputs": [],
   "source": [
    "class Encoder(nn.Module):\n",
    "\n",
    "\n",
    "    def __init__(self, input_size, embed_size, enc_hid_size, dec_hid_size, num_layers, cell_mode, dropout, is_bi):\n",
    "        super().__init__()\n",
    "        \n",
    "        # create embedding layer\n",
    "        self.embedding = nn.Embedding(input_size, embed_size,padding_idx=english_alphabet_to_index['.'])\n",
    "\n",
    "        #creating LSTM/GRU/RNN cell\n",
    "        cell=cell_type(cell_mode)\n",
    "        \n",
    "        self.cell=cell(embed_size,enc_hid_size,num_layers,dropout=dropout,bidirectional=is_bi,batch_first=True)\n",
    "        self.cell_mode=cell_mode\n",
    "        self.is_bi=is_bi\n",
    "        if is_bi:\n",
    "            self.fc=nn.Linear(enc_hid_size*2, dec_hid_size)\n",
    "        else:\n",
    "            self.fc=nn.Linear(enc_hid_size, dec_hid_size)\n",
    "        \n",
    "        \n",
    "\n",
    "    def forward(self, input_batch: torch.LongTensor):\n",
    "        \n",
    "        embedded = self.embedding(input_batch) # [sent len, batch size, emb dim]\n",
    "        \n",
    "        if self.cell_mode.lower()=='lstm':\n",
    "            outputs, (hidden, cell) = self.cell(embedded)\n",
    "            \n",
    "            if self.is_bi:\n",
    "                concated = torch.cat((hidden[ -2, :,:], hidden[ -1, :,:]), dim=1)\n",
    "                cellconcat=torch.cat((cell[-2,:,:], cell[-1,:,:]), dim=1)\n",
    "            else:\n",
    "                concated = hidden[ -1,:, :]\n",
    "                cellconcat= cell[ -1,:, :]\n",
    "            \n",
    "            hidden = torch.tanh(self.fc(concated))\n",
    "            \n",
    "            cell=torch.tanh(self.fc(cellconcat))\n",
    "\n",
    "\n",
    "            return outputs,hidden,cell\n",
    "        \n",
    "        else:\n",
    "            outputs, hidden = self.cell(embedded)           \n",
    "            if self.is_bi:\n",
    "                concated = torch.cat((hidden[ -2, :,:], hidden[ -1, :,:]), dim=1)\n",
    "\n",
    "            else:\n",
    "                concated = hidden[ -1,:, :]\n",
    "\n",
    "            hidden = torch.tanh(self.fc(concated))\n",
    "\n",
    "            return outputs,hidden\n",
    "\n",
    "        \n"
   ]
  },
  {
   "cell_type": "code",
   "execution_count": 14,
   "id": "4e5c009f",
   "metadata": {},
   "outputs": [],
   "source": [
    "class Attention(nn.Module):\n",
    "\n",
    "    def __init__(self, enc_hid_dim, dec_hid_dim, is_bi):\n",
    "        super().__init__()\n",
    "        self.enc_hid_dim = enc_hid_dim\n",
    "        self.dec_hid_dim = dec_hid_dim\n",
    "\n",
    "        if is_bi:\n",
    "            self.fc1 = nn.Linear(enc_hid_dim * 2 + dec_hid_dim, dec_hid_dim)\n",
    "        else:\n",
    "            self.fc1 = nn.Linear(enc_hid_dim + dec_hid_dim, dec_hid_dim)\n",
    "            \n",
    "\n",
    "            \n",
    "        self.fc2 = nn.Linear(dec_hid_dim, 1, bias=False)\n",
    "\n",
    "    def forward(self, encoder_outputs, hidden):\n",
    "        src_len = encoder_outputs.shape[1]\n",
    "        batch_size = encoder_outputs.shape[0]\n",
    "        \n",
    "        hidden = hidden.unsqueeze(1).repeat(1, src_len, 1)\n",
    "        outputs = encoder_outputs\n",
    "        \n",
    "        concat = torch.cat((hidden, outputs), dim=2)\n",
    "        energy = torch.tanh(self.fc1(concat))\n",
    "\n",
    "        attention = self.fc2(energy).squeeze(dim=2)        \n",
    "        attention_weight = torch.softmax(attention, dim=1)\n",
    "        return attention_weight"
   ]
  },
  {
   "cell_type": "code",
   "execution_count": 15,
   "id": "36d1ac93",
   "metadata": {},
   "outputs": [],
   "source": [
    "class Decoder(nn.Module):\n",
    "\n",
    "    def __init__(self, output_size, embed_size, enc_hid_dim, dec_hid_dim, num_layers, cell_mode,\\\n",
    "                 dropout, attention, is_bi):\n",
    "        super().__init__()\n",
    "    \n",
    "        self.dropout = dropout\n",
    "        self.attention = attention\n",
    "        self.output_size=output_size\n",
    "\n",
    "        self.embedding = nn.Embedding(output_size, embed_size,padding_idx=hindi_alphabet_to_index['.'])\n",
    "        cell=cell_type(cell_mode)\n",
    "        self.cell_mode=cell_mode.lower()\n",
    "        \n",
    "        \n",
    "        if is_bi:\n",
    "            self.cell=cell((enc_hid_dim * 2) + embed_size, dec_hid_dim,num_layers,\\\n",
    "                           dropout=dropout,bidirectional=False,batch_first=False)\n",
    "        \n",
    "\n",
    "        else:\n",
    "            self.cell=cell(enc_hid_dim + embed_size, dec_hid_dim,num_layers,\\\n",
    "                           dropout=dropout,bidirectional=False,batch_first=False)\n",
    "            \n",
    "        \n",
    "        \n",
    "        self.out = nn.Linear(dec_hid_dim, output_size)\n",
    "\n",
    "    def forward(self, trg, encoder_outputs, hidden,cell=None):\n",
    " \n",
    "        attention = self.attention(encoder_outputs, hidden).unsqueeze(1)\n",
    "        context = torch.bmm(attention, encoder_outputs).permute(1, 0, 2)\n",
    "\n",
    "        # input sentence -> embedding\n",
    "        # [1, batch size, emb dim]\n",
    "        embedded = self.embedding(trg.unsqueeze(0))\n",
    "        cell_input = torch.cat((embedded, context), dim=2)\n",
    "        \n",
    "        if self.cell_mode=='lstm':\n",
    "            outputs, (hidden,cell) = self.cell(cell_input, (hidden.unsqueeze(0), cell.unsqueeze(0)))\n",
    "            prediction = self.out(outputs.squeeze(0))\n",
    "            return prediction, hidden.squeeze(0), cell.squeeze(0)\n",
    "            \n",
    "\n",
    "        outputs, hidden = self.cell(cell_input, hidden.unsqueeze(0))\n",
    "        prediction = self.out(outputs.squeeze(0))\n",
    "        return prediction, hidden.squeeze(0)"
   ]
  },
  {
   "cell_type": "code",
   "execution_count": 16,
   "id": "5dcad189",
   "metadata": {},
   "outputs": [],
   "source": [
    "ss1=next(iter(train_dataloader))"
   ]
  },
  {
   "cell_type": "code",
   "execution_count": 17,
   "id": "0e441d2d",
   "metadata": {},
   "outputs": [],
   "source": [
    "class Seq2Seq(nn.Module):\n",
    "    def __init__(self, encoder, decoder, device):\n",
    "        super().__init__()\n",
    "        self.encoder = encoder\n",
    "        self.decoder = decoder\n",
    "        self.device = device\n",
    "\n",
    "\n",
    "    def forward(self, source_batch, target_batch, teacher_forcing_ratio=0.5):\n",
    "\n",
    "        batch_size,max_len  = target_batch.shape\n",
    "        target_vocab_size = self.decoder.output_size\n",
    "\n",
    "        outputs = torch.zeros(max_len, batch_size, target_vocab_size).to(self.device)\n",
    "\n",
    "        # last hidden & cell state of the encoder is used as the decoder's initial hidden state\n",
    "        if self.encoder.cell_mode=='lstm':\n",
    "            e_outs,hidden,cell = self.encoder(source_batch) \n",
    "            \n",
    "            trg = target_batch[:,0]\n",
    "            for i in range(1, max_len):\n",
    "                prediction, hidden, cell = self.decoder(trg,e_outs, hidden, cell)\n",
    "                outputs[i] = prediction\n",
    "\n",
    "                if np.random.random() < teacher_forcing_ratio:\n",
    "                    trg = target_batch[:,i]\n",
    "                else:\n",
    "                    trg = prediction.argmax(1)\n",
    "            return outputs\n",
    "\n",
    "            \n",
    "            \n",
    "        else:    \n",
    "            e_outs,hidden = self.encoder(source_batch)       \n",
    "\n",
    "            trg = target_batch[:,0]\n",
    "            for i in range(1, max_len):\n",
    "                prediction, hidden = self.decoder(trg,e_outs, hidden)\n",
    "                outputs[i] = prediction\n",
    "\n",
    "                if np.random.random() < teacher_forcing_ratio:\n",
    "                    trg = target_batch[:,i]\n",
    "                else:\n",
    "                    trg = prediction.argmax(1)\n",
    "\n",
    "            return outputs\n",
    "\n",
    "\n",
    "        \n",
    "        "
   ]
  },
  {
   "cell_type": "code",
   "execution_count": 18,
   "id": "97033c67",
   "metadata": {},
   "outputs": [],
   "source": [
    "State_bi=False\n",
    "encoder = Encoder(30, 128, 128,128, 1, 'lstm', 0.2, State_bi).to(device)\n",
    "\n",
    "attention = Attention(128, 128, State_bi).to(device)\n",
    "\n",
    "decoder = Decoder(68, 128, 128, 128, 1,'lstm', 0.2, attention, State_bi).to(device)"
   ]
  },
  {
   "cell_type": "code",
   "execution_count": 19,
   "id": "8904ab78",
   "metadata": {},
   "outputs": [],
   "source": [
    "o,h,c=encoder(ss1['input'])"
   ]
  },
  {
   "cell_type": "code",
   "execution_count": 20,
   "id": "2b783765",
   "metadata": {},
   "outputs": [
    {
     "data": {
      "text/plain": [
       "torch.Size([16, 30])"
      ]
     },
     "execution_count": 20,
     "metadata": {},
     "output_type": "execute_result"
    }
   ],
   "source": [
    "ss1['output'].shape"
   ]
  },
  {
   "cell_type": "code",
   "execution_count": 21,
   "id": "a2edcfc8",
   "metadata": {},
   "outputs": [
    {
     "data": {
      "text/plain": [
       "torch.Size([16, 68])"
      ]
     },
     "execution_count": 21,
     "metadata": {},
     "output_type": "execute_result"
    }
   ],
   "source": [
    "decoder(ss1['output'][:,29],o,h,c)[0].shape"
   ]
  },
  {
   "cell_type": "code",
   "execution_count": 22,
   "id": "1f90659f",
   "metadata": {},
   "outputs": [],
   "source": [
    "SS=Seq2Seq(encoder,decoder,device)"
   ]
  },
  {
   "cell_type": "code",
   "execution_count": 23,
   "id": "fc749ed2",
   "metadata": {},
   "outputs": [
    {
     "data": {
      "text/plain": [
       "torch.Size([30, 16, 68])"
      ]
     },
     "execution_count": 23,
     "metadata": {},
     "output_type": "execute_result"
    }
   ],
   "source": [
    "SS(ss1['input'],ss1['output']).shape"
   ]
  },
  {
   "cell_type": "code",
   "execution_count": null,
   "id": "942f6045",
   "metadata": {},
   "outputs": [],
   "source": []
  },
  {
   "cell_type": "code",
   "execution_count": 24,
   "id": "4f6133ce",
   "metadata": {},
   "outputs": [],
   "source": [
    "def accuracy_calc(target_seq,seq2,mode='full',device=device):# predicted\n",
    "    eos_index=(target_seq==hindi_alphabet_to_index['>']).nonzero()\n",
    "    eos_idx=eos_index[:,1]\n",
    "    \n",
    "    correct=torch.Tensor([0]).to(device)\n",
    "    correct_chars=torch.Tensor([0]).to(device)\n",
    "    tot_chars=torch.Tensor([0]).to(device)\n",
    "    for iterate,idx in enumerate(eos_idx):\n",
    "        inputter=seq2[iterate][:idx]\n",
    "        outputter=target_seq[iterate][:idx]\n",
    "        if torch.all(torch.eq(inputter,outputter)):\n",
    "            correct+=1\n",
    "            correct_chars+=idx\n",
    "            tot_chars+=idx\n",
    "        else:\n",
    "            correct_chars+=torch.sum(inputter == outputter).item()\n",
    "            tot_chars+=idx\n",
    "            \n",
    "#         print(correct,correct_chars,tot_chars)\n",
    "        \n",
    "    return correct.item(),correct_chars.item(),tot_chars.item()\n",
    "            \n",
    "            \n",
    "        \n",
    "    "
   ]
  },
  {
   "cell_type": "code",
   "execution_count": 25,
   "id": "0ee69981",
   "metadata": {},
   "outputs": [
    {
     "data": {
      "text/plain": [
       "(16.0, 143.0, 143.0)"
      ]
     },
     "execution_count": 25,
     "metadata": {},
     "output_type": "execute_result"
    }
   ],
   "source": [
    "accuracy_calc(ss1['output'],ss1['output'])"
   ]
  },
  {
   "cell_type": "code",
   "execution_count": 26,
   "id": "87facdd1",
   "metadata": {},
   "outputs": [],
   "source": [
    "def train(seq2seq, iterator, optimizer, criterion):\n",
    "    \n",
    "    \n",
    "    seq2seq.train()\n",
    "    \n",
    "    epoch_loss = 0\n",
    "    correct=0\n",
    "    correct_char=0\n",
    "    tot_char=0\n",
    "    \n",
    "    relax_acc=0\n",
    "    \n",
    "    \n",
    "    for batch in iterator:\n",
    "        optimizer.zero_grad()\n",
    "        outputs = seq2seq(batch['input'], batch['output'])\n",
    "        batch_label=batch['output'].transpose(0,1)\n",
    "        batch_size=len(batch['output'])\n",
    "        \n",
    "        _, predicted = torch.max(outputs, dim=2)\n",
    "        outputs_flatten = outputs.view(-1, outputs.shape[-1])\n",
    "        trg_flatten = batch_label.reshape(-1)\n",
    "        \n",
    "\n",
    "        trg_flatten.requires_grad=False\n",
    "        loss = criterion(outputs_flatten, trg_flatten)\n",
    "        correct_temp,correct_chars_temp,tot_chars_temp=accuracy_calc(batch['output'],predicted.transpose(0,1))\n",
    "        \n",
    "        #___________\n",
    "        \n",
    "        correct+=correct_temp\n",
    "        correct_char+=correct_chars_temp\n",
    "        tot_char+=tot_chars_temp\n",
    "        \n",
    "        \n",
    "        #_______________\n",
    "        \n",
    "\n",
    "        loss.backward()\n",
    "        optimizer.step()\n",
    "        \n",
    "\n",
    "        epoch_loss += loss.item()\n",
    "        \n",
    "\n",
    "\n",
    "    return epoch_loss / len(iterator), correct/(len(iterator)*16),correct_char/tot_char"
   ]
  },
  {
   "cell_type": "code",
   "execution_count": 27,
   "id": "a950559f",
   "metadata": {},
   "outputs": [],
   "source": [
    "def evaluate(seq2seq, iterator, criterion):\n",
    "    seq2seq.eval()\n",
    "\n",
    "    epoch_loss = 0\n",
    "    correct=0\n",
    "    correct_char=0\n",
    "    tot_char=0\n",
    "    \n",
    "    relax_acc=0\n",
    "    \n",
    "    with torch.no_grad():\n",
    "        for batch in iterator:\n",
    "            outputs = seq2seq(batch['input'], batch['output'],teacher_forcing_ratio=0)\n",
    "            batch_label=batch['output'].transpose(0,1)\n",
    "            batch_size=len(batch['output'])\n",
    "\n",
    "\n",
    "            _, predicted = torch.max(outputs, dim=2)\n",
    "            #print('wow_preds',predicted.shape)\n",
    "\n",
    "            outputs_flatten = outputs.view(-1, outputs.shape[-1])\n",
    "            trg_flatten = batch_label.reshape(-1)\n",
    "\n",
    "            loss = criterion(outputs_flatten, trg_flatten)\n",
    "            \n",
    "            correct_temp,correct_chars_temp,tot_chars_temp=accuracy_calc(batch['output'],predicted.transpose(0,1))\n",
    "        \n",
    "            #___________\n",
    "\n",
    "            correct+=correct_temp\n",
    "            correct_char+=correct_chars_temp\n",
    "            tot_char+=tot_chars_temp\n",
    "\n",
    "            #_______________       \n",
    "            \n",
    "            epoch_loss += loss.item()\n",
    "            \n",
    "\n",
    "    return epoch_loss / len(iterator), correct/(len(iterator)*16),correct_char/tot_char\n",
    "\n"
   ]
  },
  {
   "cell_type": "code",
   "execution_count": 28,
   "id": "718d4d21",
   "metadata": {},
   "outputs": [],
   "source": [
    "def epoch_time(start_time, end_time):\n",
    "    e_time = end_time - start_time\n",
    "    mins = e_time // 60\n",
    "    secs = e_time%60\n",
    "    return mins, secs,"
   ]
  },
  {
   "cell_type": "code",
   "execution_count": 29,
   "id": "5eb08c5c",
   "metadata": {},
   "outputs": [],
   "source": [
    "def count_params(model):\n",
    "    return sum(param.numel() for param in model.parameters() if param.requires_grad)"
   ]
  },
  {
   "cell_type": "code",
   "execution_count": 30,
   "id": "1d74d030",
   "metadata": {},
   "outputs": [],
   "source": [
    "import time\n",
    "import random"
   ]
  },
  {
   "cell_type": "code",
   "execution_count": 31,
   "id": "bd5bae07",
   "metadata": {},
   "outputs": [],
   "source": [
    "import torch.optim as optim\n",
    "def make_model(train_iterator,valid_iterator, enc_embed_size, enc_hid_size, dec_embed_size, dec_hid_size,\\\n",
    "               num_layers, cell_mode,\\\n",
    "                 dropout, is_bi, epochs=20):\n",
    "    \n",
    "    \n",
    "    E = Encoder(30,  embed_size=enc_embed_size, enc_hid_size=enc_hid_size, dec_hid_size=dec_hid_size,\\\n",
    "                num_layers=num_layers, cell_mode=cell_mode, dropout=dropout, is_bi=is_bi).to(device)\n",
    "    \n",
    "    \n",
    "    A = Attention(enc_hid_dim=enc_hid_size, dec_hid_dim=dec_hid_size, is_bi=is_bi).to(device)\n",
    "\n",
    "    D = Decoder(68, embed_size=dec_embed_size, enc_hid_dim=enc_hid_size, dec_hid_dim=dec_hid_size,\\\n",
    "                num_layers=1, cell_mode=cell_mode,\\\n",
    "                 dropout=dropout, attention=A, is_bi=is_bi).to(device)\n",
    "\n",
    "    S=Seq2Seq(E,D,device)\n",
    "    S.to(device)    \n",
    "    print(f'The model has {count_params(S):,} trainable parameters')\n",
    "    \n",
    "    optimizer = optim.Adam(S.parameters())\n",
    "    criterion = nn.CrossEntropyLoss(ignore_index=hindi_alphabet_to_index['.'])\n",
    "    criterion=criterion.to(device)\n",
    "    \n",
    "    best_valid_loss = float('inf')\n",
    "#     return S\n",
    "\n",
    "    for epoch in range(epochs):    \n",
    "        start_time = time.time()\n",
    "        train_loss,train_acc,train_stuff = train(S, train_iterator, optimizer, criterion)\n",
    "        valid_loss,valid_acc,val_stuff = evaluate(S, valid_iterator, criterion)\n",
    "        end_time = time.time()\n",
    "\n",
    "        epoch_mins, epoch_secs = epoch_time(start_time, end_time)\n",
    "\n",
    "        if valid_loss < best_valid_loss:\n",
    "            best_valid_loss = valid_loss\n",
    "            torch.save(S.state_dict(), 'model1.pt')\n",
    "\n",
    "        # it's easier to see a change in perplexity between epoch as it's an exponential\n",
    "        # of the loss, hence the scale of the measure is much bigger\n",
    "        print(f'Epoch: {epoch+1:02} | Time: {epoch_mins}m {epoch_secs:.2f}s')\n",
    "        print(f'\\t Train Loss: {train_loss:.3f} | Train Acc: {train_acc*100:.2f}%')\n",
    "        print(f'\\t Val. Loss: {valid_loss:.3f} |  Val. Acc: {valid_acc*100:.2f}%')\n",
    "        print(f'\\t Relaxed Train. Acc: {train_stuff*100:.2f}% | Relaxed Val. Acc: {val_stuff*100:.2f}%')\n",
    "        \n",
    "        wandb.log({'epoch':epoch, 'train loss':train_loss, 'train acc':train_acc, 'valid loss': valid_loss,\n",
    "          'valid acc': valid_acc, 'relxd train acc': train_stuff, 'relxd valid acc': val_stuff})\n",
    "        \n",
    "    return S\n",
    "\n",
    "    "
   ]
  },
  {
   "cell_type": "code",
   "execution_count": 32,
   "id": "2b4a53a0",
   "metadata": {},
   "outputs": [],
   "source": [
    "def sweeper():\n",
    "    \n",
    "    config_defaults=None\n",
    "    \n",
    "    \n",
    "    # Initialize new wandb run\n",
    "    run=wandb.init(config=config_defaults, resume=True)\n",
    "    #current config\n",
    "    \n",
    "    config = wandb.config\n",
    "    \n",
    "    np.random.seed(0) #setting a seed to make better inference of use of params\n",
    "    \n",
    "    train_iterator=train_dataloader\n",
    "    valid_iterator=val_dataloader\n",
    "    SS=make_model(train_iterator,valid_iterator, config.enc_embed_size, config.enc_hid_size, config.dec_embed_size,\n",
    "               config.dec_hid_size, config.num_layers, config.cell_mode, config.dropout, config.is_bi, config.epochs)\n",
    "    \n",
    "    \n",
    "    run_name='Run:' +\\\n",
    "    ' enc_embed size: ' + str(config.enc_embed_size) +\\\n",
    "    ' dec_embed size: ' + str(config.dec_embed_size) +\\\n",
    "    ', enc_hid_size: ' + str(config.enc_hid_size) +\\\n",
    "    ', dec_hid_size: ' + str(config.dec_hid_size) +\\\n",
    "    ', num_layers: ' + str(config.num_layers)+\\\n",
    "    ', cell_mode'+ str(config.cell_mode)\n",
    "    ', dropout:' + str(config.dropout)+\\\n",
    "    ', bidirect?:' + str(config.is_bi)+\\\n",
    "    ', epochs:'+str(config.epochs)+\\\n",
    "    ' Attn.'\n",
    "    print(run_name)\n",
    "    wandb.run.name = run_name\n",
    "    wandb.run.save()\n",
    "#     run.finalize()\n",
    "\n",
    "#     wandb.run.finish()\n",
    "#     run.finish()\n",
    "    \n",
    "\n",
    "    \n",
    "    "
   ]
  },
  {
   "cell_type": "code",
   "execution_count": 33,
   "id": "9f2e976f",
   "metadata": {},
   "outputs": [
    {
     "name": "stderr",
     "output_type": "stream",
     "text": [
      "\u001b[34m\u001b[1mwandb\u001b[0m: Currently logged in as: \u001b[33mpragalbh\u001b[0m (\u001b[33mpragalbh-tushar\u001b[0m). Use \u001b[1m`wandb login --relogin`\u001b[0m to force relogin\n"
     ]
    },
    {
     "data": {
      "text/plain": [
       "True"
      ]
     },
     "execution_count": 33,
     "metadata": {},
     "output_type": "execute_result"
    }
   ],
   "source": [
    "wandb.login()"
   ]
  },
  {
   "cell_type": "code",
   "execution_count": 34,
   "id": "cb3332e5",
   "metadata": {},
   "outputs": [],
   "source": [
    "sweep_config = {\n",
    "  \"name\": \"Attn Sweep: Recurrence+Attention\",\n",
    "  \"metric\": {\n",
    "      \"name\":\"valid acc\",\n",
    "      \"goal\": \"maximize\"\n",
    "  },\n",
    "  \"method\": \"bayes\",\n",
    "  \"parameters\": {\n",
    "              'num_layers':{\n",
    "                  \"values\":[1,2,3]\n",
    "              },\n",
    "        'enc_embed_size':{\n",
    "                \"values\":  [16,32, 64, 128, 256, 512]\n",
    "                  \n",
    "              },\n",
    "      'dec_embed_size':{\n",
    "                \"values\":  [16,32, 64, 128, 256, 512]\n",
    "                  \n",
    "              },\n",
    "        'enc_hid_size':{\n",
    "            \"values\": [16,32, 64, 128, 256, 512]\n",
    "        },\n",
    "      \n",
    "        'dec_hid_size':{\n",
    "            \"values\": [16,32, 64, 128, 256, 512]\n",
    "        },\n",
    "      \n",
    "        'cell_mode':{\n",
    "            'values': ['rnn','gru','lstm']\n",
    "        },\n",
    "        \"dropout\": {\n",
    "            \"values\": [0.2,0.25,0.3]\n",
    "        },\n",
    "        'is_bi': {\n",
    "            \"values\": [True, False]\n",
    "        },\n",
    "        'epochs': {\n",
    "            \"values\": [10, 20, 30, 40]\n",
    "        } ,\n",
    "        \n",
    "    }\n",
    "}      \n",
    "\n"
   ]
  },
  {
   "cell_type": "code",
   "execution_count": 35,
   "id": "724ca19e",
   "metadata": {},
   "outputs": [],
   "source": [
    "# sweep_id = wandb.sweep(sweep_config,  entity=\"pragalbh\", project=\"DL_Assign3\")"
   ]
  },
  {
   "cell_type": "code",
   "execution_count": 36,
   "id": "7a266b93",
   "metadata": {},
   "outputs": [],
   "source": [
    "# run = wandb.init(entity=\"pragalbh\", project=\"DL_Assign3\",id='gyqh6j5c', resume='must')"
   ]
  },
  {
   "cell_type": "code",
   "execution_count": null,
   "id": "b0a93bef",
   "metadata": {},
   "outputs": [],
   "source": []
  },
  {
   "cell_type": "code",
   "execution_count": null,
   "id": "10cdce27",
   "metadata": {},
   "outputs": [
    {
     "name": "stderr",
     "output_type": "stream",
     "text": [
      "\u001b[34m\u001b[1mwandb\u001b[0m: Agent Starting Run: su09hbha with config:\n",
      "\u001b[34m\u001b[1mwandb\u001b[0m: \tcell_mode: lstm\n",
      "\u001b[34m\u001b[1mwandb\u001b[0m: \tdec_embed_size: 16\n",
      "\u001b[34m\u001b[1mwandb\u001b[0m: \tdec_hid_size: 512\n",
      "\u001b[34m\u001b[1mwandb\u001b[0m: \tdropout: 0.2\n",
      "\u001b[34m\u001b[1mwandb\u001b[0m: \tenc_embed_size: 256\n",
      "\u001b[34m\u001b[1mwandb\u001b[0m: \tenc_hid_size: 512\n",
      "\u001b[34m\u001b[1mwandb\u001b[0m: \tepochs: 10\n",
      "\u001b[34m\u001b[1mwandb\u001b[0m: \tis_bi: False\n",
      "\u001b[34m\u001b[1mwandb\u001b[0m: \tnum_layers: 2\n",
      "\u001b[34m\u001b[1mwandb\u001b[0m: Currently logged in as: \u001b[33mpragalbh\u001b[0m. Use \u001b[1m`wandb login --relogin`\u001b[0m to force relogin\n",
      "\u001b[34m\u001b[1mwandb\u001b[0m: \u001b[33mWARNING\u001b[0m Tried to auto resume run with id yqft34x5 but id su09hbha is set.\n"
     ]
    },
    {
     "data": {
      "text/html": [
       "Tracking run with wandb version 0.15.3"
      ],
      "text/plain": [
       "<IPython.core.display.HTML object>"
      ]
     },
     "metadata": {},
     "output_type": "display_data"
    },
    {
     "data": {
      "text/html": [
       "Run data is saved locally in <code>/home/pragalbh/DL_Assign3/wandb/run-20230529_203721-su09hbha</code>"
      ],
      "text/plain": [
       "<IPython.core.display.HTML object>"
      ]
     },
     "metadata": {},
     "output_type": "display_data"
    },
    {
     "data": {
      "text/html": [
       "Resuming run <strong><a href='https://wandb.ai/pragalbh/DL_Assign3/runs/su09hbha' target=\"_blank\">lucky-sweep-76</a></strong> to <a href='https://wandb.ai/pragalbh/DL_Assign3' target=\"_blank\">Weights & Biases</a> (<a href='https://wandb.me/run' target=\"_blank\">docs</a>)<br/>Sweep page: <a href='https://wandb.ai/pragalbh/DL_Assign3/sweeps/mzhrnfy5' target=\"_blank\">https://wandb.ai/pragalbh/DL_Assign3/sweeps/mzhrnfy5</a>"
      ],
      "text/plain": [
       "<IPython.core.display.HTML object>"
      ]
     },
     "metadata": {},
     "output_type": "display_data"
    },
    {
     "data": {
      "text/html": [
       " View project at <a href='https://wandb.ai/pragalbh/DL_Assign3' target=\"_blank\">https://wandb.ai/pragalbh/DL_Assign3</a>"
      ],
      "text/plain": [
       "<IPython.core.display.HTML object>"
      ]
     },
     "metadata": {},
     "output_type": "display_data"
    },
    {
     "data": {
      "text/html": [
       " View sweep at <a href='https://wandb.ai/pragalbh/DL_Assign3/sweeps/mzhrnfy5' target=\"_blank\">https://wandb.ai/pragalbh/DL_Assign3/sweeps/mzhrnfy5</a>"
      ],
      "text/plain": [
       "<IPython.core.display.HTML object>"
      ]
     },
     "metadata": {},
     "output_type": "display_data"
    },
    {
     "data": {
      "text/html": [
       " View run at <a href='https://wandb.ai/pragalbh/DL_Assign3/runs/su09hbha' target=\"_blank\">https://wandb.ai/pragalbh/DL_Assign3/runs/su09hbha</a>"
      ],
      "text/plain": [
       "<IPython.core.display.HTML object>"
      ]
     },
     "metadata": {},
     "output_type": "display_data"
    },
    {
     "name": "stdout",
     "output_type": "stream",
     "text": [
      "The model has 6,643,844 trainable parameters\n",
      "Epoch: 01 | Time: 1.0m 8.77s\n",
      "\t Train Loss: 1.641 | Train Acc: 13.85%\n",
      "\t Val. Loss: 1.479 |  Val. Acc: 27.32%\n",
      "\t Relaxed Train. Acc: 62.57% | Relaxed Val. Acc: 69.56%\n",
      "Epoch: 02 | Time: 1.0m 9.66s\n",
      "\t Train Loss: 1.079 | Train Acc: 27.45%\n",
      "\t Val. Loss: 1.401 |  Val. Acc: 32.15%\n",
      "\t Relaxed Train. Acc: 78.57% | Relaxed Val. Acc: 72.21%\n",
      "Epoch: 03 | Time: 1.0m 9.66s\n",
      "\t Train Loss: 0.984 | Train Acc: 32.61%\n",
      "\t Val. Loss: 1.347 |  Val. Acc: 35.79%\n",
      "\t Relaxed Train. Acc: 81.62% | Relaxed Val. Acc: 74.17%\n",
      "Epoch: 04 | Time: 1.0m 9.62s\n",
      "\t Train Loss: 0.935 | Train Acc: 35.86%\n",
      "\t Val. Loss: 1.352 |  Val. Acc: 37.96%\n",
      "\t Relaxed Train. Acc: 83.22% | Relaxed Val. Acc: 75.21%\n",
      "Epoch: 05 | Time: 1.0m 9.57s\n",
      "\t Train Loss: 0.897 | Train Acc: 38.83%\n",
      "\t Val. Loss: 1.344 |  Val. Acc: 38.31%\n",
      "\t Relaxed Train. Acc: 84.52% | Relaxed Val. Acc: 75.72%\n",
      "Epoch: 06 | Time: 1.0m 9.52s\n",
      "\t Train Loss: 0.870 | Train Acc: 41.24%\n",
      "\t Val. Loss: 1.331 |  Val. Acc: 38.82%\n",
      "\t Relaxed Train. Acc: 85.44% | Relaxed Val. Acc: 76.05%\n",
      "Epoch: 07 | Time: 1.0m 9.57s\n",
      "\t Train Loss: 0.838 | Train Acc: 43.02%\n",
      "\t Val. Loss: 1.329 |  Val. Acc: 40.36%\n",
      "\t Relaxed Train. Acc: 86.36% | Relaxed Val. Acc: 76.11%\n",
      "Epoch: 08 | Time: 1.0m 9.46s\n",
      "\t Train Loss: 0.817 | Train Acc: 45.23%\n",
      "\t Val. Loss: 1.340 |  Val. Acc: 39.89%\n",
      "\t Relaxed Train. Acc: 87.16% | Relaxed Val. Acc: 76.85%\n",
      "Epoch: 09 | Time: 1.0m 9.44s\n",
      "\t Train Loss: 0.802 | Train Acc: 47.02%\n",
      "\t Val. Loss: 1.341 |  Val. Acc: 40.26%\n",
      "\t Relaxed Train. Acc: 87.65% | Relaxed Val. Acc: 77.01%\n"
     ]
    },
    {
     "name": "stderr",
     "output_type": "stream",
     "text": [
      "\u001b[34m\u001b[1mwandb\u001b[0m: \u001b[33mWARNING\u001b[0m Calling wandb.run.save without any arguments is deprecated.Changes to attributes are automatically persisted.\n"
     ]
    },
    {
     "name": "stdout",
     "output_type": "stream",
     "text": [
      "Epoch: 10 | Time: 1.0m 9.42s\n",
      "\t Train Loss: 0.782 | Train Acc: 48.56%\n",
      "\t Val. Loss: 1.354 |  Val. Acc: 39.84%\n",
      "\t Relaxed Train. Acc: 88.26% | Relaxed Val. Acc: 76.63%\n",
      "Run: enc_embed size: 256 dec_embed size: 16, enc_hid_size: 512, dec_hid_size: 512, num_layers: 2, cell_modelstm\n"
     ]
    },
    {
     "data": {
      "text/html": [
       "Waiting for W&B process to finish... <strong style=\"color:green\">(success).</strong>"
      ],
      "text/plain": [
       "<IPython.core.display.HTML object>"
      ]
     },
     "metadata": {},
     "output_type": "display_data"
    },
    {
     "data": {
      "text/html": [
       "<style>\n",
       "    table.wandb td:nth-child(1) { padding: 0 10px; text-align: left ; width: auto;} td:nth-child(2) {text-align: left ; width: 100%}\n",
       "    .wandb-row { display: flex; flex-direction: row; flex-wrap: wrap; justify-content: flex-start; width: 100% }\n",
       "    .wandb-col { display: flex; flex-direction: column; flex-basis: 100%; flex: 1; padding: 10px; }\n",
       "    </style>\n",
       "<div class=\"wandb-row\"><div class=\"wandb-col\"><h3>Run history:</h3><br/><table class=\"wandb\"><tr><td>epoch</td><td>▁▂▃▃▄▅▆▆▇█</td></tr><tr><td>relxd train acc</td><td>▁▅▆▇▇▇▇███</td></tr><tr><td>relxd valid acc</td><td>▁▃▅▆▇▇▇███</td></tr><tr><td>train acc</td><td>▁▄▅▅▆▇▇▇██</td></tr><tr><td>train loss</td><td>█▃▃▂▂▂▁▁▁▁</td></tr><tr><td>valid acc</td><td>▁▄▆▇▇▇████</td></tr><tr><td>valid loss</td><td>█▄▂▂▂▁▁▂▂▂</td></tr></table><br/></div><div class=\"wandb-col\"><h3>Run summary:</h3><br/><table class=\"wandb\"><tr><td>epoch</td><td>9</td></tr><tr><td>relxd train acc</td><td>0.88262</td></tr><tr><td>relxd valid acc</td><td>0.76633</td></tr><tr><td>train acc</td><td>0.48559</td></tr><tr><td>train loss</td><td>0.78232</td></tr><tr><td>valid acc</td><td>0.39844</td></tr><tr><td>valid loss</td><td>1.3538</td></tr></table><br/></div></div>"
      ],
      "text/plain": [
       "<IPython.core.display.HTML object>"
      ]
     },
     "metadata": {},
     "output_type": "display_data"
    },
    {
     "data": {
      "text/html": [
       " View run <strong style=\"color:#cdcd00\">lucky-sweep-76</strong> at: <a href='https://wandb.ai/pragalbh/DL_Assign3/runs/su09hbha' target=\"_blank\">https://wandb.ai/pragalbh/DL_Assign3/runs/su09hbha</a><br/>Synced 3 W&B file(s), 0 media file(s), 0 artifact file(s) and 0 other file(s)"
      ],
      "text/plain": [
       "<IPython.core.display.HTML object>"
      ]
     },
     "metadata": {},
     "output_type": "display_data"
    },
    {
     "data": {
      "text/html": [
       "Find logs at: <code>./wandb/run-20230529_203721-su09hbha/logs</code>"
      ],
      "text/plain": [
       "<IPython.core.display.HTML object>"
      ]
     },
     "metadata": {},
     "output_type": "display_data"
    },
    {
     "name": "stderr",
     "output_type": "stream",
     "text": [
      "\u001b[34m\u001b[1mwandb\u001b[0m: Agent Starting Run: gq8vgfla with config:\n",
      "\u001b[34m\u001b[1mwandb\u001b[0m: \tcell_mode: lstm\n",
      "\u001b[34m\u001b[1mwandb\u001b[0m: \tdec_embed_size: 16\n",
      "\u001b[34m\u001b[1mwandb\u001b[0m: \tdec_hid_size: 256\n",
      "\u001b[34m\u001b[1mwandb\u001b[0m: \tdropout: 0.25\n",
      "\u001b[34m\u001b[1mwandb\u001b[0m: \tenc_embed_size: 256\n",
      "\u001b[34m\u001b[1mwandb\u001b[0m: \tenc_hid_size: 128\n",
      "\u001b[34m\u001b[1mwandb\u001b[0m: \tepochs: 20\n",
      "\u001b[34m\u001b[1mwandb\u001b[0m: \tis_bi: True\n",
      "\u001b[34m\u001b[1mwandb\u001b[0m: \tnum_layers: 2\n"
     ]
    },
    {
     "data": {
      "text/html": [
       "Tracking run with wandb version 0.15.3"
      ],
      "text/plain": [
       "<IPython.core.display.HTML object>"
      ]
     },
     "metadata": {},
     "output_type": "display_data"
    },
    {
     "data": {
      "text/html": [
       "Run data is saved locally in <code>/home/pragalbh/DL_Assign3/wandb/run-20230529_204908-gq8vgfla</code>"
      ],
      "text/plain": [
       "<IPython.core.display.HTML object>"
      ]
     },
     "metadata": {},
     "output_type": "display_data"
    },
    {
     "data": {
      "text/html": [
       "Resuming run <strong><a href='https://wandb.ai/pragalbh/DL_Assign3/runs/gq8vgfla' target=\"_blank\">confused-sweep-77</a></strong> to <a href='https://wandb.ai/pragalbh/DL_Assign3' target=\"_blank\">Weights & Biases</a> (<a href='https://wandb.me/run' target=\"_blank\">docs</a>)<br/>Sweep page: <a href='https://wandb.ai/pragalbh/DL_Assign3/sweeps/mzhrnfy5' target=\"_blank\">https://wandb.ai/pragalbh/DL_Assign3/sweeps/mzhrnfy5</a>"
      ],
      "text/plain": [
       "<IPython.core.display.HTML object>"
      ]
     },
     "metadata": {},
     "output_type": "display_data"
    },
    {
     "data": {
      "text/html": [
       " View project at <a href='https://wandb.ai/pragalbh/DL_Assign3' target=\"_blank\">https://wandb.ai/pragalbh/DL_Assign3</a>"
      ],
      "text/plain": [
       "<IPython.core.display.HTML object>"
      ]
     },
     "metadata": {},
     "output_type": "display_data"
    },
    {
     "data": {
      "text/html": [
       " View sweep at <a href='https://wandb.ai/pragalbh/DL_Assign3/sweeps/mzhrnfy5' target=\"_blank\">https://wandb.ai/pragalbh/DL_Assign3/sweeps/mzhrnfy5</a>"
      ],
      "text/plain": [
       "<IPython.core.display.HTML object>"
      ]
     },
     "metadata": {},
     "output_type": "display_data"
    },
    {
     "data": {
      "text/html": [
       " View run at <a href='https://wandb.ai/pragalbh/DL_Assign3/runs/gq8vgfla' target=\"_blank\">https://wandb.ai/pragalbh/DL_Assign3/runs/gq8vgfla</a>"
      ],
      "text/plain": [
       "<IPython.core.display.HTML object>"
      ]
     },
     "metadata": {},
     "output_type": "display_data"
    },
    {
     "name": "stdout",
     "output_type": "stream",
     "text": [
      "The model has 1,556,868 trainable parameters\n",
      "Epoch: 01 | Time: 0.0m 47.28s\n",
      "\t Train Loss: 1.531 | Train Acc: 14.84%\n",
      "\t Val. Loss: 1.481 |  Val. Acc: 31.40%\n",
      "\t Relaxed Train. Acc: 65.53% | Relaxed Val. Acc: 70.18%\n",
      "Epoch: 02 | Time: 0.0m 47.15s\n",
      "\t Train Loss: 1.088 | Train Acc: 27.94%\n",
      "\t Val. Loss: 1.384 |  Val. Acc: 34.16%\n",
      "\t Relaxed Train. Acc: 78.49% | Relaxed Val. Acc: 73.46%\n",
      "Epoch: 03 | Time: 0.0m 47.14s\n",
      "\t Train Loss: 0.996 | Train Acc: 33.59%\n",
      "\t Val. Loss: 1.350 |  Val. Acc: 38.28%\n",
      "\t Relaxed Train. Acc: 81.59% | Relaxed Val. Acc: 74.69%\n",
      "Epoch: 04 | Time: 0.0m 47.10s\n",
      "\t Train Loss: 0.948 | Train Acc: 36.51%\n",
      "\t Val. Loss: 1.368 |  Val. Acc: 37.08%\n",
      "\t Relaxed Train. Acc: 83.10% | Relaxed Val. Acc: 74.51%\n",
      "Epoch: 05 | Time: 0.0m 47.07s\n",
      "\t Train Loss: 0.913 | Train Acc: 39.24%\n",
      "\t Val. Loss: 1.356 |  Val. Acc: 39.92%\n",
      "\t Relaxed Train. Acc: 84.28% | Relaxed Val. Acc: 75.74%\n",
      "Epoch: 06 | Time: 0.0m 47.04s\n",
      "\t Train Loss: 0.886 | Train Acc: 41.38%\n",
      "\t Val. Loss: 1.320 |  Val. Acc: 40.11%\n",
      "\t Relaxed Train. Acc: 85.18% | Relaxed Val. Acc: 76.37%\n",
      "Epoch: 07 | Time: 0.0m 46.98s\n",
      "\t Train Loss: 0.858 | Train Acc: 43.25%\n",
      "\t Val. Loss: 1.336 |  Val. Acc: 40.99%\n",
      "\t Relaxed Train. Acc: 86.06% | Relaxed Val. Acc: 76.82%\n",
      "Epoch: 08 | Time: 0.0m 46.98s\n",
      "\t Train Loss: 0.845 | Train Acc: 44.73%\n",
      "\t Val. Loss: 1.358 |  Val. Acc: 40.72%\n",
      "\t Relaxed Train. Acc: 86.48% | Relaxed Val. Acc: 76.07%\n",
      "Epoch: 09 | Time: 0.0m 46.95s\n",
      "\t Train Loss: 0.831 | Train Acc: 45.96%\n",
      "\t Val. Loss: 1.334 |  Val. Acc: 40.55%\n",
      "\t Relaxed Train. Acc: 86.95% | Relaxed Val. Acc: 76.56%\n",
      "Epoch: 10 | Time: 0.0m 46.94s\n",
      "\t Train Loss: 0.812 | Train Acc: 47.75%\n",
      "\t Val. Loss: 1.362 |  Val. Acc: 41.02%\n",
      "\t Relaxed Train. Acc: 87.59% | Relaxed Val. Acc: 76.69%\n",
      "Epoch: 11 | Time: 0.0m 46.91s\n",
      "\t Train Loss: 0.800 | Train Acc: 48.81%\n",
      "\t Val. Loss: 1.348 |  Val. Acc: 42.07%\n",
      "\t Relaxed Train. Acc: 87.91% | Relaxed Val. Acc: 77.19%\n",
      "Epoch: 12 | Time: 0.0m 46.88s\n",
      "\t Train Loss: 0.788 | Train Acc: 50.26%\n",
      "\t Val. Loss: 1.372 |  Val. Acc: 42.29%\n",
      "\t Relaxed Train. Acc: 88.37% | Relaxed Val. Acc: 76.60%\n",
      "Epoch: 13 | Time: 0.0m 46.89s\n",
      "\t Train Loss: 0.774 | Train Acc: 51.24%\n",
      "\t Val. Loss: 1.365 |  Val. Acc: 41.85%\n",
      "\t Relaxed Train. Acc: 88.79% | Relaxed Val. Acc: 77.60%\n",
      "Epoch: 14 | Time: 0.0m 46.87s\n",
      "\t Train Loss: 0.766 | Train Acc: 51.72%\n",
      "\t Val. Loss: 1.378 |  Val. Acc: 42.04%\n",
      "\t Relaxed Train. Acc: 89.02% | Relaxed Val. Acc: 77.12%\n",
      "Epoch: 15 | Time: 0.0m 46.84s\n",
      "\t Train Loss: 0.762 | Train Acc: 52.83%\n",
      "\t Val. Loss: 1.388 |  Val. Acc: 42.90%\n",
      "\t Relaxed Train. Acc: 89.19% | Relaxed Val. Acc: 77.29%\n",
      "Epoch: 16 | Time: 0.0m 46.84s\n",
      "\t Train Loss: 0.748 | Train Acc: 54.12%\n",
      "\t Val. Loss: 1.390 |  Val. Acc: 42.75%\n",
      "\t Relaxed Train. Acc: 89.66% | Relaxed Val. Acc: 77.30%\n",
      "Epoch: 17 | Time: 0.0m 46.83s\n",
      "\t Train Loss: 0.743 | Train Acc: 54.74%\n",
      "\t Val. Loss: 1.382 |  Val. Acc: 42.65%\n",
      "\t Relaxed Train. Acc: 89.87% | Relaxed Val. Acc: 77.71%\n",
      "Epoch: 18 | Time: 0.0m 46.86s\n",
      "\t Train Loss: 0.735 | Train Acc: 55.33%\n",
      "\t Val. Loss: 1.394 |  Val. Acc: 41.63%\n",
      "\t Relaxed Train. Acc: 90.09% | Relaxed Val. Acc: 77.48%\n",
      "Epoch: 19 | Time: 0.0m 46.82s\n",
      "\t Train Loss: 0.735 | Train Acc: 55.62%\n",
      "\t Val. Loss: 1.409 |  Val. Acc: 42.58%\n",
      "\t Relaxed Train. Acc: 90.10% | Relaxed Val. Acc: 77.52%\n",
      "Epoch: 20 | Time: 0.0m 46.79s\n",
      "\t Train Loss: 0.721 | Train Acc: 56.99%\n",
      "\t Val. Loss: 1.452 |  Val. Acc: 41.06%\n",
      "\t Relaxed Train. Acc: 90.51% | Relaxed Val. Acc: 76.48%\n",
      "Run: enc_embed size: 256 dec_embed size: 16, enc_hid_size: 128, dec_hid_size: 256, num_layers: 2, cell_modelstm\n"
     ]
    },
    {
     "data": {
      "text/html": [
       "Waiting for W&B process to finish... <strong style=\"color:green\">(success).</strong>"
      ],
      "text/plain": [
       "<IPython.core.display.HTML object>"
      ]
     },
     "metadata": {},
     "output_type": "display_data"
    },
    {
     "data": {
      "text/html": [
       "<style>\n",
       "    table.wandb td:nth-child(1) { padding: 0 10px; text-align: left ; width: auto;} td:nth-child(2) {text-align: left ; width: 100%}\n",
       "    .wandb-row { display: flex; flex-direction: row; flex-wrap: wrap; justify-content: flex-start; width: 100% }\n",
       "    .wandb-col { display: flex; flex-direction: column; flex-basis: 100%; flex: 1; padding: 10px; }\n",
       "    </style>\n",
       "<div class=\"wandb-row\"><div class=\"wandb-col\"><h3>Run history:</h3><br/><table class=\"wandb\"><tr><td>epoch</td><td>▁▁▂▂▂▃▃▄▄▄▅▅▅▆▆▇▇▇██</td></tr><tr><td>relxd train acc</td><td>▁▅▆▆▆▇▇▇▇▇▇▇████████</td></tr><tr><td>relxd valid acc</td><td>▁▄▅▅▆▇▇▆▇▇█▇█▇█████▇</td></tr><tr><td>train acc</td><td>▁▃▄▅▅▅▆▆▆▆▇▇▇▇▇█████</td></tr><tr><td>train loss</td><td>█▄▃▃▃▂▂▂▂▂▂▂▁▁▁▁▁▁▁▁</td></tr><tr><td>valid acc</td><td>▁▃▅▄▆▆▇▇▇▇▇█▇▇███▇█▇</td></tr><tr><td>valid loss</td><td>█▄▂▃▃▁▂▃▂▃▂▃▃▄▄▄▄▄▅▇</td></tr></table><br/></div><div class=\"wandb-col\"><h3>Run summary:</h3><br/><table class=\"wandb\"><tr><td>epoch</td><td>19</td></tr><tr><td>relxd train acc</td><td>0.90506</td></tr><tr><td>relxd valid acc</td><td>0.76481</td></tr><tr><td>train acc</td><td>0.5699</td></tr><tr><td>train loss</td><td>0.72118</td></tr><tr><td>valid acc</td><td>0.41064</td></tr><tr><td>valid loss</td><td>1.45204</td></tr></table><br/></div></div>"
      ],
      "text/plain": [
       "<IPython.core.display.HTML object>"
      ]
     },
     "metadata": {},
     "output_type": "display_data"
    },
    {
     "data": {
      "text/html": [
       " View run <strong style=\"color:#cdcd00\">confused-sweep-77</strong> at: <a href='https://wandb.ai/pragalbh/DL_Assign3/runs/gq8vgfla' target=\"_blank\">https://wandb.ai/pragalbh/DL_Assign3/runs/gq8vgfla</a><br/>Synced 3 W&B file(s), 0 media file(s), 0 artifact file(s) and 0 other file(s)"
      ],
      "text/plain": [
       "<IPython.core.display.HTML object>"
      ]
     },
     "metadata": {},
     "output_type": "display_data"
    },
    {
     "data": {
      "text/html": [
       "Find logs at: <code>./wandb/run-20230529_204908-gq8vgfla/logs</code>"
      ],
      "text/plain": [
       "<IPython.core.display.HTML object>"
      ]
     },
     "metadata": {},
     "output_type": "display_data"
    },
    {
     "name": "stderr",
     "output_type": "stream",
     "text": [
      "\u001b[34m\u001b[1mwandb\u001b[0m: Sweep Agent: Waiting for job.\n",
      "\u001b[34m\u001b[1mwandb\u001b[0m: Job received.\n",
      "\u001b[34m\u001b[1mwandb\u001b[0m: Agent Starting Run: siif3wik with config:\n",
      "\u001b[34m\u001b[1mwandb\u001b[0m: \tcell_mode: lstm\n",
      "\u001b[34m\u001b[1mwandb\u001b[0m: \tdec_embed_size: 16\n",
      "\u001b[34m\u001b[1mwandb\u001b[0m: \tdec_hid_size: 128\n",
      "\u001b[34m\u001b[1mwandb\u001b[0m: \tdropout: 0.2\n",
      "\u001b[34m\u001b[1mwandb\u001b[0m: \tenc_embed_size: 128\n",
      "\u001b[34m\u001b[1mwandb\u001b[0m: \tenc_hid_size: 512\n",
      "\u001b[34m\u001b[1mwandb\u001b[0m: \tepochs: 10\n",
      "\u001b[34m\u001b[1mwandb\u001b[0m: \tis_bi: False\n",
      "\u001b[34m\u001b[1mwandb\u001b[0m: \tnum_layers: 3\n"
     ]
    },
    {
     "data": {
      "text/html": [
       "Tracking run with wandb version 0.15.3"
      ],
      "text/plain": [
       "<IPython.core.display.HTML object>"
      ]
     },
     "metadata": {},
     "output_type": "display_data"
    },
    {
     "data": {
      "text/html": [
       "Run data is saved locally in <code>/home/pragalbh/DL_Assign3/wandb/run-20230529_210509-siif3wik</code>"
      ],
      "text/plain": [
       "<IPython.core.display.HTML object>"
      ]
     },
     "metadata": {},
     "output_type": "display_data"
    },
    {
     "data": {
      "text/html": [
       "Resuming run <strong><a href='https://wandb.ai/pragalbh/DL_Assign3/runs/siif3wik' target=\"_blank\">neat-sweep-78</a></strong> to <a href='https://wandb.ai/pragalbh/DL_Assign3' target=\"_blank\">Weights & Biases</a> (<a href='https://wandb.me/run' target=\"_blank\">docs</a>)<br/>Sweep page: <a href='https://wandb.ai/pragalbh/DL_Assign3/sweeps/mzhrnfy5' target=\"_blank\">https://wandb.ai/pragalbh/DL_Assign3/sweeps/mzhrnfy5</a>"
      ],
      "text/plain": [
       "<IPython.core.display.HTML object>"
      ]
     },
     "metadata": {},
     "output_type": "display_data"
    },
    {
     "data": {
      "text/html": [
       " View project at <a href='https://wandb.ai/pragalbh/DL_Assign3' target=\"_blank\">https://wandb.ai/pragalbh/DL_Assign3</a>"
      ],
      "text/plain": [
       "<IPython.core.display.HTML object>"
      ]
     },
     "metadata": {},
     "output_type": "display_data"
    },
    {
     "data": {
      "text/html": [
       " View sweep at <a href='https://wandb.ai/pragalbh/DL_Assign3/sweeps/mzhrnfy5' target=\"_blank\">https://wandb.ai/pragalbh/DL_Assign3/sweeps/mzhrnfy5</a>"
      ],
      "text/plain": [
       "<IPython.core.display.HTML object>"
      ]
     },
     "metadata": {},
     "output_type": "display_data"
    },
    {
     "data": {
      "text/html": [
       " View run at <a href='https://wandb.ai/pragalbh/DL_Assign3/runs/siif3wik' target=\"_blank\">https://wandb.ai/pragalbh/DL_Assign3/runs/siif3wik</a>"
      ],
      "text/plain": [
       "<IPython.core.display.HTML object>"
      ]
     },
     "metadata": {},
     "output_type": "display_data"
    },
    {
     "name": "stdout",
     "output_type": "stream",
     "text": [
      "The model has 6,015,748 trainable parameters\n",
      "Epoch: 01 | Time: 0.0m 53.77s\n",
      "\t Train Loss: 2.521 | Train Acc: 2.88%\n",
      "\t Val. Loss: 1.669 |  Val. Acc: 21.36%\n",
      "\t Relaxed Train. Acc: 39.15% | Relaxed Val. Acc: 64.79%\n",
      "Epoch: 02 | Time: 0.0m 53.65s\n",
      "\t Train Loss: 1.250 | Train Acc: 21.25%\n",
      "\t Val. Loss: 1.435 |  Val. Acc: 30.74%\n",
      "\t Relaxed Train. Acc: 73.95% | Relaxed Val. Acc: 71.76%\n",
      "Epoch: 03 | Time: 0.0m 53.54s\n",
      "\t Train Loss: 1.076 | Train Acc: 28.53%\n",
      "\t Val. Loss: 1.393 |  Val. Acc: 33.86%\n",
      "\t Relaxed Train. Acc: 79.04% | Relaxed Val. Acc: 72.81%\n",
      "Epoch: 04 | Time: 0.0m 53.53s\n",
      "\t Train Loss: 0.996 | Train Acc: 32.79%\n",
      "\t Val. Loss: 1.382 |  Val. Acc: 35.57%\n",
      "\t Relaxed Train. Acc: 81.57% | Relaxed Val. Acc: 73.85%\n",
      "Epoch: 05 | Time: 0.0m 53.51s\n",
      "\t Train Loss: 0.954 | Train Acc: 35.80%\n",
      "\t Val. Loss: 1.378 |  Val. Acc: 38.21%\n",
      "\t Relaxed Train. Acc: 82.92% | Relaxed Val. Acc: 74.47%\n",
      "Epoch: 06 | Time: 0.0m 53.42s\n",
      "\t Train Loss: 0.918 | Train Acc: 38.38%\n",
      "\t Val. Loss: 1.327 |  Val. Acc: 39.75%\n",
      "\t Relaxed Train. Acc: 84.11% | Relaxed Val. Acc: 76.42%\n",
      "Epoch: 07 | Time: 0.0m 53.45s\n",
      "\t Train Loss: 0.886 | Train Acc: 40.36%\n",
      "\t Val. Loss: 1.351 |  Val. Acc: 38.87%\n",
      "\t Relaxed Train. Acc: 85.05% | Relaxed Val. Acc: 75.66%\n",
      "Epoch: 08 | Time: 0.0m 53.37s\n",
      "\t Train Loss: 0.865 | Train Acc: 42.28%\n",
      "\t Val. Loss: 1.361 |  Val. Acc: 40.60%\n",
      "\t Relaxed Train. Acc: 85.83% | Relaxed Val. Acc: 76.01%\n",
      "Epoch: 09 | Time: 0.0m 53.38s\n",
      "\t Train Loss: 0.848 | Train Acc: 43.60%\n",
      "\t Val. Loss: 1.344 |  Val. Acc: 39.50%\n",
      "\t Relaxed Train. Acc: 86.31% | Relaxed Val. Acc: 76.31%\n",
      "Epoch: 10 | Time: 0.0m 53.34s\n",
      "\t Train Loss: 0.828 | Train Acc: 45.55%\n",
      "\t Val. Loss: 1.357 |  Val. Acc: 41.16%\n",
      "\t Relaxed Train. Acc: 86.99% | Relaxed Val. Acc: 76.80%\n",
      "Run: enc_embed size: 128 dec_embed size: 16, enc_hid_size: 512, dec_hid_size: 128, num_layers: 3, cell_modelstm\n"
     ]
    },
    {
     "data": {
      "text/html": [
       "Waiting for W&B process to finish... <strong style=\"color:green\">(success).</strong>"
      ],
      "text/plain": [
       "<IPython.core.display.HTML object>"
      ]
     },
     "metadata": {},
     "output_type": "display_data"
    },
    {
     "data": {
      "text/html": [
       "<style>\n",
       "    table.wandb td:nth-child(1) { padding: 0 10px; text-align: left ; width: auto;} td:nth-child(2) {text-align: left ; width: 100%}\n",
       "    .wandb-row { display: flex; flex-direction: row; flex-wrap: wrap; justify-content: flex-start; width: 100% }\n",
       "    .wandb-col { display: flex; flex-direction: column; flex-basis: 100%; flex: 1; padding: 10px; }\n",
       "    </style>\n",
       "<div class=\"wandb-row\"><div class=\"wandb-col\"><h3>Run history:</h3><br/><table class=\"wandb\"><tr><td>epoch</td><td>▁▂▃▃▄▅▆▆▇█</td></tr><tr><td>relxd train acc</td><td>▁▆▇▇▇█████</td></tr><tr><td>relxd valid acc</td><td>▁▅▆▆▇█▇███</td></tr><tr><td>train acc</td><td>▁▄▅▆▆▇▇▇██</td></tr><tr><td>train loss</td><td>█▃▂▂▂▁▁▁▁▁</td></tr><tr><td>valid acc</td><td>▁▄▅▆▇▇▇█▇█</td></tr><tr><td>valid loss</td><td>█▃▂▂▂▁▂▂▁▂</td></tr></table><br/></div><div class=\"wandb-col\"><h3>Run summary:</h3><br/><table class=\"wandb\"><tr><td>epoch</td><td>9</td></tr><tr><td>relxd train acc</td><td>0.86986</td></tr><tr><td>relxd valid acc</td><td>0.76798</td></tr><tr><td>train acc</td><td>0.45553</td></tr><tr><td>train loss</td><td>0.82837</td></tr><tr><td>valid acc</td><td>0.41162</td></tr><tr><td>valid loss</td><td>1.35739</td></tr></table><br/></div></div>"
      ],
      "text/plain": [
       "<IPython.core.display.HTML object>"
      ]
     },
     "metadata": {},
     "output_type": "display_data"
    },
    {
     "data": {
      "text/html": [
       " View run <strong style=\"color:#cdcd00\">neat-sweep-78</strong> at: <a href='https://wandb.ai/pragalbh/DL_Assign3/runs/siif3wik' target=\"_blank\">https://wandb.ai/pragalbh/DL_Assign3/runs/siif3wik</a><br/>Synced 3 W&B file(s), 0 media file(s), 0 artifact file(s) and 0 other file(s)"
      ],
      "text/plain": [
       "<IPython.core.display.HTML object>"
      ]
     },
     "metadata": {},
     "output_type": "display_data"
    },
    {
     "data": {
      "text/html": [
       "Find logs at: <code>./wandb/run-20230529_210509-siif3wik/logs</code>"
      ],
      "text/plain": [
       "<IPython.core.display.HTML object>"
      ]
     },
     "metadata": {},
     "output_type": "display_data"
    },
    {
     "name": "stderr",
     "output_type": "stream",
     "text": [
      "\u001b[34m\u001b[1mwandb\u001b[0m: Agent Starting Run: 7ekezsj7 with config:\n",
      "\u001b[34m\u001b[1mwandb\u001b[0m: \tcell_mode: lstm\n",
      "\u001b[34m\u001b[1mwandb\u001b[0m: \tdec_embed_size: 64\n",
      "\u001b[34m\u001b[1mwandb\u001b[0m: \tdec_hid_size: 512\n",
      "\u001b[34m\u001b[1mwandb\u001b[0m: \tdropout: 0.3\n",
      "\u001b[34m\u001b[1mwandb\u001b[0m: \tenc_embed_size: 512\n",
      "\u001b[34m\u001b[1mwandb\u001b[0m: \tenc_hid_size: 256\n",
      "\u001b[34m\u001b[1mwandb\u001b[0m: \tepochs: 10\n",
      "\u001b[34m\u001b[1mwandb\u001b[0m: \tis_bi: True\n",
      "\u001b[34m\u001b[1mwandb\u001b[0m: \tnum_layers: 1\n"
     ]
    },
    {
     "data": {
      "text/html": [
       "Tracking run with wandb version 0.15.3"
      ],
      "text/plain": [
       "<IPython.core.display.HTML object>"
      ]
     },
     "metadata": {},
     "output_type": "display_data"
    },
    {
     "data": {
      "text/html": [
       "Run data is saved locally in <code>/home/pragalbh/DL_Assign3/wandb/run-20230529_211415-7ekezsj7</code>"
      ],
      "text/plain": [
       "<IPython.core.display.HTML object>"
      ]
     },
     "metadata": {},
     "output_type": "display_data"
    },
    {
     "data": {
      "text/html": [
       "Resuming run <strong><a href='https://wandb.ai/pragalbh/DL_Assign3/runs/7ekezsj7' target=\"_blank\">chocolate-sweep-79</a></strong> to <a href='https://wandb.ai/pragalbh/DL_Assign3' target=\"_blank\">Weights & Biases</a> (<a href='https://wandb.me/run' target=\"_blank\">docs</a>)<br/>Sweep page: <a href='https://wandb.ai/pragalbh/DL_Assign3/sweeps/mzhrnfy5' target=\"_blank\">https://wandb.ai/pragalbh/DL_Assign3/sweeps/mzhrnfy5</a>"
      ],
      "text/plain": [
       "<IPython.core.display.HTML object>"
      ]
     },
     "metadata": {},
     "output_type": "display_data"
    },
    {
     "data": {
      "text/html": [
       " View project at <a href='https://wandb.ai/pragalbh/DL_Assign3' target=\"_blank\">https://wandb.ai/pragalbh/DL_Assign3</a>"
      ],
      "text/plain": [
       "<IPython.core.display.HTML object>"
      ]
     },
     "metadata": {},
     "output_type": "display_data"
    },
    {
     "data": {
      "text/html": [
       " View sweep at <a href='https://wandb.ai/pragalbh/DL_Assign3/sweeps/mzhrnfy5' target=\"_blank\">https://wandb.ai/pragalbh/DL_Assign3/sweeps/mzhrnfy5</a>"
      ],
      "text/plain": [
       "<IPython.core.display.HTML object>"
      ]
     },
     "metadata": {},
     "output_type": "display_data"
    },
    {
     "data": {
      "text/html": [
       " View run at <a href='https://wandb.ai/pragalbh/DL_Assign3/runs/7ekezsj7' target=\"_blank\">https://wandb.ai/pragalbh/DL_Assign3/runs/7ekezsj7</a>"
      ],
      "text/plain": [
       "<IPython.core.display.HTML object>"
      ]
     },
     "metadata": {},
     "output_type": "display_data"
    },
    {
     "name": "stdout",
     "output_type": "stream",
     "text": [
      "The model has 4,651,844 trainable parameters\n",
      "Epoch: 01 | Time: 1.0m 4.24s\n",
      "\t Train Loss: 1.335 | Train Acc: 18.62%\n",
      "\t Val. Loss: 1.472 |  Val. Acc: 31.45%\n",
      "\t Relaxed Train. Acc: 70.97% | Relaxed Val. Acc: 71.61%\n",
      "Epoch: 02 | Time: 1.0m 4.27s\n",
      "\t Train Loss: 1.047 | Train Acc: 29.87%\n",
      "\t Val. Loss: 1.407 |  Val. Acc: 34.52%\n",
      "\t Relaxed Train. Acc: 79.91% | Relaxed Val. Acc: 72.69%\n",
      "Epoch: 03 | Time: 1.0m 4.23s\n",
      "\t Train Loss: 0.977 | Train Acc: 33.76%\n",
      "\t Val. Loss: 1.368 |  Val. Acc: 36.77%\n",
      "\t Relaxed Train. Acc: 82.14% | Relaxed Val. Acc: 74.48%\n",
      "Epoch: 04 | Time: 1.0m 4.19s\n",
      "\t Train Loss: 0.936 | Train Acc: 36.79%\n",
      "\t Val. Loss: 1.377 |  Val. Acc: 36.25%\n",
      "\t Relaxed Train. Acc: 83.48% | Relaxed Val. Acc: 74.27%\n",
      "Epoch: 05 | Time: 1.0m 4.15s\n",
      "\t Train Loss: 0.910 | Train Acc: 39.25%\n",
      "\t Val. Loss: 1.384 |  Val. Acc: 39.31%\n",
      "\t Relaxed Train. Acc: 84.42% | Relaxed Val. Acc: 75.55%\n",
      "Epoch: 06 | Time: 1.0m 4.09s\n",
      "\t Train Loss: 0.893 | Train Acc: 40.75%\n",
      "\t Val. Loss: 1.362 |  Val. Acc: 39.50%\n",
      "\t Relaxed Train. Acc: 84.92% | Relaxed Val. Acc: 75.36%\n",
      "Epoch: 07 | Time: 1.0m 4.00s\n",
      "\t Train Loss: 0.865 | Train Acc: 42.50%\n",
      "\t Val. Loss: 1.387 |  Val. Acc: 38.21%\n",
      "\t Relaxed Train. Acc: 85.85% | Relaxed Val. Acc: 75.16%\n",
      "Epoch: 08 | Time: 1.0m 3.95s\n",
      "\t Train Loss: 0.846 | Train Acc: 44.13%\n",
      "\t Val. Loss: 1.435 |  Val. Acc: 38.09%\n",
      "\t Relaxed Train. Acc: 86.43% | Relaxed Val. Acc: 74.96%\n",
      "Epoch: 09 | Time: 1.0m 3.97s\n",
      "\t Train Loss: 0.832 | Train Acc: 46.18%\n",
      "\t Val. Loss: 1.387 |  Val. Acc: 39.70%\n",
      "\t Relaxed Train. Acc: 86.99% | Relaxed Val. Acc: 76.01%\n",
      "Epoch: 10 | Time: 1.0m 3.95s\n",
      "\t Train Loss: 0.816 | Train Acc: 47.20%\n",
      "\t Val. Loss: 1.418 |  Val. Acc: 38.01%\n",
      "\t Relaxed Train. Acc: 87.47% | Relaxed Val. Acc: 75.20%\n",
      "Run: enc_embed size: 512 dec_embed size: 64, enc_hid_size: 256, dec_hid_size: 512, num_layers: 1, cell_modelstm\n"
     ]
    },
    {
     "data": {
      "text/html": [
       "Waiting for W&B process to finish... <strong style=\"color:green\">(success).</strong>"
      ],
      "text/plain": [
       "<IPython.core.display.HTML object>"
      ]
     },
     "metadata": {},
     "output_type": "display_data"
    },
    {
     "data": {
      "text/html": [
       "<style>\n",
       "    table.wandb td:nth-child(1) { padding: 0 10px; text-align: left ; width: auto;} td:nth-child(2) {text-align: left ; width: 100%}\n",
       "    .wandb-row { display: flex; flex-direction: row; flex-wrap: wrap; justify-content: flex-start; width: 100% }\n",
       "    .wandb-col { display: flex; flex-direction: column; flex-basis: 100%; flex: 1; padding: 10px; }\n",
       "    </style>\n",
       "<div class=\"wandb-row\"><div class=\"wandb-col\"><h3>Run history:</h3><br/><table class=\"wandb\"><tr><td>epoch</td><td>▁▂▃▃▄▅▆▆▇█</td></tr><tr><td>relxd train acc</td><td>▁▅▆▆▇▇▇███</td></tr><tr><td>relxd valid acc</td><td>▁▃▆▅▇▇▇▆█▇</td></tr><tr><td>train acc</td><td>▁▄▅▅▆▆▇▇██</td></tr><tr><td>train loss</td><td>█▄▃▃▂▂▂▁▁▁</td></tr><tr><td>valid acc</td><td>▁▄▆▅██▇▇█▇</td></tr><tr><td>valid loss</td><td>█▄▁▂▂▁▃▆▃▅</td></tr></table><br/></div><div class=\"wandb-col\"><h3>Run summary:</h3><br/><table class=\"wandb\"><tr><td>epoch</td><td>9</td></tr><tr><td>relxd train acc</td><td>0.87475</td></tr><tr><td>relxd valid acc</td><td>0.752</td></tr><tr><td>train acc</td><td>0.47201</td></tr><tr><td>train loss</td><td>0.81583</td></tr><tr><td>valid acc</td><td>0.38013</td></tr><tr><td>valid loss</td><td>1.41796</td></tr></table><br/></div></div>"
      ],
      "text/plain": [
       "<IPython.core.display.HTML object>"
      ]
     },
     "metadata": {},
     "output_type": "display_data"
    },
    {
     "data": {
      "text/html": [
       " View run <strong style=\"color:#cdcd00\">chocolate-sweep-79</strong> at: <a href='https://wandb.ai/pragalbh/DL_Assign3/runs/7ekezsj7' target=\"_blank\">https://wandb.ai/pragalbh/DL_Assign3/runs/7ekezsj7</a><br/>Synced 3 W&B file(s), 0 media file(s), 0 artifact file(s) and 0 other file(s)"
      ],
      "text/plain": [
       "<IPython.core.display.HTML object>"
      ]
     },
     "metadata": {},
     "output_type": "display_data"
    },
    {
     "data": {
      "text/html": [
       "Find logs at: <code>./wandb/run-20230529_211415-7ekezsj7/logs</code>"
      ],
      "text/plain": [
       "<IPython.core.display.HTML object>"
      ]
     },
     "metadata": {},
     "output_type": "display_data"
    },
    {
     "name": "stderr",
     "output_type": "stream",
     "text": [
      "\u001b[34m\u001b[1mwandb\u001b[0m: Agent Starting Run: cbh6wlim with config:\n",
      "\u001b[34m\u001b[1mwandb\u001b[0m: \tcell_mode: gru\n",
      "\u001b[34m\u001b[1mwandb\u001b[0m: \tdec_embed_size: 16\n",
      "\u001b[34m\u001b[1mwandb\u001b[0m: \tdec_hid_size: 128\n",
      "\u001b[34m\u001b[1mwandb\u001b[0m: \tdropout: 0.2\n",
      "\u001b[34m\u001b[1mwandb\u001b[0m: \tenc_embed_size: 128\n",
      "\u001b[34m\u001b[1mwandb\u001b[0m: \tenc_hid_size: 512\n",
      "\u001b[34m\u001b[1mwandb\u001b[0m: \tepochs: 10\n",
      "\u001b[34m\u001b[1mwandb\u001b[0m: \tis_bi: False\n",
      "\u001b[34m\u001b[1mwandb\u001b[0m: \tnum_layers: 2\n"
     ]
    },
    {
     "data": {
      "text/html": [
       "Tracking run with wandb version 0.15.3"
      ],
      "text/plain": [
       "<IPython.core.display.HTML object>"
      ]
     },
     "metadata": {},
     "output_type": "display_data"
    },
    {
     "data": {
      "text/html": [
       "Run data is saved locally in <code>/home/pragalbh/DL_Assign3/wandb/run-20230529_212507-cbh6wlim</code>"
      ],
      "text/plain": [
       "<IPython.core.display.HTML object>"
      ]
     },
     "metadata": {},
     "output_type": "display_data"
    },
    {
     "data": {
      "text/html": [
       "Resuming run <strong><a href='https://wandb.ai/pragalbh/DL_Assign3/runs/cbh6wlim' target=\"_blank\">ethereal-sweep-80</a></strong> to <a href='https://wandb.ai/pragalbh/DL_Assign3' target=\"_blank\">Weights & Biases</a> (<a href='https://wandb.me/run' target=\"_blank\">docs</a>)<br/>Sweep page: <a href='https://wandb.ai/pragalbh/DL_Assign3/sweeps/mzhrnfy5' target=\"_blank\">https://wandb.ai/pragalbh/DL_Assign3/sweeps/mzhrnfy5</a>"
      ],
      "text/plain": [
       "<IPython.core.display.HTML object>"
      ]
     },
     "metadata": {},
     "output_type": "display_data"
    },
    {
     "data": {
      "text/html": [
       " View project at <a href='https://wandb.ai/pragalbh/DL_Assign3' target=\"_blank\">https://wandb.ai/pragalbh/DL_Assign3</a>"
      ],
      "text/plain": [
       "<IPython.core.display.HTML object>"
      ]
     },
     "metadata": {},
     "output_type": "display_data"
    },
    {
     "data": {
      "text/html": [
       " View sweep at <a href='https://wandb.ai/pragalbh/DL_Assign3/sweeps/mzhrnfy5' target=\"_blank\">https://wandb.ai/pragalbh/DL_Assign3/sweeps/mzhrnfy5</a>"
      ],
      "text/plain": [
       "<IPython.core.display.HTML object>"
      ]
     },
     "metadata": {},
     "output_type": "display_data"
    },
    {
     "data": {
      "text/html": [
       " View run at <a href='https://wandb.ai/pragalbh/DL_Assign3/runs/cbh6wlim' target=\"_blank\">https://wandb.ai/pragalbh/DL_Assign3/runs/cbh6wlim</a>"
      ],
      "text/plain": [
       "<IPython.core.display.HTML object>"
      ]
     },
     "metadata": {},
     "output_type": "display_data"
    },
    {
     "name": "stdout",
     "output_type": "stream",
     "text": [
      "The model has 2,976,260 trainable parameters\n",
      "Epoch: 01 | Time: 0.0m 47.85s\n",
      "\t Train Loss: 1.577 | Train Acc: 13.39%\n",
      "\t Val. Loss: 1.539 |  Val. Acc: 26.05%\n",
      "\t Relaxed Train. Acc: 63.79% | Relaxed Val. Acc: 67.34%\n",
      "Epoch: 02 | Time: 0.0m 47.74s\n",
      "\t Train Loss: 1.185 | Train Acc: 23.26%\n",
      "\t Val. Loss: 1.452 |  Val. Acc: 30.15%\n",
      "\t Relaxed Train. Acc: 75.31% | Relaxed Val. Acc: 70.98%\n",
      "Epoch: 03 | Time: 0.0m 47.75s\n",
      "\t Train Loss: 1.105 | Train Acc: 26.38%\n",
      "\t Val. Loss: 1.459 |  Val. Acc: 30.57%\n",
      "\t Relaxed Train. Acc: 77.88% | Relaxed Val. Acc: 71.45%\n",
      "Epoch: 04 | Time: 0.0m 47.70s\n",
      "\t Train Loss: 1.073 | Train Acc: 27.78%\n",
      "\t Val. Loss: 1.432 |  Val. Acc: 31.25%\n",
      "\t Relaxed Train. Acc: 78.97% | Relaxed Val. Acc: 71.41%\n",
      "Epoch: 05 | Time: 0.0m 47.70s\n",
      "\t Train Loss: 1.059 | Train Acc: 28.91%\n",
      "\t Val. Loss: 1.454 |  Val. Acc: 31.93%\n",
      "\t Relaxed Train. Acc: 79.39% | Relaxed Val. Acc: 71.82%\n",
      "Epoch: 06 | Time: 0.0m 48.18s\n",
      "\t Train Loss: 1.041 | Train Acc: 29.73%\n",
      "\t Val. Loss: 1.408 |  Val. Acc: 32.81%\n",
      "\t Relaxed Train. Acc: 79.97% | Relaxed Val. Acc: 72.85%\n",
      "Epoch: 07 | Time: 0.0m 47.66s\n",
      "\t Train Loss: 1.026 | Train Acc: 30.09%\n",
      "\t Val. Loss: 1.438 |  Val. Acc: 32.57%\n",
      "\t Relaxed Train. Acc: 80.43% | Relaxed Val. Acc: 72.24%\n",
      "Epoch: 08 | Time: 0.0m 47.64s\n",
      "\t Train Loss: 1.024 | Train Acc: 30.61%\n",
      "\t Val. Loss: 1.446 |  Val. Acc: 33.72%\n",
      "\t Relaxed Train. Acc: 80.51% | Relaxed Val. Acc: 72.23%\n",
      "Epoch: 09 | Time: 0.0m 47.65s\n",
      "\t Train Loss: 1.020 | Train Acc: 30.75%\n",
      "\t Val. Loss: 1.420 |  Val. Acc: 33.50%\n",
      "\t Relaxed Train. Acc: 80.58% | Relaxed Val. Acc: 72.71%\n",
      "Epoch: 10 | Time: 0.0m 47.65s\n",
      "\t Train Loss: 1.015 | Train Acc: 31.13%\n",
      "\t Val. Loss: 1.455 |  Val. Acc: 32.45%\n",
      "\t Relaxed Train. Acc: 80.86% | Relaxed Val. Acc: 71.98%\n",
      "Run: enc_embed size: 128 dec_embed size: 16, enc_hid_size: 512, dec_hid_size: 128, num_layers: 2, cell_modegru\n"
     ]
    },
    {
     "data": {
      "text/html": [
       "Waiting for W&B process to finish... <strong style=\"color:green\">(success).</strong>"
      ],
      "text/plain": [
       "<IPython.core.display.HTML object>"
      ]
     },
     "metadata": {},
     "output_type": "display_data"
    },
    {
     "data": {
      "text/html": [
       "<style>\n",
       "    table.wandb td:nth-child(1) { padding: 0 10px; text-align: left ; width: auto;} td:nth-child(2) {text-align: left ; width: 100%}\n",
       "    .wandb-row { display: flex; flex-direction: row; flex-wrap: wrap; justify-content: flex-start; width: 100% }\n",
       "    .wandb-col { display: flex; flex-direction: column; flex-basis: 100%; flex: 1; padding: 10px; }\n",
       "    </style>\n",
       "<div class=\"wandb-row\"><div class=\"wandb-col\"><h3>Run history:</h3><br/><table class=\"wandb\"><tr><td>epoch</td><td>▁▂▃▃▄▅▆▆▇█</td></tr><tr><td>relxd train acc</td><td>▁▆▇▇▇█████</td></tr><tr><td>relxd valid acc</td><td>▁▆▆▆▇█▇▇█▇</td></tr><tr><td>train acc</td><td>▁▅▆▇▇▇████</td></tr><tr><td>train loss</td><td>█▃▂▂▂▁▁▁▁▁</td></tr><tr><td>valid acc</td><td>▁▅▅▆▆▇▇██▇</td></tr><tr><td>valid loss</td><td>█▃▄▂▃▁▃▃▂▄</td></tr></table><br/></div><div class=\"wandb-col\"><h3>Run summary:</h3><br/><table class=\"wandb\"><tr><td>epoch</td><td>9</td></tr><tr><td>relxd train acc</td><td>0.8086</td></tr><tr><td>relxd valid acc</td><td>0.7198</td></tr><tr><td>train acc</td><td>0.31125</td></tr><tr><td>train loss</td><td>1.01486</td></tr><tr><td>valid acc</td><td>0.32446</td></tr><tr><td>valid loss</td><td>1.45537</td></tr></table><br/></div></div>"
      ],
      "text/plain": [
       "<IPython.core.display.HTML object>"
      ]
     },
     "metadata": {},
     "output_type": "display_data"
    },
    {
     "data": {
      "text/html": [
       " View run <strong style=\"color:#cdcd00\">ethereal-sweep-80</strong> at: <a href='https://wandb.ai/pragalbh/DL_Assign3/runs/cbh6wlim' target=\"_blank\">https://wandb.ai/pragalbh/DL_Assign3/runs/cbh6wlim</a><br/>Synced 3 W&B file(s), 0 media file(s), 0 artifact file(s) and 0 other file(s)"
      ],
      "text/plain": [
       "<IPython.core.display.HTML object>"
      ]
     },
     "metadata": {},
     "output_type": "display_data"
    },
    {
     "data": {
      "text/html": [
       "Find logs at: <code>./wandb/run-20230529_212507-cbh6wlim/logs</code>"
      ],
      "text/plain": [
       "<IPython.core.display.HTML object>"
      ]
     },
     "metadata": {},
     "output_type": "display_data"
    },
    {
     "name": "stderr",
     "output_type": "stream",
     "text": [
      "\u001b[34m\u001b[1mwandb\u001b[0m: Agent Starting Run: 8zrosdbb with config:\n",
      "\u001b[34m\u001b[1mwandb\u001b[0m: \tcell_mode: lstm\n",
      "\u001b[34m\u001b[1mwandb\u001b[0m: \tdec_embed_size: 64\n",
      "\u001b[34m\u001b[1mwandb\u001b[0m: \tdec_hid_size: 256\n",
      "\u001b[34m\u001b[1mwandb\u001b[0m: \tdropout: 0.2\n",
      "\u001b[34m\u001b[1mwandb\u001b[0m: \tenc_embed_size: 512\n",
      "\u001b[34m\u001b[1mwandb\u001b[0m: \tenc_hid_size: 512\n",
      "\u001b[34m\u001b[1mwandb\u001b[0m: \tepochs: 30\n",
      "\u001b[34m\u001b[1mwandb\u001b[0m: \tis_bi: False\n",
      "\u001b[34m\u001b[1mwandb\u001b[0m: \tnum_layers: 3\n"
     ]
    },
    {
     "data": {
      "text/html": [
       "Tracking run with wandb version 0.15.3"
      ],
      "text/plain": [
       "<IPython.core.display.HTML object>"
      ]
     },
     "metadata": {},
     "output_type": "display_data"
    },
    {
     "data": {
      "text/html": [
       "Run data is saved locally in <code>/home/pragalbh/DL_Assign3/wandb/run-20230529_213319-8zrosdbb</code>"
      ],
      "text/plain": [
       "<IPython.core.display.HTML object>"
      ]
     },
     "metadata": {},
     "output_type": "display_data"
    },
    {
     "data": {
      "text/html": [
       "Resuming run <strong><a href='https://wandb.ai/pragalbh/DL_Assign3/runs/8zrosdbb' target=\"_blank\">true-sweep-81</a></strong> to <a href='https://wandb.ai/pragalbh/DL_Assign3' target=\"_blank\">Weights & Biases</a> (<a href='https://wandb.me/run' target=\"_blank\">docs</a>)<br/>Sweep page: <a href='https://wandb.ai/pragalbh/DL_Assign3/sweeps/mzhrnfy5' target=\"_blank\">https://wandb.ai/pragalbh/DL_Assign3/sweeps/mzhrnfy5</a>"
      ],
      "text/plain": [
       "<IPython.core.display.HTML object>"
      ]
     },
     "metadata": {},
     "output_type": "display_data"
    },
    {
     "data": {
      "text/html": [
       " View project at <a href='https://wandb.ai/pragalbh/DL_Assign3' target=\"_blank\">https://wandb.ai/pragalbh/DL_Assign3</a>"
      ],
      "text/plain": [
       "<IPython.core.display.HTML object>"
      ]
     },
     "metadata": {},
     "output_type": "display_data"
    },
    {
     "data": {
      "text/html": [
       " View sweep at <a href='https://wandb.ai/pragalbh/DL_Assign3/sweeps/mzhrnfy5' target=\"_blank\">https://wandb.ai/pragalbh/DL_Assign3/sweeps/mzhrnfy5</a>"
      ],
      "text/plain": [
       "<IPython.core.display.HTML object>"
      ]
     },
     "metadata": {},
     "output_type": "display_data"
    },
    {
     "data": {
      "text/html": [
       " View run at <a href='https://wandb.ai/pragalbh/DL_Assign3/runs/8zrosdbb' target=\"_blank\">https://wandb.ai/pragalbh/DL_Assign3/runs/8zrosdbb</a>"
      ],
      "text/plain": [
       "<IPython.core.display.HTML object>"
      ]
     },
     "metadata": {},
     "output_type": "display_data"
    },
    {
     "name": "stdout",
     "output_type": "stream",
     "text": [
      "The model has 7,523,396 trainable parameters\n",
      "Epoch: 01 | Time: 0.0m 56.05s\n",
      "\t Train Loss: 1.825 | Train Acc: 12.04%\n",
      "\t Val. Loss: 1.496 |  Val. Acc: 29.47%\n",
      "\t Relaxed Train. Acc: 58.24% | Relaxed Val. Acc: 69.31%\n",
      "Epoch: 02 | Time: 0.0m 55.87s\n",
      "\t Train Loss: 1.100 | Train Acc: 27.01%\n",
      "\t Val. Loss: 1.376 |  Val. Acc: 34.20%\n",
      "\t Relaxed Train. Acc: 78.28% | Relaxed Val. Acc: 73.44%\n",
      "Epoch: 03 | Time: 0.0m 55.82s\n",
      "\t Train Loss: 1.000 | Train Acc: 32.15%\n",
      "\t Val. Loss: 1.369 |  Val. Acc: 36.08%\n",
      "\t Relaxed Train. Acc: 81.34% | Relaxed Val. Acc: 73.82%\n",
      "Epoch: 04 | Time: 0.0m 55.80s\n",
      "\t Train Loss: 0.949 | Train Acc: 35.39%\n",
      "\t Val. Loss: 1.357 |  Val. Acc: 37.62%\n",
      "\t Relaxed Train. Acc: 82.96% | Relaxed Val. Acc: 75.01%\n",
      "Epoch: 05 | Time: 0.0m 55.74s\n",
      "\t Train Loss: 0.920 | Train Acc: 37.56%\n",
      "\t Val. Loss: 1.339 |  Val. Acc: 39.55%\n",
      "\t Relaxed Train. Acc: 83.91% | Relaxed Val. Acc: 75.85%\n",
      "Epoch: 06 | Time: 0.0m 55.68s\n",
      "\t Train Loss: 0.892 | Train Acc: 39.70%\n",
      "\t Val. Loss: 1.355 |  Val. Acc: 40.14%\n",
      "\t Relaxed Train. Acc: 84.84% | Relaxed Val. Acc: 75.53%\n",
      "Epoch: 07 | Time: 0.0m 55.72s\n",
      "\t Train Loss: 0.862 | Train Acc: 41.44%\n",
      "\t Val. Loss: 1.341 |  Val. Acc: 40.19%\n",
      "\t Relaxed Train. Acc: 85.72% | Relaxed Val. Acc: 75.85%\n",
      "Epoch: 08 | Time: 0.0m 55.61s\n",
      "\t Train Loss: 0.845 | Train Acc: 43.44%\n",
      "\t Val. Loss: 1.362 |  Val. Acc: 41.04%\n",
      "\t Relaxed Train. Acc: 86.38% | Relaxed Val. Acc: 76.47%\n",
      "Epoch: 09 | Time: 0.0m 55.63s\n",
      "\t Train Loss: 0.833 | Train Acc: 44.78%\n",
      "\t Val. Loss: 1.339 |  Val. Acc: 42.38%\n",
      "\t Relaxed Train. Acc: 86.76% | Relaxed Val. Acc: 77.22%\n",
      "Epoch: 10 | Time: 0.0m 55.68s\n",
      "\t Train Loss: 0.813 | Train Acc: 46.21%\n",
      "\t Val. Loss: 1.360 |  Val. Acc: 40.41%\n",
      "\t Relaxed Train. Acc: 87.42% | Relaxed Val. Acc: 76.36%\n",
      "Epoch: 11 | Time: 0.0m 55.60s\n",
      "\t Train Loss: 0.801 | Train Acc: 47.69%\n",
      "\t Val. Loss: 1.343 |  Val. Acc: 42.16%\n",
      "\t Relaxed Train. Acc: 87.79% | Relaxed Val. Acc: 77.45%\n",
      "Epoch: 12 | Time: 0.0m 55.56s\n",
      "\t Train Loss: 0.788 | Train Acc: 48.93%\n",
      "\t Val. Loss: 1.367 |  Val. Acc: 41.67%\n",
      "\t Relaxed Train. Acc: 88.25% | Relaxed Val. Acc: 77.10%\n",
      "Epoch: 13 | Time: 0.0m 55.64s\n",
      "\t Train Loss: 0.777 | Train Acc: 49.94%\n",
      "\t Val. Loss: 1.373 |  Val. Acc: 41.48%\n",
      "\t Relaxed Train. Acc: 88.62% | Relaxed Val. Acc: 76.58%\n",
      "Epoch: 14 | Time: 0.0m 55.57s\n",
      "\t Train Loss: 0.764 | Train Acc: 50.86%\n",
      "\t Val. Loss: 1.366 |  Val. Acc: 42.63%\n",
      "\t Relaxed Train. Acc: 89.01% | Relaxed Val. Acc: 77.41%\n",
      "Epoch: 15 | Time: 0.0m 55.53s\n",
      "\t Train Loss: 0.756 | Train Acc: 52.24%\n",
      "\t Val. Loss: 1.366 |  Val. Acc: 41.21%\n",
      "\t Relaxed Train. Acc: 89.32% | Relaxed Val. Acc: 77.05%\n",
      "Epoch: 16 | Time: 0.0m 55.62s\n",
      "\t Train Loss: 0.747 | Train Acc: 52.95%\n",
      "\t Val. Loss: 1.382 |  Val. Acc: 42.16%\n",
      "\t Relaxed Train. Acc: 89.52% | Relaxed Val. Acc: 77.28%\n",
      "Epoch: 17 | Time: 0.0m 55.52s\n",
      "\t Train Loss: 0.734 | Train Acc: 54.29%\n",
      "\t Val. Loss: 1.377 |  Val. Acc: 41.82%\n",
      "\t Relaxed Train. Acc: 90.02% | Relaxed Val. Acc: 77.61%\n",
      "Epoch: 18 | Time: 0.0m 55.55s\n",
      "\t Train Loss: 0.732 | Train Acc: 54.70%\n",
      "\t Val. Loss: 1.394 |  Val. Acc: 41.43%\n",
      "\t Relaxed Train. Acc: 90.09% | Relaxed Val. Acc: 77.19%\n",
      "Epoch: 19 | Time: 0.0m 55.59s\n",
      "\t Train Loss: 0.723 | Train Acc: 55.80%\n",
      "\t Val. Loss: 1.405 |  Val. Acc: 42.70%\n",
      "\t Relaxed Train. Acc: 90.38% | Relaxed Val. Acc: 77.57%\n",
      "Epoch: 20 | Time: 0.0m 55.50s\n",
      "\t Train Loss: 0.714 | Train Acc: 56.68%\n",
      "\t Val. Loss: 1.412 |  Val. Acc: 42.02%\n",
      "\t Relaxed Train. Acc: 90.70% | Relaxed Val. Acc: 77.33%\n",
      "Epoch: 21 | Time: 0.0m 55.49s\n",
      "\t Train Loss: 0.708 | Train Acc: 57.58%\n",
      "\t Val. Loss: 1.446 |  Val. Acc: 41.65%\n",
      "\t Relaxed Train. Acc: 90.92% | Relaxed Val. Acc: 77.14%\n",
      "Epoch: 22 | Time: 0.0m 55.59s\n",
      "\t Train Loss: 0.704 | Train Acc: 58.04%\n",
      "\t Val. Loss: 1.428 |  Val. Acc: 42.26%\n",
      "\t Relaxed Train. Acc: 91.04% | Relaxed Val. Acc: 77.43%\n",
      "Epoch: 23 | Time: 0.0m 55.51s\n",
      "\t Train Loss: 0.699 | Train Acc: 58.72%\n",
      "\t Val. Loss: 1.461 |  Val. Acc: 41.38%\n",
      "\t Relaxed Train. Acc: 91.19% | Relaxed Val. Acc: 77.09%\n",
      "Epoch: 24 | Time: 0.0m 55.51s\n",
      "\t Train Loss: 0.693 | Train Acc: 59.42%\n",
      "\t Val. Loss: 1.458 |  Val. Acc: 40.50%\n",
      "\t Relaxed Train. Acc: 91.39% | Relaxed Val. Acc: 76.82%\n",
      "Epoch: 25 | Time: 0.0m 55.55s\n",
      "\t Train Loss: 0.689 | Train Acc: 59.94%\n",
      "\t Val. Loss: 1.462 |  Val. Acc: 42.24%\n",
      "\t Relaxed Train. Acc: 91.54% | Relaxed Val. Acc: 77.20%\n",
      "Epoch: 26 | Time: 0.0m 55.50s\n",
      "\t Train Loss: 0.682 | Train Acc: 60.59%\n",
      "\t Val. Loss: 1.496 |  Val. Acc: 40.26%\n",
      "\t Relaxed Train. Acc: 91.76% | Relaxed Val. Acc: 76.55%\n",
      "Epoch: 27 | Time: 0.0m 55.47s\n",
      "\t Train Loss: 0.681 | Train Acc: 60.81%\n",
      "\t Val. Loss: 1.448 |  Val. Acc: 42.29%\n",
      "\t Relaxed Train. Acc: 91.78% | Relaxed Val. Acc: 77.56%\n",
      "Epoch: 28 | Time: 0.0m 55.54s\n",
      "\t Train Loss: 0.678 | Train Acc: 61.54%\n",
      "\t Val. Loss: 1.473 |  Val. Acc: 41.41%\n",
      "\t Relaxed Train. Acc: 91.86% | Relaxed Val. Acc: 77.23%\n",
      "Epoch: 29 | Time: 0.0m 55.46s\n",
      "\t Train Loss: 0.669 | Train Acc: 62.38%\n",
      "\t Val. Loss: 1.481 |  Val. Acc: 41.36%\n",
      "\t Relaxed Train. Acc: 92.22% | Relaxed Val. Acc: 77.15%\n",
      "Epoch: 30 | Time: 0.0m 55.45s\n",
      "\t Train Loss: 0.669 | Train Acc: 62.67%\n",
      "\t Val. Loss: 1.508 |  Val. Acc: 40.53%\n",
      "\t Relaxed Train. Acc: 92.21% | Relaxed Val. Acc: 76.02%\n",
      "Run: enc_embed size: 512 dec_embed size: 64, enc_hid_size: 512, dec_hid_size: 256, num_layers: 3, cell_modelstm\n"
     ]
    },
    {
     "data": {
      "text/html": [
       "Waiting for W&B process to finish... <strong style=\"color:green\">(success).</strong>"
      ],
      "text/plain": [
       "<IPython.core.display.HTML object>"
      ]
     },
     "metadata": {},
     "output_type": "display_data"
    },
    {
     "data": {
      "text/html": [
       "<style>\n",
       "    table.wandb td:nth-child(1) { padding: 0 10px; text-align: left ; width: auto;} td:nth-child(2) {text-align: left ; width: 100%}\n",
       "    .wandb-row { display: flex; flex-direction: row; flex-wrap: wrap; justify-content: flex-start; width: 100% }\n",
       "    .wandb-col { display: flex; flex-direction: column; flex-basis: 100%; flex: 1; padding: 10px; }\n",
       "    </style>\n",
       "<div class=\"wandb-row\"><div class=\"wandb-col\"><h3>Run history:</h3><br/><table class=\"wandb\"><tr><td>epoch</td><td>▁▁▁▂▂▂▂▃▃▃▃▄▄▄▄▅▅▅▅▆▆▆▆▇▇▇▇███</td></tr><tr><td>relxd train acc</td><td>▁▅▆▆▆▆▇▇▇▇▇▇▇▇▇▇██████████████</td></tr><tr><td>relxd valid acc</td><td>▁▄▅▆▇▆▇▇█▇██▇██████████▇█▇███▇</td></tr><tr><td>train acc</td><td>▁▃▄▄▅▅▅▅▆▆▆▆▆▆▇▇▇▇▇▇▇▇▇███████</td></tr><tr><td>train loss</td><td>█▄▃▃▃▂▂▂▂▂▂▂▂▂▂▁▁▁▁▁▁▁▁▁▁▁▁▁▁▁</td></tr><tr><td>valid acc</td><td>▁▄▅▅▆▇▇▇█▇█▇▇█▇██▇██▇█▇▇█▇█▇▇▇</td></tr><tr><td>valid loss</td><td>█▃▂▂▁▂▁▂▁▂▁▂▂▂▂▃▃▃▄▄▅▅▆▆▆█▆▇▇█</td></tr></table><br/></div><div class=\"wandb-col\"><h3>Run summary:</h3><br/><table class=\"wandb\"><tr><td>epoch</td><td>29</td></tr><tr><td>relxd train acc</td><td>0.92214</td></tr><tr><td>relxd valid acc</td><td>0.76018</td></tr><tr><td>train acc</td><td>0.62668</td></tr><tr><td>train loss</td><td>0.6686</td></tr><tr><td>valid acc</td><td>0.40527</td></tr><tr><td>valid loss</td><td>1.50831</td></tr></table><br/></div></div>"
      ],
      "text/plain": [
       "<IPython.core.display.HTML object>"
      ]
     },
     "metadata": {},
     "output_type": "display_data"
    },
    {
     "data": {
      "text/html": [
       " View run <strong style=\"color:#cdcd00\">true-sweep-81</strong> at: <a href='https://wandb.ai/pragalbh/DL_Assign3/runs/8zrosdbb' target=\"_blank\">https://wandb.ai/pragalbh/DL_Assign3/runs/8zrosdbb</a><br/>Synced 3 W&B file(s), 0 media file(s), 0 artifact file(s) and 0 other file(s)"
      ],
      "text/plain": [
       "<IPython.core.display.HTML object>"
      ]
     },
     "metadata": {},
     "output_type": "display_data"
    },
    {
     "data": {
      "text/html": [
       "Find logs at: <code>./wandb/run-20230529_213319-8zrosdbb/logs</code>"
      ],
      "text/plain": [
       "<IPython.core.display.HTML object>"
      ]
     },
     "metadata": {},
     "output_type": "display_data"
    },
    {
     "name": "stderr",
     "output_type": "stream",
     "text": [
      "\u001b[34m\u001b[1mwandb\u001b[0m: Agent Starting Run: 5gjt3915 with config:\n",
      "\u001b[34m\u001b[1mwandb\u001b[0m: \tcell_mode: lstm\n",
      "\u001b[34m\u001b[1mwandb\u001b[0m: \tdec_embed_size: 128\n",
      "\u001b[34m\u001b[1mwandb\u001b[0m: \tdec_hid_size: 512\n",
      "\u001b[34m\u001b[1mwandb\u001b[0m: \tdropout: 0.25\n",
      "\u001b[34m\u001b[1mwandb\u001b[0m: \tenc_embed_size: 512\n",
      "\u001b[34m\u001b[1mwandb\u001b[0m: \tenc_hid_size: 256\n",
      "\u001b[34m\u001b[1mwandb\u001b[0m: \tepochs: 20\n",
      "\u001b[34m\u001b[1mwandb\u001b[0m: \tis_bi: False\n",
      "\u001b[34m\u001b[1mwandb\u001b[0m: \tnum_layers: 3\n"
     ]
    },
    {
     "data": {
      "text/html": [
       "Tracking run with wandb version 0.15.3"
      ],
      "text/plain": [
       "<IPython.core.display.HTML object>"
      ]
     },
     "metadata": {},
     "output_type": "display_data"
    },
    {
     "data": {
      "text/html": [
       "Run data is saved locally in <code>/home/pragalbh/DL_Assign3/wandb/run-20230529_220121-5gjt3915</code>"
      ],
      "text/plain": [
       "<IPython.core.display.HTML object>"
      ]
     },
     "metadata": {},
     "output_type": "display_data"
    },
    {
     "data": {
      "text/html": [
       "Resuming run <strong><a href='https://wandb.ai/pragalbh/DL_Assign3/runs/5gjt3915' target=\"_blank\">rural-sweep-82</a></strong> to <a href='https://wandb.ai/pragalbh/DL_Assign3' target=\"_blank\">Weights & Biases</a> (<a href='https://wandb.me/run' target=\"_blank\">docs</a>)<br/>Sweep page: <a href='https://wandb.ai/pragalbh/DL_Assign3/sweeps/mzhrnfy5' target=\"_blank\">https://wandb.ai/pragalbh/DL_Assign3/sweeps/mzhrnfy5</a>"
      ],
      "text/plain": [
       "<IPython.core.display.HTML object>"
      ]
     },
     "metadata": {},
     "output_type": "display_data"
    },
    {
     "data": {
      "text/html": [
       " View project at <a href='https://wandb.ai/pragalbh/DL_Assign3' target=\"_blank\">https://wandb.ai/pragalbh/DL_Assign3</a>"
      ],
      "text/plain": [
       "<IPython.core.display.HTML object>"
      ]
     },
     "metadata": {},
     "output_type": "display_data"
    },
    {
     "data": {
      "text/html": [
       " View sweep at <a href='https://wandb.ai/pragalbh/DL_Assign3/sweeps/mzhrnfy5' target=\"_blank\">https://wandb.ai/pragalbh/DL_Assign3/sweeps/mzhrnfy5</a>"
      ],
      "text/plain": [
       "<IPython.core.display.HTML object>"
      ]
     },
     "metadata": {},
     "output_type": "display_data"
    },
    {
     "data": {
      "text/html": [
       " View run at <a href='https://wandb.ai/pragalbh/DL_Assign3/runs/5gjt3915' target=\"_blank\">https://wandb.ai/pragalbh/DL_Assign3/runs/5gjt3915</a>"
      ],
      "text/plain": [
       "<IPython.core.display.HTML object>"
      ]
     },
     "metadata": {},
     "output_type": "display_data"
    },
    {
     "name": "stdout",
     "output_type": "stream",
     "text": [
      "The model has 4,265,028 trainable parameters\n",
      "Epoch: 01 | Time: 1.0m 1.49s\n",
      "\t Train Loss: 2.013 | Train Acc: 7.74%\n",
      "\t Val. Loss: 1.572 |  Val. Acc: 26.22%\n",
      "\t Relaxed Train. Acc: 52.76% | Relaxed Val. Acc: 68.11%\n",
      "Epoch: 02 | Time: 1.0m 1.46s\n",
      "\t Train Loss: 1.125 | Train Acc: 25.16%\n",
      "\t Val. Loss: 1.464 |  Val. Acc: 31.79%\n",
      "\t Relaxed Train. Acc: 77.51% | Relaxed Val. Acc: 71.72%\n",
      "Epoch: 03 | Time: 1.0m 1.42s\n",
      "\t Train Loss: 1.017 | Train Acc: 30.57%\n",
      "\t Val. Loss: 1.413 |  Val. Acc: 33.86%\n",
      "\t Relaxed Train. Acc: 80.79% | Relaxed Val. Acc: 72.47%\n",
      "Epoch: 04 | Time: 1.0m 1.45s\n",
      "\t Train Loss: 0.964 | Train Acc: 34.02%\n",
      "\t Val. Loss: 1.398 |  Val. Acc: 35.72%\n",
      "\t Relaxed Train. Acc: 82.55% | Relaxed Val. Acc: 73.91%\n",
      "Epoch: 05 | Time: 1.0m 1.32s\n",
      "\t Train Loss: 0.930 | Train Acc: 36.60%\n",
      "\t Val. Loss: 1.406 |  Val. Acc: 36.13%\n",
      "\t Relaxed Train. Acc: 83.62% | Relaxed Val. Acc: 74.15%\n",
      "Epoch: 06 | Time: 1.0m 1.30s\n",
      "\t Train Loss: 0.901 | Train Acc: 38.70%\n",
      "\t Val. Loss: 1.371 |  Val. Acc: 38.13%\n",
      "\t Relaxed Train. Acc: 84.52% | Relaxed Val. Acc: 75.57%\n",
      "Epoch: 07 | Time: 1.0m 1.34s\n",
      "\t Train Loss: 0.874 | Train Acc: 40.69%\n",
      "\t Val. Loss: 1.376 |  Val. Acc: 37.13%\n",
      "\t Relaxed Train. Acc: 85.38% | Relaxed Val. Acc: 75.18%\n",
      "Epoch: 08 | Time: 1.0m 1.23s\n",
      "\t Train Loss: 0.853 | Train Acc: 42.76%\n",
      "\t Val. Loss: 1.386 |  Val. Acc: 38.43%\n",
      "\t Relaxed Train. Acc: 86.10% | Relaxed Val. Acc: 75.36%\n",
      "Epoch: 09 | Time: 1.0m 1.22s\n",
      "\t Train Loss: 0.834 | Train Acc: 44.52%\n",
      "\t Val. Loss: 1.368 |  Val. Acc: 40.48%\n",
      "\t Relaxed Train. Acc: 86.72% | Relaxed Val. Acc: 76.52%\n",
      "Epoch: 10 | Time: 1.0m 1.26s\n",
      "\t Train Loss: 0.816 | Train Acc: 46.51%\n",
      "\t Val. Loss: 1.386 |  Val. Acc: 39.84%\n",
      "\t Relaxed Train. Acc: 87.32% | Relaxed Val. Acc: 76.27%\n",
      "Epoch: 11 | Time: 1.0m 1.19s\n",
      "\t Train Loss: 0.802 | Train Acc: 47.82%\n",
      "\t Val. Loss: 1.409 |  Val. Acc: 39.82%\n",
      "\t Relaxed Train. Acc: 87.76% | Relaxed Val. Acc: 76.21%\n",
      "Epoch: 12 | Time: 1.0m 1.19s\n",
      "\t Train Loss: 0.789 | Train Acc: 48.99%\n",
      "\t Val. Loss: 1.403 |  Val. Acc: 39.33%\n",
      "\t Relaxed Train. Acc: 88.18% | Relaxed Val. Acc: 76.18%\n",
      "Epoch: 13 | Time: 1.0m 1.25s\n",
      "\t Train Loss: 0.771 | Train Acc: 50.59%\n",
      "\t Val. Loss: 1.435 |  Val. Acc: 39.18%\n",
      "\t Relaxed Train. Acc: 88.82% | Relaxed Val. Acc: 75.84%\n",
      "Epoch: 14 | Time: 1.0m 1.15s\n",
      "\t Train Loss: 0.759 | Train Acc: 51.78%\n",
      "\t Val. Loss: 1.442 |  Val. Acc: 39.11%\n",
      "\t Relaxed Train. Acc: 89.14% | Relaxed Val. Acc: 76.14%\n",
      "Epoch: 15 | Time: 1.0m 1.13s\n",
      "\t Train Loss: 0.754 | Train Acc: 52.92%\n",
      "\t Val. Loss: 1.411 |  Val. Acc: 39.16%\n",
      "\t Relaxed Train. Acc: 89.37% | Relaxed Val. Acc: 76.53%\n",
      "Epoch: 16 | Time: 1.0m 1.19s\n",
      "\t Train Loss: 0.739 | Train Acc: 54.36%\n",
      "\t Val. Loss: 1.426 |  Val. Acc: 39.21%\n",
      "\t Relaxed Train. Acc: 89.83% | Relaxed Val. Acc: 76.23%\n",
      "Epoch: 17 | Time: 1.0m 1.13s\n",
      "\t Train Loss: 0.729 | Train Acc: 55.65%\n",
      "\t Val. Loss: 1.457 |  Val. Acc: 39.18%\n",
      "\t Relaxed Train. Acc: 90.23% | Relaxed Val. Acc: 75.95%\n",
      "Epoch: 18 | Time: 1.0m 1.11s\n",
      "\t Train Loss: 0.726 | Train Acc: 55.81%\n",
      "\t Val. Loss: 1.459 |  Val. Acc: 39.23%\n",
      "\t Relaxed Train. Acc: 90.24% | Relaxed Val. Acc: 76.09%\n",
      "Epoch: 19 | Time: 1.0m 1.12s\n",
      "\t Train Loss: 0.717 | Train Acc: 57.17%\n",
      "\t Val. Loss: 1.474 |  Val. Acc: 39.38%\n",
      "\t Relaxed Train. Acc: 90.60% | Relaxed Val. Acc: 76.17%\n",
      "Epoch: 20 | Time: 1.0m 1.08s\n",
      "\t Train Loss: 0.709 | Train Acc: 58.02%\n",
      "\t Val. Loss: 1.485 |  Val. Acc: 39.16%\n",
      "\t Relaxed Train. Acc: 90.83% | Relaxed Val. Acc: 76.21%\n",
      "Run: enc_embed size: 512 dec_embed size: 128, enc_hid_size: 256, dec_hid_size: 512, num_layers: 3, cell_modelstm\n"
     ]
    },
    {
     "data": {
      "text/html": [
       "Waiting for W&B process to finish... <strong style=\"color:green\">(success).</strong>"
      ],
      "text/plain": [
       "<IPython.core.display.HTML object>"
      ]
     },
     "metadata": {},
     "output_type": "display_data"
    },
    {
     "data": {
      "text/html": [
       "<style>\n",
       "    table.wandb td:nth-child(1) { padding: 0 10px; text-align: left ; width: auto;} td:nth-child(2) {text-align: left ; width: 100%}\n",
       "    .wandb-row { display: flex; flex-direction: row; flex-wrap: wrap; justify-content: flex-start; width: 100% }\n",
       "    .wandb-col { display: flex; flex-direction: column; flex-basis: 100%; flex: 1; padding: 10px; }\n",
       "    </style>\n",
       "<div class=\"wandb-row\"><div class=\"wandb-col\"><h3>Run history:</h3><br/><table class=\"wandb\"><tr><td>epoch</td><td>▁▁▂▂▂▃▃▄▄▄▅▅▅▆▆▇▇▇██</td></tr><tr><td>relxd train acc</td><td>▁▆▆▆▇▇▇▇▇▇▇█████████</td></tr><tr><td>relxd valid acc</td><td>▁▄▅▆▆▇▇▇████▇███████</td></tr><tr><td>train acc</td><td>▁▃▄▅▅▅▆▆▆▆▇▇▇▇▇▇████</td></tr><tr><td>train loss</td><td>█▃▃▂▂▂▂▂▂▂▂▁▁▁▁▁▁▁▁▁</td></tr><tr><td>valid acc</td><td>▁▄▅▆▆▇▆▇███▇▇▇▇▇▇▇▇▇</td></tr><tr><td>valid loss</td><td>█▄▃▂▂▁▁▂▁▂▂▂▃▄▂▃▄▄▅▅</td></tr></table><br/></div><div class=\"wandb-col\"><h3>Run summary:</h3><br/><table class=\"wandb\"><tr><td>epoch</td><td>19</td></tr><tr><td>relxd train acc</td><td>0.90831</td></tr><tr><td>relxd valid acc</td><td>0.76206</td></tr><tr><td>train acc</td><td>0.58018</td></tr><tr><td>train loss</td><td>0.70917</td></tr><tr><td>valid acc</td><td>0.3916</td></tr><tr><td>valid loss</td><td>1.48499</td></tr></table><br/></div></div>"
      ],
      "text/plain": [
       "<IPython.core.display.HTML object>"
      ]
     },
     "metadata": {},
     "output_type": "display_data"
    },
    {
     "data": {
      "text/html": [
       " View run <strong style=\"color:#cdcd00\">rural-sweep-82</strong> at: <a href='https://wandb.ai/pragalbh/DL_Assign3/runs/5gjt3915' target=\"_blank\">https://wandb.ai/pragalbh/DL_Assign3/runs/5gjt3915</a><br/>Synced 3 W&B file(s), 0 media file(s), 0 artifact file(s) and 0 other file(s)"
      ],
      "text/plain": [
       "<IPython.core.display.HTML object>"
      ]
     },
     "metadata": {},
     "output_type": "display_data"
    },
    {
     "data": {
      "text/html": [
       "Find logs at: <code>./wandb/run-20230529_220121-5gjt3915/logs</code>"
      ],
      "text/plain": [
       "<IPython.core.display.HTML object>"
      ]
     },
     "metadata": {},
     "output_type": "display_data"
    },
    {
     "name": "stderr",
     "output_type": "stream",
     "text": [
      "\u001b[34m\u001b[1mwandb\u001b[0m: Agent Starting Run: bc28yqir with config:\n",
      "\u001b[34m\u001b[1mwandb\u001b[0m: \tcell_mode: lstm\n",
      "\u001b[34m\u001b[1mwandb\u001b[0m: \tdec_embed_size: 16\n",
      "\u001b[34m\u001b[1mwandb\u001b[0m: \tdec_hid_size: 256\n",
      "\u001b[34m\u001b[1mwandb\u001b[0m: \tdropout: 0.25\n",
      "\u001b[34m\u001b[1mwandb\u001b[0m: \tenc_embed_size: 512\n",
      "\u001b[34m\u001b[1mwandb\u001b[0m: \tenc_hid_size: 512\n",
      "\u001b[34m\u001b[1mwandb\u001b[0m: \tepochs: 10\n",
      "\u001b[34m\u001b[1mwandb\u001b[0m: \tis_bi: True\n",
      "\u001b[34m\u001b[1mwandb\u001b[0m: \tnum_layers: 3\n"
     ]
    },
    {
     "data": {
      "text/html": [
       "Tracking run with wandb version 0.15.3"
      ],
      "text/plain": [
       "<IPython.core.display.HTML object>"
      ]
     },
     "metadata": {},
     "output_type": "display_data"
    },
    {
     "data": {
      "text/html": [
       "Run data is saved locally in <code>/home/pragalbh/DL_Assign3/wandb/run-20230529_222156-bc28yqir</code>"
      ],
      "text/plain": [
       "<IPython.core.display.HTML object>"
      ]
     },
     "metadata": {},
     "output_type": "display_data"
    },
    {
     "data": {
      "text/html": [
       "Resuming run <strong><a href='https://wandb.ai/pragalbh/DL_Assign3/runs/bc28yqir' target=\"_blank\">tough-sweep-83</a></strong> to <a href='https://wandb.ai/pragalbh/DL_Assign3' target=\"_blank\">Weights & Biases</a> (<a href='https://wandb.me/run' target=\"_blank\">docs</a>)<br/>Sweep page: <a href='https://wandb.ai/pragalbh/DL_Assign3/sweeps/mzhrnfy5' target=\"_blank\">https://wandb.ai/pragalbh/DL_Assign3/sweeps/mzhrnfy5</a>"
      ],
      "text/plain": [
       "<IPython.core.display.HTML object>"
      ]
     },
     "metadata": {},
     "output_type": "display_data"
    },
    {
     "data": {
      "text/html": [
       " View project at <a href='https://wandb.ai/pragalbh/DL_Assign3' target=\"_blank\">https://wandb.ai/pragalbh/DL_Assign3</a>"
      ],
      "text/plain": [
       "<IPython.core.display.HTML object>"
      ]
     },
     "metadata": {},
     "output_type": "display_data"
    },
    {
     "data": {
      "text/html": [
       " View sweep at <a href='https://wandb.ai/pragalbh/DL_Assign3/sweeps/mzhrnfy5' target=\"_blank\">https://wandb.ai/pragalbh/DL_Assign3/sweeps/mzhrnfy5</a>"
      ],
      "text/plain": [
       "<IPython.core.display.HTML object>"
      ]
     },
     "metadata": {},
     "output_type": "display_data"
    },
    {
     "data": {
      "text/html": [
       " View run at <a href='https://wandb.ai/pragalbh/DL_Assign3/runs/bc28yqir' target=\"_blank\">https://wandb.ai/pragalbh/DL_Assign3/runs/bc28yqir</a>"
      ],
      "text/plain": [
       "<IPython.core.display.HTML object>"
      ]
     },
     "metadata": {},
     "output_type": "display_data"
    },
    {
     "name": "stdout",
     "output_type": "stream",
     "text": [
      "The model has 18,755,460 trainable parameters\n",
      "Epoch: 01 | Time: 1.0m 22.55s\n",
      "\t Train Loss: 2.376 | Train Acc: 5.32%\n",
      "\t Val. Loss: 1.519 |  Val. Acc: 24.58%\n",
      "\t Relaxed Train. Acc: 42.63% | Relaxed Val. Acc: 68.38%\n",
      "Epoch: 02 | Time: 1.0m 23.02s\n",
      "\t Train Loss: 1.163 | Train Acc: 24.73%\n",
      "\t Val. Loss: 1.399 |  Val. Acc: 32.59%\n",
      "\t Relaxed Train. Acc: 76.11% | Relaxed Val. Acc: 72.33%\n",
      "Epoch: 03 | Time: 1.0m 22.43s\n",
      "\t Train Loss: 1.027 | Train Acc: 31.67%\n",
      "\t Val. Loss: 1.333 |  Val. Acc: 36.38%\n",
      "\t Relaxed Train. Acc: 80.52% | Relaxed Val. Acc: 74.28%\n",
      "Epoch: 04 | Time: 1.0m 22.55s\n",
      "\t Train Loss: 0.964 | Train Acc: 35.64%\n",
      "\t Val. Loss: 1.335 |  Val. Acc: 38.13%\n",
      "\t Relaxed Train. Acc: 82.58% | Relaxed Val. Acc: 75.12%\n",
      "Epoch: 05 | Time: 1.0m 22.49s\n",
      "\t Train Loss: 0.928 | Train Acc: 38.04%\n",
      "\t Val. Loss: 1.326 |  Val. Acc: 39.84%\n",
      "\t Relaxed Train. Acc: 83.72% | Relaxed Val. Acc: 75.70%\n",
      "Epoch: 06 | Time: 1.0m 22.82s\n",
      "\t Train Loss: 0.893 | Train Acc: 40.50%\n",
      "\t Val. Loss: 1.345 |  Val. Acc: 39.55%\n",
      "\t Relaxed Train. Acc: 84.91% | Relaxed Val. Acc: 75.44%\n",
      "Epoch: 07 | Time: 1.0m 22.42s\n",
      "\t Train Loss: 0.864 | Train Acc: 42.74%\n",
      "\t Val. Loss: 1.321 |  Val. Acc: 41.24%\n",
      "\t Relaxed Train. Acc: 85.83% | Relaxed Val. Acc: 76.25%\n",
      "Epoch: 08 | Time: 1.0m 22.38s\n",
      "\t Train Loss: 0.843 | Train Acc: 44.62%\n",
      "\t Val. Loss: 1.358 |  Val. Acc: 41.87%\n",
      "\t Relaxed Train. Acc: 86.54% | Relaxed Val. Acc: 76.56%\n",
      "Epoch: 09 | Time: 1.0m 22.75s\n",
      "\t Train Loss: 0.828 | Train Acc: 46.12%\n",
      "\t Val. Loss: 1.336 |  Val. Acc: 42.33%\n",
      "\t Relaxed Train. Acc: 87.08% | Relaxed Val. Acc: 77.32%\n",
      "Epoch: 10 | Time: 1.0m 22.16s\n",
      "\t Train Loss: 0.810 | Train Acc: 47.89%\n",
      "\t Val. Loss: 1.338 |  Val. Acc: 43.43%\n",
      "\t Relaxed Train. Acc: 87.67% | Relaxed Val. Acc: 77.39%\n",
      "Run: enc_embed size: 512 dec_embed size: 16, enc_hid_size: 512, dec_hid_size: 256, num_layers: 3, cell_modelstm\n"
     ]
    },
    {
     "data": {
      "text/html": [
       "Waiting for W&B process to finish... <strong style=\"color:green\">(success).</strong>"
      ],
      "text/plain": [
       "<IPython.core.display.HTML object>"
      ]
     },
     "metadata": {},
     "output_type": "display_data"
    },
    {
     "data": {
      "text/html": [
       "<style>\n",
       "    table.wandb td:nth-child(1) { padding: 0 10px; text-align: left ; width: auto;} td:nth-child(2) {text-align: left ; width: 100%}\n",
       "    .wandb-row { display: flex; flex-direction: row; flex-wrap: wrap; justify-content: flex-start; width: 100% }\n",
       "    .wandb-col { display: flex; flex-direction: column; flex-basis: 100%; flex: 1; padding: 10px; }\n",
       "    </style>\n",
       "<div class=\"wandb-row\"><div class=\"wandb-col\"><h3>Run history:</h3><br/><table class=\"wandb\"><tr><td>epoch</td><td>▁▂▃▃▄▅▆▆▇█</td></tr><tr><td>relxd train acc</td><td>▁▆▇▇▇█████</td></tr><tr><td>relxd valid acc</td><td>▁▄▆▆▇▆▇▇██</td></tr><tr><td>train acc</td><td>▁▄▅▆▆▇▇▇██</td></tr><tr><td>train loss</td><td>█▃▂▂▂▁▁▁▁▁</td></tr><tr><td>valid acc</td><td>▁▄▅▆▇▇▇▇██</td></tr><tr><td>valid loss</td><td>█▄▁▁▁▂▁▂▂▂</td></tr></table><br/></div><div class=\"wandb-col\"><h3>Run summary:</h3><br/><table class=\"wandb\"><tr><td>epoch</td><td>9</td></tr><tr><td>relxd train acc</td><td>0.87668</td></tr><tr><td>relxd valid acc</td><td>0.77387</td></tr><tr><td>train acc</td><td>0.47893</td></tr><tr><td>train loss</td><td>0.81022</td></tr><tr><td>valid acc</td><td>0.43433</td></tr><tr><td>valid loss</td><td>1.33823</td></tr></table><br/></div></div>"
      ],
      "text/plain": [
       "<IPython.core.display.HTML object>"
      ]
     },
     "metadata": {},
     "output_type": "display_data"
    },
    {
     "data": {
      "text/html": [
       " View run <strong style=\"color:#cdcd00\">tough-sweep-83</strong> at: <a href='https://wandb.ai/pragalbh/DL_Assign3/runs/bc28yqir' target=\"_blank\">https://wandb.ai/pragalbh/DL_Assign3/runs/bc28yqir</a><br/>Synced 3 W&B file(s), 0 media file(s), 0 artifact file(s) and 0 other file(s)"
      ],
      "text/plain": [
       "<IPython.core.display.HTML object>"
      ]
     },
     "metadata": {},
     "output_type": "display_data"
    },
    {
     "data": {
      "text/html": [
       "Find logs at: <code>./wandb/run-20230529_222156-bc28yqir/logs</code>"
      ],
      "text/plain": [
       "<IPython.core.display.HTML object>"
      ]
     },
     "metadata": {},
     "output_type": "display_data"
    },
    {
     "name": "stderr",
     "output_type": "stream",
     "text": [
      "\u001b[34m\u001b[1mwandb\u001b[0m: Sweep Agent: Waiting for job.\n",
      "\u001b[34m\u001b[1mwandb\u001b[0m: Job received.\n",
      "\u001b[34m\u001b[1mwandb\u001b[0m: Agent Starting Run: n5j2csre with config:\n",
      "\u001b[34m\u001b[1mwandb\u001b[0m: \tcell_mode: lstm\n",
      "\u001b[34m\u001b[1mwandb\u001b[0m: \tdec_embed_size: 16\n",
      "\u001b[34m\u001b[1mwandb\u001b[0m: \tdec_hid_size: 256\n",
      "\u001b[34m\u001b[1mwandb\u001b[0m: \tdropout: 0.25\n",
      "\u001b[34m\u001b[1mwandb\u001b[0m: \tenc_embed_size: 512\n",
      "\u001b[34m\u001b[1mwandb\u001b[0m: \tenc_hid_size: 256\n",
      "\u001b[34m\u001b[1mwandb\u001b[0m: \tepochs: 20\n",
      "\u001b[34m\u001b[1mwandb\u001b[0m: \tis_bi: True\n",
      "\u001b[34m\u001b[1mwandb\u001b[0m: \tnum_layers: 3\n"
     ]
    },
    {
     "data": {
      "text/html": [
       "Tracking run with wandb version 0.15.3"
      ],
      "text/plain": [
       "<IPython.core.display.HTML object>"
      ]
     },
     "metadata": {},
     "output_type": "display_data"
    },
    {
     "data": {
      "text/html": [
       "Run data is saved locally in <code>/home/pragalbh/DL_Assign3/wandb/run-20230529_223603-n5j2csre</code>"
      ],
      "text/plain": [
       "<IPython.core.display.HTML object>"
      ]
     },
     "metadata": {},
     "output_type": "display_data"
    },
    {
     "data": {
      "text/html": [
       "Resuming run <strong><a href='https://wandb.ai/pragalbh/DL_Assign3/runs/n5j2csre' target=\"_blank\">jolly-sweep-84</a></strong> to <a href='https://wandb.ai/pragalbh/DL_Assign3' target=\"_blank\">Weights & Biases</a> (<a href='https://wandb.me/run' target=\"_blank\">docs</a>)<br/>Sweep page: <a href='https://wandb.ai/pragalbh/DL_Assign3/sweeps/mzhrnfy5' target=\"_blank\">https://wandb.ai/pragalbh/DL_Assign3/sweeps/mzhrnfy5</a>"
      ],
      "text/plain": [
       "<IPython.core.display.HTML object>"
      ]
     },
     "metadata": {},
     "output_type": "display_data"
    },
    {
     "data": {
      "text/html": [
       " View project at <a href='https://wandb.ai/pragalbh/DL_Assign3' target=\"_blank\">https://wandb.ai/pragalbh/DL_Assign3</a>"
      ],
      "text/plain": [
       "<IPython.core.display.HTML object>"
      ]
     },
     "metadata": {},
     "output_type": "display_data"
    },
    {
     "data": {
      "text/html": [
       " View sweep at <a href='https://wandb.ai/pragalbh/DL_Assign3/sweeps/mzhrnfy5' target=\"_blank\">https://wandb.ai/pragalbh/DL_Assign3/sweeps/mzhrnfy5</a>"
      ],
      "text/plain": [
       "<IPython.core.display.HTML object>"
      ]
     },
     "metadata": {},
     "output_type": "display_data"
    },
    {
     "data": {
      "text/html": [
       " View run at <a href='https://wandb.ai/pragalbh/DL_Assign3/runs/n5j2csre' target=\"_blank\">https://wandb.ai/pragalbh/DL_Assign3/runs/n5j2csre</a>"
      ],
      "text/plain": [
       "<IPython.core.display.HTML object>"
      ]
     },
     "metadata": {},
     "output_type": "display_data"
    },
    {
     "name": "stdout",
     "output_type": "stream",
     "text": [
      "The model has 5,898,116 trainable parameters\n",
      "Epoch: 01 | Time: 0.0m 55.57s\n",
      "\t Train Loss: 2.327 | Train Acc: 5.28%\n",
      "\t Val. Loss: 1.539 |  Val. Acc: 24.61%\n",
      "\t Relaxed Train. Acc: 44.06% | Relaxed Val. Acc: 68.69%\n",
      "Epoch: 02 | Time: 0.0m 55.32s\n",
      "\t Train Loss: 1.180 | Train Acc: 23.72%\n",
      "\t Val. Loss: 1.414 |  Val. Acc: 32.10%\n",
      "\t Relaxed Train. Acc: 75.74% | Relaxed Val. Acc: 71.68%\n",
      "Epoch: 03 | Time: 0.0m 55.23s\n",
      "\t Train Loss: 1.040 | Train Acc: 30.41%\n",
      "\t Val. Loss: 1.364 |  Val. Acc: 36.77%\n",
      "\t Relaxed Train. Acc: 80.05% | Relaxed Val. Acc: 74.03%\n",
      "Epoch: 04 | Time: 0.0m 55.23s\n",
      "\t Train Loss: 0.974 | Train Acc: 34.72%\n",
      "\t Val. Loss: 1.357 |  Val. Acc: 38.82%\n",
      "\t Relaxed Train. Acc: 82.22% | Relaxed Val. Acc: 74.88%\n",
      "Epoch: 05 | Time: 0.0m 55.23s\n",
      "\t Train Loss: 0.932 | Train Acc: 37.83%\n",
      "\t Val. Loss: 1.340 |  Val. Acc: 39.97%\n",
      "\t Relaxed Train. Acc: 83.62% | Relaxed Val. Acc: 75.89%\n",
      "Epoch: 06 | Time: 0.0m 55.36s\n",
      "\t Train Loss: 0.898 | Train Acc: 40.21%\n",
      "\t Val. Loss: 1.348 |  Val. Acc: 40.38%\n",
      "\t Relaxed Train. Acc: 84.71% | Relaxed Val. Acc: 75.67%\n",
      "Epoch: 07 | Time: 0.0m 55.18s\n",
      "\t Train Loss: 0.868 | Train Acc: 42.37%\n",
      "\t Val. Loss: 1.331 |  Val. Acc: 41.46%\n",
      "\t Relaxed Train. Acc: 85.70% | Relaxed Val. Acc: 76.53%\n",
      "Epoch: 08 | Time: 0.0m 55.10s\n",
      "\t Train Loss: 0.848 | Train Acc: 43.99%\n",
      "\t Val. Loss: 1.384 |  Val. Acc: 41.21%\n",
      "\t Relaxed Train. Acc: 86.38% | Relaxed Val. Acc: 76.13%\n",
      "Epoch: 09 | Time: 0.0m 55.16s\n",
      "\t Train Loss: 0.830 | Train Acc: 45.67%\n",
      "\t Val. Loss: 1.315 |  Val. Acc: 42.02%\n",
      "\t Relaxed Train. Acc: 86.89% | Relaxed Val. Acc: 77.20%\n",
      "Epoch: 10 | Time: 0.0m 55.26s\n",
      "\t Train Loss: 0.813 | Train Acc: 47.56%\n",
      "\t Val. Loss: 1.354 |  Val. Acc: 42.33%\n",
      "\t Relaxed Train. Acc: 87.57% | Relaxed Val. Acc: 76.31%\n",
      "Epoch: 11 | Time: 0.0m 55.09s\n",
      "\t Train Loss: 0.797 | Train Acc: 49.04%\n",
      "\t Val. Loss: 1.350 |  Val. Acc: 42.48%\n",
      "\t Relaxed Train. Acc: 88.04% | Relaxed Val. Acc: 77.27%\n",
      "Epoch: 12 | Time: 0.0m 55.21s\n",
      "\t Train Loss: 0.782 | Train Acc: 50.50%\n",
      "\t Val. Loss: 1.342 |  Val. Acc: 42.58%\n",
      "\t Relaxed Train. Acc: 88.53% | Relaxed Val. Acc: 77.59%\n",
      "Epoch: 13 | Time: 0.0m 55.11s\n",
      "\t Train Loss: 0.768 | Train Acc: 51.75%\n",
      "\t Val. Loss: 1.369 |  Val. Acc: 42.46%\n",
      "\t Relaxed Train. Acc: 89.02% | Relaxed Val. Acc: 77.69%\n",
      "Epoch: 14 | Time: 0.0m 55.03s\n",
      "\t Train Loss: 0.754 | Train Acc: 52.92%\n",
      "\t Val. Loss: 1.371 |  Val. Acc: 43.82%\n",
      "\t Relaxed Train. Acc: 89.42% | Relaxed Val. Acc: 77.55%\n",
      "Epoch: 15 | Time: 0.0m 55.08s\n",
      "\t Train Loss: 0.746 | Train Acc: 54.21%\n",
      "\t Val. Loss: 1.349 |  Val. Acc: 43.36%\n",
      "\t Relaxed Train. Acc: 89.70% | Relaxed Val. Acc: 77.67%\n",
      "Epoch: 16 | Time: 0.0m 55.04s\n",
      "\t Train Loss: 0.735 | Train Acc: 55.06%\n",
      "\t Val. Loss: 1.399 |  Val. Acc: 41.38%\n",
      "\t Relaxed Train. Acc: 90.04% | Relaxed Val. Acc: 77.06%\n",
      "Epoch: 17 | Time: 0.0m 55.05s\n",
      "\t Train Loss: 0.725 | Train Acc: 56.33%\n",
      "\t Val. Loss: 1.398 |  Val. Acc: 43.09%\n",
      "\t Relaxed Train. Acc: 90.39% | Relaxed Val. Acc: 77.52%\n",
      "Epoch: 18 | Time: 0.0m 54.95s\n",
      "\t Train Loss: 0.720 | Train Acc: 57.01%\n",
      "\t Val. Loss: 1.395 |  Val. Acc: 42.29%\n",
      "\t Relaxed Train. Acc: 90.57% | Relaxed Val. Acc: 77.74%\n",
      "Epoch: 19 | Time: 0.0m 54.99s\n",
      "\t Train Loss: 0.711 | Train Acc: 58.13%\n",
      "\t Val. Loss: 1.404 |  Val. Acc: 43.26%\n",
      "\t Relaxed Train. Acc: 90.90% | Relaxed Val. Acc: 77.71%\n",
      "Epoch: 20 | Time: 0.0m 54.85s\n",
      "\t Train Loss: 0.704 | Train Acc: 58.88%\n",
      "\t Val. Loss: 1.425 |  Val. Acc: 41.94%\n",
      "\t Relaxed Train. Acc: 91.12% | Relaxed Val. Acc: 76.78%\n",
      "Run: enc_embed size: 512 dec_embed size: 16, enc_hid_size: 256, dec_hid_size: 256, num_layers: 3, cell_modelstm\n"
     ]
    },
    {
     "data": {
      "text/html": [
       "Waiting for W&B process to finish... <strong style=\"color:green\">(success).</strong>"
      ],
      "text/plain": [
       "<IPython.core.display.HTML object>"
      ]
     },
     "metadata": {},
     "output_type": "display_data"
    },
    {
     "data": {
      "text/html": [
       "<style>\n",
       "    table.wandb td:nth-child(1) { padding: 0 10px; text-align: left ; width: auto;} td:nth-child(2) {text-align: left ; width: 100%}\n",
       "    .wandb-row { display: flex; flex-direction: row; flex-wrap: wrap; justify-content: flex-start; width: 100% }\n",
       "    .wandb-col { display: flex; flex-direction: column; flex-basis: 100%; flex: 1; padding: 10px; }\n",
       "    </style>\n",
       "<div class=\"wandb-row\"><div class=\"wandb-col\"><h3>Run history:</h3><br/><table class=\"wandb\"><tr><td>epoch</td><td>▁▁▂▂▂▃▃▄▄▄▅▅▅▆▆▇▇▇██</td></tr><tr><td>relxd train acc</td><td>▁▆▆▇▇▇▇▇▇▇██████████</td></tr><tr><td>relxd valid acc</td><td>▁▃▅▆▇▆▇▇█▇█████▇███▇</td></tr><tr><td>train acc</td><td>▁▃▄▅▅▆▆▆▆▇▇▇▇▇▇█████</td></tr><tr><td>train loss</td><td>█▃▂▂▂▂▂▂▂▁▁▁▁▁▁▁▁▁▁▁</td></tr><tr><td>valid acc</td><td>▁▄▅▆▇▇▇▇▇▇█████▇█▇█▇</td></tr><tr><td>valid loss</td><td>█▄▃▂▂▂▂▃▁▂▂▂▃▃▂▄▄▄▄▄</td></tr></table><br/></div><div class=\"wandb-col\"><h3>Run summary:</h3><br/><table class=\"wandb\"><tr><td>epoch</td><td>19</td></tr><tr><td>relxd train acc</td><td>0.91115</td></tr><tr><td>relxd valid acc</td><td>0.76782</td></tr><tr><td>train acc</td><td>0.58883</td></tr><tr><td>train loss</td><td>0.70387</td></tr><tr><td>valid acc</td><td>0.41943</td></tr><tr><td>valid loss</td><td>1.42534</td></tr></table><br/></div></div>"
      ],
      "text/plain": [
       "<IPython.core.display.HTML object>"
      ]
     },
     "metadata": {},
     "output_type": "display_data"
    },
    {
     "data": {
      "text/html": [
       " View run <strong style=\"color:#cdcd00\">jolly-sweep-84</strong> at: <a href='https://wandb.ai/pragalbh/DL_Assign3/runs/n5j2csre' target=\"_blank\">https://wandb.ai/pragalbh/DL_Assign3/runs/n5j2csre</a><br/>Synced 3 W&B file(s), 0 media file(s), 0 artifact file(s) and 0 other file(s)"
      ],
      "text/plain": [
       "<IPython.core.display.HTML object>"
      ]
     },
     "metadata": {},
     "output_type": "display_data"
    },
    {
     "data": {
      "text/html": [
       "Find logs at: <code>./wandb/run-20230529_223603-n5j2csre/logs</code>"
      ],
      "text/plain": [
       "<IPython.core.display.HTML object>"
      ]
     },
     "metadata": {},
     "output_type": "display_data"
    },
    {
     "name": "stderr",
     "output_type": "stream",
     "text": [
      "\u001b[34m\u001b[1mwandb\u001b[0m: Agent Starting Run: y0xspyza with config:\n",
      "\u001b[34m\u001b[1mwandb\u001b[0m: \tcell_mode: lstm\n",
      "\u001b[34m\u001b[1mwandb\u001b[0m: \tdec_embed_size: 16\n",
      "\u001b[34m\u001b[1mwandb\u001b[0m: \tdec_hid_size: 512\n",
      "\u001b[34m\u001b[1mwandb\u001b[0m: \tdropout: 0.25\n",
      "\u001b[34m\u001b[1mwandb\u001b[0m: \tenc_embed_size: 512\n",
      "\u001b[34m\u001b[1mwandb\u001b[0m: \tenc_hid_size: 128\n",
      "\u001b[34m\u001b[1mwandb\u001b[0m: \tepochs: 10\n",
      "\u001b[34m\u001b[1mwandb\u001b[0m: \tis_bi: True\n",
      "\u001b[34m\u001b[1mwandb\u001b[0m: \tnum_layers: 2\n"
     ]
    },
    {
     "data": {
      "text/html": [
       "Tracking run with wandb version 0.15.3"
      ],
      "text/plain": [
       "<IPython.core.display.HTML object>"
      ]
     },
     "metadata": {},
     "output_type": "display_data"
    },
    {
     "data": {
      "text/html": [
       "Run data is saved locally in <code>/home/pragalbh/DL_Assign3/wandb/run-20230529_225437-y0xspyza</code>"
      ],
      "text/plain": [
       "<IPython.core.display.HTML object>"
      ]
     },
     "metadata": {},
     "output_type": "display_data"
    },
    {
     "data": {
      "text/html": [
       "Resuming run <strong><a href='https://wandb.ai/pragalbh/DL_Assign3/runs/y0xspyza' target=\"_blank\">cosmic-sweep-85</a></strong> to <a href='https://wandb.ai/pragalbh/DL_Assign3' target=\"_blank\">Weights & Biases</a> (<a href='https://wandb.me/run' target=\"_blank\">docs</a>)<br/>Sweep page: <a href='https://wandb.ai/pragalbh/DL_Assign3/sweeps/mzhrnfy5' target=\"_blank\">https://wandb.ai/pragalbh/DL_Assign3/sweeps/mzhrnfy5</a>"
      ],
      "text/plain": [
       "<IPython.core.display.HTML object>"
      ]
     },
     "metadata": {},
     "output_type": "display_data"
    },
    {
     "data": {
      "text/html": [
       " View project at <a href='https://wandb.ai/pragalbh/DL_Assign3' target=\"_blank\">https://wandb.ai/pragalbh/DL_Assign3</a>"
      ],
      "text/plain": [
       "<IPython.core.display.HTML object>"
      ]
     },
     "metadata": {},
     "output_type": "display_data"
    },
    {
     "data": {
      "text/html": [
       " View sweep at <a href='https://wandb.ai/pragalbh/DL_Assign3/sweeps/mzhrnfy5' target=\"_blank\">https://wandb.ai/pragalbh/DL_Assign3/sweeps/mzhrnfy5</a>"
      ],
      "text/plain": [
       "<IPython.core.display.HTML object>"
      ]
     },
     "metadata": {},
     "output_type": "display_data"
    },
    {
     "data": {
      "text/html": [
       " View run at <a href='https://wandb.ai/pragalbh/DL_Assign3/runs/y0xspyza' target=\"_blank\">https://wandb.ai/pragalbh/DL_Assign3/runs/y0xspyza</a>"
      ],
      "text/plain": [
       "<IPython.core.display.HTML object>"
      ]
     },
     "metadata": {},
     "output_type": "display_data"
    },
    {
     "name": "stdout",
     "output_type": "stream",
     "text": [
      "The model has 3,239,556 trainable parameters\n",
      "Epoch: 01 | Time: 0.0m 56.90s\n",
      "\t Train Loss: 1.427 | Train Acc: 16.61%\n",
      "\t Val. Loss: 1.425 |  Val. Acc: 32.71%\n",
      "\t Relaxed Train. Acc: 68.27% | Relaxed Val. Acc: 71.73%\n",
      "Epoch: 02 | Time: 0.0m 56.98s\n",
      "\t Train Loss: 1.058 | Train Acc: 29.32%\n",
      "\t Val. Loss: 1.358 |  Val. Acc: 36.11%\n",
      "\t Relaxed Train. Acc: 79.40% | Relaxed Val. Acc: 75.11%\n",
      "Epoch: 03 | Time: 0.0m 56.86s\n",
      "\t Train Loss: 0.968 | Train Acc: 34.85%\n",
      "\t Val. Loss: 1.370 |  Val. Acc: 36.84%\n",
      "\t Relaxed Train. Acc: 82.36% | Relaxed Val. Acc: 74.41%\n",
      "Epoch: 04 | Time: 0.0m 56.87s\n",
      "\t Train Loss: 0.919 | Train Acc: 38.55%\n",
      "\t Val. Loss: 1.331 |  Val. Acc: 39.26%\n",
      "\t Relaxed Train. Acc: 84.04% | Relaxed Val. Acc: 75.96%\n",
      "Epoch: 05 | Time: 0.0m 56.81s\n",
      "\t Train Loss: 0.885 | Train Acc: 41.35%\n",
      "\t Val. Loss: 1.348 |  Val. Acc: 40.45%\n",
      "\t Relaxed Train. Acc: 85.18% | Relaxed Val. Acc: 76.15%\n",
      "Epoch: 06 | Time: 0.0m 56.81s\n",
      "\t Train Loss: 0.854 | Train Acc: 43.90%\n",
      "\t Val. Loss: 1.332 |  Val. Acc: 41.09%\n",
      "\t Relaxed Train. Acc: 86.17% | Relaxed Val. Acc: 76.66%\n",
      "Epoch: 07 | Time: 0.0m 56.77s\n",
      "\t Train Loss: 0.823 | Train Acc: 46.19%\n",
      "\t Val. Loss: 1.356 |  Val. Acc: 40.72%\n",
      "\t Relaxed Train. Acc: 87.20% | Relaxed Val. Acc: 76.93%\n",
      "Epoch: 08 | Time: 0.0m 56.68s\n",
      "\t Train Loss: 0.804 | Train Acc: 48.29%\n",
      "\t Val. Loss: 1.365 |  Val. Acc: 42.14%\n",
      "\t Relaxed Train. Acc: 87.80% | Relaxed Val. Acc: 76.95%\n",
      "Epoch: 09 | Time: 0.0m 56.75s\n",
      "\t Train Loss: 0.790 | Train Acc: 49.81%\n",
      "\t Val. Loss: 1.344 |  Val. Acc: 42.02%\n",
      "\t Relaxed Train. Acc: 88.23% | Relaxed Val. Acc: 77.19%\n",
      "Epoch: 10 | Time: 0.0m 56.62s\n",
      "\t Train Loss: 0.768 | Train Acc: 52.31%\n",
      "\t Val. Loss: 1.380 |  Val. Acc: 40.82%\n",
      "\t Relaxed Train. Acc: 89.07% | Relaxed Val. Acc: 76.87%\n",
      "Run: enc_embed size: 512 dec_embed size: 16, enc_hid_size: 128, dec_hid_size: 512, num_layers: 2, cell_modelstm\n"
     ]
    },
    {
     "data": {
      "text/html": [
       "Waiting for W&B process to finish... <strong style=\"color:green\">(success).</strong>"
      ],
      "text/plain": [
       "<IPython.core.display.HTML object>"
      ]
     },
     "metadata": {},
     "output_type": "display_data"
    },
    {
     "data": {
      "text/html": [
       "<style>\n",
       "    table.wandb td:nth-child(1) { padding: 0 10px; text-align: left ; width: auto;} td:nth-child(2) {text-align: left ; width: 100%}\n",
       "    .wandb-row { display: flex; flex-direction: row; flex-wrap: wrap; justify-content: flex-start; width: 100% }\n",
       "    .wandb-col { display: flex; flex-direction: column; flex-basis: 100%; flex: 1; padding: 10px; }\n",
       "    </style>\n",
       "<div class=\"wandb-row\"><div class=\"wandb-col\"><h3>Run history:</h3><br/><table class=\"wandb\"><tr><td>epoch</td><td>▁▂▃▃▄▅▆▆▇█</td></tr><tr><td>relxd train acc</td><td>▁▅▆▆▇▇▇███</td></tr><tr><td>relxd valid acc</td><td>▁▅▄▆▇▇████</td></tr><tr><td>train acc</td><td>▁▃▅▅▆▆▇▇██</td></tr><tr><td>train loss</td><td>█▄▃▃▂▂▂▁▁▁</td></tr><tr><td>valid acc</td><td>▁▄▄▆▇▇▇██▇</td></tr><tr><td>valid loss</td><td>█▃▄▁▂▁▃▄▂▅</td></tr></table><br/></div><div class=\"wandb-col\"><h3>Run summary:</h3><br/><table class=\"wandb\"><tr><td>epoch</td><td>9</td></tr><tr><td>relxd train acc</td><td>0.89074</td></tr><tr><td>relxd valid acc</td><td>0.76866</td></tr><tr><td>train acc</td><td>0.52307</td></tr><tr><td>train loss</td><td>0.76813</td></tr><tr><td>valid acc</td><td>0.4082</td></tr><tr><td>valid loss</td><td>1.38009</td></tr></table><br/></div></div>"
      ],
      "text/plain": [
       "<IPython.core.display.HTML object>"
      ]
     },
     "metadata": {},
     "output_type": "display_data"
    },
    {
     "data": {
      "text/html": [
       " View run <strong style=\"color:#cdcd00\">cosmic-sweep-85</strong> at: <a href='https://wandb.ai/pragalbh/DL_Assign3/runs/y0xspyza' target=\"_blank\">https://wandb.ai/pragalbh/DL_Assign3/runs/y0xspyza</a><br/>Synced 3 W&B file(s), 0 media file(s), 0 artifact file(s) and 0 other file(s)"
      ],
      "text/plain": [
       "<IPython.core.display.HTML object>"
      ]
     },
     "metadata": {},
     "output_type": "display_data"
    },
    {
     "data": {
      "text/html": [
       "Find logs at: <code>./wandb/run-20230529_225437-y0xspyza/logs</code>"
      ],
      "text/plain": [
       "<IPython.core.display.HTML object>"
      ]
     },
     "metadata": {},
     "output_type": "display_data"
    },
    {
     "name": "stderr",
     "output_type": "stream",
     "text": [
      "\u001b[34m\u001b[1mwandb\u001b[0m: Agent Starting Run: tq548sh9 with config:\n",
      "\u001b[34m\u001b[1mwandb\u001b[0m: \tcell_mode: lstm\n",
      "\u001b[34m\u001b[1mwandb\u001b[0m: \tdec_embed_size: 16\n",
      "\u001b[34m\u001b[1mwandb\u001b[0m: \tdec_hid_size: 256\n",
      "\u001b[34m\u001b[1mwandb\u001b[0m: \tdropout: 0.3\n",
      "\u001b[34m\u001b[1mwandb\u001b[0m: \tenc_embed_size: 256\n",
      "\u001b[34m\u001b[1mwandb\u001b[0m: \tenc_hid_size: 512\n",
      "\u001b[34m\u001b[1mwandb\u001b[0m: \tepochs: 10\n",
      "\u001b[34m\u001b[1mwandb\u001b[0m: \tis_bi: True\n",
      "\u001b[34m\u001b[1mwandb\u001b[0m: \tnum_layers: 1\n"
     ]
    },
    {
     "data": {
      "text/html": [
       "Tracking run with wandb version 0.15.3"
      ],
      "text/plain": [
       "<IPython.core.display.HTML object>"
      ]
     },
     "metadata": {},
     "output_type": "display_data"
    },
    {
     "data": {
      "text/html": [
       "Run data is saved locally in <code>/home/pragalbh/DL_Assign3/wandb/run-20230529_230417-tq548sh9</code>"
      ],
      "text/plain": [
       "<IPython.core.display.HTML object>"
      ]
     },
     "metadata": {},
     "output_type": "display_data"
    },
    {
     "data": {
      "text/html": [
       "Resuming run <strong><a href='https://wandb.ai/pragalbh/DL_Assign3/runs/tq548sh9' target=\"_blank\">whole-sweep-86</a></strong> to <a href='https://wandb.ai/pragalbh/DL_Assign3' target=\"_blank\">Weights & Biases</a> (<a href='https://wandb.me/run' target=\"_blank\">docs</a>)<br/>Sweep page: <a href='https://wandb.ai/pragalbh/DL_Assign3/sweeps/mzhrnfy5' target=\"_blank\">https://wandb.ai/pragalbh/DL_Assign3/sweeps/mzhrnfy5</a>"
      ],
      "text/plain": [
       "<IPython.core.display.HTML object>"
      ]
     },
     "metadata": {},
     "output_type": "display_data"
    },
    {
     "data": {
      "text/html": [
       " View project at <a href='https://wandb.ai/pragalbh/DL_Assign3' target=\"_blank\">https://wandb.ai/pragalbh/DL_Assign3</a>"
      ],
      "text/plain": [
       "<IPython.core.display.HTML object>"
      ]
     },
     "metadata": {},
     "output_type": "display_data"
    },
    {
     "data": {
      "text/html": [
       " View sweep at <a href='https://wandb.ai/pragalbh/DL_Assign3/sweeps/mzhrnfy5' target=\"_blank\">https://wandb.ai/pragalbh/DL_Assign3/sweeps/mzhrnfy5</a>"
      ],
      "text/plain": [
       "<IPython.core.display.HTML object>"
      ]
     },
     "metadata": {},
     "output_type": "display_data"
    },
    {
     "data": {
      "text/html": [
       " View run at <a href='https://wandb.ai/pragalbh/DL_Assign3/runs/tq548sh9' target=\"_blank\">https://wandb.ai/pragalbh/DL_Assign3/runs/tq548sh9</a>"
      ],
      "text/plain": [
       "<IPython.core.display.HTML object>"
      ]
     },
     "metadata": {},
     "output_type": "display_data"
    },
    {
     "name": "stdout",
     "output_type": "stream",
     "text": [
      "The model has 5,099,908 trainable parameters\n",
      "Epoch: 01 | Time: 0.0m 58.47s\n",
      "\t Train Loss: 1.410 | Train Acc: 17.74%\n",
      "\t Val. Loss: 1.415 |  Val. Acc: 31.45%\n",
      "\t Relaxed Train. Acc: 68.54% | Relaxed Val. Acc: 71.57%\n",
      "Epoch: 02 | Time: 0.0m 58.49s\n",
      "\t Train Loss: 1.061 | Train Acc: 29.70%\n",
      "\t Val. Loss: 1.380 |  Val. Acc: 35.64%\n",
      "\t Relaxed Train. Acc: 79.33% | Relaxed Val. Acc: 73.45%\n",
      "Epoch: 03 | Time: 0.0m 58.43s\n",
      "\t Train Loss: 0.973 | Train Acc: 35.12%\n",
      "\t Val. Loss: 1.340 |  Val. Acc: 38.26%\n",
      "\t Relaxed Train. Acc: 82.34% | Relaxed Val. Acc: 75.61%\n",
      "Epoch: 04 | Time: 0.0m 58.42s\n",
      "\t Train Loss: 0.915 | Train Acc: 39.03%\n",
      "\t Val. Loss: 1.353 |  Val. Acc: 37.99%\n",
      "\t Relaxed Train. Acc: 84.27% | Relaxed Val. Acc: 75.68%\n",
      "Epoch: 05 | Time: 0.0m 58.37s\n",
      "\t Train Loss: 0.887 | Train Acc: 41.77%\n",
      "\t Val. Loss: 1.341 |  Val. Acc: 39.92%\n",
      "\t Relaxed Train. Acc: 85.24% | Relaxed Val. Acc: 76.29%\n",
      "Epoch: 06 | Time: 0.0m 58.32s\n",
      "\t Train Loss: 0.850 | Train Acc: 44.36%\n",
      "\t Val. Loss: 1.364 |  Val. Acc: 40.31%\n",
      "\t Relaxed Train. Acc: 86.42% | Relaxed Val. Acc: 76.44%\n",
      "Epoch: 07 | Time: 0.0m 58.27s\n",
      "\t Train Loss: 0.820 | Train Acc: 47.10%\n",
      "\t Val. Loss: 1.340 |  Val. Acc: 41.24%\n",
      "\t Relaxed Train. Acc: 87.44% | Relaxed Val. Acc: 76.30%\n",
      "Epoch: 08 | Time: 0.0m 58.26s\n",
      "\t Train Loss: 0.801 | Train Acc: 49.02%\n",
      "\t Val. Loss: 1.347 |  Val. Acc: 41.38%\n",
      "\t Relaxed Train. Acc: 88.07% | Relaxed Val. Acc: 77.06%\n",
      "Epoch: 09 | Time: 0.0m 58.24s\n",
      "\t Train Loss: 0.779 | Train Acc: 51.29%\n",
      "\t Val. Loss: 1.357 |  Val. Acc: 41.41%\n",
      "\t Relaxed Train. Acc: 88.77% | Relaxed Val. Acc: 76.84%\n",
      "Epoch: 10 | Time: 0.0m 58.20s\n",
      "\t Train Loss: 0.752 | Train Acc: 53.96%\n",
      "\t Val. Loss: 1.365 |  Val. Acc: 41.09%\n",
      "\t Relaxed Train. Acc: 89.70% | Relaxed Val. Acc: 76.92%\n",
      "Run: enc_embed size: 256 dec_embed size: 16, enc_hid_size: 512, dec_hid_size: 256, num_layers: 1, cell_modelstm\n"
     ]
    },
    {
     "data": {
      "text/html": [
       "Waiting for W&B process to finish... <strong style=\"color:green\">(success).</strong>"
      ],
      "text/plain": [
       "<IPython.core.display.HTML object>"
      ]
     },
     "metadata": {},
     "output_type": "display_data"
    },
    {
     "data": {
      "text/html": [
       "<style>\n",
       "    table.wandb td:nth-child(1) { padding: 0 10px; text-align: left ; width: auto;} td:nth-child(2) {text-align: left ; width: 100%}\n",
       "    .wandb-row { display: flex; flex-direction: row; flex-wrap: wrap; justify-content: flex-start; width: 100% }\n",
       "    .wandb-col { display: flex; flex-direction: column; flex-basis: 100%; flex: 1; padding: 10px; }\n",
       "    </style>\n",
       "<div class=\"wandb-row\"><div class=\"wandb-col\"><h3>Run history:</h3><br/><table class=\"wandb\"><tr><td>epoch</td><td>▁▂▃▃▄▅▆▆▇█</td></tr><tr><td>relxd train acc</td><td>▁▅▆▆▇▇▇▇██</td></tr><tr><td>relxd valid acc</td><td>▁▃▆▆▇▇▇███</td></tr><tr><td>train acc</td><td>▁▃▄▅▆▆▇▇▇█</td></tr><tr><td>train loss</td><td>█▄▃▃▂▂▂▂▁▁</td></tr><tr><td>valid acc</td><td>▁▄▆▆▇▇████</td></tr><tr><td>valid loss</td><td>█▅▁▂▁▃▁▂▃▃</td></tr></table><br/></div><div class=\"wandb-col\"><h3>Run summary:</h3><br/><table class=\"wandb\"><tr><td>epoch</td><td>9</td></tr><tr><td>relxd train acc</td><td>0.89702</td></tr><tr><td>relxd valid acc</td><td>0.76921</td></tr><tr><td>train acc</td><td>0.53961</td></tr><tr><td>train loss</td><td>0.75215</td></tr><tr><td>valid acc</td><td>0.41089</td></tr><tr><td>valid loss</td><td>1.36538</td></tr></table><br/></div></div>"
      ],
      "text/plain": [
       "<IPython.core.display.HTML object>"
      ]
     },
     "metadata": {},
     "output_type": "display_data"
    },
    {
     "data": {
      "text/html": [
       " View run <strong style=\"color:#cdcd00\">whole-sweep-86</strong> at: <a href='https://wandb.ai/pragalbh/DL_Assign3/runs/tq548sh9' target=\"_blank\">https://wandb.ai/pragalbh/DL_Assign3/runs/tq548sh9</a><br/>Synced 3 W&B file(s), 0 media file(s), 0 artifact file(s) and 0 other file(s)"
      ],
      "text/plain": [
       "<IPython.core.display.HTML object>"
      ]
     },
     "metadata": {},
     "output_type": "display_data"
    },
    {
     "data": {
      "text/html": [
       "Find logs at: <code>./wandb/run-20230529_230417-tq548sh9/logs</code>"
      ],
      "text/plain": [
       "<IPython.core.display.HTML object>"
      ]
     },
     "metadata": {},
     "output_type": "display_data"
    },
    {
     "name": "stderr",
     "output_type": "stream",
     "text": [
      "\u001b[34m\u001b[1mwandb\u001b[0m: Agent Starting Run: of9drytg with config:\n",
      "\u001b[34m\u001b[1mwandb\u001b[0m: \tcell_mode: gru\n",
      "\u001b[34m\u001b[1mwandb\u001b[0m: \tdec_embed_size: 32\n",
      "\u001b[34m\u001b[1mwandb\u001b[0m: \tdec_hid_size: 256\n",
      "\u001b[34m\u001b[1mwandb\u001b[0m: \tdropout: 0.25\n",
      "\u001b[34m\u001b[1mwandb\u001b[0m: \tenc_embed_size: 256\n",
      "\u001b[34m\u001b[1mwandb\u001b[0m: \tenc_hid_size: 512\n",
      "\u001b[34m\u001b[1mwandb\u001b[0m: \tepochs: 10\n",
      "\u001b[34m\u001b[1mwandb\u001b[0m: \tis_bi: True\n",
      "\u001b[34m\u001b[1mwandb\u001b[0m: \tnum_layers: 2\n"
     ]
    },
    {
     "data": {
      "text/html": [
       "Tracking run with wandb version 0.15.3"
      ],
      "text/plain": [
       "<IPython.core.display.HTML object>"
      ]
     },
     "metadata": {},
     "output_type": "display_data"
    },
    {
     "data": {
      "text/html": [
       "Run data is saved locally in <code>/home/pragalbh/DL_Assign3/wandb/run-20230529_231415-of9drytg</code>"
      ],
      "text/plain": [
       "<IPython.core.display.HTML object>"
      ]
     },
     "metadata": {},
     "output_type": "display_data"
    },
    {
     "data": {
      "text/html": [
       "Resuming run <strong><a href='https://wandb.ai/pragalbh/DL_Assign3/runs/of9drytg' target=\"_blank\">winter-sweep-87</a></strong> to <a href='https://wandb.ai/pragalbh/DL_Assign3' target=\"_blank\">Weights & Biases</a> (<a href='https://wandb.me/run' target=\"_blank\">docs</a>)<br/>Sweep page: <a href='https://wandb.ai/pragalbh/DL_Assign3/sweeps/mzhrnfy5' target=\"_blank\">https://wandb.ai/pragalbh/DL_Assign3/sweeps/mzhrnfy5</a>"
      ],
      "text/plain": [
       "<IPython.core.display.HTML object>"
      ]
     },
     "metadata": {},
     "output_type": "display_data"
    },
    {
     "data": {
      "text/html": [
       " View project at <a href='https://wandb.ai/pragalbh/DL_Assign3' target=\"_blank\">https://wandb.ai/pragalbh/DL_Assign3</a>"
      ],
      "text/plain": [
       "<IPython.core.display.HTML object>"
      ]
     },
     "metadata": {},
     "output_type": "display_data"
    },
    {
     "data": {
      "text/html": [
       " View sweep at <a href='https://wandb.ai/pragalbh/DL_Assign3/sweeps/mzhrnfy5' target=\"_blank\">https://wandb.ai/pragalbh/DL_Assign3/sweeps/mzhrnfy5</a>"
      ],
      "text/plain": [
       "<IPython.core.display.HTML object>"
      ]
     },
     "metadata": {},
     "output_type": "display_data"
    },
    {
     "data": {
      "text/html": [
       " View run at <a href='https://wandb.ai/pragalbh/DL_Assign3/runs/of9drytg' target=\"_blank\">https://wandb.ai/pragalbh/DL_Assign3/runs/of9drytg</a>"
      ],
      "text/plain": [
       "<IPython.core.display.HTML object>"
      ]
     },
     "metadata": {},
     "output_type": "display_data"
    },
    {
     "name": "stdout",
     "output_type": "stream",
     "text": [
      "The model has 8,717,252 trainable parameters\n",
      "Epoch: 01 | Time: 1.0m 3.47s\n",
      "\t Train Loss: 1.387 | Train Acc: 17.37%\n",
      "\t Val. Loss: 1.462 |  Val. Acc: 29.81%\n",
      "\t Relaxed Train. Acc: 68.97% | Relaxed Val. Acc: 70.17%\n",
      "Epoch: 02 | Time: 1.0m 3.58s\n",
      "\t Train Loss: 1.097 | Train Acc: 27.03%\n",
      "\t Val. Loss: 1.445 |  Val. Acc: 31.10%\n",
      "\t Relaxed Train. Acc: 78.19% | Relaxed Val. Acc: 71.07%\n",
      "Epoch: 03 | Time: 1.0m 3.55s\n",
      "\t Train Loss: 1.044 | Train Acc: 29.72%\n",
      "\t Val. Loss: 1.432 |  Val. Acc: 32.50%\n",
      "\t Relaxed Train. Acc: 79.83% | Relaxed Val. Acc: 71.95%\n",
      "Epoch: 04 | Time: 1.0m 3.54s\n",
      "\t Train Loss: 1.022 | Train Acc: 30.84%\n",
      "\t Val. Loss: 1.455 |  Val. Acc: 33.79%\n",
      "\t Relaxed Train. Acc: 80.62% | Relaxed Val. Acc: 71.66%\n",
      "Epoch: 05 | Time: 1.0m 3.53s\n",
      "\t Train Loss: 1.029 | Train Acc: 30.71%\n",
      "\t Val. Loss: 1.436 |  Val. Acc: 33.03%\n",
      "\t Relaxed Train. Acc: 80.45% | Relaxed Val. Acc: 72.41%\n",
      "Epoch: 06 | Time: 1.0m 3.52s\n",
      "\t Train Loss: 1.018 | Train Acc: 31.17%\n",
      "\t Val. Loss: 1.423 |  Val. Acc: 34.40%\n",
      "\t Relaxed Train. Acc: 80.82% | Relaxed Val. Acc: 72.58%\n",
      "Epoch: 07 | Time: 1.0m 3.51s\n",
      "\t Train Loss: 1.008 | Train Acc: 31.65%\n",
      "\t Val. Loss: 1.408 |  Val. Acc: 33.42%\n",
      "\t Relaxed Train. Acc: 81.10% | Relaxed Val. Acc: 72.98%\n",
      "Epoch: 08 | Time: 1.0m 3.52s\n",
      "\t Train Loss: 1.012 | Train Acc: 31.61%\n",
      "\t Val. Loss: 1.482 |  Val. Acc: 32.89%\n",
      "\t Relaxed Train. Acc: 80.96% | Relaxed Val. Acc: 71.32%\n",
      "Epoch: 09 | Time: 1.0m 3.50s\n",
      "\t Train Loss: 1.018 | Train Acc: 31.13%\n",
      "\t Val. Loss: 1.453 |  Val. Acc: 31.40%\n",
      "\t Relaxed Train. Acc: 80.78% | Relaxed Val. Acc: 71.37%\n",
      "Epoch: 10 | Time: 1.0m 3.49s\n",
      "\t Train Loss: 1.015 | Train Acc: 31.35%\n",
      "\t Val. Loss: 1.452 |  Val. Acc: 34.40%\n",
      "\t Relaxed Train. Acc: 80.85% | Relaxed Val. Acc: 72.26%\n",
      "Run: enc_embed size: 256 dec_embed size: 32, enc_hid_size: 512, dec_hid_size: 256, num_layers: 2, cell_modegru\n"
     ]
    },
    {
     "data": {
      "text/html": [
       "Waiting for W&B process to finish... <strong style=\"color:green\">(success).</strong>"
      ],
      "text/plain": [
       "<IPython.core.display.HTML object>"
      ]
     },
     "metadata": {},
     "output_type": "display_data"
    },
    {
     "data": {
      "text/html": [
       "<style>\n",
       "    table.wandb td:nth-child(1) { padding: 0 10px; text-align: left ; width: auto;} td:nth-child(2) {text-align: left ; width: 100%}\n",
       "    .wandb-row { display: flex; flex-direction: row; flex-wrap: wrap; justify-content: flex-start; width: 100% }\n",
       "    .wandb-col { display: flex; flex-direction: column; flex-basis: 100%; flex: 1; padding: 10px; }\n",
       "    </style>\n",
       "<div class=\"wandb-row\"><div class=\"wandb-col\"><h3>Run history:</h3><br/><table class=\"wandb\"><tr><td>epoch</td><td>▁▂▃▃▄▅▆▆▇█</td></tr><tr><td>relxd train acc</td><td>▁▆▇███████</td></tr><tr><td>relxd valid acc</td><td>▁▃▅▅▇▇█▄▄▆</td></tr><tr><td>train acc</td><td>▁▆▇███████</td></tr><tr><td>train loss</td><td>█▃▂▁▁▁▁▁▁▁</td></tr><tr><td>valid acc</td><td>▁▃▅▇▆█▇▆▃█</td></tr><tr><td>valid loss</td><td>▆▅▃▅▄▂▁█▅▅</td></tr></table><br/></div><div class=\"wandb-col\"><h3>Run summary:</h3><br/><table class=\"wandb\"><tr><td>epoch</td><td>9</td></tr><tr><td>relxd train acc</td><td>0.80848</td></tr><tr><td>relxd valid acc</td><td>0.72259</td></tr><tr><td>train acc</td><td>0.31348</td></tr><tr><td>train loss</td><td>1.01467</td></tr><tr><td>valid acc</td><td>0.34399</td></tr><tr><td>valid loss</td><td>1.45227</td></tr></table><br/></div></div>"
      ],
      "text/plain": [
       "<IPython.core.display.HTML object>"
      ]
     },
     "metadata": {},
     "output_type": "display_data"
    },
    {
     "data": {
      "text/html": [
       " View run <strong style=\"color:#cdcd00\">winter-sweep-87</strong> at: <a href='https://wandb.ai/pragalbh/DL_Assign3/runs/of9drytg' target=\"_blank\">https://wandb.ai/pragalbh/DL_Assign3/runs/of9drytg</a><br/>Synced 3 W&B file(s), 0 media file(s), 0 artifact file(s) and 0 other file(s)"
      ],
      "text/plain": [
       "<IPython.core.display.HTML object>"
      ]
     },
     "metadata": {},
     "output_type": "display_data"
    },
    {
     "data": {
      "text/html": [
       "Find logs at: <code>./wandb/run-20230529_231415-of9drytg/logs</code>"
      ],
      "text/plain": [
       "<IPython.core.display.HTML object>"
      ]
     },
     "metadata": {},
     "output_type": "display_data"
    },
    {
     "name": "stderr",
     "output_type": "stream",
     "text": [
      "\u001b[34m\u001b[1mwandb\u001b[0m: Agent Starting Run: 41z44yry with config:\n",
      "\u001b[34m\u001b[1mwandb\u001b[0m: \tcell_mode: lstm\n",
      "\u001b[34m\u001b[1mwandb\u001b[0m: \tdec_embed_size: 16\n",
      "\u001b[34m\u001b[1mwandb\u001b[0m: \tdec_hid_size: 128\n",
      "\u001b[34m\u001b[1mwandb\u001b[0m: \tdropout: 0.25\n",
      "\u001b[34m\u001b[1mwandb\u001b[0m: \tenc_embed_size: 128\n",
      "\u001b[34m\u001b[1mwandb\u001b[0m: \tenc_hid_size: 512\n",
      "\u001b[34m\u001b[1mwandb\u001b[0m: \tepochs: 30\n",
      "\u001b[34m\u001b[1mwandb\u001b[0m: \tis_bi: False\n",
      "\u001b[34m\u001b[1mwandb\u001b[0m: \tnum_layers: 3\n"
     ]
    },
    {
     "data": {
      "text/html": [
       "Tracking run with wandb version 0.15.3"
      ],
      "text/plain": [
       "<IPython.core.display.HTML object>"
      ]
     },
     "metadata": {},
     "output_type": "display_data"
    },
    {
     "data": {
      "text/html": [
       "Run data is saved locally in <code>/home/pragalbh/DL_Assign3/wandb/run-20230529_232504-41z44yry</code>"
      ],
      "text/plain": [
       "<IPython.core.display.HTML object>"
      ]
     },
     "metadata": {},
     "output_type": "display_data"
    },
    {
     "data": {
      "text/html": [
       "Resuming run <strong><a href='https://wandb.ai/pragalbh/DL_Assign3/runs/41z44yry' target=\"_blank\">earthy-sweep-88</a></strong> to <a href='https://wandb.ai/pragalbh/DL_Assign3' target=\"_blank\">Weights & Biases</a> (<a href='https://wandb.me/run' target=\"_blank\">docs</a>)<br/>Sweep page: <a href='https://wandb.ai/pragalbh/DL_Assign3/sweeps/mzhrnfy5' target=\"_blank\">https://wandb.ai/pragalbh/DL_Assign3/sweeps/mzhrnfy5</a>"
      ],
      "text/plain": [
       "<IPython.core.display.HTML object>"
      ]
     },
     "metadata": {},
     "output_type": "display_data"
    },
    {
     "data": {
      "text/html": [
       " View project at <a href='https://wandb.ai/pragalbh/DL_Assign3' target=\"_blank\">https://wandb.ai/pragalbh/DL_Assign3</a>"
      ],
      "text/plain": [
       "<IPython.core.display.HTML object>"
      ]
     },
     "metadata": {},
     "output_type": "display_data"
    },
    {
     "data": {
      "text/html": [
       " View sweep at <a href='https://wandb.ai/pragalbh/DL_Assign3/sweeps/mzhrnfy5' target=\"_blank\">https://wandb.ai/pragalbh/DL_Assign3/sweeps/mzhrnfy5</a>"
      ],
      "text/plain": [
       "<IPython.core.display.HTML object>"
      ]
     },
     "metadata": {},
     "output_type": "display_data"
    },
    {
     "data": {
      "text/html": [
       " View run at <a href='https://wandb.ai/pragalbh/DL_Assign3/runs/41z44yry' target=\"_blank\">https://wandb.ai/pragalbh/DL_Assign3/runs/41z44yry</a>"
      ],
      "text/plain": [
       "<IPython.core.display.HTML object>"
      ]
     },
     "metadata": {},
     "output_type": "display_data"
    },
    {
     "name": "stdout",
     "output_type": "stream",
     "text": [
      "The model has 6,015,748 trainable parameters\n",
      "Epoch: 01 | Time: 0.0m 53.92s\n",
      "\t Train Loss: 2.642 | Train Acc: 2.81%\n",
      "\t Val. Loss: 1.703 |  Val. Acc: 20.68%\n",
      "\t Relaxed Train. Acc: 35.84% | Relaxed Val. Acc: 63.49%\n",
      "Epoch: 02 | Time: 0.0m 53.76s\n",
      "\t Train Loss: 1.271 | Train Acc: 20.67%\n",
      "\t Val. Loss: 1.479 |  Val. Acc: 29.42%\n",
      "\t Relaxed Train. Acc: 73.11% | Relaxed Val. Acc: 69.70%\n",
      "Epoch: 03 | Time: 0.0m 53.69s\n",
      "\t Train Loss: 1.099 | Train Acc: 26.86%\n",
      "\t Val. Loss: 1.395 |  Val. Acc: 31.96%\n",
      "\t Relaxed Train. Acc: 78.21% | Relaxed Val. Acc: 72.41%\n",
      "Epoch: 04 | Time: 0.0m 53.62s\n",
      "\t Train Loss: 1.023 | Train Acc: 30.85%\n",
      "\t Val. Loss: 1.378 |  Val. Acc: 36.01%\n",
      "\t Relaxed Train. Acc: 80.54% | Relaxed Val. Acc: 73.45%\n",
      "Epoch: 05 | Time: 0.0m 53.61s\n",
      "\t Train Loss: 0.980 | Train Acc: 33.34%\n",
      "\t Val. Loss: 1.354 |  Val. Acc: 37.50%\n",
      "\t Relaxed Train. Acc: 81.91% | Relaxed Val. Acc: 75.09%\n",
      "Epoch: 06 | Time: 0.0m 53.60s\n",
      "\t Train Loss: 0.945 | Train Acc: 35.42%\n",
      "\t Val. Loss: 1.327 |  Val. Acc: 37.99%\n",
      "\t Relaxed Train. Acc: 83.02% | Relaxed Val. Acc: 75.58%\n",
      "Epoch: 07 | Time: 0.0m 53.55s\n",
      "\t Train Loss: 0.914 | Train Acc: 37.39%\n",
      "\t Val. Loss: 1.335 |  Val. Acc: 38.60%\n",
      "\t Relaxed Train. Acc: 84.03% | Relaxed Val. Acc: 75.56%\n",
      "Epoch: 08 | Time: 0.0m 53.54s\n",
      "\t Train Loss: 0.892 | Train Acc: 39.27%\n",
      "\t Val. Loss: 1.364 |  Val. Acc: 37.65%\n",
      "\t Relaxed Train. Acc: 84.75% | Relaxed Val. Acc: 75.07%\n",
      "Epoch: 09 | Time: 0.0m 53.47s\n",
      "\t Train Loss: 0.873 | Train Acc: 40.69%\n",
      "\t Val. Loss: 1.302 |  Val. Acc: 40.09%\n",
      "\t Relaxed Train. Acc: 85.30% | Relaxed Val. Acc: 76.57%\n",
      "Epoch: 10 | Time: 0.0m 53.53s\n",
      "\t Train Loss: 0.856 | Train Acc: 42.40%\n",
      "\t Val. Loss: 1.341 |  Val. Acc: 40.89%\n",
      "\t Relaxed Train. Acc: 85.98% | Relaxed Val. Acc: 76.42%\n",
      "Epoch: 11 | Time: 0.0m 53.50s\n",
      "\t Train Loss: 0.840 | Train Acc: 43.69%\n",
      "\t Val. Loss: 1.344 |  Val. Acc: 41.28%\n",
      "\t Relaxed Train. Acc: 86.49% | Relaxed Val. Acc: 76.64%\n",
      "Epoch: 12 | Time: 0.0m 53.45s\n",
      "\t Train Loss: 0.825 | Train Acc: 45.16%\n",
      "\t Val. Loss: 1.331 |  Val. Acc: 41.72%\n",
      "\t Relaxed Train. Acc: 86.97% | Relaxed Val. Acc: 77.17%\n",
      "Epoch: 13 | Time: 0.0m 53.46s\n",
      "\t Train Loss: 0.810 | Train Acc: 46.37%\n",
      "\t Val. Loss: 1.371 |  Val. Acc: 41.77%\n",
      "\t Relaxed Train. Acc: 87.44% | Relaxed Val. Acc: 76.47%\n",
      "Epoch: 14 | Time: 0.0m 53.44s\n",
      "\t Train Loss: 0.790 | Train Acc: 47.85%\n",
      "\t Val. Loss: 1.368 |  Val. Acc: 41.16%\n",
      "\t Relaxed Train. Acc: 88.06% | Relaxed Val. Acc: 76.76%\n",
      "Epoch: 15 | Time: 0.0m 53.41s\n",
      "\t Train Loss: 0.787 | Train Acc: 48.95%\n",
      "\t Val. Loss: 1.355 |  Val. Acc: 41.06%\n",
      "\t Relaxed Train. Acc: 88.22% | Relaxed Val. Acc: 77.21%\n",
      "Epoch: 16 | Time: 0.0m 53.40s\n",
      "\t Train Loss: 0.772 | Train Acc: 50.29%\n",
      "\t Val. Loss: 1.377 |  Val. Acc: 42.02%\n",
      "\t Relaxed Train. Acc: 88.73% | Relaxed Val. Acc: 76.99%\n",
      "Epoch: 17 | Time: 0.0m 53.38s\n",
      "\t Train Loss: 0.760 | Train Acc: 51.58%\n",
      "\t Val. Loss: 1.388 |  Val. Acc: 41.60%\n",
      "\t Relaxed Train. Acc: 89.17% | Relaxed Val. Acc: 76.62%\n",
      "Epoch: 18 | Time: 0.0m 53.35s\n",
      "\t Train Loss: 0.747 | Train Acc: 52.85%\n",
      "\t Val. Loss: 1.385 |  Val. Acc: 41.92%\n",
      "\t Relaxed Train. Acc: 89.58% | Relaxed Val. Acc: 77.34%\n",
      "Epoch: 19 | Time: 0.0m 53.32s\n",
      "\t Train Loss: 0.739 | Train Acc: 53.75%\n",
      "\t Val. Loss: 1.400 |  Val. Acc: 41.67%\n",
      "\t Relaxed Train. Acc: 89.85% | Relaxed Val. Acc: 77.21%\n",
      "Epoch: 20 | Time: 0.0m 53.31s\n",
      "\t Train Loss: 0.727 | Train Acc: 54.99%\n",
      "\t Val. Loss: 1.395 |  Val. Acc: 41.75%\n",
      "\t Relaxed Train. Acc: 90.27% | Relaxed Val. Acc: 77.35%\n",
      "Epoch: 21 | Time: 0.0m 53.30s\n",
      "\t Train Loss: 0.719 | Train Acc: 56.04%\n",
      "\t Val. Loss: 1.387 |  Val. Acc: 41.02%\n",
      "\t Relaxed Train. Acc: 90.49% | Relaxed Val. Acc: 77.30%\n",
      "Epoch: 22 | Time: 0.0m 53.30s\n",
      "\t Train Loss: 0.711 | Train Acc: 57.22%\n",
      "\t Val. Loss: 1.415 |  Val. Acc: 41.21%\n",
      "\t Relaxed Train. Acc: 90.83% | Relaxed Val. Acc: 77.11%\n",
      "Epoch: 23 | Time: 0.0m 53.29s\n",
      "\t Train Loss: 0.703 | Train Acc: 58.05%\n",
      "\t Val. Loss: 1.424 |  Val. Acc: 41.43%\n",
      "\t Relaxed Train. Acc: 91.07% | Relaxed Val. Acc: 77.24%\n",
      "Epoch: 24 | Time: 0.0m 53.29s\n",
      "\t Train Loss: 0.697 | Train Acc: 58.85%\n",
      "\t Val. Loss: 1.434 |  Val. Acc: 42.14%\n",
      "\t Relaxed Train. Acc: 91.27% | Relaxed Val. Acc: 77.20%\n",
      "Epoch: 25 | Time: 0.0m 53.27s\n",
      "\t Train Loss: 0.690 | Train Acc: 60.09%\n",
      "\t Val. Loss: 1.450 |  Val. Acc: 42.04%\n",
      "\t Relaxed Train. Acc: 91.56% | Relaxed Val. Acc: 77.22%\n",
      "Epoch: 26 | Time: 0.0m 53.25s\n",
      "\t Train Loss: 0.678 | Train Acc: 61.27%\n",
      "\t Val. Loss: 1.475 |  Val. Acc: 41.85%\n",
      "\t Relaxed Train. Acc: 91.93% | Relaxed Val. Acc: 77.25%\n",
      "Epoch: 27 | Time: 0.0m 53.23s\n",
      "\t Train Loss: 0.673 | Train Acc: 61.98%\n",
      "\t Val. Loss: 1.469 |  Val. Acc: 41.04%\n",
      "\t Relaxed Train. Acc: 92.10% | Relaxed Val. Acc: 77.39%\n",
      "Epoch: 28 | Time: 0.0m 53.23s\n",
      "\t Train Loss: 0.666 | Train Acc: 62.78%\n",
      "\t Val. Loss: 1.474 |  Val. Acc: 40.75%\n",
      "\t Relaxed Train. Acc: 92.36% | Relaxed Val. Acc: 77.11%\n",
      "Epoch: 29 | Time: 0.0m 53.24s\n",
      "\t Train Loss: 0.660 | Train Acc: 63.65%\n",
      "\t Val. Loss: 1.505 |  Val. Acc: 41.63%\n",
      "\t Relaxed Train. Acc: 92.56% | Relaxed Val. Acc: 77.01%\n",
      "Epoch: 30 | Time: 0.0m 53.21s\n",
      "\t Train Loss: 0.654 | Train Acc: 64.37%\n",
      "\t Val. Loss: 1.507 |  Val. Acc: 41.70%\n",
      "\t Relaxed Train. Acc: 92.72% | Relaxed Val. Acc: 77.13%\n",
      "Run: enc_embed size: 128 dec_embed size: 16, enc_hid_size: 512, dec_hid_size: 128, num_layers: 3, cell_modelstm\n"
     ]
    },
    {
     "data": {
      "text/html": [
       "Waiting for W&B process to finish... <strong style=\"color:green\">(success).</strong>"
      ],
      "text/plain": [
       "<IPython.core.display.HTML object>"
      ]
     },
     "metadata": {},
     "output_type": "display_data"
    },
    {
     "data": {
      "text/html": [
       "<style>\n",
       "    table.wandb td:nth-child(1) { padding: 0 10px; text-align: left ; width: auto;} td:nth-child(2) {text-align: left ; width: 100%}\n",
       "    .wandb-row { display: flex; flex-direction: row; flex-wrap: wrap; justify-content: flex-start; width: 100% }\n",
       "    .wandb-col { display: flex; flex-direction: column; flex-basis: 100%; flex: 1; padding: 10px; }\n",
       "    </style>\n",
       "<div class=\"wandb-row\"><div class=\"wandb-col\"><h3>Run history:</h3><br/><table class=\"wandb\"><tr><td>epoch</td><td>▁▁▁▂▂▂▂▃▃▃▃▄▄▄▄▅▅▅▅▆▆▆▆▇▇▇▇███</td></tr><tr><td>relxd train acc</td><td>▁▆▆▇▇▇▇▇▇▇▇▇▇▇▇███████████████</td></tr><tr><td>relxd valid acc</td><td>▁▄▅▆▇▇▇▇██████████████████████</td></tr><tr><td>train acc</td><td>▁▃▄▄▄▅▅▅▅▆▆▆▆▆▆▆▇▇▇▇▇▇▇▇██████</td></tr><tr><td>train loss</td><td>█▃▃▂▂▂▂▂▂▂▂▂▂▁▁▁▁▁▁▁▁▁▁▁▁▁▁▁▁▁</td></tr><tr><td>valid acc</td><td>▁▄▅▆▆▇▇▇▇█████████████████████</td></tr><tr><td>valid loss</td><td>█▄▃▂▂▁▂▂▁▂▂▂▂▂▂▂▂▂▃▃▂▃▃▃▄▄▄▄▅▅</td></tr></table><br/></div><div class=\"wandb-col\"><h3>Run summary:</h3><br/><table class=\"wandb\"><tr><td>epoch</td><td>29</td></tr><tr><td>relxd train acc</td><td>0.92724</td></tr><tr><td>relxd valid acc</td><td>0.77135</td></tr><tr><td>train acc</td><td>0.64371</td></tr><tr><td>train loss</td><td>0.65417</td></tr><tr><td>valid acc</td><td>0.41699</td></tr><tr><td>valid loss</td><td>1.5069</td></tr></table><br/></div></div>"
      ],
      "text/plain": [
       "<IPython.core.display.HTML object>"
      ]
     },
     "metadata": {},
     "output_type": "display_data"
    },
    {
     "data": {
      "text/html": [
       " View run <strong style=\"color:#cdcd00\">earthy-sweep-88</strong> at: <a href='https://wandb.ai/pragalbh/DL_Assign3/runs/41z44yry' target=\"_blank\">https://wandb.ai/pragalbh/DL_Assign3/runs/41z44yry</a><br/>Synced 3 W&B file(s), 0 media file(s), 0 artifact file(s) and 0 other file(s)"
      ],
      "text/plain": [
       "<IPython.core.display.HTML object>"
      ]
     },
     "metadata": {},
     "output_type": "display_data"
    },
    {
     "data": {
      "text/html": [
       "Find logs at: <code>./wandb/run-20230529_232504-41z44yry/logs</code>"
      ],
      "text/plain": [
       "<IPython.core.display.HTML object>"
      ]
     },
     "metadata": {},
     "output_type": "display_data"
    },
    {
     "name": "stderr",
     "output_type": "stream",
     "text": [
      "\u001b[34m\u001b[1mwandb\u001b[0m: Agent Starting Run: gmv4eqxa with config:\n",
      "\u001b[34m\u001b[1mwandb\u001b[0m: \tcell_mode: lstm\n",
      "\u001b[34m\u001b[1mwandb\u001b[0m: \tdec_embed_size: 16\n",
      "\u001b[34m\u001b[1mwandb\u001b[0m: \tdec_hid_size: 256\n",
      "\u001b[34m\u001b[1mwandb\u001b[0m: \tdropout: 0.25\n",
      "\u001b[34m\u001b[1mwandb\u001b[0m: \tenc_embed_size: 512\n",
      "\u001b[34m\u001b[1mwandb\u001b[0m: \tenc_hid_size: 512\n",
      "\u001b[34m\u001b[1mwandb\u001b[0m: \tepochs: 30\n",
      "\u001b[34m\u001b[1mwandb\u001b[0m: \tis_bi: True\n",
      "\u001b[34m\u001b[1mwandb\u001b[0m: \tnum_layers: 2\n"
     ]
    },
    {
     "data": {
      "text/html": [
       "Tracking run with wandb version 0.15.3"
      ],
      "text/plain": [
       "<IPython.core.display.HTML object>"
      ]
     },
     "metadata": {},
     "output_type": "display_data"
    },
    {
     "data": {
      "text/html": [
       "Run data is saved locally in <code>/home/pragalbh/DL_Assign3/wandb/run-20230529_235201-gmv4eqxa</code>"
      ],
      "text/plain": [
       "<IPython.core.display.HTML object>"
      ]
     },
     "metadata": {},
     "output_type": "display_data"
    },
    {
     "data": {
      "text/html": [
       "Resuming run <strong><a href='https://wandb.ai/pragalbh/DL_Assign3/runs/gmv4eqxa' target=\"_blank\">genial-sweep-89</a></strong> to <a href='https://wandb.ai/pragalbh/DL_Assign3' target=\"_blank\">Weights & Biases</a> (<a href='https://wandb.me/run' target=\"_blank\">docs</a>)<br/>Sweep page: <a href='https://wandb.ai/pragalbh/DL_Assign3/sweeps/mzhrnfy5' target=\"_blank\">https://wandb.ai/pragalbh/DL_Assign3/sweeps/mzhrnfy5</a>"
      ],
      "text/plain": [
       "<IPython.core.display.HTML object>"
      ]
     },
     "metadata": {},
     "output_type": "display_data"
    },
    {
     "data": {
      "text/html": [
       " View project at <a href='https://wandb.ai/pragalbh/DL_Assign3' target=\"_blank\">https://wandb.ai/pragalbh/DL_Assign3</a>"
      ],
      "text/plain": [
       "<IPython.core.display.HTML object>"
      ]
     },
     "metadata": {},
     "output_type": "display_data"
    },
    {
     "data": {
      "text/html": [
       " View sweep at <a href='https://wandb.ai/pragalbh/DL_Assign3/sweeps/mzhrnfy5' target=\"_blank\">https://wandb.ai/pragalbh/DL_Assign3/sweeps/mzhrnfy5</a>"
      ],
      "text/plain": [
       "<IPython.core.display.HTML object>"
      ]
     },
     "metadata": {},
     "output_type": "display_data"
    },
    {
     "data": {
      "text/html": [
       " View run at <a href='https://wandb.ai/pragalbh/DL_Assign3/runs/gmv4eqxa' target=\"_blank\">https://wandb.ai/pragalbh/DL_Assign3/runs/gmv4eqxa</a>"
      ],
      "text/plain": [
       "<IPython.core.display.HTML object>"
      ]
     },
     "metadata": {},
     "output_type": "display_data"
    },
    {
     "name": "stdout",
     "output_type": "stream",
     "text": [
      "The model has 12,455,812 trainable parameters\n",
      "Epoch: 01 | Time: 1.0m 10.98s\n",
      "\t Train Loss: 1.733 | Train Acc: 12.86%\n",
      "\t Val. Loss: 1.457 |  Val. Acc: 28.74%\n",
      "\t Relaxed Train. Acc: 59.68% | Relaxed Val. Acc: 69.83%\n",
      "Epoch: 02 | Time: 1.0m 11.13s\n",
      "\t Train Loss: 1.103 | Train Acc: 27.48%\n",
      "\t Val. Loss: 1.389 |  Val. Acc: 33.20%\n",
      "\t Relaxed Train. Acc: 77.88% | Relaxed Val. Acc: 72.79%\n",
      "Epoch: 03 | Time: 1.0m 11.10s\n",
      "\t Train Loss: 1.000 | Train Acc: 32.94%\n",
      "\t Val. Loss: 1.347 |  Val. Acc: 37.26%\n",
      "\t Relaxed Train. Acc: 81.36% | Relaxed Val. Acc: 74.44%\n",
      "Epoch: 04 | Time: 1.0m 11.07s\n",
      "\t Train Loss: 0.946 | Train Acc: 36.65%\n",
      "\t Val. Loss: 1.364 |  Val. Acc: 36.47%\n",
      "\t Relaxed Train. Acc: 83.20% | Relaxed Val. Acc: 74.67%\n",
      "Epoch: 05 | Time: 1.0m 11.01s\n",
      "\t Train Loss: 0.915 | Train Acc: 39.06%\n",
      "\t Val. Loss: 1.325 |  Val. Acc: 40.58%\n",
      "\t Relaxed Train. Acc: 84.17% | Relaxed Val. Acc: 76.04%\n",
      "Epoch: 06 | Time: 1.0m 10.98s\n",
      "\t Train Loss: 0.885 | Train Acc: 41.38%\n",
      "\t Val. Loss: 1.335 |  Val. Acc: 40.45%\n",
      "\t Relaxed Train. Acc: 85.18% | Relaxed Val. Acc: 76.31%\n",
      "Epoch: 07 | Time: 1.0m 10.96s\n",
      "\t Train Loss: 0.857 | Train Acc: 43.42%\n",
      "\t Val. Loss: 1.330 |  Val. Acc: 41.75%\n",
      "\t Relaxed Train. Acc: 86.06% | Relaxed Val. Acc: 76.84%\n",
      "Epoch: 08 | Time: 1.0m 10.94s\n",
      "\t Train Loss: 0.844 | Train Acc: 45.08%\n",
      "\t Val. Loss: 1.363 |  Val. Acc: 40.33%\n",
      "\t Relaxed Train. Acc: 86.60% | Relaxed Val. Acc: 76.04%\n",
      "Epoch: 09 | Time: 1.0m 10.92s\n",
      "\t Train Loss: 0.824 | Train Acc: 46.62%\n",
      "\t Val. Loss: 1.343 |  Val. Acc: 40.75%\n",
      "\t Relaxed Train. Acc: 87.27% | Relaxed Val. Acc: 77.17%\n",
      "Epoch: 10 | Time: 1.0m 10.90s\n",
      "\t Train Loss: 0.809 | Train Acc: 47.98%\n",
      "\t Val. Loss: 1.339 |  Val. Acc: 41.72%\n",
      "\t Relaxed Train. Acc: 87.69% | Relaxed Val. Acc: 76.63%\n",
      "Epoch: 11 | Time: 1.0m 10.89s\n",
      "\t Train Loss: 0.794 | Train Acc: 49.29%\n",
      "\t Val. Loss: 1.368 |  Val. Acc: 42.26%\n",
      "\t Relaxed Train. Acc: 88.19% | Relaxed Val. Acc: 77.03%\n",
      "Epoch: 12 | Time: 1.0m 10.87s\n",
      "\t Train Loss: 0.782 | Train Acc: 50.80%\n",
      "\t Val. Loss: 1.353 |  Val. Acc: 41.28%\n",
      "\t Relaxed Train. Acc: 88.60% | Relaxed Val. Acc: 76.85%\n",
      "Epoch: 13 | Time: 1.0m 10.85s\n",
      "\t Train Loss: 0.768 | Train Acc: 52.14%\n",
      "\t Val. Loss: 1.375 |  Val. Acc: 42.16%\n",
      "\t Relaxed Train. Acc: 89.10% | Relaxed Val. Acc: 77.07%\n",
      "Epoch: 14 | Time: 1.0m 10.84s\n",
      "\t Train Loss: 0.756 | Train Acc: 52.89%\n",
      "\t Val. Loss: 1.406 |  Val. Acc: 41.38%\n",
      "\t Relaxed Train. Acc: 89.40% | Relaxed Val. Acc: 76.52%\n",
      "Epoch: 15 | Time: 1.0m 10.85s\n",
      "\t Train Loss: 0.752 | Train Acc: 53.80%\n",
      "\t Val. Loss: 1.409 |  Val. Acc: 41.21%\n",
      "\t Relaxed Train. Acc: 89.55% | Relaxed Val. Acc: 76.46%\n",
      "Epoch: 16 | Time: 1.0m 10.82s\n",
      "\t Train Loss: 0.738 | Train Acc: 55.34%\n",
      "\t Val. Loss: 1.392 |  Val. Acc: 42.26%\n",
      "\t Relaxed Train. Acc: 90.05% | Relaxed Val. Acc: 77.16%\n",
      "Epoch: 17 | Time: 1.0m 10.82s\n",
      "\t Train Loss: 0.733 | Train Acc: 55.83%\n",
      "\t Val. Loss: 1.398 |  Val. Acc: 41.89%\n",
      "\t Relaxed Train. Acc: 90.22% | Relaxed Val. Acc: 77.20%\n",
      "Epoch: 18 | Time: 1.0m 10.80s\n",
      "\t Train Loss: 0.724 | Train Acc: 57.00%\n",
      "\t Val. Loss: 1.423 |  Val. Acc: 41.43%\n",
      "\t Relaxed Train. Acc: 90.50% | Relaxed Val. Acc: 76.33%\n",
      "Epoch: 19 | Time: 1.0m 10.79s\n",
      "\t Train Loss: 0.715 | Train Acc: 57.91%\n",
      "\t Val. Loss: 1.417 |  Val. Acc: 42.02%\n",
      "\t Relaxed Train. Acc: 90.79% | Relaxed Val. Acc: 77.43%\n",
      "Epoch: 20 | Time: 1.0m 10.78s\n",
      "\t Train Loss: 0.708 | Train Acc: 58.75%\n",
      "\t Val. Loss: 1.412 |  Val. Acc: 42.36%\n",
      "\t Relaxed Train. Acc: 91.01% | Relaxed Val. Acc: 77.22%\n",
      "Epoch: 21 | Time: 1.0m 10.79s\n",
      "\t Train Loss: 0.702 | Train Acc: 59.02%\n",
      "\t Val. Loss: 1.427 |  Val. Acc: 42.02%\n",
      "\t Relaxed Train. Acc: 91.20% | Relaxed Val. Acc: 77.06%\n",
      "Epoch: 22 | Time: 1.0m 10.79s\n",
      "\t Train Loss: 0.695 | Train Acc: 59.99%\n",
      "\t Val. Loss: 1.416 |  Val. Acc: 42.38%\n",
      "\t Relaxed Train. Acc: 91.46% | Relaxed Val. Acc: 77.44%\n",
      "Epoch: 23 | Time: 1.0m 10.85s\n",
      "\t Train Loss: 0.689 | Train Acc: 60.88%\n",
      "\t Val. Loss: 1.436 |  Val. Acc: 42.04%\n",
      "\t Relaxed Train. Acc: 91.68% | Relaxed Val. Acc: 77.68%\n",
      "Epoch: 24 | Time: 1.0m 10.77s\n",
      "\t Train Loss: 0.690 | Train Acc: 61.04%\n",
      "\t Val. Loss: 1.447 |  Val. Acc: 41.31%\n",
      "\t Relaxed Train. Acc: 91.65% | Relaxed Val. Acc: 76.77%\n",
      "Epoch: 25 | Time: 1.0m 10.76s\n",
      "\t Train Loss: 0.682 | Train Acc: 62.07%\n",
      "\t Val. Loss: 1.471 |  Val. Acc: 41.58%\n",
      "\t Relaxed Train. Acc: 91.92% | Relaxed Val. Acc: 76.96%\n",
      "Epoch: 26 | Time: 1.0m 10.75s\n",
      "\t Train Loss: 0.677 | Train Acc: 62.40%\n",
      "\t Val. Loss: 1.459 |  Val. Acc: 41.55%\n",
      "\t Relaxed Train. Acc: 92.05% | Relaxed Val. Acc: 76.78%\n",
      "Epoch: 27 | Time: 1.0m 10.74s\n",
      "\t Train Loss: 0.677 | Train Acc: 62.46%\n",
      "\t Val. Loss: 1.480 |  Val. Acc: 41.31%\n",
      "\t Relaxed Train. Acc: 92.03% | Relaxed Val. Acc: 76.76%\n",
      "Epoch: 28 | Time: 1.0m 10.74s\n",
      "\t Train Loss: 0.675 | Train Acc: 62.96%\n",
      "\t Val. Loss: 1.484 |  Val. Acc: 41.36%\n",
      "\t Relaxed Train. Acc: 92.16% | Relaxed Val. Acc: 76.90%\n",
      "Epoch: 29 | Time: 1.0m 10.75s\n",
      "\t Train Loss: 0.673 | Train Acc: 63.31%\n",
      "\t Val. Loss: 1.478 |  Val. Acc: 41.26%\n",
      "\t Relaxed Train. Acc: 92.17% | Relaxed Val. Acc: 77.10%\n",
      "Epoch: 30 | Time: 1.0m 10.73s\n",
      "\t Train Loss: 0.668 | Train Acc: 63.80%\n",
      "\t Val. Loss: 1.499 |  Val. Acc: 41.48%\n",
      "\t Relaxed Train. Acc: 92.40% | Relaxed Val. Acc: 76.95%\n",
      "Run: enc_embed size: 512 dec_embed size: 16, enc_hid_size: 512, dec_hid_size: 256, num_layers: 2, cell_modelstm\n"
     ]
    },
    {
     "data": {
      "text/html": [
       "Waiting for W&B process to finish... <strong style=\"color:green\">(success).</strong>"
      ],
      "text/plain": [
       "<IPython.core.display.HTML object>"
      ]
     },
     "metadata": {},
     "output_type": "display_data"
    },
    {
     "data": {
      "text/html": [
       "<style>\n",
       "    table.wandb td:nth-child(1) { padding: 0 10px; text-align: left ; width: auto;} td:nth-child(2) {text-align: left ; width: 100%}\n",
       "    .wandb-row { display: flex; flex-direction: row; flex-wrap: wrap; justify-content: flex-start; width: 100% }\n",
       "    .wandb-col { display: flex; flex-direction: column; flex-basis: 100%; flex: 1; padding: 10px; }\n",
       "    </style>\n",
       "<div class=\"wandb-row\"><div class=\"wandb-col\"><h3>Run history:</h3><br/><table class=\"wandb\"><tr><td>epoch</td><td>▁▁▁▂▂▂▂▃▃▃▃▄▄▄▄▅▅▅▅▆▆▆▆▇▇▇▇███</td></tr><tr><td>relxd train acc</td><td>▁▅▆▆▆▆▇▇▇▇▇▇▇▇▇▇██████████████</td></tr><tr><td>relxd valid acc</td><td>▁▄▅▅▇▇▇▇█▇▇▇▇▇▇██▇██▇██▇▇▇▇▇▇▇</td></tr><tr><td>train acc</td><td>▁▃▄▄▅▅▅▅▆▆▆▆▆▇▇▇▇▇▇▇▇▇████████</td></tr><tr><td>train loss</td><td>█▄▃▃▃▂▂▂▂▂▂▂▂▂▂▁▁▁▁▁▁▁▁▁▁▁▁▁▁▁</td></tr><tr><td>valid acc</td><td>▁▃▅▅▇▇█▇▇██▇█▇▇████████▇██▇▇▇█</td></tr><tr><td>valid loss</td><td>▆▄▂▃▁▁▁▃▂▂▃▂▃▄▄▄▄▅▅▄▅▅▅▆▇▆▇▇▇█</td></tr></table><br/></div><div class=\"wandb-col\"><h3>Run summary:</h3><br/><table class=\"wandb\"><tr><td>epoch</td><td>29</td></tr><tr><td>relxd train acc</td><td>0.92403</td></tr><tr><td>relxd valid acc</td><td>0.76953</td></tr><tr><td>train acc</td><td>0.63801</td></tr><tr><td>train loss</td><td>0.6679</td></tr><tr><td>valid acc</td><td>0.41479</td></tr><tr><td>valid loss</td><td>1.49887</td></tr></table><br/></div></div>"
      ],
      "text/plain": [
       "<IPython.core.display.HTML object>"
      ]
     },
     "metadata": {},
     "output_type": "display_data"
    },
    {
     "data": {
      "text/html": [
       " View run <strong style=\"color:#cdcd00\">genial-sweep-89</strong> at: <a href='https://wandb.ai/pragalbh/DL_Assign3/runs/gmv4eqxa' target=\"_blank\">https://wandb.ai/pragalbh/DL_Assign3/runs/gmv4eqxa</a><br/>Synced 3 W&B file(s), 0 media file(s), 0 artifact file(s) and 0 other file(s)"
      ],
      "text/plain": [
       "<IPython.core.display.HTML object>"
      ]
     },
     "metadata": {},
     "output_type": "display_data"
    },
    {
     "data": {
      "text/html": [
       "Find logs at: <code>./wandb/run-20230529_235201-gmv4eqxa/logs</code>"
      ],
      "text/plain": [
       "<IPython.core.display.HTML object>"
      ]
     },
     "metadata": {},
     "output_type": "display_data"
    },
    {
     "name": "stderr",
     "output_type": "stream",
     "text": [
      "\u001b[34m\u001b[1mwandb\u001b[0m: Sweep Agent: Waiting for job.\n",
      "\u001b[34m\u001b[1mwandb\u001b[0m: Job received.\n",
      "\u001b[34m\u001b[1mwandb\u001b[0m: Agent Starting Run: uodtumxc with config:\n",
      "\u001b[34m\u001b[1mwandb\u001b[0m: \tcell_mode: lstm\n",
      "\u001b[34m\u001b[1mwandb\u001b[0m: \tdec_embed_size: 64\n",
      "\u001b[34m\u001b[1mwandb\u001b[0m: \tdec_hid_size: 256\n",
      "\u001b[34m\u001b[1mwandb\u001b[0m: \tdropout: 0.2\n",
      "\u001b[34m\u001b[1mwandb\u001b[0m: \tenc_embed_size: 512\n",
      "\u001b[34m\u001b[1mwandb\u001b[0m: \tenc_hid_size: 512\n",
      "\u001b[34m\u001b[1mwandb\u001b[0m: \tepochs: 30\n",
      "\u001b[34m\u001b[1mwandb\u001b[0m: \tis_bi: False\n",
      "\u001b[34m\u001b[1mwandb\u001b[0m: \tnum_layers: 3\n"
     ]
    },
    {
     "data": {
      "text/html": [
       "Tracking run with wandb version 0.15.3"
      ],
      "text/plain": [
       "<IPython.core.display.HTML object>"
      ]
     },
     "metadata": {},
     "output_type": "display_data"
    },
    {
     "data": {
      "text/html": [
       "Run data is saved locally in <code>/home/pragalbh/DL_Assign3/wandb/run-20230530_002748-uodtumxc</code>"
      ],
      "text/plain": [
       "<IPython.core.display.HTML object>"
      ]
     },
     "metadata": {},
     "output_type": "display_data"
    },
    {
     "data": {
      "text/html": [
       "Resuming run <strong><a href='https://wandb.ai/pragalbh/DL_Assign3/runs/uodtumxc' target=\"_blank\">decent-sweep-90</a></strong> to <a href='https://wandb.ai/pragalbh/DL_Assign3' target=\"_blank\">Weights & Biases</a> (<a href='https://wandb.me/run' target=\"_blank\">docs</a>)<br/>Sweep page: <a href='https://wandb.ai/pragalbh/DL_Assign3/sweeps/mzhrnfy5' target=\"_blank\">https://wandb.ai/pragalbh/DL_Assign3/sweeps/mzhrnfy5</a>"
      ],
      "text/plain": [
       "<IPython.core.display.HTML object>"
      ]
     },
     "metadata": {},
     "output_type": "display_data"
    },
    {
     "data": {
      "text/html": [
       " View project at <a href='https://wandb.ai/pragalbh/DL_Assign3' target=\"_blank\">https://wandb.ai/pragalbh/DL_Assign3</a>"
      ],
      "text/plain": [
       "<IPython.core.display.HTML object>"
      ]
     },
     "metadata": {},
     "output_type": "display_data"
    },
    {
     "data": {
      "text/html": [
       " View sweep at <a href='https://wandb.ai/pragalbh/DL_Assign3/sweeps/mzhrnfy5' target=\"_blank\">https://wandb.ai/pragalbh/DL_Assign3/sweeps/mzhrnfy5</a>"
      ],
      "text/plain": [
       "<IPython.core.display.HTML object>"
      ]
     },
     "metadata": {},
     "output_type": "display_data"
    },
    {
     "data": {
      "text/html": [
       " View run at <a href='https://wandb.ai/pragalbh/DL_Assign3/runs/uodtumxc' target=\"_blank\">https://wandb.ai/pragalbh/DL_Assign3/runs/uodtumxc</a>"
      ],
      "text/plain": [
       "<IPython.core.display.HTML object>"
      ]
     },
     "metadata": {},
     "output_type": "display_data"
    },
    {
     "name": "stdout",
     "output_type": "stream",
     "text": [
      "The model has 7,523,396 trainable parameters\n",
      "Epoch: 01 | Time: 0.0m 56.08s\n",
      "\t Train Loss: 1.750 | Train Acc: 13.04%\n",
      "\t Val. Loss: 1.514 |  Val. Acc: 30.10%\n",
      "\t Relaxed Train. Acc: 60.29% | Relaxed Val. Acc: 69.36%\n",
      "Epoch: 02 | Time: 0.0m 55.97s\n",
      "\t Train Loss: 1.093 | Train Acc: 27.19%\n",
      "\t Val. Loss: 1.394 |  Val. Acc: 34.28%\n",
      "\t Relaxed Train. Acc: 78.42% | Relaxed Val. Acc: 73.37%\n",
      "Epoch: 03 | Time: 0.0m 55.83s\n",
      "\t Train Loss: 1.002 | Train Acc: 31.68%\n",
      "\t Val. Loss: 1.368 |  Val. Acc: 34.18%\n",
      "\t Relaxed Train. Acc: 81.24% | Relaxed Val. Acc: 74.04%\n",
      "Epoch: 04 | Time: 0.0m 55.89s\n",
      "\t Train Loss: 0.952 | Train Acc: 34.89%\n",
      "\t Val. Loss: 1.384 |  Val. Acc: 37.87%\n",
      "\t Relaxed Train. Acc: 82.83% | Relaxed Val. Acc: 74.42%\n",
      "Epoch: 05 | Time: 0.0m 55.85s\n",
      "\t Train Loss: 0.919 | Train Acc: 37.44%\n",
      "\t Val. Loss: 1.372 |  Val. Acc: 38.11%\n",
      "\t Relaxed Train. Acc: 83.94% | Relaxed Val. Acc: 74.92%\n",
      "Epoch: 06 | Time: 0.0m 55.75s\n",
      "\t Train Loss: 0.895 | Train Acc: 39.09%\n",
      "\t Val. Loss: 1.353 |  Val. Acc: 39.33%\n",
      "\t Relaxed Train. Acc: 84.66% | Relaxed Val. Acc: 76.25%\n",
      "Epoch: 07 | Time: 0.0m 55.78s\n",
      "\t Train Loss: 0.866 | Train Acc: 41.34%\n",
      "\t Val. Loss: 1.339 |  Val. Acc: 40.19%\n",
      "\t Relaxed Train. Acc: 85.64% | Relaxed Val. Acc: 76.21%\n",
      "Epoch: 08 | Time: 0.0m 55.81s\n",
      "\t Train Loss: 0.848 | Train Acc: 43.08%\n",
      "\t Val. Loss: 1.348 |  Val. Acc: 40.55%\n",
      "\t Relaxed Train. Acc: 86.29% | Relaxed Val. Acc: 76.40%\n",
      "Epoch: 09 | Time: 0.0m 55.68s\n",
      "\t Train Loss: 0.835 | Train Acc: 44.35%\n",
      "\t Val. Loss: 1.345 |  Val. Acc: 41.97%\n",
      "\t Relaxed Train. Acc: 86.69% | Relaxed Val. Acc: 76.61%\n",
      "Epoch: 10 | Time: 0.0m 55.72s\n",
      "\t Train Loss: 0.817 | Train Acc: 46.00%\n",
      "\t Val. Loss: 1.337 |  Val. Acc: 41.46%\n",
      "\t Relaxed Train. Acc: 87.30% | Relaxed Val. Acc: 77.22%\n",
      "Epoch: 11 | Time: 0.0m 55.73s\n",
      "\t Train Loss: 0.804 | Train Acc: 47.54%\n",
      "\t Val. Loss: 1.359 |  Val. Acc: 41.06%\n",
      "\t Relaxed Train. Acc: 87.74% | Relaxed Val. Acc: 77.01%\n",
      "Epoch: 12 | Time: 0.0m 55.62s\n",
      "\t Train Loss: 0.789 | Train Acc: 48.71%\n",
      "\t Val. Loss: 1.365 |  Val. Acc: 39.26%\n",
      "\t Relaxed Train. Acc: 88.20% | Relaxed Val. Acc: 76.51%\n",
      "Epoch: 13 | Time: 0.0m 55.63s\n",
      "\t Train Loss: 0.777 | Train Acc: 49.95%\n",
      "\t Val. Loss: 1.362 |  Val. Acc: 41.58%\n",
      "\t Relaxed Train. Acc: 88.64% | Relaxed Val. Acc: 77.48%\n",
      "Epoch: 14 | Time: 0.0m 55.63s\n",
      "\t Train Loss: 0.765 | Train Acc: 50.61%\n",
      "\t Val. Loss: 1.369 |  Val. Acc: 41.04%\n",
      "\t Relaxed Train. Acc: 88.93% | Relaxed Val. Acc: 77.04%\n",
      "Epoch: 15 | Time: 0.0m 55.55s\n",
      "\t Train Loss: 0.759 | Train Acc: 51.87%\n",
      "\t Val. Loss: 1.364 |  Val. Acc: 41.36%\n",
      "\t Relaxed Train. Acc: 89.24% | Relaxed Val. Acc: 77.12%\n",
      "Epoch: 16 | Time: 0.0m 55.64s\n",
      "\t Train Loss: 0.747 | Train Acc: 53.01%\n",
      "\t Val. Loss: 1.386 |  Val. Acc: 41.50%\n",
      "\t Relaxed Train. Acc: 89.63% | Relaxed Val. Acc: 76.71%\n",
      "Epoch: 17 | Time: 0.0m 55.59s\n",
      "\t Train Loss: 0.739 | Train Acc: 53.81%\n",
      "\t Val. Loss: 1.399 |  Val. Acc: 41.41%\n",
      "\t Relaxed Train. Acc: 89.88% | Relaxed Val. Acc: 76.85%\n",
      "Epoch: 18 | Time: 0.0m 55.55s\n",
      "\t Train Loss: 0.732 | Train Acc: 54.67%\n",
      "\t Val. Loss: 1.392 |  Val. Acc: 41.60%\n",
      "\t Relaxed Train. Acc: 90.08% | Relaxed Val. Acc: 77.16%\n",
      "Epoch: 19 | Time: 0.0m 55.60s\n",
      "\t Train Loss: 0.725 | Train Acc: 55.46%\n",
      "\t Val. Loss: 1.415 |  Val. Acc: 42.60%\n",
      "\t Relaxed Train. Acc: 90.34% | Relaxed Val. Acc: 77.18%\n",
      "Epoch: 20 | Time: 0.0m 55.59s\n",
      "\t Train Loss: 0.719 | Train Acc: 56.45%\n",
      "\t Val. Loss: 1.426 |  Val. Acc: 40.48%\n",
      "\t Relaxed Train. Acc: 90.54% | Relaxed Val. Acc: 76.70%\n",
      "Epoch: 21 | Time: 0.0m 55.51s\n",
      "\t Train Loss: 0.709 | Train Acc: 57.23%\n",
      "\t Val. Loss: 1.421 |  Val. Acc: 41.82%\n",
      "\t Relaxed Train. Acc: 90.85% | Relaxed Val. Acc: 77.27%\n",
      "Epoch: 22 | Time: 0.0m 55.57s\n",
      "\t Train Loss: 0.704 | Train Acc: 58.10%\n",
      "\t Val. Loss: 1.417 |  Val. Acc: 42.41%\n",
      "\t Relaxed Train. Acc: 91.03% | Relaxed Val. Acc: 77.72%\n",
      "Epoch: 23 | Time: 0.0m 55.56s\n",
      "\t Train Loss: 0.699 | Train Acc: 58.34%\n",
      "\t Val. Loss: 1.411 |  Val. Acc: 41.67%\n",
      "\t Relaxed Train. Acc: 91.16% | Relaxed Val. Acc: 77.45%\n",
      "Epoch: 24 | Time: 0.0m 55.53s\n",
      "\t Train Loss: 0.694 | Train Acc: 59.22%\n",
      "\t Val. Loss: 1.442 |  Val. Acc: 42.29%\n",
      "\t Relaxed Train. Acc: 91.32% | Relaxed Val. Acc: 77.21%\n",
      "Epoch: 25 | Time: 0.0m 55.59s\n",
      "\t Train Loss: 0.689 | Train Acc: 59.78%\n",
      "\t Val. Loss: 1.420 |  Val. Acc: 41.65%\n",
      "\t Relaxed Train. Acc: 91.50% | Relaxed Val. Acc: 77.90%\n",
      "Epoch: 26 | Time: 0.0m 55.58s\n",
      "\t Train Loss: 0.683 | Train Acc: 60.16%\n",
      "\t Val. Loss: 1.434 |  Val. Acc: 41.36%\n",
      "\t Relaxed Train. Acc: 91.67% | Relaxed Val. Acc: 77.58%\n",
      "Epoch: 27 | Time: 0.0m 55.50s\n",
      "\t Train Loss: 0.678 | Train Acc: 61.03%\n",
      "\t Val. Loss: 1.474 |  Val. Acc: 41.70%\n",
      "\t Relaxed Train. Acc: 91.85% | Relaxed Val. Acc: 77.25%\n",
      "Epoch: 28 | Time: 0.0m 55.53s\n",
      "\t Train Loss: 0.673 | Train Acc: 61.78%\n",
      "\t Val. Loss: 1.466 |  Val. Acc: 40.80%\n",
      "\t Relaxed Train. Acc: 92.05% | Relaxed Val. Acc: 77.39%\n",
      "Epoch: 29 | Time: 0.0m 55.51s\n",
      "\t Train Loss: 0.671 | Train Acc: 62.03%\n",
      "\t Val. Loss: 1.509 |  Val. Acc: 38.92%\n",
      "\t Relaxed Train. Acc: 92.12% | Relaxed Val. Acc: 76.11%\n",
      "Epoch: 30 | Time: 0.0m 55.50s\n",
      "\t Train Loss: 0.671 | Train Acc: 62.62%\n",
      "\t Val. Loss: 1.458 |  Val. Acc: 40.82%\n",
      "\t Relaxed Train. Acc: 92.16% | Relaxed Val. Acc: 77.27%\n",
      "Run: enc_embed size: 512 dec_embed size: 64, enc_hid_size: 512, dec_hid_size: 256, num_layers: 3, cell_modelstm\n"
     ]
    },
    {
     "data": {
      "text/html": [
       "Waiting for W&B process to finish... <strong style=\"color:green\">(success).</strong>"
      ],
      "text/plain": [
       "<IPython.core.display.HTML object>"
      ]
     },
     "metadata": {},
     "output_type": "display_data"
    },
    {
     "data": {
      "text/html": [
       "<style>\n",
       "    table.wandb td:nth-child(1) { padding: 0 10px; text-align: left ; width: auto;} td:nth-child(2) {text-align: left ; width: 100%}\n",
       "    .wandb-row { display: flex; flex-direction: row; flex-wrap: wrap; justify-content: flex-start; width: 100% }\n",
       "    .wandb-col { display: flex; flex-direction: column; flex-basis: 100%; flex: 1; padding: 10px; }\n",
       "    </style>\n",
       "<div class=\"wandb-row\"><div class=\"wandb-col\"><h3>Run history:</h3><br/><table class=\"wandb\"><tr><td>epoch</td><td>▁▁▁▂▂▂▂▃▃▃▃▄▄▄▄▅▅▅▅▆▆▆▆▇▇▇▇███</td></tr><tr><td>relxd train acc</td><td>▁▅▆▆▆▆▇▇▇▇▇▇▇▇▇▇▇█████████████</td></tr><tr><td>relxd valid acc</td><td>▁▄▅▅▆▇▇▇▇▇▇▇█▇▇▇▇▇▇▇▇██▇██▇█▇▇</td></tr><tr><td>train acc</td><td>▁▃▄▄▄▅▅▅▅▆▆▆▆▆▆▇▇▇▇▇▇▇▇███████</td></tr><tr><td>train loss</td><td>█▄▃▃▃▂▂▂▂▂▂▂▂▂▂▁▁▁▁▁▁▁▁▁▁▁▁▁▁▁</td></tr><tr><td>valid acc</td><td>▁▃▃▅▅▆▇▇█▇▇▆▇▇▇▇▇▇█▇██▇█▇▇▇▇▆▇</td></tr><tr><td>valid loss</td><td>█▃▂▃▂▂▁▁▁▁▂▂▂▂▂▃▃▃▄▅▄▄▄▅▄▅▆▆█▆</td></tr></table><br/></div><div class=\"wandb-col\"><h3>Run summary:</h3><br/><table class=\"wandb\"><tr><td>epoch</td><td>29</td></tr><tr><td>relxd train acc</td><td>0.92156</td></tr><tr><td>relxd valid acc</td><td>0.77274</td></tr><tr><td>train acc</td><td>0.62625</td></tr><tr><td>train loss</td><td>0.67091</td></tr><tr><td>valid acc</td><td>0.4082</td></tr><tr><td>valid loss</td><td>1.45835</td></tr></table><br/></div></div>"
      ],
      "text/plain": [
       "<IPython.core.display.HTML object>"
      ]
     },
     "metadata": {},
     "output_type": "display_data"
    },
    {
     "data": {
      "text/html": [
       " View run <strong style=\"color:#cdcd00\">decent-sweep-90</strong> at: <a href='https://wandb.ai/pragalbh/DL_Assign3/runs/uodtumxc' target=\"_blank\">https://wandb.ai/pragalbh/DL_Assign3/runs/uodtumxc</a><br/>Synced 3 W&B file(s), 0 media file(s), 0 artifact file(s) and 0 other file(s)"
      ],
      "text/plain": [
       "<IPython.core.display.HTML object>"
      ]
     },
     "metadata": {},
     "output_type": "display_data"
    },
    {
     "data": {
      "text/html": [
       "Find logs at: <code>./wandb/run-20230530_002748-uodtumxc/logs</code>"
      ],
      "text/plain": [
       "<IPython.core.display.HTML object>"
      ]
     },
     "metadata": {},
     "output_type": "display_data"
    },
    {
     "name": "stderr",
     "output_type": "stream",
     "text": [
      "\u001b[34m\u001b[1mwandb\u001b[0m: Agent Starting Run: 36dp5iyw with config:\n",
      "\u001b[34m\u001b[1mwandb\u001b[0m: \tcell_mode: lstm\n",
      "\u001b[34m\u001b[1mwandb\u001b[0m: \tdec_embed_size: 16\n",
      "\u001b[34m\u001b[1mwandb\u001b[0m: \tdec_hid_size: 256\n",
      "\u001b[34m\u001b[1mwandb\u001b[0m: \tdropout: 0.3\n",
      "\u001b[34m\u001b[1mwandb\u001b[0m: \tenc_embed_size: 256\n",
      "\u001b[34m\u001b[1mwandb\u001b[0m: \tenc_hid_size: 64\n",
      "\u001b[34m\u001b[1mwandb\u001b[0m: \tepochs: 20\n",
      "\u001b[34m\u001b[1mwandb\u001b[0m: \tis_bi: True\n",
      "\u001b[34m\u001b[1mwandb\u001b[0m: \tnum_layers: 2\n"
     ]
    },
    {
     "data": {
      "text/html": [
       "Tracking run with wandb version 0.15.3"
      ],
      "text/plain": [
       "<IPython.core.display.HTML object>"
      ]
     },
     "metadata": {},
     "output_type": "display_data"
    },
    {
     "data": {
      "text/html": [
       "Run data is saved locally in <code>/home/pragalbh/DL_Assign3/wandb/run-20230530_005553-36dp5iyw</code>"
      ],
      "text/plain": [
       "<IPython.core.display.HTML object>"
      ]
     },
     "metadata": {},
     "output_type": "display_data"
    },
    {
     "data": {
      "text/html": [
       "Resuming run <strong><a href='https://wandb.ai/pragalbh/DL_Assign3/runs/36dp5iyw' target=\"_blank\">absurd-sweep-91</a></strong> to <a href='https://wandb.ai/pragalbh/DL_Assign3' target=\"_blank\">Weights & Biases</a> (<a href='https://wandb.me/run' target=\"_blank\">docs</a>)<br/>Sweep page: <a href='https://wandb.ai/pragalbh/DL_Assign3/sweeps/mzhrnfy5' target=\"_blank\">https://wandb.ai/pragalbh/DL_Assign3/sweeps/mzhrnfy5</a>"
      ],
      "text/plain": [
       "<IPython.core.display.HTML object>"
      ]
     },
     "metadata": {},
     "output_type": "display_data"
    },
    {
     "data": {
      "text/html": [
       " View project at <a href='https://wandb.ai/pragalbh/DL_Assign3' target=\"_blank\">https://wandb.ai/pragalbh/DL_Assign3</a>"
      ],
      "text/plain": [
       "<IPython.core.display.HTML object>"
      ]
     },
     "metadata": {},
     "output_type": "display_data"
    },
    {
     "data": {
      "text/html": [
       " View sweep at <a href='https://wandb.ai/pragalbh/DL_Assign3/sweeps/mzhrnfy5' target=\"_blank\">https://wandb.ai/pragalbh/DL_Assign3/sweeps/mzhrnfy5</a>"
      ],
      "text/plain": [
       "<IPython.core.display.HTML object>"
      ]
     },
     "metadata": {},
     "output_type": "display_data"
    },
    {
     "data": {
      "text/html": [
       " View run at <a href='https://wandb.ai/pragalbh/DL_Assign3/runs/36dp5iyw' target=\"_blank\">https://wandb.ai/pragalbh/DL_Assign3/runs/36dp5iyw</a>"
      ],
      "text/plain": [
       "<IPython.core.display.HTML object>"
      ]
     },
     "metadata": {},
     "output_type": "display_data"
    },
    {
     "name": "stdout",
     "output_type": "stream",
     "text": [
      "The model has 833,924 trainable parameters\n",
      "Epoch: 01 | Time: 0.0m 47.03s\n",
      "\t Train Loss: 1.631 | Train Acc: 11.47%\n",
      "\t Val. Loss: 1.541 |  Val. Acc: 26.49%\n",
      "\t Relaxed Train. Acc: 62.53% | Relaxed Val. Acc: 67.76%\n",
      "Epoch: 02 | Time: 0.0m 46.82s\n",
      "\t Train Loss: 1.152 | Train Acc: 24.22%\n",
      "\t Val. Loss: 1.416 |  Val. Acc: 32.45%\n",
      "\t Relaxed Train. Acc: 76.48% | Relaxed Val. Acc: 72.24%\n",
      "Epoch: 03 | Time: 0.0m 46.79s\n",
      "\t Train Loss: 1.045 | Train Acc: 29.82%\n",
      "\t Val. Loss: 1.363 |  Val. Acc: 35.38%\n",
      "\t Relaxed Train. Acc: 79.98% | Relaxed Val. Acc: 74.00%\n",
      "Epoch: 04 | Time: 0.0m 46.73s\n",
      "\t Train Loss: 0.990 | Train Acc: 33.27%\n",
      "\t Val. Loss: 1.360 |  Val. Acc: 35.57%\n",
      "\t Relaxed Train. Acc: 81.77% | Relaxed Val. Acc: 73.67%\n",
      "Epoch: 05 | Time: 0.0m 46.72s\n",
      "\t Train Loss: 0.955 | Train Acc: 35.88%\n",
      "\t Val. Loss: 1.361 |  Val. Acc: 38.13%\n",
      "\t Relaxed Train. Acc: 82.82% | Relaxed Val. Acc: 75.13%\n",
      "Epoch: 06 | Time: 0.0m 46.66s\n",
      "\t Train Loss: 0.923 | Train Acc: 38.09%\n",
      "\t Val. Loss: 1.359 |  Val. Acc: 38.01%\n",
      "\t Relaxed Train. Acc: 83.89% | Relaxed Val. Acc: 75.47%\n",
      "Epoch: 07 | Time: 0.0m 46.65s\n",
      "\t Train Loss: 0.898 | Train Acc: 40.09%\n",
      "\t Val. Loss: 1.365 |  Val. Acc: 38.82%\n",
      "\t Relaxed Train. Acc: 84.76% | Relaxed Val. Acc: 75.71%\n",
      "Epoch: 08 | Time: 0.0m 46.64s\n",
      "\t Train Loss: 0.879 | Train Acc: 41.32%\n",
      "\t Val. Loss: 1.364 |  Val. Acc: 39.53%\n",
      "\t Relaxed Train. Acc: 85.30% | Relaxed Val. Acc: 75.81%\n",
      "Epoch: 09 | Time: 0.0m 46.60s\n",
      "\t Train Loss: 0.862 | Train Acc: 42.91%\n",
      "\t Val. Loss: 1.357 |  Val. Acc: 39.16%\n",
      "\t Relaxed Train. Acc: 85.95% | Relaxed Val. Acc: 75.80%\n",
      "Epoch: 10 | Time: 0.0m 46.59s\n",
      "\t Train Loss: 0.847 | Train Acc: 44.24%\n",
      "\t Val. Loss: 1.357 |  Val. Acc: 39.99%\n",
      "\t Relaxed Train. Acc: 86.36% | Relaxed Val. Acc: 76.52%\n",
      "Epoch: 11 | Time: 0.0m 46.59s\n",
      "\t Train Loss: 0.836 | Train Acc: 45.45%\n",
      "\t Val. Loss: 1.343 |  Val. Acc: 41.09%\n",
      "\t Relaxed Train. Acc: 86.76% | Relaxed Val. Acc: 77.19%\n",
      "Epoch: 12 | Time: 0.0m 46.59s\n",
      "\t Train Loss: 0.821 | Train Acc: 46.57%\n",
      "\t Val. Loss: 1.355 |  Val. Acc: 40.65%\n",
      "\t Relaxed Train. Acc: 87.26% | Relaxed Val. Acc: 76.85%\n",
      "Epoch: 13 | Time: 0.0m 46.56s\n",
      "\t Train Loss: 0.810 | Train Acc: 47.74%\n",
      "\t Val. Loss: 1.384 |  Val. Acc: 40.80%\n",
      "\t Relaxed Train. Acc: 87.63% | Relaxed Val. Acc: 76.61%\n",
      "Epoch: 14 | Time: 0.0m 46.56s\n",
      "\t Train Loss: 0.795 | Train Acc: 48.65%\n",
      "\t Val. Loss: 1.402 |  Val. Acc: 41.02%\n",
      "\t Relaxed Train. Acc: 88.03% | Relaxed Val. Acc: 76.47%\n",
      "Epoch: 15 | Time: 0.0m 46.56s\n",
      "\t Train Loss: 0.794 | Train Acc: 49.62%\n",
      "\t Val. Loss: 1.401 |  Val. Acc: 39.72%\n",
      "\t Relaxed Train. Acc: 88.15% | Relaxed Val. Acc: 76.41%\n",
      "Epoch: 16 | Time: 0.0m 46.54s\n",
      "\t Train Loss: 0.782 | Train Acc: 50.52%\n",
      "\t Val. Loss: 1.390 |  Val. Acc: 40.65%\n",
      "\t Relaxed Train. Acc: 88.53% | Relaxed Val. Acc: 76.90%\n",
      "Epoch: 17 | Time: 0.0m 46.56s\n",
      "\t Train Loss: 0.772 | Train Acc: 51.47%\n",
      "\t Val. Loss: 1.420 |  Val. Acc: 38.79%\n",
      "\t Relaxed Train. Acc: 88.88% | Relaxed Val. Acc: 76.10%\n",
      "Epoch: 18 | Time: 0.0m 46.53s\n",
      "\t Train Loss: 0.764 | Train Acc: 52.28%\n",
      "\t Val. Loss: 1.384 |  Val. Acc: 39.94%\n",
      "\t Relaxed Train. Acc: 89.12% | Relaxed Val. Acc: 76.58%\n",
      "Epoch: 19 | Time: 0.0m 46.50s\n",
      "\t Train Loss: 0.758 | Train Acc: 52.83%\n",
      "\t Val. Loss: 1.433 |  Val. Acc: 39.28%\n",
      "\t Relaxed Train. Acc: 89.31% | Relaxed Val. Acc: 75.78%\n",
      "Epoch: 20 | Time: 0.0m 46.50s\n",
      "\t Train Loss: 0.752 | Train Acc: 53.80%\n",
      "\t Val. Loss: 1.419 |  Val. Acc: 40.60%\n",
      "\t Relaxed Train. Acc: 89.58% | Relaxed Val. Acc: 76.79%\n",
      "Run: enc_embed size: 256 dec_embed size: 16, enc_hid_size: 64, dec_hid_size: 256, num_layers: 2, cell_modelstm\n"
     ]
    },
    {
     "data": {
      "text/html": [
       "Waiting for W&B process to finish... <strong style=\"color:green\">(success).</strong>"
      ],
      "text/plain": [
       "<IPython.core.display.HTML object>"
      ]
     },
     "metadata": {},
     "output_type": "display_data"
    },
    {
     "data": {
      "text/html": [
       "<style>\n",
       "    table.wandb td:nth-child(1) { padding: 0 10px; text-align: left ; width: auto;} td:nth-child(2) {text-align: left ; width: 100%}\n",
       "    .wandb-row { display: flex; flex-direction: row; flex-wrap: wrap; justify-content: flex-start; width: 100% }\n",
       "    .wandb-col { display: flex; flex-direction: column; flex-basis: 100%; flex: 1; padding: 10px; }\n",
       "    </style>\n",
       "<div class=\"wandb-row\"><div class=\"wandb-col\"><h3>Run history:</h3><br/><table class=\"wandb\"><tr><td>epoch</td><td>▁▁▂▂▂▃▃▄▄▄▅▅▅▆▆▇▇▇██</td></tr><tr><td>relxd train acc</td><td>▁▅▆▆▆▇▇▇▇▇▇▇▇███████</td></tr><tr><td>relxd valid acc</td><td>▁▄▆▅▆▇▇▇▇████▇▇█▇█▇█</td></tr><tr><td>train acc</td><td>▁▃▄▅▅▅▆▆▆▆▇▇▇▇▇▇████</td></tr><tr><td>train loss</td><td>█▄▃▃▃▂▂▂▂▂▂▂▁▁▁▁▁▁▁▁</td></tr><tr><td>valid acc</td><td>▁▄▅▅▇▇▇▇▇▇████▇█▇▇▇█</td></tr><tr><td>valid loss</td><td>█▄▂▂▂▂▂▂▁▁▁▁▂▃▃▃▄▂▄▄</td></tr></table><br/></div><div class=\"wandb-col\"><h3>Run summary:</h3><br/><table class=\"wandb\"><tr><td>epoch</td><td>19</td></tr><tr><td>relxd train acc</td><td>0.89579</td></tr><tr><td>relxd valid acc</td><td>0.76795</td></tr><tr><td>train acc</td><td>0.53799</td></tr><tr><td>train loss</td><td>0.75194</td></tr><tr><td>valid acc</td><td>0.40601</td></tr><tr><td>valid loss</td><td>1.4188</td></tr></table><br/></div></div>"
      ],
      "text/plain": [
       "<IPython.core.display.HTML object>"
      ]
     },
     "metadata": {},
     "output_type": "display_data"
    },
    {
     "data": {
      "text/html": [
       " View run <strong style=\"color:#cdcd00\">absurd-sweep-91</strong> at: <a href='https://wandb.ai/pragalbh/DL_Assign3/runs/36dp5iyw' target=\"_blank\">https://wandb.ai/pragalbh/DL_Assign3/runs/36dp5iyw</a><br/>Synced 3 W&B file(s), 0 media file(s), 0 artifact file(s) and 0 other file(s)"
      ],
      "text/plain": [
       "<IPython.core.display.HTML object>"
      ]
     },
     "metadata": {},
     "output_type": "display_data"
    },
    {
     "data": {
      "text/html": [
       "Find logs at: <code>./wandb/run-20230530_005553-36dp5iyw/logs</code>"
      ],
      "text/plain": [
       "<IPython.core.display.HTML object>"
      ]
     },
     "metadata": {},
     "output_type": "display_data"
    },
    {
     "name": "stderr",
     "output_type": "stream",
     "text": [
      "\u001b[34m\u001b[1mwandb\u001b[0m: Agent Starting Run: fxpv9bbx with config:\n",
      "\u001b[34m\u001b[1mwandb\u001b[0m: \tcell_mode: lstm\n",
      "\u001b[34m\u001b[1mwandb\u001b[0m: \tdec_embed_size: 32\n",
      "\u001b[34m\u001b[1mwandb\u001b[0m: \tdec_hid_size: 512\n",
      "\u001b[34m\u001b[1mwandb\u001b[0m: \tdropout: 0.25\n",
      "\u001b[34m\u001b[1mwandb\u001b[0m: \tenc_embed_size: 256\n",
      "\u001b[34m\u001b[1mwandb\u001b[0m: \tenc_hid_size: 256\n",
      "\u001b[34m\u001b[1mwandb\u001b[0m: \tepochs: 20\n",
      "\u001b[34m\u001b[1mwandb\u001b[0m: \tis_bi: True\n",
      "\u001b[34m\u001b[1mwandb\u001b[0m: \tnum_layers: 2\n"
     ]
    },
    {
     "data": {
      "text/html": [
       "Tracking run with wandb version 0.15.3"
      ],
      "text/plain": [
       "<IPython.core.display.HTML object>"
      ]
     },
     "metadata": {},
     "output_type": "display_data"
    },
    {
     "data": {
      "text/html": [
       "Run data is saved locally in <code>/home/pragalbh/DL_Assign3/wandb/run-20230530_011139-fxpv9bbx</code>"
      ],
      "text/plain": [
       "<IPython.core.display.HTML object>"
      ]
     },
     "metadata": {},
     "output_type": "display_data"
    },
    {
     "data": {
      "text/html": [
       "Resuming run <strong><a href='https://wandb.ai/pragalbh/DL_Assign3/runs/fxpv9bbx' target=\"_blank\">dauntless-sweep-92</a></strong> to <a href='https://wandb.ai/pragalbh/DL_Assign3' target=\"_blank\">Weights & Biases</a> (<a href='https://wandb.me/run' target=\"_blank\">docs</a>)<br/>Sweep page: <a href='https://wandb.ai/pragalbh/DL_Assign3/sweeps/mzhrnfy5' target=\"_blank\">https://wandb.ai/pragalbh/DL_Assign3/sweeps/mzhrnfy5</a>"
      ],
      "text/plain": [
       "<IPython.core.display.HTML object>"
      ]
     },
     "metadata": {},
     "output_type": "display_data"
    },
    {
     "data": {
      "text/html": [
       " View project at <a href='https://wandb.ai/pragalbh/DL_Assign3' target=\"_blank\">https://wandb.ai/pragalbh/DL_Assign3</a>"
      ],
      "text/plain": [
       "<IPython.core.display.HTML object>"
      ]
     },
     "metadata": {},
     "output_type": "display_data"
    },
    {
     "data": {
      "text/html": [
       " View sweep at <a href='https://wandb.ai/pragalbh/DL_Assign3/sweeps/mzhrnfy5' target=\"_blank\">https://wandb.ai/pragalbh/DL_Assign3/sweeps/mzhrnfy5</a>"
      ],
      "text/plain": [
       "<IPython.core.display.HTML object>"
      ]
     },
     "metadata": {},
     "output_type": "display_data"
    },
    {
     "data": {
      "text/html": [
       " View run at <a href='https://wandb.ai/pragalbh/DL_Assign3/runs/fxpv9bbx' target=\"_blank\">https://wandb.ai/pragalbh/DL_Assign3/runs/fxpv9bbx</a>"
      ],
      "text/plain": [
       "<IPython.core.display.HTML object>"
      ]
     },
     "metadata": {},
     "output_type": "display_data"
    },
    {
     "name": "stdout",
     "output_type": "stream",
     "text": [
      "The model has 5,629,124 trainable parameters\n",
      "Epoch: 01 | Time: 1.0m 6.64s\n",
      "\t Train Loss: 1.367 | Train Acc: 18.81%\n",
      "\t Val. Loss: 1.447 |  Val. Acc: 31.05%\n",
      "\t Relaxed Train. Acc: 70.16% | Relaxed Val. Acc: 71.68%\n",
      "Epoch: 02 | Time: 1.0m 6.71s\n",
      "\t Train Loss: 1.024 | Train Acc: 31.70%\n",
      "\t Val. Loss: 1.374 |  Val. Acc: 37.67%\n",
      "\t Relaxed Train. Acc: 80.65% | Relaxed Val. Acc: 74.70%\n",
      "Epoch: 03 | Time: 1.0m 6.70s\n",
      "\t Train Loss: 0.938 | Train Acc: 36.94%\n",
      "\t Val. Loss: 1.338 |  Val. Acc: 39.21%\n",
      "\t Relaxed Train. Acc: 83.41% | Relaxed Val. Acc: 75.92%\n",
      "Epoch: 04 | Time: 1.0m 6.62s\n",
      "\t Train Loss: 0.897 | Train Acc: 40.60%\n",
      "\t Val. Loss: 1.355 |  Val. Acc: 38.92%\n",
      "\t Relaxed Train. Acc: 84.86% | Relaxed Val. Acc: 75.38%\n",
      "Epoch: 05 | Time: 1.0m 6.58s\n",
      "\t Train Loss: 0.858 | Train Acc: 43.68%\n",
      "\t Val. Loss: 1.348 |  Val. Acc: 41.58%\n",
      "\t Relaxed Train. Acc: 86.10% | Relaxed Val. Acc: 76.27%\n",
      "Epoch: 06 | Time: 1.0m 6.52s\n",
      "\t Train Loss: 0.831 | Train Acc: 46.16%\n",
      "\t Val. Loss: 1.351 |  Val. Acc: 41.75%\n",
      "\t Relaxed Train. Acc: 87.04% | Relaxed Val. Acc: 76.60%\n",
      "Epoch: 07 | Time: 1.0m 6.49s\n",
      "\t Train Loss: 0.804 | Train Acc: 48.41%\n",
      "\t Val. Loss: 1.354 |  Val. Acc: 40.99%\n",
      "\t Relaxed Train. Acc: 87.91% | Relaxed Val. Acc: 76.57%\n",
      "Epoch: 08 | Time: 1.0m 6.48s\n",
      "\t Train Loss: 0.785 | Train Acc: 50.25%\n",
      "\t Val. Loss: 1.387 |  Val. Acc: 42.11%\n",
      "\t Relaxed Train. Acc: 88.52% | Relaxed Val. Acc: 76.79%\n",
      "Epoch: 09 | Time: 1.0m 6.45s\n",
      "\t Train Loss: 0.769 | Train Acc: 52.24%\n",
      "\t Val. Loss: 1.358 |  Val. Acc: 42.29%\n",
      "\t Relaxed Train. Acc: 89.04% | Relaxed Val. Acc: 77.54%\n",
      "Epoch: 10 | Time: 1.0m 6.43s\n",
      "\t Train Loss: 0.750 | Train Acc: 53.98%\n",
      "\t Val. Loss: 1.365 |  Val. Acc: 42.26%\n",
      "\t Relaxed Train. Acc: 89.68% | Relaxed Val. Acc: 77.56%\n",
      "Epoch: 11 | Time: 1.0m 6.44s\n",
      "\t Train Loss: 0.741 | Train Acc: 55.34%\n",
      "\t Val. Loss: 1.408 |  Val. Acc: 42.29%\n",
      "\t Relaxed Train. Acc: 89.98% | Relaxed Val. Acc: 76.96%\n",
      "Epoch: 12 | Time: 1.0m 6.39s\n",
      "\t Train Loss: 0.728 | Train Acc: 56.75%\n",
      "\t Val. Loss: 1.412 |  Val. Acc: 42.63%\n",
      "\t Relaxed Train. Acc: 90.38% | Relaxed Val. Acc: 77.18%\n",
      "Epoch: 13 | Time: 1.0m 6.38s\n",
      "\t Train Loss: 0.718 | Train Acc: 57.91%\n",
      "\t Val. Loss: 1.440 |  Val. Acc: 40.65%\n",
      "\t Relaxed Train. Acc: 90.73% | Relaxed Val. Acc: 76.46%\n",
      "Epoch: 14 | Time: 1.0m 6.40s\n",
      "\t Train Loss: 0.705 | Train Acc: 59.01%\n",
      "\t Val. Loss: 1.474 |  Val. Acc: 41.58%\n",
      "\t Relaxed Train. Acc: 91.12% | Relaxed Val. Acc: 76.35%\n",
      "Epoch: 15 | Time: 1.0m 6.39s\n",
      "\t Train Loss: 0.701 | Train Acc: 60.03%\n",
      "\t Val. Loss: 1.436 |  Val. Acc: 42.65%\n",
      "\t Relaxed Train. Acc: 91.29% | Relaxed Val. Acc: 77.17%\n",
      "Epoch: 16 | Time: 1.0m 6.39s\n",
      "\t Train Loss: 0.693 | Train Acc: 60.70%\n",
      "\t Val. Loss: 1.471 |  Val. Acc: 40.94%\n",
      "\t Relaxed Train. Acc: 91.55% | Relaxed Val. Acc: 76.81%\n",
      "Epoch: 17 | Time: 1.0m 6.36s\n",
      "\t Train Loss: 0.687 | Train Acc: 61.24%\n",
      "\t Val. Loss: 1.481 |  Val. Acc: 41.46%\n",
      "\t Relaxed Train. Acc: 91.71% | Relaxed Val. Acc: 76.99%\n",
      "Epoch: 18 | Time: 1.0m 6.37s\n",
      "\t Train Loss: 0.682 | Train Acc: 62.17%\n",
      "\t Val. Loss: 1.491 |  Val. Acc: 41.11%\n",
      "\t Relaxed Train. Acc: 91.92% | Relaxed Val. Acc: 76.38%\n",
      "Epoch: 19 | Time: 1.0m 6.36s\n",
      "\t Train Loss: 0.675 | Train Acc: 62.93%\n",
      "\t Val. Loss: 1.495 |  Val. Acc: 41.09%\n",
      "\t Relaxed Train. Acc: 92.16% | Relaxed Val. Acc: 76.92%\n",
      "Epoch: 20 | Time: 1.0m 6.36s\n",
      "\t Train Loss: 0.671 | Train Acc: 63.33%\n",
      "\t Val. Loss: 1.491 |  Val. Acc: 41.06%\n",
      "\t Relaxed Train. Acc: 92.26% | Relaxed Val. Acc: 77.17%\n",
      "Run: enc_embed size: 256 dec_embed size: 32, enc_hid_size: 256, dec_hid_size: 512, num_layers: 2, cell_modelstm\n"
     ]
    },
    {
     "data": {
      "text/html": [
       "Waiting for W&B process to finish... <strong style=\"color:green\">(success).</strong>"
      ],
      "text/plain": [
       "<IPython.core.display.HTML object>"
      ]
     },
     "metadata": {},
     "output_type": "display_data"
    },
    {
     "data": {
      "text/html": [
       "<style>\n",
       "    table.wandb td:nth-child(1) { padding: 0 10px; text-align: left ; width: auto;} td:nth-child(2) {text-align: left ; width: 100%}\n",
       "    .wandb-row { display: flex; flex-direction: row; flex-wrap: wrap; justify-content: flex-start; width: 100% }\n",
       "    .wandb-col { display: flex; flex-direction: column; flex-basis: 100%; flex: 1; padding: 10px; }\n",
       "    </style>\n",
       "<div class=\"wandb-row\"><div class=\"wandb-col\"><h3>Run history:</h3><br/><table class=\"wandb\"><tr><td>epoch</td><td>▁▁▂▂▂▃▃▄▄▄▅▅▅▆▆▇▇▇██</td></tr><tr><td>relxd train acc</td><td>▁▄▅▆▆▆▇▇▇▇▇▇████████</td></tr><tr><td>relxd valid acc</td><td>▁▅▆▅▆▇▇▇██▇█▇▇█▇▇▇▇█</td></tr><tr><td>train acc</td><td>▁▃▄▄▅▅▆▆▆▇▇▇▇▇▇█████</td></tr><tr><td>train loss</td><td>█▅▄▃▃▃▂▂▂▂▂▂▁▁▁▁▁▁▁▁</td></tr><tr><td>valid acc</td><td>▁▅▆▆▇▇▇█████▇▇█▇▇▇▇▇</td></tr><tr><td>valid loss</td><td>▆▃▁▂▁▂▂▃▂▂▄▄▆▇▅▇▇███</td></tr></table><br/></div><div class=\"wandb-col\"><h3>Run summary:</h3><br/><table class=\"wandb\"><tr><td>epoch</td><td>19</td></tr><tr><td>relxd train acc</td><td>0.92263</td></tr><tr><td>relxd valid acc</td><td>0.77167</td></tr><tr><td>train acc</td><td>0.63326</td></tr><tr><td>train loss</td><td>0.67132</td></tr><tr><td>valid acc</td><td>0.41064</td></tr><tr><td>valid loss</td><td>1.49111</td></tr></table><br/></div></div>"
      ],
      "text/plain": [
       "<IPython.core.display.HTML object>"
      ]
     },
     "metadata": {},
     "output_type": "display_data"
    },
    {
     "data": {
      "text/html": [
       " View run <strong style=\"color:#cdcd00\">dauntless-sweep-92</strong> at: <a href='https://wandb.ai/pragalbh/DL_Assign3/runs/fxpv9bbx' target=\"_blank\">https://wandb.ai/pragalbh/DL_Assign3/runs/fxpv9bbx</a><br/>Synced 3 W&B file(s), 0 media file(s), 0 artifact file(s) and 0 other file(s)"
      ],
      "text/plain": [
       "<IPython.core.display.HTML object>"
      ]
     },
     "metadata": {},
     "output_type": "display_data"
    },
    {
     "data": {
      "text/html": [
       "Find logs at: <code>./wandb/run-20230530_011139-fxpv9bbx/logs</code>"
      ],
      "text/plain": [
       "<IPython.core.display.HTML object>"
      ]
     },
     "metadata": {},
     "output_type": "display_data"
    },
    {
     "name": "stderr",
     "output_type": "stream",
     "text": [
      "\u001b[34m\u001b[1mwandb\u001b[0m: Sweep Agent: Waiting for job.\n",
      "\u001b[34m\u001b[1mwandb\u001b[0m: Job received.\n",
      "\u001b[34m\u001b[1mwandb\u001b[0m: Agent Starting Run: y48iqpfm with config:\n",
      "\u001b[34m\u001b[1mwandb\u001b[0m: \tcell_mode: lstm\n",
      "\u001b[34m\u001b[1mwandb\u001b[0m: \tdec_embed_size: 32\n",
      "\u001b[34m\u001b[1mwandb\u001b[0m: \tdec_hid_size: 128\n",
      "\u001b[34m\u001b[1mwandb\u001b[0m: \tdropout: 0.25\n",
      "\u001b[34m\u001b[1mwandb\u001b[0m: \tenc_embed_size: 512\n",
      "\u001b[34m\u001b[1mwandb\u001b[0m: \tenc_hid_size: 256\n",
      "\u001b[34m\u001b[1mwandb\u001b[0m: \tepochs: 30\n",
      "\u001b[34m\u001b[1mwandb\u001b[0m: \tis_bi: False\n",
      "\u001b[34m\u001b[1mwandb\u001b[0m: \tnum_layers: 3\n"
     ]
    },
    {
     "data": {
      "text/html": [
       "Tracking run with wandb version 0.15.3"
      ],
      "text/plain": [
       "<IPython.core.display.HTML object>"
      ]
     },
     "metadata": {},
     "output_type": "display_data"
    },
    {
     "data": {
      "text/html": [
       "Run data is saved locally in <code>/home/pragalbh/DL_Assign3/wandb/run-20230530_013410-y48iqpfm</code>"
      ],
      "text/plain": [
       "<IPython.core.display.HTML object>"
      ]
     },
     "metadata": {},
     "output_type": "display_data"
    },
    {
     "data": {
      "text/html": [
       "Resuming run <strong><a href='https://wandb.ai/pragalbh/DL_Assign3/runs/y48iqpfm' target=\"_blank\">eager-sweep-93</a></strong> to <a href='https://wandb.ai/pragalbh/DL_Assign3' target=\"_blank\">Weights & Biases</a> (<a href='https://wandb.me/run' target=\"_blank\">docs</a>)<br/>Sweep page: <a href='https://wandb.ai/pragalbh/DL_Assign3/sweeps/mzhrnfy5' target=\"_blank\">https://wandb.ai/pragalbh/DL_Assign3/sweeps/mzhrnfy5</a>"
      ],
      "text/plain": [
       "<IPython.core.display.HTML object>"
      ]
     },
     "metadata": {},
     "output_type": "display_data"
    },
    {
     "data": {
      "text/html": [
       " View project at <a href='https://wandb.ai/pragalbh/DL_Assign3' target=\"_blank\">https://wandb.ai/pragalbh/DL_Assign3</a>"
      ],
      "text/plain": [
       "<IPython.core.display.HTML object>"
      ]
     },
     "metadata": {},
     "output_type": "display_data"
    },
    {
     "data": {
      "text/html": [
       " View sweep at <a href='https://wandb.ai/pragalbh/DL_Assign3/sweeps/mzhrnfy5' target=\"_blank\">https://wandb.ai/pragalbh/DL_Assign3/sweeps/mzhrnfy5</a>"
      ],
      "text/plain": [
       "<IPython.core.display.HTML object>"
      ]
     },
     "metadata": {},
     "output_type": "display_data"
    },
    {
     "data": {
      "text/html": [
       " View run at <a href='https://wandb.ai/pragalbh/DL_Assign3/runs/y48iqpfm' target=\"_blank\">https://wandb.ai/pragalbh/DL_Assign3/runs/y48iqpfm</a>"
      ],
      "text/plain": [
       "<IPython.core.display.HTML object>"
      ]
     },
     "metadata": {},
     "output_type": "display_data"
    },
    {
     "name": "stdout",
     "output_type": "stream",
     "text": [
      "The model has 2,163,780 trainable parameters\n",
      "Epoch: 01 | Time: 0.0m 48.54s\n",
      "\t Train Loss: 2.653 | Train Acc: 0.77%\n",
      "\t Val. Loss: 1.858 |  Val. Acc: 12.65%\n",
      "\t Relaxed Train. Acc: 34.79% | Relaxed Val. Acc: 59.72%\n",
      "Epoch: 02 | Time: 0.0m 48.30s\n",
      "\t Train Loss: 1.361 | Train Acc: 16.59%\n",
      "\t Val. Loss: 1.530 |  Val. Acc: 27.61%\n",
      "\t Relaxed Train. Acc: 70.98% | Relaxed Val. Acc: 68.88%\n",
      "Epoch: 03 | Time: 0.0m 48.23s\n",
      "\t Train Loss: 1.131 | Train Acc: 25.37%\n",
      "\t Val. Loss: 1.423 |  Val. Acc: 32.28%\n",
      "\t Relaxed Train. Acc: 77.54% | Relaxed Val. Acc: 71.96%\n",
      "Epoch: 04 | Time: 0.0m 48.18s\n",
      "\t Train Loss: 1.044 | Train Acc: 29.67%\n",
      "\t Val. Loss: 1.407 |  Val. Acc: 34.25%\n",
      "\t Relaxed Train. Acc: 80.17% | Relaxed Val. Acc: 72.91%\n",
      "Epoch: 05 | Time: 0.0m 48.16s\n",
      "\t Train Loss: 0.999 | Train Acc: 32.07%\n",
      "\t Val. Loss: 1.378 |  Val. Acc: 35.89%\n",
      "\t Relaxed Train. Acc: 81.45% | Relaxed Val. Acc: 73.80%\n",
      "Epoch: 06 | Time: 0.0m 48.14s\n",
      "\t Train Loss: 0.962 | Train Acc: 34.55%\n",
      "\t Val. Loss: 1.391 |  Val. Acc: 37.11%\n",
      "\t Relaxed Train. Acc: 82.66% | Relaxed Val. Acc: 74.59%\n",
      "Epoch: 07 | Time: 0.0m 48.11s\n",
      "\t Train Loss: 0.930 | Train Acc: 36.15%\n",
      "\t Val. Loss: 1.344 |  Val. Acc: 37.82%\n",
      "\t Relaxed Train. Acc: 83.62% | Relaxed Val. Acc: 75.44%\n",
      "Epoch: 08 | Time: 0.0m 48.11s\n",
      "\t Train Loss: 0.909 | Train Acc: 38.04%\n",
      "\t Val. Loss: 1.345 |  Val. Acc: 38.62%\n",
      "\t Relaxed Train. Acc: 84.33% | Relaxed Val. Acc: 75.74%\n",
      "Epoch: 09 | Time: 0.0m 48.05s\n",
      "\t Train Loss: 0.895 | Train Acc: 39.23%\n",
      "\t Val. Loss: 1.333 |  Val. Acc: 40.55%\n",
      "\t Relaxed Train. Acc: 84.84% | Relaxed Val. Acc: 76.44%\n",
      "Epoch: 10 | Time: 0.0m 48.06s\n",
      "\t Train Loss: 0.877 | Train Acc: 40.77%\n",
      "\t Val. Loss: 1.347 |  Val. Acc: 39.62%\n",
      "\t Relaxed Train. Acc: 85.40% | Relaxed Val. Acc: 75.75%\n",
      "Epoch: 11 | Time: 0.0m 48.05s\n",
      "\t Train Loss: 0.862 | Train Acc: 41.80%\n",
      "\t Val. Loss: 1.343 |  Val. Acc: 40.67%\n",
      "\t Relaxed Train. Acc: 85.79% | Relaxed Val. Acc: 76.51%\n",
      "Epoch: 12 | Time: 0.0m 48.04s\n",
      "\t Train Loss: 0.851 | Train Acc: 42.83%\n",
      "\t Val. Loss: 1.319 |  Val. Acc: 40.48%\n",
      "\t Relaxed Train. Acc: 86.23% | Relaxed Val. Acc: 76.85%\n",
      "Epoch: 13 | Time: 0.0m 48.03s\n",
      "\t Train Loss: 0.842 | Train Acc: 43.70%\n",
      "\t Val. Loss: 1.323 |  Val. Acc: 40.75%\n",
      "\t Relaxed Train. Acc: 86.50% | Relaxed Val. Acc: 76.95%\n",
      "Epoch: 14 | Time: 0.0m 48.00s\n",
      "\t Train Loss: 0.825 | Train Acc: 44.78%\n",
      "\t Val. Loss: 1.343 |  Val. Acc: 40.58%\n",
      "\t Relaxed Train. Acc: 87.03% | Relaxed Val. Acc: 76.74%\n",
      "Epoch: 15 | Time: 0.0m 48.00s\n",
      "\t Train Loss: 0.821 | Train Acc: 45.65%\n",
      "\t Val. Loss: 1.351 |  Val. Acc: 40.36%\n",
      "\t Relaxed Train. Acc: 87.19% | Relaxed Val. Acc: 76.44%\n",
      "Epoch: 16 | Time: 0.0m 47.98s\n",
      "\t Train Loss: 0.810 | Train Acc: 46.66%\n",
      "\t Val. Loss: 1.346 |  Val. Acc: 41.31%\n",
      "\t Relaxed Train. Acc: 87.59% | Relaxed Val. Acc: 77.16%\n",
      "Epoch: 17 | Time: 0.0m 47.96s\n",
      "\t Train Loss: 0.802 | Train Acc: 47.14%\n",
      "\t Val. Loss: 1.376 |  Val. Acc: 40.77%\n",
      "\t Relaxed Train. Acc: 87.79% | Relaxed Val. Acc: 76.30%\n",
      "Epoch: 18 | Time: 0.0m 47.98s\n",
      "\t Train Loss: 0.793 | Train Acc: 47.99%\n",
      "\t Val. Loss: 1.365 |  Val. Acc: 41.11%\n",
      "\t Relaxed Train. Acc: 88.12% | Relaxed Val. Acc: 77.12%\n",
      "Epoch: 19 | Time: 0.0m 47.97s\n",
      "\t Train Loss: 0.786 | Train Acc: 49.01%\n",
      "\t Val. Loss: 1.342 |  Val. Acc: 42.07%\n",
      "\t Relaxed Train. Acc: 88.32% | Relaxed Val. Acc: 77.73%\n",
      "Epoch: 20 | Time: 0.0m 48.00s\n",
      "\t Train Loss: 0.777 | Train Acc: 49.59%\n",
      "\t Val. Loss: 1.386 |  Val. Acc: 41.77%\n",
      "\t Relaxed Train. Acc: 88.59% | Relaxed Val. Acc: 77.00%\n",
      "Epoch: 21 | Time: 0.0m 47.97s\n",
      "\t Train Loss: 0.772 | Train Acc: 50.37%\n",
      "\t Val. Loss: 1.351 |  Val. Acc: 41.50%\n",
      "\t Relaxed Train. Acc: 88.79% | Relaxed Val. Acc: 77.21%\n",
      "Epoch: 22 | Time: 0.0m 47.97s\n",
      "\t Train Loss: 0.766 | Train Acc: 50.46%\n",
      "\t Val. Loss: 1.349 |  Val. Acc: 42.43%\n",
      "\t Relaxed Train. Acc: 88.95% | Relaxed Val. Acc: 77.88%\n",
      "Epoch: 23 | Time: 0.0m 47.93s\n",
      "\t Train Loss: 0.759 | Train Acc: 51.71%\n",
      "\t Val. Loss: 1.376 |  Val. Acc: 41.58%\n",
      "\t Relaxed Train. Acc: 89.25% | Relaxed Val. Acc: 77.37%\n",
      "Epoch: 24 | Time: 0.0m 47.98s\n",
      "\t Train Loss: 0.756 | Train Acc: 52.04%\n",
      "\t Val. Loss: 1.384 |  Val. Acc: 40.94%\n",
      "\t Relaxed Train. Acc: 89.32% | Relaxed Val. Acc: 76.87%\n",
      "Epoch: 25 | Time: 0.0m 47.97s\n",
      "\t Train Loss: 0.749 | Train Acc: 52.51%\n",
      "\t Val. Loss: 1.396 |  Val. Acc: 41.36%\n",
      "\t Relaxed Train. Acc: 89.50% | Relaxed Val. Acc: 76.80%\n",
      "Epoch: 26 | Time: 0.0m 47.94s\n",
      "\t Train Loss: 0.744 | Train Acc: 52.92%\n",
      "\t Val. Loss: 1.383 |  Val. Acc: 41.85%\n",
      "\t Relaxed Train. Acc: 89.69% | Relaxed Val. Acc: 77.36%\n",
      "Epoch: 27 | Time: 0.0m 47.95s\n",
      "\t Train Loss: 0.744 | Train Acc: 53.48%\n",
      "\t Val. Loss: 1.396 |  Val. Acc: 41.36%\n",
      "\t Relaxed Train. Acc: 89.69% | Relaxed Val. Acc: 77.40%\n",
      "Epoch: 28 | Time: 0.0m 47.95s\n",
      "\t Train Loss: 0.740 | Train Acc: 53.89%\n",
      "\t Val. Loss: 1.395 |  Val. Acc: 40.80%\n",
      "\t Relaxed Train. Acc: 89.82% | Relaxed Val. Acc: 77.12%\n",
      "Epoch: 29 | Time: 0.0m 47.92s\n",
      "\t Train Loss: 0.735 | Train Acc: 54.16%\n",
      "\t Val. Loss: 1.434 |  Val. Acc: 41.28%\n",
      "\t Relaxed Train. Acc: 89.96% | Relaxed Val. Acc: 76.86%\n",
      "Epoch: 30 | Time: 0.0m 47.96s\n",
      "\t Train Loss: 0.732 | Train Acc: 54.51%\n",
      "\t Val. Loss: 1.415 |  Val. Acc: 41.60%\n",
      "\t Relaxed Train. Acc: 90.10% | Relaxed Val. Acc: 77.04%\n",
      "Run: enc_embed size: 512 dec_embed size: 32, enc_hid_size: 256, dec_hid_size: 128, num_layers: 3, cell_modelstm\n"
     ]
    },
    {
     "data": {
      "text/html": [
       "Waiting for W&B process to finish... <strong style=\"color:green\">(success).</strong>"
      ],
      "text/plain": [
       "<IPython.core.display.HTML object>"
      ]
     },
     "metadata": {},
     "output_type": "display_data"
    },
    {
     "data": {
      "text/html": [
       "<style>\n",
       "    table.wandb td:nth-child(1) { padding: 0 10px; text-align: left ; width: auto;} td:nth-child(2) {text-align: left ; width: 100%}\n",
       "    .wandb-row { display: flex; flex-direction: row; flex-wrap: wrap; justify-content: flex-start; width: 100% }\n",
       "    .wandb-col { display: flex; flex-direction: column; flex-basis: 100%; flex: 1; padding: 10px; }\n",
       "    </style>\n",
       "<div class=\"wandb-row\"><div class=\"wandb-col\"><h3>Run history:</h3><br/><table class=\"wandb\"><tr><td>epoch</td><td>▁▁▁▂▂▂▂▃▃▃▃▄▄▄▄▅▅▅▅▆▆▆▆▇▇▇▇███</td></tr><tr><td>relxd train acc</td><td>▁▆▆▇▇▇▇▇▇▇▇███████████████████</td></tr><tr><td>relxd valid acc</td><td>▁▅▆▆▆▇▇▇▇▇▇███▇█▇█████████████</td></tr><tr><td>train acc</td><td>▁▃▄▅▅▅▆▆▆▆▆▆▇▇▇▇▇▇▇▇▇▇████████</td></tr><tr><td>train loss</td><td>█▃▂▂▂▂▂▂▂▂▁▁▁▁▁▁▁▁▁▁▁▁▁▁▁▁▁▁▁▁</td></tr><tr><td>valid acc</td><td>▁▅▆▆▆▇▇▇█▇████████████████████</td></tr><tr><td>valid loss</td><td>█▄▂▂▂▂▁▁▁▁▁▁▁▁▁▁▂▂▁▂▁▁▂▂▂▂▂▂▂▂</td></tr></table><br/></div><div class=\"wandb-col\"><h3>Run summary:</h3><br/><table class=\"wandb\"><tr><td>epoch</td><td>29</td></tr><tr><td>relxd train acc</td><td>0.90095</td></tr><tr><td>relxd valid acc</td><td>0.77044</td></tr><tr><td>train acc</td><td>0.5451</td></tr><tr><td>train loss</td><td>0.73154</td></tr><tr><td>valid acc</td><td>0.41602</td></tr><tr><td>valid loss</td><td>1.41468</td></tr></table><br/></div></div>"
      ],
      "text/plain": [
       "<IPython.core.display.HTML object>"
      ]
     },
     "metadata": {},
     "output_type": "display_data"
    },
    {
     "data": {
      "text/html": [
       " View run <strong style=\"color:#cdcd00\">eager-sweep-93</strong> at: <a href='https://wandb.ai/pragalbh/DL_Assign3/runs/y48iqpfm' target=\"_blank\">https://wandb.ai/pragalbh/DL_Assign3/runs/y48iqpfm</a><br/>Synced 3 W&B file(s), 0 media file(s), 0 artifact file(s) and 0 other file(s)"
      ],
      "text/plain": [
       "<IPython.core.display.HTML object>"
      ]
     },
     "metadata": {},
     "output_type": "display_data"
    },
    {
     "data": {
      "text/html": [
       "Find logs at: <code>./wandb/run-20230530_013410-y48iqpfm/logs</code>"
      ],
      "text/plain": [
       "<IPython.core.display.HTML object>"
      ]
     },
     "metadata": {},
     "output_type": "display_data"
    },
    {
     "name": "stderr",
     "output_type": "stream",
     "text": [
      "\u001b[34m\u001b[1mwandb\u001b[0m: Agent Starting Run: d9zpcolw with config:\n",
      "\u001b[34m\u001b[1mwandb\u001b[0m: \tcell_mode: lstm\n",
      "\u001b[34m\u001b[1mwandb\u001b[0m: \tdec_embed_size: 64\n",
      "\u001b[34m\u001b[1mwandb\u001b[0m: \tdec_hid_size: 512\n",
      "\u001b[34m\u001b[1mwandb\u001b[0m: \tdropout: 0.25\n",
      "\u001b[34m\u001b[1mwandb\u001b[0m: \tenc_embed_size: 512\n",
      "\u001b[34m\u001b[1mwandb\u001b[0m: \tenc_hid_size: 512\n",
      "\u001b[34m\u001b[1mwandb\u001b[0m: \tepochs: 10\n",
      "\u001b[34m\u001b[1mwandb\u001b[0m: \tis_bi: True\n",
      "\u001b[34m\u001b[1mwandb\u001b[0m: \tnum_layers: 1\n"
     ]
    },
    {
     "data": {
      "text/html": [
       "Tracking run with wandb version 0.15.3"
      ],
      "text/plain": [
       "<IPython.core.display.HTML object>"
      ]
     },
     "metadata": {},
     "output_type": "display_data"
    },
    {
     "data": {
      "text/html": [
       "Run data is saved locally in <code>/home/pragalbh/DL_Assign3/wandb/run-20230530_015825-d9zpcolw</code>"
      ],
      "text/plain": [
       "<IPython.core.display.HTML object>"
      ]
     },
     "metadata": {},
     "output_type": "display_data"
    },
    {
     "data": {
      "text/html": [
       "Resuming run <strong><a href='https://wandb.ai/pragalbh/DL_Assign3/runs/d9zpcolw' target=\"_blank\">earthy-sweep-94</a></strong> to <a href='https://wandb.ai/pragalbh/DL_Assign3' target=\"_blank\">Weights & Biases</a> (<a href='https://wandb.me/run' target=\"_blank\">docs</a>)<br/>Sweep page: <a href='https://wandb.ai/pragalbh/DL_Assign3/sweeps/mzhrnfy5' target=\"_blank\">https://wandb.ai/pragalbh/DL_Assign3/sweeps/mzhrnfy5</a>"
      ],
      "text/plain": [
       "<IPython.core.display.HTML object>"
      ]
     },
     "metadata": {},
     "output_type": "display_data"
    },
    {
     "data": {
      "text/html": [
       " View project at <a href='https://wandb.ai/pragalbh/DL_Assign3' target=\"_blank\">https://wandb.ai/pragalbh/DL_Assign3</a>"
      ],
      "text/plain": [
       "<IPython.core.display.HTML object>"
      ]
     },
     "metadata": {},
     "output_type": "display_data"
    },
    {
     "data": {
      "text/html": [
       " View sweep at <a href='https://wandb.ai/pragalbh/DL_Assign3/sweeps/mzhrnfy5' target=\"_blank\">https://wandb.ai/pragalbh/DL_Assign3/sweeps/mzhrnfy5</a>"
      ],
      "text/plain": [
       "<IPython.core.display.HTML object>"
      ]
     },
     "metadata": {},
     "output_type": "display_data"
    },
    {
     "data": {
      "text/html": [
       " View run at <a href='https://wandb.ai/pragalbh/DL_Assign3/runs/d9zpcolw' target=\"_blank\">https://wandb.ai/pragalbh/DL_Assign3/runs/d9zpcolw</a>"
      ],
      "text/plain": [
       "<IPython.core.display.HTML object>"
      ]
     },
     "metadata": {},
     "output_type": "display_data"
    },
    {
     "name": "stdout",
     "output_type": "stream",
     "text": [
      "The model has 8,850,244 trainable parameters\n",
      "Epoch: 01 | Time: 1.0m 24.76s\n",
      "\t Train Loss: 1.333 | Train Acc: 19.00%\n",
      "\t Val. Loss: 1.461 |  Val. Acc: 30.32%\n",
      "\t Relaxed Train. Acc: 70.89% | Relaxed Val. Acc: 71.16%\n",
      "Epoch: 02 | Time: 1.0m 24.93s\n",
      "\t Train Loss: 1.046 | Train Acc: 30.23%\n",
      "\t Val. Loss: 1.412 |  Val. Acc: 34.47%\n",
      "\t Relaxed Train. Acc: 79.93% | Relaxed Val. Acc: 73.18%\n",
      "Epoch: 03 | Time: 1.0m 24.98s\n",
      "\t Train Loss: 0.978 | Train Acc: 33.82%\n",
      "\t Val. Loss: 1.373 |  Val. Acc: 36.04%\n",
      "\t Relaxed Train. Acc: 82.07% | Relaxed Val. Acc: 74.45%\n",
      "Epoch: 04 | Time: 1.0m 24.84s\n",
      "\t Train Loss: 0.941 | Train Acc: 36.98%\n",
      "\t Val. Loss: 1.363 |  Val. Acc: 36.94%\n",
      "\t Relaxed Train. Acc: 83.32% | Relaxed Val. Acc: 74.80%\n",
      "Epoch: 05 | Time: 1.0m 24.80s\n",
      "\t Train Loss: 0.914 | Train Acc: 38.76%\n",
      "\t Val. Loss: 1.390 |  Val. Acc: 38.38%\n",
      "\t Relaxed Train. Acc: 84.22% | Relaxed Val. Acc: 74.88%\n",
      "Epoch: 06 | Time: 1.0m 24.77s\n",
      "\t Train Loss: 0.890 | Train Acc: 40.65%\n",
      "\t Val. Loss: 1.360 |  Val. Acc: 39.43%\n",
      "\t Relaxed Train. Acc: 84.97% | Relaxed Val. Acc: 75.84%\n",
      "Epoch: 07 | Time: 1.0m 24.83s\n",
      "\t Train Loss: 0.867 | Train Acc: 42.57%\n",
      "\t Val. Loss: 1.369 |  Val. Acc: 40.31%\n",
      "\t Relaxed Train. Acc: 85.81% | Relaxed Val. Acc: 75.74%\n",
      "Epoch: 08 | Time: 1.0m 24.71s\n",
      "\t Train Loss: 0.848 | Train Acc: 44.18%\n",
      "\t Val. Loss: 1.399 |  Val. Acc: 40.67%\n",
      "\t Relaxed Train. Acc: 86.45% | Relaxed Val. Acc: 76.11%\n",
      "Epoch: 09 | Time: 1.0m 24.72s\n",
      "\t Train Loss: 0.835 | Train Acc: 45.39%\n",
      "\t Val. Loss: 1.376 |  Val. Acc: 39.94%\n",
      "\t Relaxed Train. Acc: 86.84% | Relaxed Val. Acc: 75.97%\n",
      "Epoch: 10 | Time: 1.0m 24.69s\n",
      "\t Train Loss: 0.818 | Train Acc: 47.17%\n",
      "\t Val. Loss: 1.399 |  Val. Acc: 39.48%\n",
      "\t Relaxed Train. Acc: 87.40% | Relaxed Val. Acc: 76.03%\n",
      "Run: enc_embed size: 512 dec_embed size: 64, enc_hid_size: 512, dec_hid_size: 512, num_layers: 1, cell_modelstm\n"
     ]
    },
    {
     "data": {
      "text/html": [
       "Waiting for W&B process to finish... <strong style=\"color:green\">(success).</strong>"
      ],
      "text/plain": [
       "<IPython.core.display.HTML object>"
      ]
     },
     "metadata": {},
     "output_type": "display_data"
    },
    {
     "data": {
      "text/html": [
       "<style>\n",
       "    table.wandb td:nth-child(1) { padding: 0 10px; text-align: left ; width: auto;} td:nth-child(2) {text-align: left ; width: 100%}\n",
       "    .wandb-row { display: flex; flex-direction: row; flex-wrap: wrap; justify-content: flex-start; width: 100% }\n",
       "    .wandb-col { display: flex; flex-direction: column; flex-basis: 100%; flex: 1; padding: 10px; }\n",
       "    </style>\n",
       "<div class=\"wandb-row\"><div class=\"wandb-col\"><h3>Run history:</h3><br/><table class=\"wandb\"><tr><td>epoch</td><td>▁▂▃▃▄▅▆▆▇█</td></tr><tr><td>relxd train acc</td><td>▁▅▆▆▇▇▇███</td></tr><tr><td>relxd valid acc</td><td>▁▄▆▆▆█▇███</td></tr><tr><td>train acc</td><td>▁▄▅▅▆▆▇▇██</td></tr><tr><td>train loss</td><td>█▄▃▃▂▂▂▁▁▁</td></tr><tr><td>valid acc</td><td>▁▄▅▅▆▇███▇</td></tr><tr><td>valid loss</td><td>█▅▂▁▃▁▂▄▂▄</td></tr></table><br/></div><div class=\"wandb-col\"><h3>Run summary:</h3><br/><table class=\"wandb\"><tr><td>epoch</td><td>9</td></tr><tr><td>relxd train acc</td><td>0.87403</td></tr><tr><td>relxd valid acc</td><td>0.76035</td></tr><tr><td>train acc</td><td>0.47166</td></tr><tr><td>train loss</td><td>0.81838</td></tr><tr><td>valid acc</td><td>0.39478</td></tr><tr><td>valid loss</td><td>1.39879</td></tr></table><br/></div></div>"
      ],
      "text/plain": [
       "<IPython.core.display.HTML object>"
      ]
     },
     "metadata": {},
     "output_type": "display_data"
    },
    {
     "data": {
      "text/html": [
       " View run <strong style=\"color:#cdcd00\">earthy-sweep-94</strong> at: <a href='https://wandb.ai/pragalbh/DL_Assign3/runs/d9zpcolw' target=\"_blank\">https://wandb.ai/pragalbh/DL_Assign3/runs/d9zpcolw</a><br/>Synced 3 W&B file(s), 0 media file(s), 0 artifact file(s) and 0 other file(s)"
      ],
      "text/plain": [
       "<IPython.core.display.HTML object>"
      ]
     },
     "metadata": {},
     "output_type": "display_data"
    },
    {
     "data": {
      "text/html": [
       "Find logs at: <code>./wandb/run-20230530_015825-d9zpcolw/logs</code>"
      ],
      "text/plain": [
       "<IPython.core.display.HTML object>"
      ]
     },
     "metadata": {},
     "output_type": "display_data"
    },
    {
     "name": "stderr",
     "output_type": "stream",
     "text": [
      "\u001b[34m\u001b[1mwandb\u001b[0m: Agent Starting Run: 46luix9n with config:\n",
      "\u001b[34m\u001b[1mwandb\u001b[0m: \tcell_mode: lstm\n",
      "\u001b[34m\u001b[1mwandb\u001b[0m: \tdec_embed_size: 32\n",
      "\u001b[34m\u001b[1mwandb\u001b[0m: \tdec_hid_size: 512\n",
      "\u001b[34m\u001b[1mwandb\u001b[0m: \tdropout: 0.3\n",
      "\u001b[34m\u001b[1mwandb\u001b[0m: \tenc_embed_size: 128\n",
      "\u001b[34m\u001b[1mwandb\u001b[0m: \tenc_hid_size: 64\n",
      "\u001b[34m\u001b[1mwandb\u001b[0m: \tepochs: 10\n",
      "\u001b[34m\u001b[1mwandb\u001b[0m: \tis_bi: True\n",
      "\u001b[34m\u001b[1mwandb\u001b[0m: \tnum_layers: 1\n"
     ]
    },
    {
     "data": {
      "text/html": [
       "Tracking run with wandb version 0.15.3"
      ],
      "text/plain": [
       "<IPython.core.display.HTML object>"
      ]
     },
     "metadata": {},
     "output_type": "display_data"
    },
    {
     "data": {
      "text/html": [
       "Run data is saved locally in <code>/home/pragalbh/DL_Assign3/wandb/run-20230530_021247-46luix9n</code>"
      ],
      "text/plain": [
       "<IPython.core.display.HTML object>"
      ]
     },
     "metadata": {},
     "output_type": "display_data"
    },
    {
     "data": {
      "text/html": [
       "Resuming run <strong><a href='https://wandb.ai/pragalbh/DL_Assign3/runs/46luix9n' target=\"_blank\">eager-sweep-95</a></strong> to <a href='https://wandb.ai/pragalbh/DL_Assign3' target=\"_blank\">Weights & Biases</a> (<a href='https://wandb.me/run' target=\"_blank\">docs</a>)<br/>Sweep page: <a href='https://wandb.ai/pragalbh/DL_Assign3/sweeps/mzhrnfy5' target=\"_blank\">https://wandb.ai/pragalbh/DL_Assign3/sweeps/mzhrnfy5</a>"
      ],
      "text/plain": [
       "<IPython.core.display.HTML object>"
      ]
     },
     "metadata": {},
     "output_type": "display_data"
    },
    {
     "data": {
      "text/html": [
       " View project at <a href='https://wandb.ai/pragalbh/DL_Assign3' target=\"_blank\">https://wandb.ai/pragalbh/DL_Assign3</a>"
      ],
      "text/plain": [
       "<IPython.core.display.HTML object>"
      ]
     },
     "metadata": {},
     "output_type": "display_data"
    },
    {
     "data": {
      "text/html": [
       " View sweep at <a href='https://wandb.ai/pragalbh/DL_Assign3/sweeps/mzhrnfy5' target=\"_blank\">https://wandb.ai/pragalbh/DL_Assign3/sweeps/mzhrnfy5</a>"
      ],
      "text/plain": [
       "<IPython.core.display.HTML object>"
      ]
     },
     "metadata": {},
     "output_type": "display_data"
    },
    {
     "data": {
      "text/html": [
       " View run at <a href='https://wandb.ai/pragalbh/DL_Assign3/runs/46luix9n' target=\"_blank\">https://wandb.ai/pragalbh/DL_Assign3/runs/46luix9n</a>"
      ],
      "text/plain": [
       "<IPython.core.display.HTML object>"
      ]
     },
     "metadata": {},
     "output_type": "display_data"
    },
    {
     "name": "stdout",
     "output_type": "stream",
     "text": [
      "The model has 1,915,332 trainable parameters\n",
      "Epoch: 01 | Time: 0.0m 51.23s\n",
      "\t Train Loss: 1.427 | Train Acc: 16.24%\n",
      "\t Val. Loss: 1.427 |  Val. Acc: 31.40%\n",
      "\t Relaxed Train. Acc: 68.32% | Relaxed Val. Acc: 71.80%\n",
      "Epoch: 02 | Time: 0.0m 51.33s\n",
      "\t Train Loss: 1.046 | Train Acc: 29.61%\n",
      "\t Val. Loss: 1.352 |  Val. Acc: 36.23%\n",
      "\t Relaxed Train. Acc: 79.84% | Relaxed Val. Acc: 74.75%\n",
      "Epoch: 03 | Time: 0.0m 51.31s\n",
      "\t Train Loss: 0.957 | Train Acc: 35.41%\n",
      "\t Val. Loss: 1.377 |  Val. Acc: 37.06%\n",
      "\t Relaxed Train. Acc: 82.78% | Relaxed Val. Acc: 74.50%\n",
      "Epoch: 04 | Time: 0.0m 51.27s\n",
      "\t Train Loss: 0.903 | Train Acc: 39.62%\n",
      "\t Val. Loss: 1.378 |  Val. Acc: 38.40%\n",
      "\t Relaxed Train. Acc: 84.59% | Relaxed Val. Acc: 74.89%\n",
      "Epoch: 05 | Time: 0.0m 51.17s\n",
      "\t Train Loss: 0.868 | Train Acc: 42.92%\n",
      "\t Val. Loss: 1.341 |  Val. Acc: 39.62%\n",
      "\t Relaxed Train. Acc: 85.71% | Relaxed Val. Acc: 75.91%\n",
      "Epoch: 06 | Time: 0.0m 51.18s\n",
      "\t Train Loss: 0.833 | Train Acc: 45.69%\n",
      "\t Val. Loss: 1.354 |  Val. Acc: 39.11%\n",
      "\t Relaxed Train. Acc: 86.85% | Relaxed Val. Acc: 76.06%\n",
      "Epoch: 07 | Time: 0.0m 51.12s\n",
      "\t Train Loss: 0.802 | Train Acc: 48.55%\n",
      "\t Val. Loss: 1.360 |  Val. Acc: 40.75%\n",
      "\t Relaxed Train. Acc: 87.83% | Relaxed Val. Acc: 76.87%\n",
      "Epoch: 08 | Time: 0.0m 51.12s\n",
      "\t Train Loss: 0.775 | Train Acc: 50.84%\n",
      "\t Val. Loss: 1.401 |  Val. Acc: 39.94%\n",
      "\t Relaxed Train. Acc: 88.75% | Relaxed Val. Acc: 76.64%\n",
      "Epoch: 09 | Time: 0.0m 51.09s\n",
      "\t Train Loss: 0.758 | Train Acc: 53.16%\n",
      "\t Val. Loss: 1.412 |  Val. Acc: 39.36%\n",
      "\t Relaxed Train. Acc: 89.27% | Relaxed Val. Acc: 76.25%\n",
      "Epoch: 10 | Time: 0.0m 51.03s\n",
      "\t Train Loss: 0.736 | Train Acc: 55.46%\n",
      "\t Val. Loss: 1.441 |  Val. Acc: 38.84%\n",
      "\t Relaxed Train. Acc: 90.06% | Relaxed Val. Acc: 76.22%\n",
      "Run: enc_embed size: 128 dec_embed size: 32, enc_hid_size: 64, dec_hid_size: 512, num_layers: 1, cell_modelstm\n"
     ]
    },
    {
     "data": {
      "text/html": [
       "Waiting for W&B process to finish... <strong style=\"color:green\">(success).</strong>"
      ],
      "text/plain": [
       "<IPython.core.display.HTML object>"
      ]
     },
     "metadata": {},
     "output_type": "display_data"
    },
    {
     "data": {
      "text/html": [
       "<style>\n",
       "    table.wandb td:nth-child(1) { padding: 0 10px; text-align: left ; width: auto;} td:nth-child(2) {text-align: left ; width: 100%}\n",
       "    .wandb-row { display: flex; flex-direction: row; flex-wrap: wrap; justify-content: flex-start; width: 100% }\n",
       "    .wandb-col { display: flex; flex-direction: column; flex-basis: 100%; flex: 1; padding: 10px; }\n",
       "    </style>\n",
       "<div class=\"wandb-row\"><div class=\"wandb-col\"><h3>Run history:</h3><br/><table class=\"wandb\"><tr><td>epoch</td><td>▁▂▃▃▄▅▆▆▇█</td></tr><tr><td>relxd train acc</td><td>▁▅▆▆▇▇▇███</td></tr><tr><td>relxd valid acc</td><td>▁▅▅▅▇▇██▇▇</td></tr><tr><td>train acc</td><td>▁▃▄▅▆▆▇▇██</td></tr><tr><td>train loss</td><td>█▄▃▃▂▂▂▁▁▁</td></tr><tr><td>valid acc</td><td>▁▅▅▆▇▇█▇▇▇</td></tr><tr><td>valid loss</td><td>▇▂▄▄▁▂▂▅▆█</td></tr></table><br/></div><div class=\"wandb-col\"><h3>Run summary:</h3><br/><table class=\"wandb\"><tr><td>epoch</td><td>9</td></tr><tr><td>relxd train acc</td><td>0.90063</td></tr><tr><td>relxd valid acc</td><td>0.76216</td></tr><tr><td>train acc</td><td>0.55465</td></tr><tr><td>train loss</td><td>0.73608</td></tr><tr><td>valid acc</td><td>0.38843</td></tr><tr><td>valid loss</td><td>1.44072</td></tr></table><br/></div></div>"
      ],
      "text/plain": [
       "<IPython.core.display.HTML object>"
      ]
     },
     "metadata": {},
     "output_type": "display_data"
    },
    {
     "data": {
      "text/html": [
       " View run <strong style=\"color:#cdcd00\">eager-sweep-95</strong> at: <a href='https://wandb.ai/pragalbh/DL_Assign3/runs/46luix9n' target=\"_blank\">https://wandb.ai/pragalbh/DL_Assign3/runs/46luix9n</a><br/>Synced 3 W&B file(s), 0 media file(s), 0 artifact file(s) and 0 other file(s)"
      ],
      "text/plain": [
       "<IPython.core.display.HTML object>"
      ]
     },
     "metadata": {},
     "output_type": "display_data"
    },
    {
     "data": {
      "text/html": [
       "Find logs at: <code>./wandb/run-20230530_021247-46luix9n/logs</code>"
      ],
      "text/plain": [
       "<IPython.core.display.HTML object>"
      ]
     },
     "metadata": {},
     "output_type": "display_data"
    },
    {
     "name": "stderr",
     "output_type": "stream",
     "text": [
      "\u001b[34m\u001b[1mwandb\u001b[0m: Sweep Agent: Waiting for job.\n",
      "\u001b[34m\u001b[1mwandb\u001b[0m: Job received.\n",
      "\u001b[34m\u001b[1mwandb\u001b[0m: Agent Starting Run: d7q0g17b with config:\n",
      "\u001b[34m\u001b[1mwandb\u001b[0m: \tcell_mode: lstm\n",
      "\u001b[34m\u001b[1mwandb\u001b[0m: \tdec_embed_size: 32\n",
      "\u001b[34m\u001b[1mwandb\u001b[0m: \tdec_hid_size: 256\n",
      "\u001b[34m\u001b[1mwandb\u001b[0m: \tdropout: 0.25\n",
      "\u001b[34m\u001b[1mwandb\u001b[0m: \tenc_embed_size: 256\n",
      "\u001b[34m\u001b[1mwandb\u001b[0m: \tenc_hid_size: 512\n",
      "\u001b[34m\u001b[1mwandb\u001b[0m: \tepochs: 10\n",
      "\u001b[34m\u001b[1mwandb\u001b[0m: \tis_bi: True\n",
      "\u001b[34m\u001b[1mwandb\u001b[0m: \tnum_layers: 2\n"
     ]
    },
    {
     "data": {
      "text/html": [
       "Tracking run with wandb version 0.15.3"
      ],
      "text/plain": [
       "<IPython.core.display.HTML object>"
      ]
     },
     "metadata": {},
     "output_type": "display_data"
    },
    {
     "data": {
      "text/html": [
       "Run data is saved locally in <code>/home/pragalbh/DL_Assign3/wandb/run-20230530_022138-d7q0g17b</code>"
      ],
      "text/plain": [
       "<IPython.core.display.HTML object>"
      ]
     },
     "metadata": {},
     "output_type": "display_data"
    },
    {
     "data": {
      "text/html": [
       "Resuming run <strong><a href='https://wandb.ai/pragalbh/DL_Assign3/runs/d7q0g17b' target=\"_blank\">sleek-sweep-96</a></strong> to <a href='https://wandb.ai/pragalbh/DL_Assign3' target=\"_blank\">Weights & Biases</a> (<a href='https://wandb.me/run' target=\"_blank\">docs</a>)<br/>Sweep page: <a href='https://wandb.ai/pragalbh/DL_Assign3/sweeps/mzhrnfy5' target=\"_blank\">https://wandb.ai/pragalbh/DL_Assign3/sweeps/mzhrnfy5</a>"
      ],
      "text/plain": [
       "<IPython.core.display.HTML object>"
      ]
     },
     "metadata": {},
     "output_type": "display_data"
    },
    {
     "data": {
      "text/html": [
       " View project at <a href='https://wandb.ai/pragalbh/DL_Assign3' target=\"_blank\">https://wandb.ai/pragalbh/DL_Assign3</a>"
      ],
      "text/plain": [
       "<IPython.core.display.HTML object>"
      ]
     },
     "metadata": {},
     "output_type": "display_data"
    },
    {
     "data": {
      "text/html": [
       " View sweep at <a href='https://wandb.ai/pragalbh/DL_Assign3/sweeps/mzhrnfy5' target=\"_blank\">https://wandb.ai/pragalbh/DL_Assign3/sweeps/mzhrnfy5</a>"
      ],
      "text/plain": [
       "<IPython.core.display.HTML object>"
      ]
     },
     "metadata": {},
     "output_type": "display_data"
    },
    {
     "data": {
      "text/html": [
       " View run at <a href='https://wandb.ai/pragalbh/DL_Assign3/runs/d7q0g17b' target=\"_blank\">https://wandb.ai/pragalbh/DL_Assign3/runs/d7q0g17b</a>"
      ],
      "text/plain": [
       "<IPython.core.display.HTML object>"
      ]
     },
     "metadata": {},
     "output_type": "display_data"
    },
    {
     "name": "stdout",
     "output_type": "stream",
     "text": [
      "The model has 11,417,028 trainable parameters\n",
      "Epoch: 01 | Time: 1.0m 9.97s\n",
      "\t Train Loss: 1.687 | Train Acc: 14.67%\n",
      "\t Val. Loss: 1.459 |  Val. Acc: 30.37%\n",
      "\t Relaxed Train. Acc: 61.49% | Relaxed Val. Acc: 71.22%\n",
      "Epoch: 02 | Time: 1.0m 10.29s\n",
      "\t Train Loss: 1.066 | Train Acc: 30.26%\n",
      "\t Val. Loss: 1.363 |  Val. Acc: 35.55%\n",
      "\t Relaxed Train. Acc: 79.35% | Relaxed Val. Acc: 73.67%\n",
      "Epoch: 03 | Time: 1.0m 10.24s\n",
      "\t Train Loss: 0.968 | Train Acc: 35.75%\n",
      "\t Val. Loss: 1.349 |  Val. Acc: 36.72%\n",
      "\t Relaxed Train. Acc: 82.59% | Relaxed Val. Acc: 74.38%\n",
      "Epoch: 04 | Time: 1.0m 10.20s\n",
      "\t Train Loss: 0.916 | Train Acc: 39.22%\n",
      "\t Val. Loss: 1.321 |  Val. Acc: 40.92%\n",
      "\t Relaxed Train. Acc: 84.25% | Relaxed Val. Acc: 75.97%\n",
      "Epoch: 05 | Time: 1.0m 10.15s\n",
      "\t Train Loss: 0.880 | Train Acc: 42.07%\n",
      "\t Val. Loss: 1.342 |  Val. Acc: 40.43%\n",
      "\t Relaxed Train. Acc: 85.41% | Relaxed Val. Acc: 76.15%\n",
      "Epoch: 06 | Time: 1.0m 10.11s\n",
      "\t Train Loss: 0.854 | Train Acc: 44.34%\n",
      "\t Val. Loss: 1.342 |  Val. Acc: 42.26%\n",
      "\t Relaxed Train. Acc: 86.28% | Relaxed Val. Acc: 76.96%\n",
      "Epoch: 07 | Time: 1.0m 10.08s\n",
      "\t Train Loss: 0.823 | Train Acc: 46.68%\n",
      "\t Val. Loss: 1.336 |  Val. Acc: 42.87%\n",
      "\t Relaxed Train. Acc: 87.32% | Relaxed Val. Acc: 77.06%\n",
      "Epoch: 08 | Time: 1.0m 10.07s\n",
      "\t Train Loss: 0.804 | Train Acc: 48.27%\n",
      "\t Val. Loss: 1.345 |  Val. Acc: 42.97%\n",
      "\t Relaxed Train. Acc: 87.88% | Relaxed Val. Acc: 77.20%\n",
      "Epoch: 09 | Time: 1.0m 10.04s\n",
      "\t Train Loss: 0.786 | Train Acc: 50.49%\n",
      "\t Val. Loss: 1.336 |  Val. Acc: 42.16%\n",
      "\t Relaxed Train. Acc: 88.51% | Relaxed Val. Acc: 77.12%\n",
      "Epoch: 10 | Time: 1.0m 10.07s\n",
      "\t Train Loss: 0.768 | Train Acc: 51.90%\n",
      "\t Val. Loss: 1.383 |  Val. Acc: 41.41%\n",
      "\t Relaxed Train. Acc: 89.04% | Relaxed Val. Acc: 76.79%\n",
      "Run: enc_embed size: 256 dec_embed size: 32, enc_hid_size: 512, dec_hid_size: 256, num_layers: 2, cell_modelstm\n"
     ]
    },
    {
     "data": {
      "text/html": [
       "Waiting for W&B process to finish... <strong style=\"color:green\">(success).</strong>"
      ],
      "text/plain": [
       "<IPython.core.display.HTML object>"
      ]
     },
     "metadata": {},
     "output_type": "display_data"
    },
    {
     "data": {
      "text/html": [
       "<style>\n",
       "    table.wandb td:nth-child(1) { padding: 0 10px; text-align: left ; width: auto;} td:nth-child(2) {text-align: left ; width: 100%}\n",
       "    .wandb-row { display: flex; flex-direction: row; flex-wrap: wrap; justify-content: flex-start; width: 100% }\n",
       "    .wandb-col { display: flex; flex-direction: column; flex-basis: 100%; flex: 1; padding: 10px; }\n",
       "    </style>\n",
       "<div class=\"wandb-row\"><div class=\"wandb-col\"><h3>Run history:</h3><br/><table class=\"wandb\"><tr><td>epoch</td><td>▁▂▃▃▄▅▆▆▇█</td></tr><tr><td>relxd train acc</td><td>▁▆▆▇▇▇████</td></tr><tr><td>relxd valid acc</td><td>▁▄▅▇▇█████</td></tr><tr><td>train acc</td><td>▁▄▅▆▆▇▇▇██</td></tr><tr><td>train loss</td><td>█▃▃▂▂▂▁▁▁▁</td></tr><tr><td>valid acc</td><td>▁▄▅▇▇████▇</td></tr><tr><td>valid loss</td><td>█▃▂▁▂▂▂▂▂▄</td></tr></table><br/></div><div class=\"wandb-col\"><h3>Run summary:</h3><br/><table class=\"wandb\"><tr><td>epoch</td><td>9</td></tr><tr><td>relxd train acc</td><td>0.89041</td></tr><tr><td>relxd valid acc</td><td>0.76795</td></tr><tr><td>train acc</td><td>0.519</td></tr><tr><td>train loss</td><td>0.76836</td></tr><tr><td>valid acc</td><td>0.41406</td></tr><tr><td>valid loss</td><td>1.38302</td></tr></table><br/></div></div>"
      ],
      "text/plain": [
       "<IPython.core.display.HTML object>"
      ]
     },
     "metadata": {},
     "output_type": "display_data"
    },
    {
     "data": {
      "text/html": [
       " View run <strong style=\"color:#cdcd00\">sleek-sweep-96</strong> at: <a href='https://wandb.ai/pragalbh/DL_Assign3/runs/d7q0g17b' target=\"_blank\">https://wandb.ai/pragalbh/DL_Assign3/runs/d7q0g17b</a><br/>Synced 3 W&B file(s), 0 media file(s), 0 artifact file(s) and 0 other file(s)"
      ],
      "text/plain": [
       "<IPython.core.display.HTML object>"
      ]
     },
     "metadata": {},
     "output_type": "display_data"
    },
    {
     "data": {
      "text/html": [
       "Find logs at: <code>./wandb/run-20230530_022138-d7q0g17b/logs</code>"
      ],
      "text/plain": [
       "<IPython.core.display.HTML object>"
      ]
     },
     "metadata": {},
     "output_type": "display_data"
    },
    {
     "name": "stderr",
     "output_type": "stream",
     "text": [
      "\u001b[34m\u001b[1mwandb\u001b[0m: Sweep Agent: Waiting for job.\n",
      "\u001b[34m\u001b[1mwandb\u001b[0m: Job received.\n",
      "\u001b[34m\u001b[1mwandb\u001b[0m: Agent Starting Run: 9tflx63k with config:\n",
      "\u001b[34m\u001b[1mwandb\u001b[0m: \tcell_mode: lstm\n",
      "\u001b[34m\u001b[1mwandb\u001b[0m: \tdec_embed_size: 16\n",
      "\u001b[34m\u001b[1mwandb\u001b[0m: \tdec_hid_size: 512\n",
      "\u001b[34m\u001b[1mwandb\u001b[0m: \tdropout: 0.2\n",
      "\u001b[34m\u001b[1mwandb\u001b[0m: \tenc_embed_size: 256\n",
      "\u001b[34m\u001b[1mwandb\u001b[0m: \tenc_hid_size: 128\n",
      "\u001b[34m\u001b[1mwandb\u001b[0m: \tepochs: 10\n",
      "\u001b[34m\u001b[1mwandb\u001b[0m: \tis_bi: True\n",
      "\u001b[34m\u001b[1mwandb\u001b[0m: \tnum_layers: 1\n"
     ]
    },
    {
     "data": {
      "text/html": [
       "Tracking run with wandb version 0.15.3"
      ],
      "text/plain": [
       "<IPython.core.display.HTML object>"
      ]
     },
     "metadata": {},
     "output_type": "display_data"
    },
    {
     "data": {
      "text/html": [
       "Run data is saved locally in <code>/home/pragalbh/DL_Assign3/wandb/run-20230530_023351-9tflx63k</code>"
      ],
      "text/plain": [
       "<IPython.core.display.HTML object>"
      ]
     },
     "metadata": {},
     "output_type": "display_data"
    },
    {
     "data": {
      "text/html": [
       "Resuming run <strong><a href='https://wandb.ai/pragalbh/DL_Assign3/runs/9tflx63k' target=\"_blank\">solar-sweep-97</a></strong> to <a href='https://wandb.ai/pragalbh/DL_Assign3' target=\"_blank\">Weights & Biases</a> (<a href='https://wandb.me/run' target=\"_blank\">docs</a>)<br/>Sweep page: <a href='https://wandb.ai/pragalbh/DL_Assign3/sweeps/mzhrnfy5' target=\"_blank\">https://wandb.ai/pragalbh/DL_Assign3/sweeps/mzhrnfy5</a>"
      ],
      "text/plain": [
       "<IPython.core.display.HTML object>"
      ]
     },
     "metadata": {},
     "output_type": "display_data"
    },
    {
     "data": {
      "text/html": [
       " View project at <a href='https://wandb.ai/pragalbh/DL_Assign3' target=\"_blank\">https://wandb.ai/pragalbh/DL_Assign3</a>"
      ],
      "text/plain": [
       "<IPython.core.display.HTML object>"
      ]
     },
     "metadata": {},
     "output_type": "display_data"
    },
    {
     "data": {
      "text/html": [
       " View sweep at <a href='https://wandb.ai/pragalbh/DL_Assign3/sweeps/mzhrnfy5' target=\"_blank\">https://wandb.ai/pragalbh/DL_Assign3/sweeps/mzhrnfy5</a>"
      ],
      "text/plain": [
       "<IPython.core.display.HTML object>"
      ]
     },
     "metadata": {},
     "output_type": "display_data"
    },
    {
     "data": {
      "text/html": [
       " View run at <a href='https://wandb.ai/pragalbh/DL_Assign3/runs/9tflx63k' target=\"_blank\">https://wandb.ai/pragalbh/DL_Assign3/runs/9tflx63k</a>"
      ],
      "text/plain": [
       "<IPython.core.display.HTML object>"
      ]
     },
     "metadata": {},
     "output_type": "display_data"
    },
    {
     "name": "stdout",
     "output_type": "stream",
     "text": [
      "The model has 2,574,468 trainable parameters\n",
      "Epoch: 01 | Time: 0.0m 55.04s\n",
      "\t Train Loss: 1.399 | Train Acc: 17.18%\n",
      "\t Val. Loss: 1.448 |  Val. Acc: 30.76%\n",
      "\t Relaxed Train. Acc: 68.78% | Relaxed Val. Acc: 71.70%\n",
      "Epoch: 02 | Time: 0.0m 55.23s\n",
      "\t Train Loss: 1.050 | Train Acc: 30.15%\n",
      "\t Val. Loss: 1.372 |  Val. Acc: 36.57%\n",
      "\t Relaxed Train. Acc: 79.68% | Relaxed Val. Acc: 74.09%\n",
      "Epoch: 03 | Time: 0.0m 55.17s\n",
      "\t Train Loss: 0.960 | Train Acc: 35.45%\n",
      "\t Val. Loss: 1.340 |  Val. Acc: 37.18%\n",
      "\t Relaxed Train. Acc: 82.69% | Relaxed Val. Acc: 75.12%\n",
      "Epoch: 04 | Time: 0.0m 55.19s\n",
      "\t Train Loss: 0.912 | Train Acc: 39.21%\n",
      "\t Val. Loss: 1.344 |  Val. Acc: 38.11%\n",
      "\t Relaxed Train. Acc: 84.19% | Relaxed Val. Acc: 74.97%\n",
      "Epoch: 05 | Time: 0.0m 55.13s\n",
      "\t Train Loss: 0.876 | Train Acc: 42.27%\n",
      "\t Val. Loss: 1.352 |  Val. Acc: 40.04%\n",
      "\t Relaxed Train. Acc: 85.43% | Relaxed Val. Acc: 76.12%\n",
      "Epoch: 06 | Time: 0.0m 55.07s\n",
      "\t Train Loss: 0.848 | Train Acc: 44.55%\n",
      "\t Val. Loss: 1.361 |  Val. Acc: 39.97%\n",
      "\t Relaxed Train. Acc: 86.35% | Relaxed Val. Acc: 75.73%\n",
      "Epoch: 07 | Time: 0.0m 55.06s\n",
      "\t Train Loss: 0.815 | Train Acc: 47.16%\n",
      "\t Val. Loss: 1.385 |  Val. Acc: 38.23%\n",
      "\t Relaxed Train. Acc: 87.42% | Relaxed Val. Acc: 75.47%\n",
      "Epoch: 08 | Time: 0.0m 55.03s\n",
      "\t Train Loss: 0.791 | Train Acc: 49.43%\n",
      "\t Val. Loss: 1.392 |  Val. Acc: 40.36%\n",
      "\t Relaxed Train. Acc: 88.18% | Relaxed Val. Acc: 76.06%\n",
      "Epoch: 09 | Time: 0.0m 55.01s\n",
      "\t Train Loss: 0.775 | Train Acc: 51.36%\n",
      "\t Val. Loss: 1.416 |  Val. Acc: 40.36%\n",
      "\t Relaxed Train. Acc: 88.72% | Relaxed Val. Acc: 76.44%\n",
      "Epoch: 10 | Time: 0.0m 54.95s\n",
      "\t Train Loss: 0.754 | Train Acc: 53.80%\n",
      "\t Val. Loss: 1.418 |  Val. Acc: 40.14%\n",
      "\t Relaxed Train. Acc: 89.46% | Relaxed Val. Acc: 76.21%\n",
      "Run: enc_embed size: 256 dec_embed size: 16, enc_hid_size: 128, dec_hid_size: 512, num_layers: 1, cell_modelstm\n"
     ]
    },
    {
     "data": {
      "text/html": [
       "Waiting for W&B process to finish... <strong style=\"color:green\">(success).</strong>"
      ],
      "text/plain": [
       "<IPython.core.display.HTML object>"
      ]
     },
     "metadata": {},
     "output_type": "display_data"
    },
    {
     "data": {
      "text/html": [
       "<style>\n",
       "    table.wandb td:nth-child(1) { padding: 0 10px; text-align: left ; width: auto;} td:nth-child(2) {text-align: left ; width: 100%}\n",
       "    .wandb-row { display: flex; flex-direction: row; flex-wrap: wrap; justify-content: flex-start; width: 100% }\n",
       "    .wandb-col { display: flex; flex-direction: column; flex-basis: 100%; flex: 1; padding: 10px; }\n",
       "    </style>\n",
       "<div class=\"wandb-row\"><div class=\"wandb-col\"><h3>Run history:</h3><br/><table class=\"wandb\"><tr><td>epoch</td><td>▁▂▃▃▄▅▆▆▇█</td></tr><tr><td>relxd train acc</td><td>▁▅▆▆▇▇▇███</td></tr><tr><td>relxd valid acc</td><td>▁▅▆▆█▇▇▇██</td></tr><tr><td>train acc</td><td>▁▃▄▅▆▆▇▇██</td></tr><tr><td>train loss</td><td>█▄▃▃▂▂▂▁▁▁</td></tr><tr><td>valid acc</td><td>▁▅▆▆██▆███</td></tr><tr><td>valid loss</td><td>█▃▁▁▂▂▄▄▆▆</td></tr></table><br/></div><div class=\"wandb-col\"><h3>Run summary:</h3><br/><table class=\"wandb\"><tr><td>epoch</td><td>9</td></tr><tr><td>relxd train acc</td><td>0.89457</td></tr><tr><td>relxd valid acc</td><td>0.76206</td></tr><tr><td>train acc</td><td>0.53799</td></tr><tr><td>train loss</td><td>0.75365</td></tr><tr><td>valid acc</td><td>0.40137</td></tr><tr><td>valid loss</td><td>1.41798</td></tr></table><br/></div></div>"
      ],
      "text/plain": [
       "<IPython.core.display.HTML object>"
      ]
     },
     "metadata": {},
     "output_type": "display_data"
    },
    {
     "data": {
      "text/html": [
       " View run <strong style=\"color:#cdcd00\">solar-sweep-97</strong> at: <a href='https://wandb.ai/pragalbh/DL_Assign3/runs/9tflx63k' target=\"_blank\">https://wandb.ai/pragalbh/DL_Assign3/runs/9tflx63k</a><br/>Synced 3 W&B file(s), 0 media file(s), 0 artifact file(s) and 0 other file(s)"
      ],
      "text/plain": [
       "<IPython.core.display.HTML object>"
      ]
     },
     "metadata": {},
     "output_type": "display_data"
    },
    {
     "data": {
      "text/html": [
       "Find logs at: <code>./wandb/run-20230530_023351-9tflx63k/logs</code>"
      ],
      "text/plain": [
       "<IPython.core.display.HTML object>"
      ]
     },
     "metadata": {},
     "output_type": "display_data"
    },
    {
     "name": "stderr",
     "output_type": "stream",
     "text": [
      "\u001b[34m\u001b[1mwandb\u001b[0m: Agent Starting Run: 5n03bw4r with config:\n",
      "\u001b[34m\u001b[1mwandb\u001b[0m: \tcell_mode: lstm\n",
      "\u001b[34m\u001b[1mwandb\u001b[0m: \tdec_embed_size: 128\n",
      "\u001b[34m\u001b[1mwandb\u001b[0m: \tdec_hid_size: 256\n",
      "\u001b[34m\u001b[1mwandb\u001b[0m: \tdropout: 0.25\n",
      "\u001b[34m\u001b[1mwandb\u001b[0m: \tenc_embed_size: 256\n",
      "\u001b[34m\u001b[1mwandb\u001b[0m: \tenc_hid_size: 256\n",
      "\u001b[34m\u001b[1mwandb\u001b[0m: \tepochs: 10\n",
      "\u001b[34m\u001b[1mwandb\u001b[0m: \tis_bi: True\n",
      "\u001b[34m\u001b[1mwandb\u001b[0m: \tnum_layers: 2\n"
     ]
    },
    {
     "data": {
      "text/html": [
       "Tracking run with wandb version 0.15.3"
      ],
      "text/plain": [
       "<IPython.core.display.HTML object>"
      ]
     },
     "metadata": {},
     "output_type": "display_data"
    },
    {
     "data": {
      "text/html": [
       "Run data is saved locally in <code>/home/pragalbh/DL_Assign3/wandb/run-20230530_024315-5n03bw4r</code>"
      ],
      "text/plain": [
       "<IPython.core.display.HTML object>"
      ]
     },
     "metadata": {},
     "output_type": "display_data"
    },
    {
     "data": {
      "text/html": [
       "Resuming run <strong><a href='https://wandb.ai/pragalbh/DL_Assign3/runs/5n03bw4r' target=\"_blank\">eternal-sweep-98</a></strong> to <a href='https://wandb.ai/pragalbh/DL_Assign3' target=\"_blank\">Weights & Biases</a> (<a href='https://wandb.me/run' target=\"_blank\">docs</a>)<br/>Sweep page: <a href='https://wandb.ai/pragalbh/DL_Assign3/sweeps/mzhrnfy5' target=\"_blank\">https://wandb.ai/pragalbh/DL_Assign3/sweeps/mzhrnfy5</a>"
      ],
      "text/plain": [
       "<IPython.core.display.HTML object>"
      ]
     },
     "metadata": {},
     "output_type": "display_data"
    },
    {
     "data": {
      "text/html": [
       " View project at <a href='https://wandb.ai/pragalbh/DL_Assign3' target=\"_blank\">https://wandb.ai/pragalbh/DL_Assign3</a>"
      ],
      "text/plain": [
       "<IPython.core.display.HTML object>"
      ]
     },
     "metadata": {},
     "output_type": "display_data"
    },
    {
     "data": {
      "text/html": [
       " View sweep at <a href='https://wandb.ai/pragalbh/DL_Assign3/sweeps/mzhrnfy5' target=\"_blank\">https://wandb.ai/pragalbh/DL_Assign3/sweeps/mzhrnfy5</a>"
      ],
      "text/plain": [
       "<IPython.core.display.HTML object>"
      ]
     },
     "metadata": {},
     "output_type": "display_data"
    },
    {
     "data": {
      "text/html": [
       " View run at <a href='https://wandb.ai/pragalbh/DL_Assign3/runs/5n03bw4r' target=\"_blank\">https://wandb.ai/pragalbh/DL_Assign3/runs/5n03bw4r</a>"
      ],
      "text/plain": [
       "<IPython.core.display.HTML object>"
      ]
     },
     "metadata": {},
     "output_type": "display_data"
    },
    {
     "name": "stdout",
     "output_type": "stream",
     "text": [
      "The model has 3,911,492 trainable parameters\n",
      "Epoch: 01 | Time: 0.0m 51.76s\n",
      "\t Train Loss: 1.563 | Train Acc: 15.59%\n",
      "\t Val. Loss: 1.480 |  Val. Acc: 31.74%\n",
      "\t Relaxed Train. Acc: 65.34% | Relaxed Val. Acc: 71.02%\n",
      "Epoch: 02 | Time: 0.0m 51.56s\n",
      "\t Train Loss: 1.064 | Train Acc: 29.28%\n",
      "\t Val. Loss: 1.385 |  Val. Acc: 35.30%\n",
      "\t Relaxed Train. Acc: 79.52% | Relaxed Val. Acc: 73.77%\n",
      "Epoch: 03 | Time: 0.0m 51.53s\n",
      "\t Train Loss: 0.977 | Train Acc: 34.61%\n",
      "\t Val. Loss: 1.372 |  Val. Acc: 37.06%\n",
      "\t Relaxed Train. Acc: 82.37% | Relaxed Val. Acc: 74.23%\n",
      "Epoch: 04 | Time: 0.0m 51.52s\n",
      "\t Train Loss: 0.935 | Train Acc: 37.82%\n",
      "\t Val. Loss: 1.389 |  Val. Acc: 38.55%\n",
      "\t Relaxed Train. Acc: 83.70% | Relaxed Val. Acc: 75.01%\n",
      "Epoch: 05 | Time: 0.0m 51.42s\n",
      "\t Train Loss: 0.908 | Train Acc: 39.94%\n",
      "\t Val. Loss: 1.365 |  Val. Acc: 39.14%\n",
      "\t Relaxed Train. Acc: 84.61% | Relaxed Val. Acc: 75.31%\n",
      "Epoch: 06 | Time: 0.0m 51.43s\n",
      "\t Train Loss: 0.879 | Train Acc: 42.13%\n",
      "\t Val. Loss: 1.345 |  Val. Acc: 40.97%\n",
      "\t Relaxed Train. Acc: 85.53% | Relaxed Val. Acc: 76.46%\n",
      "Epoch: 07 | Time: 0.0m 51.37s\n",
      "\t Train Loss: 0.852 | Train Acc: 44.14%\n",
      "\t Val. Loss: 1.348 |  Val. Acc: 41.36%\n",
      "\t Relaxed Train. Acc: 86.39% | Relaxed Val. Acc: 75.69%\n",
      "Epoch: 08 | Time: 0.0m 51.31s\n",
      "\t Train Loss: 0.834 | Train Acc: 45.82%\n",
      "\t Val. Loss: 1.358 |  Val. Acc: 41.55%\n",
      "\t Relaxed Train. Acc: 86.96% | Relaxed Val. Acc: 76.21%\n",
      "Epoch: 09 | Time: 0.0m 51.32s\n",
      "\t Train Loss: 0.820 | Train Acc: 47.50%\n",
      "\t Val. Loss: 1.331 |  Val. Acc: 42.46%\n",
      "\t Relaxed Train. Acc: 87.48% | Relaxed Val. Acc: 77.35%\n",
      "Epoch: 10 | Time: 0.0m 51.32s\n",
      "\t Train Loss: 0.804 | Train Acc: 48.86%\n",
      "\t Val. Loss: 1.352 |  Val. Acc: 42.31%\n",
      "\t Relaxed Train. Acc: 88.02% | Relaxed Val. Acc: 77.04%\n",
      "Run: enc_embed size: 256 dec_embed size: 128, enc_hid_size: 256, dec_hid_size: 256, num_layers: 2, cell_modelstm\n"
     ]
    },
    {
     "data": {
      "text/html": [
       "Waiting for W&B process to finish... <strong style=\"color:green\">(success).</strong>"
      ],
      "text/plain": [
       "<IPython.core.display.HTML object>"
      ]
     },
     "metadata": {},
     "output_type": "display_data"
    },
    {
     "data": {
      "text/html": [
       "<style>\n",
       "    table.wandb td:nth-child(1) { padding: 0 10px; text-align: left ; width: auto;} td:nth-child(2) {text-align: left ; width: 100%}\n",
       "    .wandb-row { display: flex; flex-direction: row; flex-wrap: wrap; justify-content: flex-start; width: 100% }\n",
       "    .wandb-col { display: flex; flex-direction: column; flex-basis: 100%; flex: 1; padding: 10px; }\n",
       "    </style>\n",
       "<div class=\"wandb-row\"><div class=\"wandb-col\"><h3>Run history:</h3><br/><table class=\"wandb\"><tr><td>epoch</td><td>▁▂▃▃▄▅▆▆▇█</td></tr><tr><td>relxd train acc</td><td>▁▅▆▇▇▇▇███</td></tr><tr><td>relxd valid acc</td><td>▁▄▅▅▆▇▆▇██</td></tr><tr><td>train acc</td><td>▁▄▅▆▆▇▇▇██</td></tr><tr><td>train loss</td><td>█▃▃▂▂▂▁▁▁▁</td></tr><tr><td>valid acc</td><td>▁▃▄▅▆▇▇▇██</td></tr><tr><td>valid loss</td><td>█▄▃▄▃▂▂▂▁▂</td></tr></table><br/></div><div class=\"wandb-col\"><h3>Run summary:</h3><br/><table class=\"wandb\"><tr><td>epoch</td><td>9</td></tr><tr><td>relxd train acc</td><td>0.88021</td></tr><tr><td>relxd valid acc</td><td>0.77044</td></tr><tr><td>train acc</td><td>0.48855</td></tr><tr><td>train loss</td><td>0.80358</td></tr><tr><td>valid acc</td><td>0.4231</td></tr><tr><td>valid loss</td><td>1.35182</td></tr></table><br/></div></div>"
      ],
      "text/plain": [
       "<IPython.core.display.HTML object>"
      ]
     },
     "metadata": {},
     "output_type": "display_data"
    },
    {
     "data": {
      "text/html": [
       " View run <strong style=\"color:#cdcd00\">eternal-sweep-98</strong> at: <a href='https://wandb.ai/pragalbh/DL_Assign3/runs/5n03bw4r' target=\"_blank\">https://wandb.ai/pragalbh/DL_Assign3/runs/5n03bw4r</a><br/>Synced 3 W&B file(s), 0 media file(s), 0 artifact file(s) and 0 other file(s)"
      ],
      "text/plain": [
       "<IPython.core.display.HTML object>"
      ]
     },
     "metadata": {},
     "output_type": "display_data"
    },
    {
     "data": {
      "text/html": [
       "Find logs at: <code>./wandb/run-20230530_024315-5n03bw4r/logs</code>"
      ],
      "text/plain": [
       "<IPython.core.display.HTML object>"
      ]
     },
     "metadata": {},
     "output_type": "display_data"
    },
    {
     "name": "stderr",
     "output_type": "stream",
     "text": [
      "\u001b[34m\u001b[1mwandb\u001b[0m: Agent Starting Run: ailaaet8 with config:\n",
      "\u001b[34m\u001b[1mwandb\u001b[0m: \tcell_mode: lstm\n",
      "\u001b[34m\u001b[1mwandb\u001b[0m: \tdec_embed_size: 64\n",
      "\u001b[34m\u001b[1mwandb\u001b[0m: \tdec_hid_size: 512\n",
      "\u001b[34m\u001b[1mwandb\u001b[0m: \tdropout: 0.25\n",
      "\u001b[34m\u001b[1mwandb\u001b[0m: \tenc_embed_size: 512\n",
      "\u001b[34m\u001b[1mwandb\u001b[0m: \tenc_hid_size: 128\n",
      "\u001b[34m\u001b[1mwandb\u001b[0m: \tepochs: 10\n",
      "\u001b[34m\u001b[1mwandb\u001b[0m: \tis_bi: True\n",
      "\u001b[34m\u001b[1mwandb\u001b[0m: \tnum_layers: 1\n"
     ]
    },
    {
     "data": {
      "text/html": [
       "Tracking run with wandb version 0.15.3"
      ],
      "text/plain": [
       "<IPython.core.display.HTML object>"
      ]
     },
     "metadata": {},
     "output_type": "display_data"
    },
    {
     "data": {
      "text/html": [
       "Run data is saved locally in <code>/home/pragalbh/DL_Assign3/wandb/run-20230530_025204-ailaaet8</code>"
      ],
      "text/plain": [
       "<IPython.core.display.HTML object>"
      ]
     },
     "metadata": {},
     "output_type": "display_data"
    },
    {
     "data": {
      "text/html": [
       "Resuming run <strong><a href='https://wandb.ai/pragalbh/DL_Assign3/runs/ailaaet8' target=\"_blank\">deep-sweep-99</a></strong> to <a href='https://wandb.ai/pragalbh/DL_Assign3' target=\"_blank\">Weights & Biases</a> (<a href='https://wandb.me/run' target=\"_blank\">docs</a>)<br/>Sweep page: <a href='https://wandb.ai/pragalbh/DL_Assign3/sweeps/mzhrnfy5' target=\"_blank\">https://wandb.ai/pragalbh/DL_Assign3/sweeps/mzhrnfy5</a>"
      ],
      "text/plain": [
       "<IPython.core.display.HTML object>"
      ]
     },
     "metadata": {},
     "output_type": "display_data"
    },
    {
     "data": {
      "text/html": [
       " View project at <a href='https://wandb.ai/pragalbh/DL_Assign3' target=\"_blank\">https://wandb.ai/pragalbh/DL_Assign3</a>"
      ],
      "text/plain": [
       "<IPython.core.display.HTML object>"
      ]
     },
     "metadata": {},
     "output_type": "display_data"
    },
    {
     "data": {
      "text/html": [
       " View sweep at <a href='https://wandb.ai/pragalbh/DL_Assign3/sweeps/mzhrnfy5' target=\"_blank\">https://wandb.ai/pragalbh/DL_Assign3/sweeps/mzhrnfy5</a>"
      ],
      "text/plain": [
       "<IPython.core.display.HTML object>"
      ]
     },
     "metadata": {},
     "output_type": "display_data"
    },
    {
     "data": {
      "text/html": [
       " View run at <a href='https://wandb.ai/pragalbh/DL_Assign3/runs/ailaaet8' target=\"_blank\">https://wandb.ai/pragalbh/DL_Assign3/runs/ailaaet8</a>"
      ],
      "text/plain": [
       "<IPython.core.display.HTML object>"
      ]
     },
     "metadata": {},
     "output_type": "display_data"
    },
    {
     "name": "stdout",
     "output_type": "stream",
     "text": [
      "The model has 2,945,860 trainable parameters\n",
      "Epoch: 01 | Time: 0.0m 55.94s\n",
      "\t Train Loss: 1.372 | Train Acc: 17.18%\n",
      "\t Val. Loss: 1.482 |  Val. Acc: 31.84%\n",
      "\t Relaxed Train. Acc: 69.93% | Relaxed Val. Acc: 70.70%\n",
      "Epoch: 02 | Time: 0.0m 55.98s\n",
      "\t Train Loss: 1.055 | Train Acc: 28.95%\n",
      "\t Val. Loss: 1.403 |  Val. Acc: 35.03%\n",
      "\t Relaxed Train. Acc: 79.61% | Relaxed Val. Acc: 73.36%\n",
      "Epoch: 03 | Time: 0.0m 55.94s\n",
      "\t Train Loss: 0.978 | Train Acc: 33.82%\n",
      "\t Val. Loss: 1.379 |  Val. Acc: 36.45%\n",
      "\t Relaxed Train. Acc: 82.12% | Relaxed Val. Acc: 73.82%\n",
      "Epoch: 04 | Time: 0.0m 55.90s\n",
      "\t Train Loss: 0.932 | Train Acc: 37.02%\n",
      "\t Val. Loss: 1.382 |  Val. Acc: 36.57%\n",
      "\t Relaxed Train. Acc: 83.66% | Relaxed Val. Acc: 74.38%\n",
      "Epoch: 05 | Time: 0.0m 55.83s\n",
      "\t Train Loss: 0.902 | Train Acc: 39.85%\n",
      "\t Val. Loss: 1.397 |  Val. Acc: 37.21%\n",
      "\t Relaxed Train. Acc: 84.66% | Relaxed Val. Acc: 74.69%\n",
      "Epoch: 06 | Time: 0.0m 55.80s\n",
      "\t Train Loss: 0.877 | Train Acc: 41.87%\n",
      "\t Val. Loss: 1.390 |  Val. Acc: 38.40%\n",
      "\t Relaxed Train. Acc: 85.46% | Relaxed Val. Acc: 75.49%\n",
      "Epoch: 07 | Time: 0.0m 55.77s\n",
      "\t Train Loss: 0.850 | Train Acc: 44.23%\n",
      "\t Val. Loss: 1.395 |  Val. Acc: 38.53%\n",
      "\t Relaxed Train. Acc: 86.36% | Relaxed Val. Acc: 75.57%\n",
      "Epoch: 08 | Time: 0.0m 55.77s\n",
      "\t Train Loss: 0.832 | Train Acc: 46.11%\n",
      "\t Val. Loss: 1.400 |  Val. Acc: 39.14%\n",
      "\t Relaxed Train. Acc: 87.00% | Relaxed Val. Acc: 75.40%\n",
      "Epoch: 09 | Time: 0.0m 55.78s\n",
      "\t Train Loss: 0.814 | Train Acc: 47.82%\n",
      "\t Val. Loss: 1.401 |  Val. Acc: 37.55%\n",
      "\t Relaxed Train. Acc: 87.57% | Relaxed Val. Acc: 75.53%\n",
      "Epoch: 10 | Time: 0.0m 55.72s\n",
      "\t Train Loss: 0.793 | Train Acc: 49.69%\n",
      "\t Val. Loss: 1.424 |  Val. Acc: 39.09%\n",
      "\t Relaxed Train. Acc: 88.26% | Relaxed Val. Acc: 75.75%\n",
      "Run: enc_embed size: 512 dec_embed size: 64, enc_hid_size: 128, dec_hid_size: 512, num_layers: 1, cell_modelstm\n"
     ]
    },
    {
     "data": {
      "text/html": [
       "Waiting for W&B process to finish... <strong style=\"color:green\">(success).</strong>"
      ],
      "text/plain": [
       "<IPython.core.display.HTML object>"
      ]
     },
     "metadata": {},
     "output_type": "display_data"
    },
    {
     "data": {
      "text/html": [
       "<style>\n",
       "    table.wandb td:nth-child(1) { padding: 0 10px; text-align: left ; width: auto;} td:nth-child(2) {text-align: left ; width: 100%}\n",
       "    .wandb-row { display: flex; flex-direction: row; flex-wrap: wrap; justify-content: flex-start; width: 100% }\n",
       "    .wandb-col { display: flex; flex-direction: column; flex-basis: 100%; flex: 1; padding: 10px; }\n",
       "    </style>\n",
       "<div class=\"wandb-row\"><div class=\"wandb-col\"><h3>Run history:</h3><br/><table class=\"wandb\"><tr><td>epoch</td><td>▁▂▃▃▄▅▆▆▇█</td></tr><tr><td>relxd train acc</td><td>▁▅▆▆▇▇▇███</td></tr><tr><td>relxd valid acc</td><td>▁▅▅▆▇█████</td></tr><tr><td>train acc</td><td>▁▄▅▅▆▆▇▇██</td></tr><tr><td>train loss</td><td>█▄▃▃▂▂▂▁▁▁</td></tr><tr><td>valid acc</td><td>▁▄▅▆▆▇▇█▆█</td></tr><tr><td>valid loss</td><td>█▃▁▁▂▂▂▂▃▄</td></tr></table><br/></div><div class=\"wandb-col\"><h3>Run summary:</h3><br/><table class=\"wandb\"><tr><td>epoch</td><td>9</td></tr><tr><td>relxd train acc</td><td>0.88255</td></tr><tr><td>relxd valid acc</td><td>0.75753</td></tr><tr><td>train acc</td><td>0.49686</td></tr><tr><td>train loss</td><td>0.79254</td></tr><tr><td>valid acc</td><td>0.39087</td></tr><tr><td>valid loss</td><td>1.42403</td></tr></table><br/></div></div>"
      ],
      "text/plain": [
       "<IPython.core.display.HTML object>"
      ]
     },
     "metadata": {},
     "output_type": "display_data"
    },
    {
     "data": {
      "text/html": [
       " View run <strong style=\"color:#cdcd00\">deep-sweep-99</strong> at: <a href='https://wandb.ai/pragalbh/DL_Assign3/runs/ailaaet8' target=\"_blank\">https://wandb.ai/pragalbh/DL_Assign3/runs/ailaaet8</a><br/>Synced 3 W&B file(s), 0 media file(s), 0 artifact file(s) and 0 other file(s)"
      ],
      "text/plain": [
       "<IPython.core.display.HTML object>"
      ]
     },
     "metadata": {},
     "output_type": "display_data"
    },
    {
     "data": {
      "text/html": [
       "Find logs at: <code>./wandb/run-20230530_025204-ailaaet8/logs</code>"
      ],
      "text/plain": [
       "<IPython.core.display.HTML object>"
      ]
     },
     "metadata": {},
     "output_type": "display_data"
    },
    {
     "name": "stderr",
     "output_type": "stream",
     "text": [
      "\u001b[34m\u001b[1mwandb\u001b[0m: Sweep Agent: Waiting for job.\n",
      "\u001b[34m\u001b[1mwandb\u001b[0m: Job received.\n",
      "\u001b[34m\u001b[1mwandb\u001b[0m: Agent Starting Run: 89s5b56k with config:\n",
      "\u001b[34m\u001b[1mwandb\u001b[0m: \tcell_mode: lstm\n",
      "\u001b[34m\u001b[1mwandb\u001b[0m: \tdec_embed_size: 32\n",
      "\u001b[34m\u001b[1mwandb\u001b[0m: \tdec_hid_size: 512\n",
      "\u001b[34m\u001b[1mwandb\u001b[0m: \tdropout: 0.25\n",
      "\u001b[34m\u001b[1mwandb\u001b[0m: \tenc_embed_size: 128\n",
      "\u001b[34m\u001b[1mwandb\u001b[0m: \tenc_hid_size: 128\n",
      "\u001b[34m\u001b[1mwandb\u001b[0m: \tepochs: 10\n",
      "\u001b[34m\u001b[1mwandb\u001b[0m: \tis_bi: True\n",
      "\u001b[34m\u001b[1mwandb\u001b[0m: \tnum_layers: 2\n"
     ]
    },
    {
     "data": {
      "text/html": [
       "Tracking run with wandb version 0.15.3"
      ],
      "text/plain": [
       "<IPython.core.display.HTML object>"
      ]
     },
     "metadata": {},
     "output_type": "display_data"
    },
    {
     "data": {
      "text/html": [
       "Run data is saved locally in <code>/home/pragalbh/DL_Assign3/wandb/run-20230530_030153-89s5b56k</code>"
      ],
      "text/plain": [
       "<IPython.core.display.HTML object>"
      ]
     },
     "metadata": {},
     "output_type": "display_data"
    },
    {
     "data": {
      "text/html": [
       "Resuming run <strong><a href='https://wandb.ai/pragalbh/DL_Assign3/runs/89s5b56k' target=\"_blank\">solar-sweep-100</a></strong> to <a href='https://wandb.ai/pragalbh/DL_Assign3' target=\"_blank\">Weights & Biases</a> (<a href='https://wandb.me/run' target=\"_blank\">docs</a>)<br/>Sweep page: <a href='https://wandb.ai/pragalbh/DL_Assign3/sweeps/mzhrnfy5' target=\"_blank\">https://wandb.ai/pragalbh/DL_Assign3/sweeps/mzhrnfy5</a>"
      ],
      "text/plain": [
       "<IPython.core.display.HTML object>"
      ]
     },
     "metadata": {},
     "output_type": "display_data"
    },
    {
     "data": {
      "text/html": [
       " View project at <a href='https://wandb.ai/pragalbh/DL_Assign3' target=\"_blank\">https://wandb.ai/pragalbh/DL_Assign3</a>"
      ],
      "text/plain": [
       "<IPython.core.display.HTML object>"
      ]
     },
     "metadata": {},
     "output_type": "display_data"
    },
    {
     "data": {
      "text/html": [
       " View sweep at <a href='https://wandb.ai/pragalbh/DL_Assign3/sweeps/mzhrnfy5' target=\"_blank\">https://wandb.ai/pragalbh/DL_Assign3/sweeps/mzhrnfy5</a>"
      ],
      "text/plain": [
       "<IPython.core.display.HTML object>"
      ]
     },
     "metadata": {},
     "output_type": "display_data"
    },
    {
     "data": {
      "text/html": [
       " View run at <a href='https://wandb.ai/pragalbh/DL_Assign3/runs/89s5b56k' target=\"_blank\">https://wandb.ai/pragalbh/DL_Assign3/runs/89s5b56k</a>"
      ],
      "text/plain": [
       "<IPython.core.display.HTML object>"
      ]
     },
     "metadata": {},
     "output_type": "display_data"
    },
    {
     "name": "stdout",
     "output_type": "stream",
     "text": [
      "The model has 2,868,676 trainable parameters\n",
      "Epoch: 01 | Time: 0.0m 56.58s\n",
      "\t Train Loss: 1.416 | Train Acc: 17.11%\n",
      "\t Val. Loss: 1.468 |  Val. Acc: 32.13%\n",
      "\t Relaxed Train. Acc: 68.93% | Relaxed Val. Acc: 71.04%\n",
      "Epoch: 02 | Time: 0.0m 56.75s\n",
      "\t Train Loss: 1.040 | Train Acc: 30.71%\n",
      "\t Val. Loss: 1.391 |  Val. Acc: 35.42%\n",
      "\t Relaxed Train. Acc: 80.15% | Relaxed Val. Acc: 74.17%\n",
      "Epoch: 03 | Time: 0.0m 56.68s\n",
      "\t Train Loss: 0.950 | Train Acc: 35.98%\n",
      "\t Val. Loss: 1.355 |  Val. Acc: 38.31%\n",
      "\t Relaxed Train. Acc: 83.12% | Relaxed Val. Acc: 75.06%\n",
      "Epoch: 04 | Time: 0.0m 56.66s\n",
      "\t Train Loss: 0.903 | Train Acc: 39.73%\n",
      "\t Val. Loss: 1.349 |  Val. Acc: 40.33%\n",
      "\t Relaxed Train. Acc: 84.61% | Relaxed Val. Acc: 76.33%\n",
      "Epoch: 05 | Time: 0.0m 56.69s\n",
      "\t Train Loss: 0.876 | Train Acc: 42.72%\n",
      "\t Val. Loss: 1.339 |  Val. Acc: 41.04%\n",
      "\t Relaxed Train. Acc: 85.58% | Relaxed Val. Acc: 76.24%\n",
      "Epoch: 06 | Time: 0.0m 56.55s\n",
      "\t Train Loss: 0.838 | Train Acc: 45.35%\n",
      "\t Val. Loss: 1.354 |  Val. Acc: 41.87%\n",
      "\t Relaxed Train. Acc: 86.75% | Relaxed Val. Acc: 76.64%\n",
      "Epoch: 07 | Time: 0.0m 56.56s\n",
      "\t Train Loss: 0.804 | Train Acc: 48.13%\n",
      "\t Val. Loss: 1.359 |  Val. Acc: 42.21%\n",
      "\t Relaxed Train. Acc: 87.83% | Relaxed Val. Acc: 77.08%\n",
      "Epoch: 08 | Time: 0.0m 56.51s\n",
      "\t Train Loss: 0.788 | Train Acc: 50.12%\n",
      "\t Val. Loss: 1.390 |  Val. Acc: 41.26%\n",
      "\t Relaxed Train. Acc: 88.35% | Relaxed Val. Acc: 76.80%\n",
      "Epoch: 09 | Time: 0.0m 56.49s\n",
      "\t Train Loss: 0.770 | Train Acc: 51.98%\n",
      "\t Val. Loss: 1.370 |  Val. Acc: 41.70%\n",
      "\t Relaxed Train. Acc: 88.98% | Relaxed Val. Acc: 77.29%\n",
      "Epoch: 10 | Time: 0.0m 56.39s\n",
      "\t Train Loss: 0.754 | Train Acc: 53.96%\n",
      "\t Val. Loss: 1.376 |  Val. Acc: 43.09%\n",
      "\t Relaxed Train. Acc: 89.50% | Relaxed Val. Acc: 77.51%\n",
      "Run: enc_embed size: 128 dec_embed size: 32, enc_hid_size: 128, dec_hid_size: 512, num_layers: 2, cell_modelstm\n"
     ]
    },
    {
     "data": {
      "text/html": [
       "Waiting for W&B process to finish... <strong style=\"color:green\">(success).</strong>"
      ],
      "text/plain": [
       "<IPython.core.display.HTML object>"
      ]
     },
     "metadata": {},
     "output_type": "display_data"
    },
    {
     "data": {
      "text/html": [
       "<style>\n",
       "    table.wandb td:nth-child(1) { padding: 0 10px; text-align: left ; width: auto;} td:nth-child(2) {text-align: left ; width: 100%}\n",
       "    .wandb-row { display: flex; flex-direction: row; flex-wrap: wrap; justify-content: flex-start; width: 100% }\n",
       "    .wandb-col { display: flex; flex-direction: column; flex-basis: 100%; flex: 1; padding: 10px; }\n",
       "    </style>\n",
       "<div class=\"wandb-row\"><div class=\"wandb-col\"><h3>Run history:</h3><br/><table class=\"wandb\"><tr><td>epoch</td><td>▁▂▃▃▄▅▆▆▇█</td></tr><tr><td>relxd train acc</td><td>▁▅▆▆▇▇▇███</td></tr><tr><td>relxd valid acc</td><td>▁▄▅▇▇▇█▇██</td></tr><tr><td>train acc</td><td>▁▄▅▅▆▆▇▇██</td></tr><tr><td>train loss</td><td>█▄▃▃▂▂▂▁▁▁</td></tr><tr><td>valid acc</td><td>▁▃▅▆▇▇▇▇▇█</td></tr><tr><td>valid loss</td><td>█▄▂▂▁▂▂▄▃▃</td></tr></table><br/></div><div class=\"wandb-col\"><h3>Run summary:</h3><br/><table class=\"wandb\"><tr><td>epoch</td><td>9</td></tr><tr><td>relxd train acc</td><td>0.89496</td></tr><tr><td>relxd valid acc</td><td>0.7751</td></tr><tr><td>train acc</td><td>0.53961</td></tr><tr><td>train loss</td><td>0.75436</td></tr><tr><td>valid acc</td><td>0.43091</td></tr><tr><td>valid loss</td><td>1.37635</td></tr></table><br/></div></div>"
      ],
      "text/plain": [
       "<IPython.core.display.HTML object>"
      ]
     },
     "metadata": {},
     "output_type": "display_data"
    },
    {
     "data": {
      "text/html": [
       " View run <strong style=\"color:#cdcd00\">solar-sweep-100</strong> at: <a href='https://wandb.ai/pragalbh/DL_Assign3/runs/89s5b56k' target=\"_blank\">https://wandb.ai/pragalbh/DL_Assign3/runs/89s5b56k</a><br/>Synced 3 W&B file(s), 0 media file(s), 0 artifact file(s) and 0 other file(s)"
      ],
      "text/plain": [
       "<IPython.core.display.HTML object>"
      ]
     },
     "metadata": {},
     "output_type": "display_data"
    },
    {
     "data": {
      "text/html": [
       "Find logs at: <code>./wandb/run-20230530_030153-89s5b56k/logs</code>"
      ],
      "text/plain": [
       "<IPython.core.display.HTML object>"
      ]
     },
     "metadata": {},
     "output_type": "display_data"
    },
    {
     "name": "stderr",
     "output_type": "stream",
     "text": [
      "\u001b[34m\u001b[1mwandb\u001b[0m: Sweep Agent: Waiting for job.\n",
      "\u001b[34m\u001b[1mwandb\u001b[0m: Job received.\n",
      "\u001b[34m\u001b[1mwandb\u001b[0m: Agent Starting Run: 84pipxd4 with config:\n",
      "\u001b[34m\u001b[1mwandb\u001b[0m: \tcell_mode: lstm\n",
      "\u001b[34m\u001b[1mwandb\u001b[0m: \tdec_embed_size: 32\n",
      "\u001b[34m\u001b[1mwandb\u001b[0m: \tdec_hid_size: 512\n",
      "\u001b[34m\u001b[1mwandb\u001b[0m: \tdropout: 0.2\n",
      "\u001b[34m\u001b[1mwandb\u001b[0m: \tenc_embed_size: 128\n",
      "\u001b[34m\u001b[1mwandb\u001b[0m: \tenc_hid_size: 256\n",
      "\u001b[34m\u001b[1mwandb\u001b[0m: \tepochs: 10\n",
      "\u001b[34m\u001b[1mwandb\u001b[0m: \tis_bi: True\n",
      "\u001b[34m\u001b[1mwandb\u001b[0m: \tnum_layers: 1\n"
     ]
    },
    {
     "data": {
      "text/html": [
       "Tracking run with wandb version 0.15.3"
      ],
      "text/plain": [
       "<IPython.core.display.HTML object>"
      ]
     },
     "metadata": {},
     "output_type": "display_data"
    },
    {
     "data": {
      "text/html": [
       "Run data is saved locally in <code>/home/pragalbh/DL_Assign3/wandb/run-20230530_031139-84pipxd4</code>"
      ],
      "text/plain": [
       "<IPython.core.display.HTML object>"
      ]
     },
     "metadata": {},
     "output_type": "display_data"
    },
    {
     "data": {
      "text/html": [
       "Resuming run <strong><a href='https://wandb.ai/pragalbh/DL_Assign3/runs/84pipxd4' target=\"_blank\">sparkling-sweep-101</a></strong> to <a href='https://wandb.ai/pragalbh/DL_Assign3' target=\"_blank\">Weights & Biases</a> (<a href='https://wandb.me/run' target=\"_blank\">docs</a>)<br/>Sweep page: <a href='https://wandb.ai/pragalbh/DL_Assign3/sweeps/mzhrnfy5' target=\"_blank\">https://wandb.ai/pragalbh/DL_Assign3/sweeps/mzhrnfy5</a>"
      ],
      "text/plain": [
       "<IPython.core.display.HTML object>"
      ]
     },
     "metadata": {},
     "output_type": "display_data"
    },
    {
     "data": {
      "text/html": [
       " View project at <a href='https://wandb.ai/pragalbh/DL_Assign3' target=\"_blank\">https://wandb.ai/pragalbh/DL_Assign3</a>"
      ],
      "text/plain": [
       "<IPython.core.display.HTML object>"
      ]
     },
     "metadata": {},
     "output_type": "display_data"
    },
    {
     "data": {
      "text/html": [
       " View sweep at <a href='https://wandb.ai/pragalbh/DL_Assign3/sweeps/mzhrnfy5' target=\"_blank\">https://wandb.ai/pragalbh/DL_Assign3/sweeps/mzhrnfy5</a>"
      ],
      "text/plain": [
       "<IPython.core.display.HTML object>"
      ]
     },
     "metadata": {},
     "output_type": "display_data"
    },
    {
     "data": {
      "text/html": [
       " View run at <a href='https://wandb.ai/pragalbh/DL_Assign3/runs/84pipxd4' target=\"_blank\">https://wandb.ai/pragalbh/DL_Assign3/runs/84pipxd4</a>"
      ],
      "text/plain": [
       "<IPython.core.display.HTML object>"
      ]
     },
     "metadata": {},
     "output_type": "display_data"
    },
    {
     "name": "stdout",
     "output_type": "stream",
     "text": [
      "The model has 3,786,180 trainable parameters\n",
      "Epoch: 01 | Time: 1.0m 2.92s\n",
      "\t Train Loss: 1.348 | Train Acc: 19.79%\n",
      "\t Val. Loss: 1.437 |  Val. Acc: 33.18%\n",
      "\t Relaxed Train. Acc: 70.75% | Relaxed Val. Acc: 71.76%\n",
      "Epoch: 02 | Time: 1.0m 3.12s\n",
      "\t Train Loss: 1.009 | Train Acc: 32.73%\n",
      "\t Val. Loss: 1.346 |  Val. Acc: 37.06%\n",
      "\t Relaxed Train. Acc: 81.11% | Relaxed Val. Acc: 74.43%\n",
      "Epoch: 03 | Time: 1.0m 3.15s\n",
      "\t Train Loss: 0.924 | Train Acc: 38.36%\n",
      "\t Val. Loss: 1.373 |  Val. Acc: 37.23%\n",
      "\t Relaxed Train. Acc: 83.95% | Relaxed Val. Acc: 74.99%\n",
      "Epoch: 04 | Time: 1.0m 3.08s\n",
      "\t Train Loss: 0.875 | Train Acc: 42.27%\n",
      "\t Val. Loss: 1.333 |  Val. Acc: 40.53%\n",
      "\t Relaxed Train. Acc: 85.57% | Relaxed Val. Acc: 76.48%\n",
      "Epoch: 05 | Time: 1.0m 3.07s\n",
      "\t Train Loss: 0.840 | Train Acc: 45.71%\n",
      "\t Val. Loss: 1.341 |  Val. Acc: 40.82%\n",
      "\t Relaxed Train. Acc: 86.71% | Relaxed Val. Acc: 76.57%\n",
      "Epoch: 06 | Time: 1.0m 3.02s\n",
      "\t Train Loss: 0.804 | Train Acc: 48.73%\n",
      "\t Val. Loss: 1.364 |  Val. Acc: 41.85%\n",
      "\t Relaxed Train. Acc: 87.89% | Relaxed Val. Acc: 76.97%\n",
      "Epoch: 07 | Time: 1.0m 2.98s\n",
      "\t Train Loss: 0.774 | Train Acc: 51.84%\n",
      "\t Val. Loss: 1.354 |  Val. Acc: 41.55%\n",
      "\t Relaxed Train. Acc: 88.95% | Relaxed Val. Acc: 77.19%\n",
      "Epoch: 08 | Time: 1.0m 2.96s\n",
      "\t Train Loss: 0.750 | Train Acc: 54.36%\n",
      "\t Val. Loss: 1.406 |  Val. Acc: 41.38%\n",
      "\t Relaxed Train. Acc: 89.70% | Relaxed Val. Acc: 76.96%\n",
      "Epoch: 09 | Time: 1.0m 2.94s\n",
      "\t Train Loss: 0.725 | Train Acc: 57.13%\n",
      "\t Val. Loss: 1.391 |  Val. Acc: 41.75%\n",
      "\t Relaxed Train. Acc: 90.52% | Relaxed Val. Acc: 77.42%\n",
      "Epoch: 10 | Time: 1.0m 2.90s\n",
      "\t Train Loss: 0.705 | Train Acc: 59.53%\n",
      "\t Val. Loss: 1.411 |  Val. Acc: 41.60%\n",
      "\t Relaxed Train. Acc: 91.17% | Relaxed Val. Acc: 77.04%\n",
      "Run: enc_embed size: 128 dec_embed size: 32, enc_hid_size: 256, dec_hid_size: 512, num_layers: 1, cell_modelstm\n"
     ]
    },
    {
     "data": {
      "text/html": [
       "Waiting for W&B process to finish... <strong style=\"color:green\">(success).</strong>"
      ],
      "text/plain": [
       "<IPython.core.display.HTML object>"
      ]
     },
     "metadata": {},
     "output_type": "display_data"
    },
    {
     "data": {
      "text/html": [
       "<style>\n",
       "    table.wandb td:nth-child(1) { padding: 0 10px; text-align: left ; width: auto;} td:nth-child(2) {text-align: left ; width: 100%}\n",
       "    .wandb-row { display: flex; flex-direction: row; flex-wrap: wrap; justify-content: flex-start; width: 100% }\n",
       "    .wandb-col { display: flex; flex-direction: column; flex-basis: 100%; flex: 1; padding: 10px; }\n",
       "    </style>\n",
       "<div class=\"wandb-row\"><div class=\"wandb-col\"><h3>Run history:</h3><br/><table class=\"wandb\"><tr><td>epoch</td><td>▁▂▃▃▄▅▆▆▇█</td></tr><tr><td>relxd train acc</td><td>▁▅▆▆▆▇▇▇██</td></tr><tr><td>relxd valid acc</td><td>▁▄▅▇▇▇█▇██</td></tr><tr><td>train acc</td><td>▁▃▄▅▆▆▇▇██</td></tr><tr><td>train loss</td><td>█▄▃▃▂▂▂▁▁▁</td></tr><tr><td>valid acc</td><td>▁▄▄▇▇█████</td></tr><tr><td>valid loss</td><td>█▂▄▁▂▃▂▆▅▆</td></tr></table><br/></div><div class=\"wandb-col\"><h3>Run summary:</h3><br/><table class=\"wandb\"><tr><td>epoch</td><td>9</td></tr><tr><td>relxd train acc</td><td>0.91172</td></tr><tr><td>relxd valid acc</td><td>0.77041</td></tr><tr><td>train acc</td><td>0.59529</td></tr><tr><td>train loss</td><td>0.70523</td></tr><tr><td>valid acc</td><td>0.41602</td></tr><tr><td>valid loss</td><td>1.41145</td></tr></table><br/></div></div>"
      ],
      "text/plain": [
       "<IPython.core.display.HTML object>"
      ]
     },
     "metadata": {},
     "output_type": "display_data"
    },
    {
     "data": {
      "text/html": [
       " View run <strong style=\"color:#cdcd00\">sparkling-sweep-101</strong> at: <a href='https://wandb.ai/pragalbh/DL_Assign3/runs/84pipxd4' target=\"_blank\">https://wandb.ai/pragalbh/DL_Assign3/runs/84pipxd4</a><br/>Synced 3 W&B file(s), 0 media file(s), 0 artifact file(s) and 0 other file(s)"
      ],
      "text/plain": [
       "<IPython.core.display.HTML object>"
      ]
     },
     "metadata": {},
     "output_type": "display_data"
    },
    {
     "data": {
      "text/html": [
       "Find logs at: <code>./wandb/run-20230530_031139-84pipxd4/logs</code>"
      ],
      "text/plain": [
       "<IPython.core.display.HTML object>"
      ]
     },
     "metadata": {},
     "output_type": "display_data"
    },
    {
     "name": "stderr",
     "output_type": "stream",
     "text": [
      "\u001b[34m\u001b[1mwandb\u001b[0m: Agent Starting Run: 5wmocix2 with config:\n",
      "\u001b[34m\u001b[1mwandb\u001b[0m: \tcell_mode: lstm\n",
      "\u001b[34m\u001b[1mwandb\u001b[0m: \tdec_embed_size: 64\n",
      "\u001b[34m\u001b[1mwandb\u001b[0m: \tdec_hid_size: 512\n",
      "\u001b[34m\u001b[1mwandb\u001b[0m: \tdropout: 0.2\n",
      "\u001b[34m\u001b[1mwandb\u001b[0m: \tenc_embed_size: 512\n",
      "\u001b[34m\u001b[1mwandb\u001b[0m: \tenc_hid_size: 128\n",
      "\u001b[34m\u001b[1mwandb\u001b[0m: \tepochs: 10\n",
      "\u001b[34m\u001b[1mwandb\u001b[0m: \tis_bi: False\n",
      "\u001b[34m\u001b[1mwandb\u001b[0m: \tnum_layers: 2\n"
     ]
    },
    {
     "data": {
      "text/html": [
       "Tracking run with wandb version 0.15.3"
      ],
      "text/plain": [
       "<IPython.core.display.HTML object>"
      ]
     },
     "metadata": {},
     "output_type": "display_data"
    },
    {
     "data": {
      "text/html": [
       "Run data is saved locally in <code>/home/pragalbh/DL_Assign3/wandb/run-20230530_032219-5wmocix2</code>"
      ],
      "text/plain": [
       "<IPython.core.display.HTML object>"
      ]
     },
     "metadata": {},
     "output_type": "display_data"
    },
    {
     "data": {
      "text/html": [
       "Resuming run <strong><a href='https://wandb.ai/pragalbh/DL_Assign3/runs/5wmocix2' target=\"_blank\">clear-sweep-102</a></strong> to <a href='https://wandb.ai/pragalbh/DL_Assign3' target=\"_blank\">Weights & Biases</a> (<a href='https://wandb.me/run' target=\"_blank\">docs</a>)<br/>Sweep page: <a href='https://wandb.ai/pragalbh/DL_Assign3/sweeps/mzhrnfy5' target=\"_blank\">https://wandb.ai/pragalbh/DL_Assign3/sweeps/mzhrnfy5</a>"
      ],
      "text/plain": [
       "<IPython.core.display.HTML object>"
      ]
     },
     "metadata": {},
     "output_type": "display_data"
    },
    {
     "data": {
      "text/html": [
       " View project at <a href='https://wandb.ai/pragalbh/DL_Assign3' target=\"_blank\">https://wandb.ai/pragalbh/DL_Assign3</a>"
      ],
      "text/plain": [
       "<IPython.core.display.HTML object>"
      ]
     },
     "metadata": {},
     "output_type": "display_data"
    },
    {
     "data": {
      "text/html": [
       " View sweep at <a href='https://wandb.ai/pragalbh/DL_Assign3/sweeps/mzhrnfy5' target=\"_blank\">https://wandb.ai/pragalbh/DL_Assign3/sweeps/mzhrnfy5</a>"
      ],
      "text/plain": [
       "<IPython.core.display.HTML object>"
      ]
     },
     "metadata": {},
     "output_type": "display_data"
    },
    {
     "data": {
      "text/html": [
       " View run at <a href='https://wandb.ai/pragalbh/DL_Assign3/runs/5wmocix2' target=\"_blank\">https://wandb.ai/pragalbh/DL_Assign3/runs/5wmocix2</a>"
      ],
      "text/plain": [
       "<IPython.core.display.HTML object>"
      ]
     },
     "metadata": {},
     "output_type": "display_data"
    },
    {
     "name": "stdout",
     "output_type": "stream",
     "text": [
      "The model has 2,356,036 trainable parameters\n",
      "Epoch: 01 | Time: 0.0m 52.46s\n",
      "\t Train Loss: 1.562 | Train Acc: 13.21%\n",
      "\t Val. Loss: 1.530 |  Val. Acc: 28.54%\n",
      "\t Relaxed Train. Acc: 64.89% | Relaxed Val. Acc: 69.48%\n",
      "Epoch: 02 | Time: 0.0m 52.43s\n",
      "\t Train Loss: 1.106 | Train Acc: 25.54%\n",
      "\t Val. Loss: 1.456 |  Val. Acc: 32.76%\n",
      "\t Relaxed Train. Acc: 78.04% | Relaxed Val. Acc: 71.83%\n",
      "Epoch: 03 | Time: 0.0m 52.37s\n",
      "\t Train Loss: 1.008 | Train Acc: 31.32%\n",
      "\t Val. Loss: 1.409 |  Val. Acc: 35.57%\n",
      "\t Relaxed Train. Acc: 81.14% | Relaxed Val. Acc: 73.47%\n",
      "Epoch: 04 | Time: 0.0m 52.34s\n",
      "\t Train Loss: 0.956 | Train Acc: 34.66%\n",
      "\t Val. Loss: 1.355 |  Val. Acc: 38.13%\n",
      "\t Relaxed Train. Acc: 82.78% | Relaxed Val. Acc: 75.33%\n",
      "Epoch: 05 | Time: 0.0m 52.35s\n",
      "\t Train Loss: 0.918 | Train Acc: 37.22%\n",
      "\t Val. Loss: 1.360 |  Val. Acc: 38.45%\n",
      "\t Relaxed Train. Acc: 83.97% | Relaxed Val. Acc: 75.64%\n",
      "Epoch: 06 | Time: 0.0m 52.27s\n",
      "\t Train Loss: 0.885 | Train Acc: 40.04%\n",
      "\t Val. Loss: 1.373 |  Val. Acc: 38.89%\n",
      "\t Relaxed Train. Acc: 85.11% | Relaxed Val. Acc: 75.44%\n",
      "Epoch: 07 | Time: 0.0m 52.24s\n",
      "\t Train Loss: 0.854 | Train Acc: 42.47%\n",
      "\t Val. Loss: 1.380 |  Val. Acc: 38.35%\n",
      "\t Relaxed Train. Acc: 86.07% | Relaxed Val. Acc: 75.35%\n",
      "Epoch: 08 | Time: 0.0m 52.24s\n",
      "\t Train Loss: 0.838 | Train Acc: 44.29%\n",
      "\t Val. Loss: 1.402 |  Val. Acc: 38.50%\n",
      "\t Relaxed Train. Acc: 86.59% | Relaxed Val. Acc: 75.47%\n",
      "Epoch: 09 | Time: 0.0m 52.28s\n",
      "\t Train Loss: 0.816 | Train Acc: 46.17%\n",
      "\t Val. Loss: 1.395 |  Val. Acc: 38.09%\n",
      "\t Relaxed Train. Acc: 87.34% | Relaxed Val. Acc: 75.81%\n",
      "Epoch: 10 | Time: 0.0m 52.16s\n",
      "\t Train Loss: 0.797 | Train Acc: 48.33%\n",
      "\t Val. Loss: 1.391 |  Val. Acc: 39.70%\n",
      "\t Relaxed Train. Acc: 87.99% | Relaxed Val. Acc: 76.39%\n",
      "Run: enc_embed size: 512 dec_embed size: 64, enc_hid_size: 128, dec_hid_size: 512, num_layers: 2, cell_modelstm\n"
     ]
    },
    {
     "data": {
      "text/html": [
       "Waiting for W&B process to finish... <strong style=\"color:green\">(success).</strong>"
      ],
      "text/plain": [
       "<IPython.core.display.HTML object>"
      ]
     },
     "metadata": {},
     "output_type": "display_data"
    },
    {
     "data": {
      "text/html": [
       "<style>\n",
       "    table.wandb td:nth-child(1) { padding: 0 10px; text-align: left ; width: auto;} td:nth-child(2) {text-align: left ; width: 100%}\n",
       "    .wandb-row { display: flex; flex-direction: row; flex-wrap: wrap; justify-content: flex-start; width: 100% }\n",
       "    .wandb-col { display: flex; flex-direction: column; flex-basis: 100%; flex: 1; padding: 10px; }\n",
       "    </style>\n",
       "<div class=\"wandb-row\"><div class=\"wandb-col\"><h3>Run history:</h3><br/><table class=\"wandb\"><tr><td>epoch</td><td>▁▂▃▃▄▅▆▆▇█</td></tr><tr><td>relxd train acc</td><td>▁▅▆▆▇▇▇███</td></tr><tr><td>relxd valid acc</td><td>▁▃▅▇▇▇▇▇▇█</td></tr><tr><td>train acc</td><td>▁▃▅▅▆▆▇▇██</td></tr><tr><td>train loss</td><td>█▄▃▂▂▂▂▁▁▁</td></tr><tr><td>valid acc</td><td>▁▄▅▇▇▇▇▇▇█</td></tr><tr><td>valid loss</td><td>█▅▃▁▁▂▂▃▃▂</td></tr></table><br/></div><div class=\"wandb-col\"><h3>Run summary:</h3><br/><table class=\"wandb\"><tr><td>epoch</td><td>9</td></tr><tr><td>relxd train acc</td><td>0.8799</td></tr><tr><td>relxd valid acc</td><td>0.76387</td></tr><tr><td>train acc</td><td>0.48332</td></tr><tr><td>train loss</td><td>0.79711</td></tr><tr><td>valid acc</td><td>0.39697</td></tr><tr><td>valid loss</td><td>1.39076</td></tr></table><br/></div></div>"
      ],
      "text/plain": [
       "<IPython.core.display.HTML object>"
      ]
     },
     "metadata": {},
     "output_type": "display_data"
    },
    {
     "data": {
      "text/html": [
       " View run <strong style=\"color:#cdcd00\">clear-sweep-102</strong> at: <a href='https://wandb.ai/pragalbh/DL_Assign3/runs/5wmocix2' target=\"_blank\">https://wandb.ai/pragalbh/DL_Assign3/runs/5wmocix2</a><br/>Synced 3 W&B file(s), 0 media file(s), 0 artifact file(s) and 0 other file(s)"
      ],
      "text/plain": [
       "<IPython.core.display.HTML object>"
      ]
     },
     "metadata": {},
     "output_type": "display_data"
    },
    {
     "data": {
      "text/html": [
       "Find logs at: <code>./wandb/run-20230530_032219-5wmocix2/logs</code>"
      ],
      "text/plain": [
       "<IPython.core.display.HTML object>"
      ]
     },
     "metadata": {},
     "output_type": "display_data"
    },
    {
     "name": "stderr",
     "output_type": "stream",
     "text": [
      "\u001b[34m\u001b[1mwandb\u001b[0m: Agent Starting Run: ym4cw5ve with config:\n",
      "\u001b[34m\u001b[1mwandb\u001b[0m: \tcell_mode: lstm\n",
      "\u001b[34m\u001b[1mwandb\u001b[0m: \tdec_embed_size: 32\n",
      "\u001b[34m\u001b[1mwandb\u001b[0m: \tdec_hid_size: 512\n",
      "\u001b[34m\u001b[1mwandb\u001b[0m: \tdropout: 0.2\n",
      "\u001b[34m\u001b[1mwandb\u001b[0m: \tenc_embed_size: 64\n",
      "\u001b[34m\u001b[1mwandb\u001b[0m: \tenc_hid_size: 512\n",
      "\u001b[34m\u001b[1mwandb\u001b[0m: \tepochs: 10\n",
      "\u001b[34m\u001b[1mwandb\u001b[0m: \tis_bi: True\n",
      "\u001b[34m\u001b[1mwandb\u001b[0m: \tnum_layers: 2\n"
     ]
    },
    {
     "data": {
      "text/html": [
       "Tracking run with wandb version 0.15.3"
      ],
      "text/plain": [
       "<IPython.core.display.HTML object>"
      ]
     },
     "metadata": {},
     "output_type": "display_data"
    },
    {
     "data": {
      "text/html": [
       "Run data is saved locally in <code>/home/pragalbh/DL_Assign3/wandb/run-20230530_033111-ym4cw5ve</code>"
      ],
      "text/plain": [
       "<IPython.core.display.HTML object>"
      ]
     },
     "metadata": {},
     "output_type": "display_data"
    },
    {
     "data": {
      "text/html": [
       "Resuming run <strong><a href='https://wandb.ai/pragalbh/DL_Assign3/runs/ym4cw5ve' target=\"_blank\">likely-sweep-103</a></strong> to <a href='https://wandb.ai/pragalbh/DL_Assign3' target=\"_blank\">Weights & Biases</a> (<a href='https://wandb.me/run' target=\"_blank\">docs</a>)<br/>Sweep page: <a href='https://wandb.ai/pragalbh/DL_Assign3/sweeps/mzhrnfy5' target=\"_blank\">https://wandb.ai/pragalbh/DL_Assign3/sweeps/mzhrnfy5</a>"
      ],
      "text/plain": [
       "<IPython.core.display.HTML object>"
      ]
     },
     "metadata": {},
     "output_type": "display_data"
    },
    {
     "data": {
      "text/html": [
       " View project at <a href='https://wandb.ai/pragalbh/DL_Assign3' target=\"_blank\">https://wandb.ai/pragalbh/DL_Assign3</a>"
      ],
      "text/plain": [
       "<IPython.core.display.HTML object>"
      ]
     },
     "metadata": {},
     "output_type": "display_data"
    },
    {
     "data": {
      "text/html": [
       " View sweep at <a href='https://wandb.ai/pragalbh/DL_Assign3/sweeps/mzhrnfy5' target=\"_blank\">https://wandb.ai/pragalbh/DL_Assign3/sweeps/mzhrnfy5</a>"
      ],
      "text/plain": [
       "<IPython.core.display.HTML object>"
      ]
     },
     "metadata": {},
     "output_type": "display_data"
    },
    {
     "data": {
      "text/html": [
       " View run at <a href='https://wandb.ai/pragalbh/DL_Assign3/runs/ym4cw5ve' target=\"_blank\">https://wandb.ai/pragalbh/DL_Assign3/runs/ym4cw5ve</a>"
      ],
      "text/plain": [
       "<IPython.core.display.HTML object>"
      ]
     },
     "metadata": {},
     "output_type": "display_data"
    },
    {
     "name": "stdout",
     "output_type": "stream",
     "text": [
      "The model has 13,233,732 trainable parameters\n",
      "Epoch: 01 | Time: 1.0m 34.61s\n",
      "\t Train Loss: 1.513 | Train Acc: 18.40%\n",
      "\t Val. Loss: 1.400 |  Val. Acc: 33.84%\n",
      "\t Relaxed Train. Acc: 66.56% | Relaxed Val. Acc: 72.74%\n",
      "Epoch: 02 | Time: 1.0m 34.86s\n",
      "\t Train Loss: 0.995 | Train Acc: 34.02%\n",
      "\t Val. Loss: 1.366 |  Val. Acc: 38.84%\n",
      "\t Relaxed Train. Acc: 81.71% | Relaxed Val. Acc: 75.13%\n",
      "Epoch: 03 | Time: 1.0m 34.79s\n",
      "\t Train Loss: 0.903 | Train Acc: 40.19%\n",
      "\t Val. Loss: 1.329 |  Val. Acc: 39.99%\n",
      "\t Relaxed Train. Acc: 84.68% | Relaxed Val. Acc: 76.12%\n",
      "Epoch: 04 | Time: 1.0m 34.72s\n",
      "\t Train Loss: 0.849 | Train Acc: 44.56%\n",
      "\t Val. Loss: 1.345 |  Val. Acc: 40.94%\n",
      "\t Relaxed Train. Acc: 86.47% | Relaxed Val. Acc: 76.35%\n",
      "Epoch: 05 | Time: 1.0m 34.66s\n",
      "\t Train Loss: 0.811 | Train Acc: 48.43%\n",
      "\t Val. Loss: 1.354 |  Val. Acc: 41.19%\n",
      "\t Relaxed Train. Acc: 87.73% | Relaxed Val. Acc: 76.51%\n",
      "Epoch: 06 | Time: 1.0m 34.62s\n",
      "\t Train Loss: 0.770 | Train Acc: 52.12%\n",
      "\t Val. Loss: 1.335 |  Val. Acc: 44.26%\n",
      "\t Relaxed Train. Acc: 89.03% | Relaxed Val. Acc: 77.72%\n",
      "Epoch: 07 | Time: 1.0m 34.59s\n",
      "\t Train Loss: 0.742 | Train Acc: 55.08%\n",
      "\t Val. Loss: 1.364 |  Val. Acc: 42.41%\n",
      "\t Relaxed Train. Acc: 89.96% | Relaxed Val. Acc: 77.25%\n",
      "Epoch: 08 | Time: 1.0m 34.55s\n",
      "\t Train Loss: 0.711 | Train Acc: 58.52%\n",
      "\t Val. Loss: 1.382 |  Val. Acc: 43.99%\n",
      "\t Relaxed Train. Acc: 90.97% | Relaxed Val. Acc: 77.90%\n",
      "Epoch: 09 | Time: 1.0m 34.53s\n",
      "\t Train Loss: 0.692 | Train Acc: 61.25%\n",
      "\t Val. Loss: 1.426 |  Val. Acc: 42.16%\n",
      "\t Relaxed Train. Acc: 91.66% | Relaxed Val. Acc: 77.35%\n",
      "Epoch: 10 | Time: 1.0m 34.51s\n",
      "\t Train Loss: 0.676 | Train Acc: 63.20%\n",
      "\t Val. Loss: 1.445 |  Val. Acc: 42.63%\n",
      "\t Relaxed Train. Acc: 92.18% | Relaxed Val. Acc: 77.53%\n",
      "Run: enc_embed size: 64 dec_embed size: 32, enc_hid_size: 512, dec_hid_size: 512, num_layers: 2, cell_modelstm\n"
     ]
    },
    {
     "data": {
      "text/html": [
       "Waiting for W&B process to finish... <strong style=\"color:green\">(success).</strong>"
      ],
      "text/plain": [
       "<IPython.core.display.HTML object>"
      ]
     },
     "metadata": {},
     "output_type": "display_data"
    },
    {
     "data": {
      "text/html": [
       "<style>\n",
       "    table.wandb td:nth-child(1) { padding: 0 10px; text-align: left ; width: auto;} td:nth-child(2) {text-align: left ; width: 100%}\n",
       "    .wandb-row { display: flex; flex-direction: row; flex-wrap: wrap; justify-content: flex-start; width: 100% }\n",
       "    .wandb-col { display: flex; flex-direction: column; flex-basis: 100%; flex: 1; padding: 10px; }\n",
       "    </style>\n",
       "<div class=\"wandb-row\"><div class=\"wandb-col\"><h3>Run history:</h3><br/><table class=\"wandb\"><tr><td>epoch</td><td>▁▂▃▃▄▅▆▆▇█</td></tr><tr><td>relxd train acc</td><td>▁▅▆▆▇▇▇███</td></tr><tr><td>relxd valid acc</td><td>▁▄▆▆▆█▇█▇▇</td></tr><tr><td>train acc</td><td>▁▃▄▅▆▆▇▇██</td></tr><tr><td>train loss</td><td>█▄▃▂▂▂▂▁▁▁</td></tr><tr><td>valid acc</td><td>▁▄▅▆▆█▇█▇▇</td></tr><tr><td>valid loss</td><td>▅▃▁▂▂▁▃▄▇█</td></tr></table><br/></div><div class=\"wandb-col\"><h3>Run summary:</h3><br/><table class=\"wandb\"><tr><td>epoch</td><td>9</td></tr><tr><td>relxd train acc</td><td>0.9218</td></tr><tr><td>relxd valid acc</td><td>0.77526</td></tr><tr><td>train acc</td><td>0.63195</td></tr><tr><td>train loss</td><td>0.67613</td></tr><tr><td>valid acc</td><td>0.42627</td></tr><tr><td>valid loss</td><td>1.44494</td></tr></table><br/></div></div>"
      ],
      "text/plain": [
       "<IPython.core.display.HTML object>"
      ]
     },
     "metadata": {},
     "output_type": "display_data"
    },
    {
     "data": {
      "text/html": [
       " View run <strong style=\"color:#cdcd00\">likely-sweep-103</strong> at: <a href='https://wandb.ai/pragalbh/DL_Assign3/runs/ym4cw5ve' target=\"_blank\">https://wandb.ai/pragalbh/DL_Assign3/runs/ym4cw5ve</a><br/>Synced 3 W&B file(s), 0 media file(s), 0 artifact file(s) and 0 other file(s)"
      ],
      "text/plain": [
       "<IPython.core.display.HTML object>"
      ]
     },
     "metadata": {},
     "output_type": "display_data"
    },
    {
     "data": {
      "text/html": [
       "Find logs at: <code>./wandb/run-20230530_033111-ym4cw5ve/logs</code>"
      ],
      "text/plain": [
       "<IPython.core.display.HTML object>"
      ]
     },
     "metadata": {},
     "output_type": "display_data"
    },
    {
     "name": "stderr",
     "output_type": "stream",
     "text": [
      "\u001b[34m\u001b[1mwandb\u001b[0m: Agent Starting Run: bj6z3fop with config:\n",
      "\u001b[34m\u001b[1mwandb\u001b[0m: \tcell_mode: lstm\n",
      "\u001b[34m\u001b[1mwandb\u001b[0m: \tdec_embed_size: 32\n",
      "\u001b[34m\u001b[1mwandb\u001b[0m: \tdec_hid_size: 256\n",
      "\u001b[34m\u001b[1mwandb\u001b[0m: \tdropout: 0.2\n",
      "\u001b[34m\u001b[1mwandb\u001b[0m: \tenc_embed_size: 512\n",
      "\u001b[34m\u001b[1mwandb\u001b[0m: \tenc_hid_size: 512\n",
      "\u001b[34m\u001b[1mwandb\u001b[0m: \tepochs: 30\n",
      "\u001b[34m\u001b[1mwandb\u001b[0m: \tis_bi: False\n",
      "\u001b[34m\u001b[1mwandb\u001b[0m: \tnum_layers: 3\n"
     ]
    },
    {
     "data": {
      "text/html": [
       "Tracking run with wandb version 0.15.3"
      ],
      "text/plain": [
       "<IPython.core.display.HTML object>"
      ]
     },
     "metadata": {},
     "output_type": "display_data"
    },
    {
     "data": {
      "text/html": [
       "Run data is saved locally in <code>/home/pragalbh/DL_Assign3/wandb/run-20230530_034712-bj6z3fop</code>"
      ],
      "text/plain": [
       "<IPython.core.display.HTML object>"
      ]
     },
     "metadata": {},
     "output_type": "display_data"
    },
    {
     "data": {
      "text/html": [
       "Resuming run <strong><a href='https://wandb.ai/pragalbh/DL_Assign3/runs/bj6z3fop' target=\"_blank\">drawn-sweep-104</a></strong> to <a href='https://wandb.ai/pragalbh/DL_Assign3' target=\"_blank\">Weights & Biases</a> (<a href='https://wandb.me/run' target=\"_blank\">docs</a>)<br/>Sweep page: <a href='https://wandb.ai/pragalbh/DL_Assign3/sweeps/mzhrnfy5' target=\"_blank\">https://wandb.ai/pragalbh/DL_Assign3/sweeps/mzhrnfy5</a>"
      ],
      "text/plain": [
       "<IPython.core.display.HTML object>"
      ]
     },
     "metadata": {},
     "output_type": "display_data"
    },
    {
     "data": {
      "text/html": [
       " View project at <a href='https://wandb.ai/pragalbh/DL_Assign3' target=\"_blank\">https://wandb.ai/pragalbh/DL_Assign3</a>"
      ],
      "text/plain": [
       "<IPython.core.display.HTML object>"
      ]
     },
     "metadata": {},
     "output_type": "display_data"
    },
    {
     "data": {
      "text/html": [
       " View sweep at <a href='https://wandb.ai/pragalbh/DL_Assign3/sweeps/mzhrnfy5' target=\"_blank\">https://wandb.ai/pragalbh/DL_Assign3/sweeps/mzhrnfy5</a>"
      ],
      "text/plain": [
       "<IPython.core.display.HTML object>"
      ]
     },
     "metadata": {},
     "output_type": "display_data"
    },
    {
     "data": {
      "text/html": [
       " View run at <a href='https://wandb.ai/pragalbh/DL_Assign3/runs/bj6z3fop' target=\"_blank\">https://wandb.ai/pragalbh/DL_Assign3/runs/bj6z3fop</a>"
      ],
      "text/plain": [
       "<IPython.core.display.HTML object>"
      ]
     },
     "metadata": {},
     "output_type": "display_data"
    },
    {
     "name": "stdout",
     "output_type": "stream",
     "text": [
      "The model has 7,488,452 trainable parameters\n",
      "Epoch: 01 | Time: 0.0m 55.95s\n",
      "\t Train Loss: 2.175 | Train Acc: 6.83%\n",
      "\t Val. Loss: 1.533 |  Val. Acc: 26.49%\n",
      "\t Relaxed Train. Acc: 48.38% | Relaxed Val. Acc: 68.75%\n",
      "Epoch: 02 | Time: 0.0m 55.85s\n",
      "\t Train Loss: 1.145 | Train Acc: 24.72%\n",
      "\t Val. Loss: 1.411 |  Val. Acc: 31.81%\n",
      "\t Relaxed Train. Acc: 76.76% | Relaxed Val. Acc: 72.27%\n",
      "Epoch: 03 | Time: 0.0m 55.71s\n",
      "\t Train Loss: 1.022 | Train Acc: 30.60%\n",
      "\t Val. Loss: 1.382 |  Val. Acc: 35.69%\n",
      "\t Relaxed Train. Acc: 80.59% | Relaxed Val. Acc: 74.48%\n",
      "Epoch: 04 | Time: 0.0m 55.67s\n",
      "\t Train Loss: 0.966 | Train Acc: 34.28%\n",
      "\t Val. Loss: 1.331 |  Val. Acc: 38.16%\n",
      "\t Relaxed Train. Acc: 82.41% | Relaxed Val. Acc: 75.03%\n",
      "Epoch: 05 | Time: 0.0m 55.73s\n",
      "\t Train Loss: 0.929 | Train Acc: 36.39%\n",
      "\t Val. Loss: 1.330 |  Val. Acc: 38.38%\n",
      "\t Relaxed Train. Acc: 83.51% | Relaxed Val. Acc: 75.99%\n",
      "Epoch: 06 | Time: 0.0m 55.73s\n",
      "\t Train Loss: 0.900 | Train Acc: 38.94%\n",
      "\t Val. Loss: 1.339 |  Val. Acc: 38.65%\n",
      "\t Relaxed Train. Acc: 84.51% | Relaxed Val. Acc: 75.99%\n",
      "Epoch: 07 | Time: 0.0m 55.55s\n",
      "\t Train Loss: 0.874 | Train Acc: 40.50%\n",
      "\t Val. Loss: 1.311 |  Val. Acc: 40.09%\n",
      "\t Relaxed Train. Acc: 85.35% | Relaxed Val. Acc: 76.67%\n",
      "Epoch: 08 | Time: 0.0m 55.66s\n",
      "\t Train Loss: 0.852 | Train Acc: 42.68%\n",
      "\t Val. Loss: 1.351 |  Val. Acc: 41.24%\n",
      "\t Relaxed Train. Acc: 86.06% | Relaxed Val. Acc: 76.54%\n",
      "Epoch: 09 | Time: 0.0m 55.56s\n",
      "\t Train Loss: 0.834 | Train Acc: 44.02%\n",
      "\t Val. Loss: 1.317 |  Val. Acc: 41.11%\n",
      "\t Relaxed Train. Acc: 86.68% | Relaxed Val. Acc: 77.05%\n",
      "Epoch: 10 | Time: 0.0m 55.50s\n",
      "\t Train Loss: 0.813 | Train Acc: 45.76%\n",
      "\t Val. Loss: 1.362 |  Val. Acc: 40.45%\n",
      "\t Relaxed Train. Acc: 87.33% | Relaxed Val. Acc: 76.68%\n",
      "Epoch: 11 | Time: 0.0m 55.64s\n",
      "\t Train Loss: 0.803 | Train Acc: 47.16%\n",
      "\t Val. Loss: 1.354 |  Val. Acc: 40.87%\n",
      "\t Relaxed Train. Acc: 87.72% | Relaxed Val. Acc: 77.05%\n",
      "Epoch: 12 | Time: 0.0m 55.49s\n",
      "\t Train Loss: 0.788 | Train Acc: 48.43%\n",
      "\t Val. Loss: 1.345 |  Val. Acc: 41.50%\n",
      "\t Relaxed Train. Acc: 88.20% | Relaxed Val. Acc: 77.52%\n",
      "Epoch: 13 | Time: 0.0m 55.48s\n",
      "\t Train Loss: 0.775 | Train Acc: 49.78%\n",
      "\t Val. Loss: 1.377 |  Val. Acc: 42.21%\n",
      "\t Relaxed Train. Acc: 88.63% | Relaxed Val. Acc: 77.18%\n",
      "Epoch: 14 | Time: 0.0m 55.53s\n",
      "\t Train Loss: 0.760 | Train Acc: 51.04%\n",
      "\t Val. Loss: 1.373 |  Val. Acc: 40.11%\n",
      "\t Relaxed Train. Acc: 89.08% | Relaxed Val. Acc: 76.81%\n",
      "Epoch: 15 | Time: 0.0m 55.45s\n",
      "\t Train Loss: 0.757 | Train Acc: 52.05%\n",
      "\t Val. Loss: 1.366 |  Val. Acc: 41.02%\n",
      "\t Relaxed Train. Acc: 89.22% | Relaxed Val. Acc: 77.25%\n",
      "Epoch: 16 | Time: 0.0m 55.42s\n",
      "\t Train Loss: 0.738 | Train Acc: 53.53%\n",
      "\t Val. Loss: 1.406 |  Val. Acc: 41.48%\n",
      "\t Relaxed Train. Acc: 89.78% | Relaxed Val. Acc: 77.00%\n",
      "Epoch: 17 | Time: 0.0m 55.46s\n",
      "\t Train Loss: 0.731 | Train Acc: 54.51%\n",
      "\t Val. Loss: 1.401 |  Val. Acc: 40.99%\n",
      "\t Relaxed Train. Acc: 90.00% | Relaxed Val. Acc: 77.11%\n",
      "Epoch: 18 | Time: 0.0m 55.41s\n",
      "\t Train Loss: 0.722 | Train Acc: 55.29%\n",
      "\t Val. Loss: 1.393 |  Val. Acc: 41.24%\n",
      "\t Relaxed Train. Acc: 90.34% | Relaxed Val. Acc: 77.32%\n",
      "Epoch: 19 | Time: 0.0m 55.38s\n",
      "\t Train Loss: 0.714 | Train Acc: 56.73%\n",
      "\t Val. Loss: 1.415 |  Val. Acc: 40.94%\n",
      "\t Relaxed Train. Acc: 90.66% | Relaxed Val. Acc: 77.35%\n",
      "Epoch: 20 | Time: 0.0m 55.44s\n",
      "\t Train Loss: 0.707 | Train Acc: 57.42%\n",
      "\t Val. Loss: 1.460 |  Val. Acc: 40.11%\n",
      "\t Relaxed Train. Acc: 90.86% | Relaxed Val. Acc: 76.42%\n",
      "Epoch: 21 | Time: 0.0m 55.38s\n",
      "\t Train Loss: 0.698 | Train Acc: 58.07%\n",
      "\t Val. Loss: 1.448 |  Val. Acc: 41.02%\n",
      "\t Relaxed Train. Acc: 91.16% | Relaxed Val. Acc: 76.82%\n",
      "Epoch: 22 | Time: 0.0m 55.39s\n",
      "\t Train Loss: 0.690 | Train Acc: 59.16%\n",
      "\t Val. Loss: 1.423 |  Val. Acc: 40.80%\n",
      "\t Relaxed Train. Acc: 91.42% | Relaxed Val. Acc: 77.44%\n",
      "Epoch: 23 | Time: 0.0m 55.45s\n",
      "\t Train Loss: 0.682 | Train Acc: 60.07%\n",
      "\t Val. Loss: 1.435 |  Val. Acc: 41.97%\n",
      "\t Relaxed Train. Acc: 91.64% | Relaxed Val. Acc: 77.58%\n",
      "Epoch: 24 | Time: 0.0m 55.33s\n",
      "\t Train Loss: 0.680 | Train Acc: 60.69%\n",
      "\t Val. Loss: 1.468 |  Val. Acc: 41.43%\n",
      "\t Relaxed Train. Acc: 91.79% | Relaxed Val. Acc: 77.40%\n",
      "Epoch: 25 | Time: 0.0m 55.32s\n",
      "\t Train Loss: 0.674 | Train Acc: 61.37%\n",
      "\t Val. Loss: 1.457 |  Val. Acc: 42.19%\n",
      "\t Relaxed Train. Acc: 91.95% | Relaxed Val. Acc: 77.92%\n",
      "Epoch: 26 | Time: 0.0m 55.39s\n",
      "\t Train Loss: 0.666 | Train Acc: 62.04%\n",
      "\t Val. Loss: 1.467 |  Val. Acc: 40.87%\n",
      "\t Relaxed Train. Acc: 92.20% | Relaxed Val. Acc: 77.04%\n",
      "Epoch: 27 | Time: 0.0m 55.29s\n",
      "\t Train Loss: 0.664 | Train Acc: 62.57%\n",
      "\t Val. Loss: 1.458 |  Val. Acc: 41.75%\n",
      "\t Relaxed Train. Acc: 92.30% | Relaxed Val. Acc: 77.87%\n",
      "Epoch: 28 | Time: 0.0m 55.32s\n",
      "\t Train Loss: 0.659 | Train Acc: 63.31%\n",
      "\t Val. Loss: 1.481 |  Val. Acc: 40.97%\n",
      "\t Relaxed Train. Acc: 92.45% | Relaxed Val. Acc: 77.27%\n",
      "Epoch: 29 | Time: 0.0m 55.36s\n",
      "\t Train Loss: 0.653 | Train Acc: 64.04%\n",
      "\t Val. Loss: 1.522 |  Val. Acc: 40.41%\n",
      "\t Relaxed Train. Acc: 92.64% | Relaxed Val. Acc: 77.00%\n",
      "Epoch: 30 | Time: 0.0m 55.31s\n",
      "\t Train Loss: 0.650 | Train Acc: 64.72%\n",
      "\t Val. Loss: 1.519 |  Val. Acc: 41.14%\n",
      "\t Relaxed Train. Acc: 92.76% | Relaxed Val. Acc: 77.45%\n",
      "Run: enc_embed size: 512 dec_embed size: 32, enc_hid_size: 512, dec_hid_size: 256, num_layers: 3, cell_modelstm\n"
     ]
    },
    {
     "data": {
      "text/html": [
       "Waiting for W&B process to finish... <strong style=\"color:green\">(success).</strong>"
      ],
      "text/plain": [
       "<IPython.core.display.HTML object>"
      ]
     },
     "metadata": {},
     "output_type": "display_data"
    },
    {
     "data": {
      "text/html": [
       "<style>\n",
       "    table.wandb td:nth-child(1) { padding: 0 10px; text-align: left ; width: auto;} td:nth-child(2) {text-align: left ; width: 100%}\n",
       "    .wandb-row { display: flex; flex-direction: row; flex-wrap: wrap; justify-content: flex-start; width: 100% }\n",
       "    .wandb-col { display: flex; flex-direction: column; flex-basis: 100%; flex: 1; padding: 10px; }\n",
       "    </style>\n",
       "<div class=\"wandb-row\"><div class=\"wandb-col\"><h3>Run history:</h3><br/><table class=\"wandb\"><tr><td>epoch</td><td>▁▁▁▂▂▂▂▃▃▃▃▄▄▄▄▅▅▅▅▆▆▆▆▇▇▇▇███</td></tr><tr><td>relxd train acc</td><td>▁▅▆▆▇▇▇▇▇▇▇▇▇▇▇███████████████</td></tr><tr><td>relxd valid acc</td><td>▁▄▅▆▇▇▇▇▇▇▇█▇▇▇▇▇██▇▇████▇██▇█</td></tr><tr><td>train acc</td><td>▁▃▄▄▅▅▅▅▅▆▆▆▆▆▆▇▇▇▇▇▇▇▇███████</td></tr><tr><td>train loss</td><td>█▃▃▂▂▂▂▂▂▂▂▂▂▂▁▁▁▁▁▁▁▁▁▁▁▁▁▁▁▁</td></tr><tr><td>valid acc</td><td>▁▃▅▆▆▆▇██▇▇██▇▇█▇█▇▇▇▇███▇█▇▇█</td></tr><tr><td>valid loss</td><td>█▄▃▂▂▂▁▂▁▃▂▂▃▃▃▄▄▄▄▆▅▅▅▆▆▆▆▆██</td></tr></table><br/></div><div class=\"wandb-col\"><h3>Run summary:</h3><br/><table class=\"wandb\"><tr><td>epoch</td><td>29</td></tr><tr><td>relxd train acc</td><td>0.92761</td></tr><tr><td>relxd valid acc</td><td>0.77448</td></tr><tr><td>train acc</td><td>0.64717</td></tr><tr><td>train loss</td><td>0.65031</td></tr><tr><td>valid acc</td><td>0.41138</td></tr><tr><td>valid loss</td><td>1.51897</td></tr></table><br/></div></div>"
      ],
      "text/plain": [
       "<IPython.core.display.HTML object>"
      ]
     },
     "metadata": {},
     "output_type": "display_data"
    },
    {
     "data": {
      "text/html": [
       " View run <strong style=\"color:#cdcd00\">drawn-sweep-104</strong> at: <a href='https://wandb.ai/pragalbh/DL_Assign3/runs/bj6z3fop' target=\"_blank\">https://wandb.ai/pragalbh/DL_Assign3/runs/bj6z3fop</a><br/>Synced 3 W&B file(s), 0 media file(s), 0 artifact file(s) and 0 other file(s)"
      ],
      "text/plain": [
       "<IPython.core.display.HTML object>"
      ]
     },
     "metadata": {},
     "output_type": "display_data"
    },
    {
     "data": {
      "text/html": [
       "Find logs at: <code>./wandb/run-20230530_034712-bj6z3fop/logs</code>"
      ],
      "text/plain": [
       "<IPython.core.display.HTML object>"
      ]
     },
     "metadata": {},
     "output_type": "display_data"
    },
    {
     "name": "stderr",
     "output_type": "stream",
     "text": [
      "\u001b[34m\u001b[1mwandb\u001b[0m: Agent Starting Run: wi43bmjd with config:\n",
      "\u001b[34m\u001b[1mwandb\u001b[0m: \tcell_mode: lstm\n",
      "\u001b[34m\u001b[1mwandb\u001b[0m: \tdec_embed_size: 32\n",
      "\u001b[34m\u001b[1mwandb\u001b[0m: \tdec_hid_size: 512\n",
      "\u001b[34m\u001b[1mwandb\u001b[0m: \tdropout: 0.3\n",
      "\u001b[34m\u001b[1mwandb\u001b[0m: \tenc_embed_size: 256\n",
      "\u001b[34m\u001b[1mwandb\u001b[0m: \tenc_hid_size: 256\n",
      "\u001b[34m\u001b[1mwandb\u001b[0m: \tepochs: 10\n",
      "\u001b[34m\u001b[1mwandb\u001b[0m: \tis_bi: True\n",
      "\u001b[34m\u001b[1mwandb\u001b[0m: \tnum_layers: 2\n"
     ]
    },
    {
     "data": {
      "text/html": [
       "Tracking run with wandb version 0.15.3"
      ],
      "text/plain": [
       "<IPython.core.display.HTML object>"
      ]
     },
     "metadata": {},
     "output_type": "display_data"
    },
    {
     "data": {
      "text/html": [
       "Run data is saved locally in <code>/home/pragalbh/DL_Assign3/wandb/run-20230530_041513-wi43bmjd</code>"
      ],
      "text/plain": [
       "<IPython.core.display.HTML object>"
      ]
     },
     "metadata": {},
     "output_type": "display_data"
    },
    {
     "data": {
      "text/html": [
       "Resuming run <strong><a href='https://wandb.ai/pragalbh/DL_Assign3/runs/wi43bmjd' target=\"_blank\">royal-sweep-105</a></strong> to <a href='https://wandb.ai/pragalbh/DL_Assign3' target=\"_blank\">Weights & Biases</a> (<a href='https://wandb.me/run' target=\"_blank\">docs</a>)<br/>Sweep page: <a href='https://wandb.ai/pragalbh/DL_Assign3/sweeps/mzhrnfy5' target=\"_blank\">https://wandb.ai/pragalbh/DL_Assign3/sweeps/mzhrnfy5</a>"
      ],
      "text/plain": [
       "<IPython.core.display.HTML object>"
      ]
     },
     "metadata": {},
     "output_type": "display_data"
    },
    {
     "data": {
      "text/html": [
       " View project at <a href='https://wandb.ai/pragalbh/DL_Assign3' target=\"_blank\">https://wandb.ai/pragalbh/DL_Assign3</a>"
      ],
      "text/plain": [
       "<IPython.core.display.HTML object>"
      ]
     },
     "metadata": {},
     "output_type": "display_data"
    },
    {
     "data": {
      "text/html": [
       " View sweep at <a href='https://wandb.ai/pragalbh/DL_Assign3/sweeps/mzhrnfy5' target=\"_blank\">https://wandb.ai/pragalbh/DL_Assign3/sweeps/mzhrnfy5</a>"
      ],
      "text/plain": [
       "<IPython.core.display.HTML object>"
      ]
     },
     "metadata": {},
     "output_type": "display_data"
    },
    {
     "data": {
      "text/html": [
       " View run at <a href='https://wandb.ai/pragalbh/DL_Assign3/runs/wi43bmjd' target=\"_blank\">https://wandb.ai/pragalbh/DL_Assign3/runs/wi43bmjd</a>"
      ],
      "text/plain": [
       "<IPython.core.display.HTML object>"
      ]
     },
     "metadata": {},
     "output_type": "display_data"
    },
    {
     "name": "stdout",
     "output_type": "stream",
     "text": [
      "The model has 5,629,124 trainable parameters\n",
      "Epoch: 01 | Time: 1.0m 7.71s\n",
      "\t Train Loss: 1.375 | Train Acc: 18.89%\n",
      "\t Val. Loss: 1.421 |  Val. Acc: 32.30%\n",
      "\t Relaxed Train. Acc: 69.98% | Relaxed Val. Acc: 72.32%\n",
      "Epoch: 02 | Time: 1.0m 7.91s\n",
      "\t Train Loss: 1.020 | Train Acc: 31.85%\n",
      "\t Val. Loss: 1.390 |  Val. Acc: 36.79%\n",
      "\t Relaxed Train. Acc: 80.79% | Relaxed Val. Acc: 74.36%\n",
      "Epoch: 03 | Time: 1.0m 7.83s\n",
      "\t Train Loss: 0.943 | Train Acc: 36.81%\n",
      "\t Val. Loss: 1.349 |  Val. Acc: 38.82%\n",
      "\t Relaxed Train. Acc: 83.33% | Relaxed Val. Acc: 75.98%\n"
     ]
    }
   ],
   "source": [
    "wandb.agent('mzhrnfy5',project=\"DL_Assign3\",entity=\"pragalbh\", function=sweeper, count=150)"
   ]
  },
  {
   "cell_type": "code",
   "execution_count": null,
   "id": "b75c4717",
   "metadata": {},
   "outputs": [],
   "source": [
    "run=wandb.init(id='gyqh6j5c', resume='must')"
   ]
  },
  {
   "cell_type": "code",
   "execution_count": null,
   "id": "c0ac4167",
   "metadata": {},
   "outputs": [],
   "source": [
    "a=next(iter(train_dataloader))"
   ]
  },
  {
   "cell_type": "code",
   "execution_count": null,
   "id": "0512bf50",
   "metadata": {},
   "outputs": [],
   "source": [
    "bya=SS(a['input'],a['output'])"
   ]
  },
  {
   "cell_type": "code",
   "execution_count": null,
   "id": "6b03dc72",
   "metadata": {},
   "outputs": [],
   "source": [
    "a['output'].shape"
   ]
  },
  {
   "cell_type": "code",
   "execution_count": null,
   "id": "a5071c92",
   "metadata": {},
   "outputs": [],
   "source": [
    "bya.shape"
   ]
  },
  {
   "cell_type": "code",
   "execution_count": null,
   "id": "ea89dad7",
   "metadata": {},
   "outputs": [],
   "source": [
    "import math"
   ]
  },
  {
   "cell_type": "code",
   "execution_count": null,
   "id": "fb3f823d",
   "metadata": {},
   "outputs": [],
   "source": [
    "def word_from_torchies(torchie1,index_toalp):\n",
    "    torchie=torchie1.cpu().numpy()\n",
    "    return word_from_vecs(torchie,index_toalp,False)"
   ]
  },
  {
   "cell_type": "code",
   "execution_count": null,
   "id": "b064da59",
   "metadata": {},
   "outputs": [],
   "source": [
    "def word_from_batch(batch):\n",
    "    wordlet=[]\n",
    "    for i in range(len(batch)):\n",
    "        wordlet.append(word_from_torchies(batch[i],index_to_hindi_alphabet))\n",
    "    return wordlet\n",
    "        "
   ]
  },
  {
   "cell_type": "code",
   "execution_count": null,
   "id": "8373ea7c",
   "metadata": {},
   "outputs": [],
   "source": [
    "word_from_torchies(bya.transpose(0,1).argmax(2)[0],index_to_hindi_alphabet)"
   ]
  },
  {
   "cell_type": "code",
   "execution_count": null,
   "id": "123a7f8b",
   "metadata": {},
   "outputs": [],
   "source": [
    "index_to_hindi_alphabet[65]"
   ]
  },
  {
   "cell_type": "code",
   "execution_count": null,
   "id": "ccef40a5",
   "metadata": {},
   "outputs": [],
   "source": [
    "def make_wrd(stuff):\n",
    "    asa=[]\n",
    "    for k in stuff.cpu().numpy():\n",
    "        asa.append(index_to_hindi_alphabet[k])\n",
    "    return \"\".join(asa)\n",
    "    "
   ]
  },
  {
   "cell_type": "code",
   "execution_count": null,
   "id": "6a4bd0cc",
   "metadata": {},
   "outputs": [],
   "source": [
    "make_wrd(bya.transpose(0,1).argmax(2)[10])"
   ]
  },
  {
   "cell_type": "code",
   "execution_count": null,
   "id": "32caa83d",
   "metadata": {},
   "outputs": [],
   "source": [
    "bya.transpose(0,1).argmax(2)[10]"
   ]
  },
  {
   "cell_type": "code",
   "execution_count": null,
   "id": "bb2cde61",
   "metadata": {},
   "outputs": [],
   "source": [
    "for i in range(16):\n",
    "    print('................')\n",
    "    print(i)\n",
    "    print(word_from_torchies(a['output'][i],index_to_hindi_alphabet),\\\n",
    "         '---',\\\n",
    "         make_wrd(bya.transpose(0,1).argmax(2)[i])\\\n",
    "         )\n"
   ]
  },
  {
   "cell_type": "code",
   "execution_count": null,
   "id": "0b1d550b",
   "metadata": {},
   "outputs": [],
   "source": []
  },
  {
   "cell_type": "code",
   "execution_count": null,
   "id": "bcf1075d",
   "metadata": {},
   "outputs": [],
   "source": [
    "word (self, source_batch,target_batch):\n",
    "    max_len, batch_size = target_batch.shape\n",
    "    outputs = torch.zeros(max_len, batch_size, target_vocab_size).to(self.device)\n",
    "\n",
    "\n",
    "            # last hidden & cell state of the encoder is used as the decoder's initial hidden state\n",
    "    hidden, cell = self.encoder(source_batch)\n",
    "\n",
    "    wordet=[]\n",
    "\n",
    "\n",
    "    trg = torch.tensor(hindi_alphabet_to_index['<'])\n",
    "    trg=trg.to(device)\n",
    "    wordet.append(index_to_hindi_alphabet(trg.cpu().numpy()))\n",
    "    for i in range(1, max_len):\n",
    "        prediction, hidden, cell = self.decoder(trg, hidden, cell)\n",
    "        outputs[i] = prediction\n",
    "        trg = prediction.argmax(1)\n",
    "        wordet.append(index_to_hindi_alphabet(trg.cpu().numpy()))\n",
    "\n",
    "\n",
    "    return ''.join(wordet)"
   ]
  },
  {
   "cell_type": "code",
   "execution_count": null,
   "id": "92ceca33",
   "metadata": {},
   "outputs": [],
   "source": [
    "word_from_vecs(X_valid[0],index_to_english_alphabet,False)"
   ]
  },
  {
   "cell_type": "code",
   "execution_count": null,
   "id": "8483ac53",
   "metadata": {},
   "outputs": [],
   "source": [
    "word_from_vecs(y_valid[0],index_to_hindi_alphabet,False)"
   ]
  },
  {
   "cell_type": "code",
   "execution_count": null,
   "id": "ddc553c3",
   "metadata": {},
   "outputs": [],
   "source": [
    "next(iter(train_dataloader))"
   ]
  },
  {
   "cell_type": "code",
   "execution_count": null,
   "id": "4a9b2342",
   "metadata": {},
   "outputs": [],
   "source": []
  },
  {
   "cell_type": "code",
   "execution_count": null,
   "id": "c204cd5b",
   "metadata": {},
   "outputs": [],
   "source": [
    "            for j in range(predicted.shape[1]):\n",
    "                predicted_seq = predicted[:, j]\n",
    "                targets_seq = target_seq[:, j]\n",
    "\n",
    "                # Find the index of the first EOS token in the sequence\n",
    "                eos_idx = (targets_seq == hin_token_map[\"\\n\"]).nonzero()\n",
    "                if eos_idx.numel() > 0:\n",
    "                    eos_idx = eos_idx[0][0]\n",
    "                    predicted_seq = predicted_seq[:eos_idx]\n",
    "                    targets_seq = targets_seq[:eos_idx]"
   ]
  },
  {
   "cell_type": "code",
   "execution_count": null,
   "id": "26653811",
   "metadata": {},
   "outputs": [],
   "source": [
    "s"
   ]
  }
 ],
 "metadata": {
  "kernelspec": {
   "display_name": "Python 3 (ipykernel)",
   "language": "python",
   "name": "python3"
  },
  "language_info": {
   "codemirror_mode": {
    "name": "ipython",
    "version": 3
   },
   "file_extension": ".py",
   "mimetype": "text/x-python",
   "name": "python",
   "nbconvert_exporter": "python",
   "pygments_lexer": "ipython3",
   "version": "3.10.6"
  }
 },
 "nbformat": 4,
 "nbformat_minor": 5
}
