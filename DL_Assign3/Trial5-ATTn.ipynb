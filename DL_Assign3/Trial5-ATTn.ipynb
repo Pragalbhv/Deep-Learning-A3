{
 "cells": [
  {
   "cell_type": "code",
   "execution_count": 1,
   "id": "40aef9e9",
   "metadata": {},
   "outputs": [],
   "source": [
    "from utils import *\n",
    "import numpy as np\n",
    "import pickle\n",
    "import wandb"
   ]
  },
  {
   "cell_type": "code",
   "execution_count": 2,
   "id": "d60a160e",
   "metadata": {},
   "outputs": [],
   "source": [
    "index_to_english_alphabet=pickle.load(open('vocab_tools/index_to_english_alphabet.pickle', 'rb'))\n",
    "index_to_hindi_alphabet=pickle.load(open('vocab_tools/index_to_hindi_alphabet.pickle', 'rb'))\n",
    "\n",
    "hindi_alphabet_to_index=pickle.load(open('vocab_tools/hindi_alphabet_to_index.pickle', 'rb')) \n",
    "english_alphabet_to_index=pickle.load(open('vocab_tools/english_alphabet_to_index.pickle', 'rb')) "
   ]
  },
  {
   "cell_type": "code",
   "execution_count": 3,
   "id": "552bff5c",
   "metadata": {},
   "outputs": [],
   "source": [
    "X_train=np.load('simple_data/X_train.npy')\n",
    "X_valid=np.load('simple_data/X_val.npy')\n",
    "\n",
    "y_train=np.load('simple_data/y_train.npy')\n",
    "y_valid=np.load('simple_data/y_val.npy')"
   ]
  },
  {
   "cell_type": "code",
   "execution_count": 4,
   "id": "c8bb32fd",
   "metadata": {},
   "outputs": [
    {
     "name": "stderr",
     "output_type": "stream",
     "text": [
      "/opt/anaconda/envs/shared_conda_env/lib/python3.10/site-packages/tqdm/auto.py:22: TqdmWarning: IProgress not found. Please update jupyter and ipywidgets. See https://ipywidgets.readthedocs.io/en/stable/user_install.html\n",
      "  from .autonotebook import tqdm as notebook_tqdm\n"
     ]
    }
   ],
   "source": [
    "from __future__ import print_function, division\n",
    "import os\n",
    "import torch\n",
    "import pandas as pd\n",
    "from skimage import io, transform\n",
    "import numpy as np\n",
    "import matplotlib.pyplot as plt\n",
    "from torch.utils.data import Dataset, DataLoader\n",
    "from torchvision import transforms, utils\n",
    "\n",
    "# Ignore warnings\n",
    "import warnings\n",
    "warnings.filterwarnings(\"ignore\")\n",
    "\n",
    "plt.ion()   # interactive mode"
   ]
  },
  {
   "cell_type": "code",
   "execution_count": 5,
   "id": "9e291758",
   "metadata": {},
   "outputs": [],
   "source": [
    "class Eng_Hind_Dataset(Dataset):\n",
    "    \"\"\"Face Landmarks dataset.\"\"\"\n",
    "\n",
    "    def __init__(self, in_file, out_file, root_dir='simple_data',device='cuda'):\n",
    "        \"\"\"\n",
    "        Args:\n",
    "            csv_file (string): Path to the csv file with annotations.\n",
    "            root_dir (string): Directory with all the images.\n",
    "            transform (callable, optional): Optional transform to be applied\n",
    "                on a sample.\n",
    "        \"\"\"\n",
    "        self.input = torch.tensor(np.load(root_dir+'/'+in_file))\n",
    "        self.output = torch.tensor(np.load(root_dir+'/'+out_file))\n",
    "        \n",
    "        assert(len(self.input)==len(self.output),\"Error: I/O Lengths must be same\")\n",
    "        \n",
    "\n",
    "    def __len__(self):\n",
    "        return len(self.input)\n",
    "\n",
    "    def __getitem__(self, idx):\n",
    "        if torch.is_tensor(idx):\n",
    "            idx = idx.tolist()\n",
    "            \n",
    "        X=self.input[idx]\n",
    "        X=X.to(device)\n",
    "        y=self.output[idx]\n",
    "        y=y.to(device)\n",
    "        \n",
    "\n",
    "\n",
    "        sample = {'input': X, 'output': y}\n",
    "\n",
    "        return sample"
   ]
  },
  {
   "cell_type": "code",
   "execution_count": 6,
   "id": "7d2d17d3",
   "metadata": {},
   "outputs": [],
   "source": [
    "device = torch.device('cuda' if torch.cuda.is_available() else 'cpu')"
   ]
  },
  {
   "cell_type": "code",
   "execution_count": 7,
   "id": "6d715496",
   "metadata": {},
   "outputs": [
    {
     "data": {
      "text/plain": [
       "device(type='cuda')"
      ]
     },
     "execution_count": 7,
     "metadata": {},
     "output_type": "execute_result"
    }
   ],
   "source": [
    "device"
   ]
  },
  {
   "cell_type": "code",
   "execution_count": 8,
   "id": "7c6f5263",
   "metadata": {},
   "outputs": [],
   "source": [
    "training_data=Eng_Hind_Dataset(\"X_train.npy\",\"y_train.npy\",device=device)\n",
    "val_data=Eng_Hind_Dataset(\"X_val.npy\",\"y_val.npy\",device=device)\n",
    "test_data=Eng_Hind_Dataset(\"X_test.npy\",\"y_test.npy\",device=device)"
   ]
  },
  {
   "cell_type": "code",
   "execution_count": 9,
   "id": "7b576ed4",
   "metadata": {},
   "outputs": [],
   "source": [
    "train_val_sets = torch.utils.data.ConcatDataset([training_data, val_data])\n",
    "\n",
    "train_val_dataloader = DataLoader(train_val_sets, batch_size=16,shuffle=True)"
   ]
  },
  {
   "cell_type": "code",
   "execution_count": 10,
   "id": "53944bf0",
   "metadata": {},
   "outputs": [],
   "source": [
    "test_dataloader = DataLoader(test_data, batch_size=16,shuffle=True)"
   ]
  },
  {
   "cell_type": "code",
   "execution_count": 11,
   "id": "29d97754",
   "metadata": {},
   "outputs": [],
   "source": [
    "import torch.nn as nn"
   ]
  },
  {
   "cell_type": "code",
   "execution_count": 12,
   "id": "e383a857",
   "metadata": {},
   "outputs": [],
   "source": [
    "def cell_type(mode:str='rnn'):\n",
    "    mode=mode.lower()\n",
    "    if mode == 'rnn':\n",
    "        return nn.RNN\n",
    "    elif mode =='gru':\n",
    "        return nn.GRU\n",
    "    else:\n",
    "        return nn.LSTM\n",
    "        "
   ]
  },
  {
   "cell_type": "code",
   "execution_count": 13,
   "id": "1e094b08",
   "metadata": {},
   "outputs": [],
   "source": [
    "class Encoder(nn.Module):\n",
    "\n",
    "\n",
    "    def __init__(self, input_size, embed_size, enc_hid_size, dec_hid_size, num_layers, cell_mode, dropout, is_bi):\n",
    "        super().__init__()\n",
    "        \n",
    "        # create embedding layer\n",
    "        self.embedding = nn.Embedding(input_size, embed_size,padding_idx=english_alphabet_to_index['.'])\n",
    "\n",
    "        #creating LSTM/GRU/RNN cell\n",
    "        cell=cell_type(cell_mode)\n",
    "        \n",
    "        self.cell=cell(embed_size,enc_hid_size,num_layers,dropout=dropout,bidirectional=is_bi,batch_first=True)\n",
    "        self.cell_mode=cell_mode\n",
    "        self.is_bi=is_bi\n",
    "        if is_bi:\n",
    "            self.fc=nn.Linear(enc_hid_size*2, dec_hid_size)\n",
    "        else:\n",
    "            self.fc=nn.Linear(enc_hid_size, dec_hid_size)\n",
    "        \n",
    "        \n",
    "\n",
    "    def forward(self, input_batch: torch.LongTensor):\n",
    "        \n",
    "        embedded = self.embedding(input_batch) # [sent len, batch size, emb dim]\n",
    "        \n",
    "        if self.cell_mode.lower()=='lstm':\n",
    "            outputs, (hidden, cell) = self.cell(embedded)\n",
    "            \n",
    "            if self.is_bi:\n",
    "                concated = torch.cat((hidden[ -2, :,:], hidden[ -1, :,:]), dim=1)\n",
    "                cellconcat=torch.cat((cell[-2,:,:], cell[-1,:,:]), dim=1)\n",
    "            else:\n",
    "                concated = hidden[ -1,:, :]\n",
    "                cellconcat= cell[ -1,:, :]\n",
    "            \n",
    "            hidden = torch.tanh(self.fc(concated))\n",
    "            \n",
    "            cell=torch.tanh(self.fc(cellconcat))\n",
    "\n",
    "\n",
    "            return outputs,hidden,cell\n",
    "        \n",
    "        else:\n",
    "            outputs, hidden = self.cell(embedded)           \n",
    "            if self.is_bi:\n",
    "                concated = torch.cat((hidden[ -2, :,:], hidden[ -1, :,:]), dim=1)\n",
    "\n",
    "            else:\n",
    "                concated = hidden[ -1,:, :]\n",
    "\n",
    "            hidden = torch.tanh(self.fc(concated))\n",
    "\n",
    "            return outputs,hidden\n",
    "\n",
    "        \n"
   ]
  },
  {
   "cell_type": "code",
   "execution_count": 14,
   "id": "4e5c009f",
   "metadata": {},
   "outputs": [],
   "source": [
    "class Attention(nn.Module):\n",
    "\n",
    "    def __init__(self, enc_hid_dim, dec_hid_dim, is_bi):\n",
    "        super().__init__()\n",
    "        self.enc_hid_dim = enc_hid_dim\n",
    "        self.dec_hid_dim = dec_hid_dim\n",
    "\n",
    "        if is_bi:\n",
    "            self.fc1 = nn.Linear(enc_hid_dim * 2 + dec_hid_dim, dec_hid_dim)\n",
    "        else:\n",
    "            self.fc1 = nn.Linear(enc_hid_dim + dec_hid_dim, dec_hid_dim)\n",
    "            \n",
    "\n",
    "            \n",
    "        self.fc2 = nn.Linear(dec_hid_dim, 1, bias=False)\n",
    "\n",
    "    def forward(self, encoder_outputs, hidden):\n",
    "        src_len = encoder_outputs.shape[1]\n",
    "        batch_size = encoder_outputs.shape[0]\n",
    "        \n",
    "        hidden = hidden.unsqueeze(1).repeat(1, src_len, 1)\n",
    "        outputs = encoder_outputs\n",
    "        \n",
    "        concat = torch.cat((hidden, outputs), dim=2)\n",
    "        energy = torch.tanh(self.fc1(concat))\n",
    "\n",
    "        attention = self.fc2(energy).squeeze(dim=2)        \n",
    "        attention_weight = torch.softmax(attention, dim=1)\n",
    "        return attention_weight"
   ]
  },
  {
   "cell_type": "code",
   "execution_count": 127,
   "id": "83f254ed",
   "metadata": {},
   "outputs": [],
   "source": [
    "class Attheat:\n",
    "    def __init__(self,att):\n",
    "        self.att=att\n",
    "    \n",
    "    def forward(self, encoder_outputs, hidden):\n",
    "        src_len = encoder_outputs.shape[1]\n",
    "        batch_size = encoder_outputs.shape[0]\n",
    "        \n",
    "        hidden = hidden.unsqueeze(1).repeat(1, src_len, 1)\n",
    "        outputs = encoder_outputs\n",
    "        \n",
    "        concat = torch.cat((hidden, outputs), dim=2)\n",
    "        energy = torch.tanh(self.att.fc1(concat))\n",
    "\n",
    "        attention = self.att.fc2(energy) \n",
    "#         attention_weight = torch.softmax(attention, dim=1)\n",
    "        return attention"
   ]
  },
  {
   "cell_type": "code",
   "execution_count": 15,
   "id": "36d1ac93",
   "metadata": {},
   "outputs": [],
   "source": [
    "class Decoder(nn.Module):\n",
    "\n",
    "    def __init__(self, output_size, embed_size, enc_hid_dim, dec_hid_dim, num_layers, cell_mode,\\\n",
    "                 dropout, attention, is_bi):\n",
    "        super().__init__()\n",
    "    \n",
    "        self.dropout = dropout\n",
    "        self.attention = attention\n",
    "        self.output_size=output_size\n",
    "\n",
    "        self.embedding = nn.Embedding(output_size, embed_size,padding_idx=hindi_alphabet_to_index['.'])\n",
    "        cell=cell_type(cell_mode)\n",
    "        self.cell_mode=cell_mode.lower()\n",
    "        \n",
    "        \n",
    "        if is_bi:\n",
    "            self.cell=cell((enc_hid_dim * 2) + embed_size, dec_hid_dim,num_layers,\\\n",
    "                           dropout=dropout,bidirectional=False,batch_first=False)\n",
    "        \n",
    "\n",
    "        else:\n",
    "            self.cell=cell(enc_hid_dim + embed_size, dec_hid_dim,num_layers,\\\n",
    "                           dropout=dropout,bidirectional=False,batch_first=False)\n",
    "            \n",
    "        \n",
    "        \n",
    "        self.out = nn.Linear(dec_hid_dim, output_size)\n",
    "\n",
    "    def forward(self, trg, encoder_outputs, hidden,cell=None):\n",
    " \n",
    "        attention = self.attention(encoder_outputs, hidden).unsqueeze(1)\n",
    "        context = torch.bmm(attention, encoder_outputs).permute(1, 0, 2)\n",
    "\n",
    "        # input sentence -> embedding\n",
    "        # [1, batch size, emb dim]\n",
    "        embedded = self.embedding(trg.unsqueeze(0))\n",
    "        cell_input = torch.cat((embedded, context), dim=2)\n",
    "        \n",
    "        if self.cell_mode=='lstm':\n",
    "            outputs, (hidden,cell) = self.cell(cell_input, (hidden.unsqueeze(0), cell.unsqueeze(0)))\n",
    "            prediction = self.out(outputs.squeeze(0))\n",
    "            return prediction, hidden.squeeze(0), cell.squeeze(0)\n",
    "            \n",
    "\n",
    "        outputs, hidden = self.cell(cell_input, hidden.unsqueeze(0))\n",
    "        prediction = self.out(outputs.squeeze(0))\n",
    "        return prediction, hidden.squeeze(0)"
   ]
  },
  {
   "cell_type": "code",
   "execution_count": 16,
   "id": "0e441d2d",
   "metadata": {},
   "outputs": [],
   "source": [
    "class Seq2Seq(nn.Module):\n",
    "    def __init__(self, encoder, decoder, device):\n",
    "        super().__init__()\n",
    "        self.encoder = encoder\n",
    "        self.decoder = decoder\n",
    "        self.device = device\n",
    "\n",
    "\n",
    "    def forward(self, source_batch, target_batch, teacher_forcing_ratio=0.5):\n",
    "\n",
    "        batch_size,max_len  = target_batch.shape\n",
    "        target_vocab_size = self.decoder.output_size\n",
    "\n",
    "        outputs = torch.zeros(max_len, batch_size, target_vocab_size).to(self.device)\n",
    "\n",
    "        # last hidden & cell state of the encoder is used as the decoder's initial hidden state\n",
    "        if self.encoder.cell_mode=='lstm':\n",
    "            e_outs,hidden,cell = self.encoder(source_batch) \n",
    "            \n",
    "            trg = target_batch[:,0]\n",
    "            for i in range(1, max_len):\n",
    "                prediction, hidden, cell = self.decoder(trg,e_outs, hidden, cell)\n",
    "                outputs[i] = prediction\n",
    "\n",
    "                if np.random.random() < teacher_forcing_ratio:\n",
    "                    trg = target_batch[:,i]\n",
    "                else:\n",
    "                    trg = prediction.argmax(1)\n",
    "            return outputs\n",
    "\n",
    "            \n",
    "            \n",
    "        else:    \n",
    "            e_outs,hidden = self.encoder(source_batch)       \n",
    "\n",
    "            trg = target_batch[:,0]\n",
    "            for i in range(1, max_len):\n",
    "                prediction, hidden = self.decoder(trg,e_outs, hidden)\n",
    "                outputs[i] = prediction\n",
    "\n",
    "                if np.random.random() < teacher_forcing_ratio:\n",
    "                    trg = target_batch[:,i]\n",
    "                else:\n",
    "                    trg = prediction.argmax(1)\n",
    "\n",
    "            return outputs\n",
    "\n",
    "\n",
    "        \n",
    "        "
   ]
  },
  {
   "cell_type": "code",
   "execution_count": 17,
   "id": "4f6133ce",
   "metadata": {},
   "outputs": [],
   "source": [
    "def accuracy_calc(target_seq,seq2,mode='full',device=device):# predicted\n",
    "    eos_index=(target_seq==hindi_alphabet_to_index['>']).nonzero()\n",
    "    eos_idx=eos_index[:,1]\n",
    "    \n",
    "    correct=torch.Tensor([0]).to(device)\n",
    "    correct_chars=torch.Tensor([0]).to(device)\n",
    "    tot_chars=torch.Tensor([0]).to(device)\n",
    "    for iterate,idx in enumerate(eos_idx):\n",
    "        inputter=seq2[iterate][:idx]\n",
    "        outputter=target_seq[iterate][:idx]\n",
    "        if torch.all(torch.eq(inputter,outputter)):\n",
    "            correct+=1\n",
    "            correct_chars+=idx\n",
    "            tot_chars+=idx\n",
    "        else:\n",
    "            correct_chars+=torch.sum(inputter == outputter).item()\n",
    "            tot_chars+=idx\n",
    "            \n",
    "#         print(correct,correct_chars,tot_chars)\n",
    "        \n",
    "    return correct.item(),correct_chars.item(),tot_chars.item()\n",
    "            \n",
    "            \n",
    "        \n",
    "    "
   ]
  },
  {
   "cell_type": "code",
   "execution_count": 18,
   "id": "87facdd1",
   "metadata": {},
   "outputs": [],
   "source": [
    "def train(seq2seq, iterator, optimizer, criterion):\n",
    "    \n",
    "    \n",
    "    seq2seq.train()\n",
    "    \n",
    "    epoch_loss = 0\n",
    "    correct=0\n",
    "    correct_char=0\n",
    "    tot_char=0\n",
    "    \n",
    "    relax_acc=0\n",
    "    \n",
    "    \n",
    "    for batch in iterator:\n",
    "        optimizer.zero_grad()\n",
    "        outputs = seq2seq(batch['input'], batch['output'])\n",
    "        batch_label=batch['output'].transpose(0,1)\n",
    "        batch_size=len(batch['output'])\n",
    "        \n",
    "        _, predicted = torch.max(outputs, dim=2)\n",
    "        outputs_flatten = outputs.view(-1, outputs.shape[-1])\n",
    "        trg_flatten = batch_label.reshape(-1)\n",
    "        \n",
    "\n",
    "        trg_flatten.requires_grad=False\n",
    "        loss = criterion(outputs_flatten, trg_flatten)\n",
    "        correct_temp,correct_chars_temp,tot_chars_temp=accuracy_calc(batch['output'],predicted.transpose(0,1))\n",
    "        \n",
    "        #___________\n",
    "        \n",
    "        correct+=correct_temp\n",
    "        correct_char+=correct_chars_temp\n",
    "        tot_char+=tot_chars_temp\n",
    "        \n",
    "        \n",
    "        #_______________\n",
    "        \n",
    "\n",
    "        loss.backward()\n",
    "        optimizer.step()\n",
    "        \n",
    "\n",
    "        epoch_loss += loss.item()\n",
    "        \n",
    "\n",
    "\n",
    "    return epoch_loss / len(iterator), correct/(len(iterator)*16),correct_char/tot_char"
   ]
  },
  {
   "cell_type": "code",
   "execution_count": 19,
   "id": "a950559f",
   "metadata": {},
   "outputs": [],
   "source": [
    "def evaluate(seq2seq, iterator, criterion):\n",
    "    seq2seq.eval()\n",
    "\n",
    "    epoch_loss = 0\n",
    "    correct=0\n",
    "    correct_char=0\n",
    "    tot_char=0\n",
    "    \n",
    "    relax_acc=0\n",
    "    \n",
    "    with torch.no_grad():\n",
    "        for batch in iterator:\n",
    "            outputs = seq2seq(batch['input'], batch['output'],teacher_forcing_ratio=0)\n",
    "            batch_label=batch['output'].transpose(0,1)\n",
    "            batch_size=len(batch['output'])\n",
    "\n",
    "\n",
    "            _, predicted = torch.max(outputs, dim=2)\n",
    "            #print('wow_preds',predicted.shape)\n",
    "\n",
    "            outputs_flatten = outputs.view(-1, outputs.shape[-1])\n",
    "            trg_flatten = batch_label.reshape(-1)\n",
    "\n",
    "            loss = criterion(outputs_flatten, trg_flatten)\n",
    "            \n",
    "            correct_temp,correct_chars_temp,tot_chars_temp=accuracy_calc(batch['output'],predicted.transpose(0,1))\n",
    "        \n",
    "            #___________\n",
    "\n",
    "            correct+=correct_temp\n",
    "            correct_char+=correct_chars_temp\n",
    "            tot_char+=tot_chars_temp\n",
    "\n",
    "            #_______________       \n",
    "            \n",
    "            epoch_loss += loss.item()\n",
    "            \n",
    "\n",
    "    return epoch_loss / len(iterator), correct/(len(iterator)*16),correct_char/tot_char\n",
    "\n"
   ]
  },
  {
   "cell_type": "code",
   "execution_count": 20,
   "id": "718d4d21",
   "metadata": {},
   "outputs": [],
   "source": [
    "def epoch_time(start_time, end_time):\n",
    "    e_time = end_time - start_time\n",
    "    mins = e_time // 60\n",
    "    secs = e_time%60\n",
    "    return mins, secs,"
   ]
  },
  {
   "cell_type": "code",
   "execution_count": 21,
   "id": "5eb08c5c",
   "metadata": {},
   "outputs": [],
   "source": [
    "def count_params(model):\n",
    "    return sum(param.numel() for param in model.parameters() if param.requires_grad)"
   ]
  },
  {
   "cell_type": "code",
   "execution_count": 22,
   "id": "1d74d030",
   "metadata": {},
   "outputs": [],
   "source": [
    "import time\n",
    "import random"
   ]
  },
  {
   "cell_type": "code",
   "execution_count": 23,
   "id": "bd5bae07",
   "metadata": {},
   "outputs": [],
   "source": [
    "import torch.optim as optim\n",
    "def make_model(train_iterator,valid_iterator, enc_embed_size, enc_hid_size, dec_embed_size, dec_hid_size,\\\n",
    "               num_layers, cell_mode,\\\n",
    "                 dropout, is_bi, epochs=20):\n",
    "    \n",
    "    \n",
    "    E = Encoder(30,  embed_size=enc_embed_size, enc_hid_size=enc_hid_size, dec_hid_size=dec_hid_size,\\\n",
    "                num_layers=num_layers, cell_mode=cell_mode, dropout=dropout, is_bi=is_bi).to(device)\n",
    "    \n",
    "    \n",
    "    A = Attention(enc_hid_dim=enc_hid_size, dec_hid_dim=dec_hid_size, is_bi=is_bi).to(device)\n",
    "\n",
    "    D = Decoder(68, embed_size=dec_embed_size, enc_hid_dim=enc_hid_size, dec_hid_dim=dec_hid_size,\\\n",
    "                num_layers=1, cell_mode=cell_mode,\\\n",
    "                 dropout=dropout, attention=A, is_bi=is_bi).to(device)\n",
    "\n",
    "    S=Seq2Seq(E,D,device)\n",
    "    S.to(device)    \n",
    "    print(f'The model has {count_params(S):,} trainable parameters')\n",
    "    \n",
    "    optimizer = optim.Adam(S.parameters())\n",
    "    criterion = nn.CrossEntropyLoss(ignore_index=hindi_alphabet_to_index['.'])\n",
    "    criterion=criterion.to(device)\n",
    "    \n",
    "    best_valid_loss = float('inf')\n",
    "#     return S\n",
    "\n",
    "    for epoch in range(epochs):    \n",
    "        start_time = time.time()\n",
    "        train_loss,train_acc,train_stuff = train(S, train_iterator, optimizer, criterion)\n",
    "        valid_loss,valid_acc,val_stuff = evaluate(S, valid_iterator, criterion)\n",
    "        end_time = time.time()\n",
    "\n",
    "        epoch_mins, epoch_secs = epoch_time(start_time, end_time)\n",
    "\n",
    "        if valid_loss < best_valid_loss:\n",
    "            best_valid_loss = valid_loss\n",
    "            torch.save(S.state_dict(), 'model1.pt')\n",
    "\n",
    "        # it's easier to see a change in perplexity between epoch as it's an exponential\n",
    "        # of the loss, hence the scale of the measure is much bigger\n",
    "        print(f'Epoch: {epoch+1:02} | Time: {epoch_mins}m {epoch_secs:.2f}s')\n",
    "        print(f'\\t Train Loss: {train_loss:.3f} | Train Acc: {train_acc*100:.2f}%')\n",
    "        print(f'\\t Val. Loss: {valid_loss:.3f} |  Val. Acc: {valid_acc*100:.2f}%')\n",
    "        print(f'\\t Relaxed Train. Acc: {train_stuff*100:.2f}% | Relaxed Val. Acc: {val_stuff*100:.2f}%')\n",
    "        \n",
    "        \n",
    "    return S\n",
    "\n",
    "    "
   ]
  },
  {
   "cell_type": "code",
   "execution_count": 24,
   "id": "fbb83dc3",
   "metadata": {},
   "outputs": [],
   "source": [
    "# train_iterator=train_val_dataloader\n",
    "# valid_iterator=test_dataloader\n",
    "# SS=make_model(train_iterator,valid_iterator,cell_mode='lstm',dec_embed_size=16,dec_hid_size=128,\\\n",
    "#               dropout=0.2,enc_embed_size=32,enc_hid_size=256,epochs=30,is_bi=True,num_layers=3)"
   ]
  },
  {
   "cell_type": "code",
   "execution_count": 26,
   "id": "ae99ac4a",
   "metadata": {},
   "outputs": [],
   "source": [
    "# # The second saves and loads the entire model:\n",
    "\n",
    "# torch.save(SS, 'attn_model.model')\n",
    "\n"
   ]
  },
  {
   "cell_type": "code",
   "execution_count": 27,
   "id": "1d8de7eb",
   "metadata": {},
   "outputs": [],
   "source": [
    "# Then later:\n",
    "\n",
    "the_model = torch.load('attn_model.model')\n"
   ]
  },
  {
   "cell_type": "code",
   "execution_count": 28,
   "id": "452339cd",
   "metadata": {},
   "outputs": [],
   "source": [
    "test_full_dataloader = DataLoader(test_data, batch_size=len(test_data),shuffle=False)"
   ]
  },
  {
   "cell_type": "code",
   "execution_count": 29,
   "id": "e79ef338",
   "metadata": {},
   "outputs": [],
   "source": [
    "# del SS\n",
    "\n",
    "the_model.eval()\n",
    "preds=the_model(next(iter(test_full_dataloader))['input'],next(iter(test_full_dataloader))['output'],teacher_forcing_ratio=0)"
   ]
  },
  {
   "cell_type": "code",
   "execution_count": 30,
   "id": "f170791e",
   "metadata": {},
   "outputs": [],
   "source": [
    "_, predicted = torch.max(preds, dim=2)"
   ]
  },
  {
   "cell_type": "code",
   "execution_count": 31,
   "id": "65072ebe",
   "metadata": {},
   "outputs": [
    {
     "data": {
      "text/plain": [
       "tensor([[ 0,  0,  0,  ...,  0,  0,  0],\n",
       "        [29, 35, 21,  ..., 47, 25, 18],\n",
       "        [ 4,  4,  6,  ...,  9,  4,  6],\n",
       "        ...,\n",
       "        [ 1,  1,  1,  ...,  1,  1,  1],\n",
       "        [ 1,  1,  1,  ...,  1,  1,  1],\n",
       "        [ 1,  1,  1,  ...,  1,  1,  1]], device='cuda:0')"
      ]
     },
     "execution_count": 31,
     "metadata": {},
     "output_type": "execute_result"
    }
   ],
   "source": [
    "predicted"
   ]
  },
  {
   "cell_type": "code",
   "execution_count": 32,
   "id": "ea89dad7",
   "metadata": {},
   "outputs": [],
   "source": [
    "import math"
   ]
  },
  {
   "cell_type": "code",
   "execution_count": 33,
   "id": "fb3f823d",
   "metadata": {},
   "outputs": [],
   "source": [
    "def word_from_torchies(torchie1,index_toalp):\n",
    "    torchie=torchie1.cpu().numpy()\n",
    "    return word_from_vecs(torchie,index_toalp,False)"
   ]
  },
  {
   "cell_type": "code",
   "execution_count": 34,
   "id": "b064da59",
   "metadata": {},
   "outputs": [],
   "source": [
    "def word_from_batch(batch):\n",
    "    wordlet=[]\n",
    "    for i in range(len(batch)):\n",
    "        wordlet.append(word_from_torchies(batch[i],index_to_hindi_alphabet))\n",
    "    return wordlet\n",
    "        "
   ]
  },
  {
   "cell_type": "code",
   "execution_count": 35,
   "id": "6547dda8",
   "metadata": {},
   "outputs": [],
   "source": [
    "def word_from_batch_eng(batch):\n",
    "    wordlet=[]\n",
    "    for i in range(len(batch)):\n",
    "        wordlet.append(word_from_torchies(batch[i],index_to_english_alphabet))\n",
    "    return wordlet"
   ]
  },
  {
   "cell_type": "code",
   "execution_count": 36,
   "id": "8373ea7c",
   "metadata": {},
   "outputs": [],
   "source": [
    "test_preds=word_from_batch(predicted.transpose(0,1))"
   ]
  },
  {
   "cell_type": "code",
   "execution_count": 37,
   "id": "3355853c",
   "metadata": {},
   "outputs": [],
   "source": [
    "test_actual=word_from_batch(next(iter(test_full_dataloader))['output'])"
   ]
  },
  {
   "cell_type": "code",
   "execution_count": 38,
   "id": "133d2741",
   "metadata": {},
   "outputs": [],
   "source": [
    "test_input=word_from_batch_eng(next(iter(test_full_dataloader))['input'])"
   ]
  },
  {
   "cell_type": "code",
   "execution_count": 173,
   "id": "60067c9c",
   "metadata": {},
   "outputs": [],
   "source": [
    "np.savetxt('predictions_attention.txt',test_preds, delimiter=',',encoding='utf-8',fmt='%s')"
   ]
  },
  {
   "cell_type": "code",
   "execution_count": 181,
   "id": "e176d9e6",
   "metadata": {},
   "outputs": [],
   "source": [
    "va=np.loadtxt('predictions_vanilla.txt',delimiter=',',encoding='utf-8',dtype=str)"
   ]
  },
  {
   "cell_type": "code",
   "execution_count": 182,
   "id": "18bd82c5",
   "metadata": {},
   "outputs": [
    {
     "data": {
      "text/plain": [
       "array(['सिखाएगा', 'लीरन', 'ट्विटर्स', ..., 'खातूटोला', 'शिवास्तवा',\n",
       "       'प्रेरणापुरी'], dtype='<U21')"
      ]
     },
     "execution_count": 182,
     "metadata": {},
     "output_type": "execute_result"
    }
   ],
   "source": []
  },
  {
   "cell_type": "code",
   "execution_count": 185,
   "id": "51e2b051",
   "metadata": {},
   "outputs": [],
   "source": [
    "import pandas as pd\n",
    "datas={'Ground truth':test_actual,'Predictions Attention':test_preds, \"Predictions Vanilla\":va}\n",
    "df=pd.DataFrame(data=datas,index=test_input)\n"
   ]
  },
  {
   "cell_type": "code",
   "execution_count": 191,
   "id": "a4c59b5b",
   "metadata": {},
   "outputs": [],
   "source": [
    "xx=df[df['Predictions Attention']!=df['Predictions Vanilla']]"
   ]
  },
  {
   "cell_type": "code",
   "execution_count": 194,
   "id": "66aa5c97",
   "metadata": {},
   "outputs": [],
   "source": [
    "yy=xx[xx['Predictions Attention']==xx['Ground truth']]\n"
   ]
  },
  {
   "cell_type": "code",
   "execution_count": 195,
   "id": "cca9d1fc",
   "metadata": {},
   "outputs": [
    {
     "data": {
      "text/html": [
       "<div>\n",
       "<style scoped>\n",
       "    .dataframe tbody tr th:only-of-type {\n",
       "        vertical-align: middle;\n",
       "    }\n",
       "\n",
       "    .dataframe tbody tr th {\n",
       "        vertical-align: top;\n",
       "    }\n",
       "\n",
       "    .dataframe thead th {\n",
       "        text-align: right;\n",
       "    }\n",
       "</style>\n",
       "<table border=\"1\" class=\"dataframe\">\n",
       "  <thead>\n",
       "    <tr style=\"text-align: right;\">\n",
       "      <th></th>\n",
       "      <th>Ground truth</th>\n",
       "      <th>Predictions Attention</th>\n",
       "      <th>Predictions Vanilla</th>\n",
       "    </tr>\n",
       "  </thead>\n",
       "  <tbody>\n",
       "    <tr>\n",
       "      <th>shikayatkarta</th>\n",
       "      <td>शिकायतकर्ता</td>\n",
       "      <td>शिकायतकर्ता</td>\n",
       "      <td>शिकटयाकर्ता</td>\n",
       "    </tr>\n",
       "    <tr>\n",
       "      <th>kaarniyaan</th>\n",
       "      <td>कार्नियां</td>\n",
       "      <td>कार्नियां</td>\n",
       "      <td>कारनियाँ</td>\n",
       "    </tr>\n",
       "    <tr>\n",
       "      <th>holt</th>\n",
       "      <td>होल्ट</td>\n",
       "      <td>होल्ट</td>\n",
       "      <td>हॉल्ट</td>\n",
       "    </tr>\n",
       "    <tr>\n",
       "      <th>laigikata</th>\n",
       "      <td>लैंगिकता</td>\n",
       "      <td>लैंगिकता</td>\n",
       "      <td>लैईगीकता</td>\n",
       "    </tr>\n",
       "    <tr>\n",
       "      <th>vankshetra</th>\n",
       "      <td>वनक्षेत्र</td>\n",
       "      <td>वनक्षेत्र</td>\n",
       "      <td>वंक्षेत्र</td>\n",
       "    </tr>\n",
       "    <tr>\n",
       "      <th>...</th>\n",
       "      <td>...</td>\n",
       "      <td>...</td>\n",
       "      <td>...</td>\n",
       "    </tr>\n",
       "    <tr>\n",
       "      <th>francisco</th>\n",
       "      <td>फ्रांसिस्को</td>\n",
       "      <td>फ्रांसिस्को</td>\n",
       "      <td>फ्रैंसिस्को</td>\n",
       "    </tr>\n",
       "    <tr>\n",
       "      <th>raghavan</th>\n",
       "      <td>राघवन</td>\n",
       "      <td>राघवन</td>\n",
       "      <td>रघवन</td>\n",
       "    </tr>\n",
       "    <tr>\n",
       "      <th>thaki</th>\n",
       "      <td>थकी</td>\n",
       "      <td>थकी</td>\n",
       "      <td>ठकी</td>\n",
       "    </tr>\n",
       "    <tr>\n",
       "      <th>punchang</th>\n",
       "      <td>पंचांग</td>\n",
       "      <td>पंचांग</td>\n",
       "      <td>पुंचांग</td>\n",
       "    </tr>\n",
       "    <tr>\n",
       "      <th>khairati</th>\n",
       "      <td>खैराती</td>\n",
       "      <td>खैराती</td>\n",
       "      <td>खैरती</td>\n",
       "    </tr>\n",
       "  </tbody>\n",
       "</table>\n",
       "<p>476 rows × 3 columns</p>\n",
       "</div>"
      ],
      "text/plain": [
       "              Ground truth Predictions Attention Predictions Vanilla\n",
       "shikayatkarta  शिकायतकर्ता           शिकायतकर्ता         शिकटयाकर्ता\n",
       "kaarniyaan       कार्नियां             कार्नियां            कारनियाँ\n",
       "holt                 होल्ट                 होल्ट               हॉल्ट\n",
       "laigikata         लैंगिकता              लैंगिकता            लैईगीकता\n",
       "vankshetra       वनक्षेत्र             वनक्षेत्र           वंक्षेत्र\n",
       "...                    ...                   ...                 ...\n",
       "francisco      फ्रांसिस्को           फ्रांसिस्को         फ्रैंसिस्को\n",
       "raghavan             राघवन                 राघवन                रघवन\n",
       "thaki                  थकी                   थकी                 ठकी\n",
       "punchang            पंचांग                पंचांग             पुंचांग\n",
       "khairati            खैराती                खैराती               खैरती\n",
       "\n",
       "[476 rows x 3 columns]"
      ]
     },
     "execution_count": 195,
     "metadata": {},
     "output_type": "execute_result"
    }
   ],
   "source": [
    "yy"
   ]
  },
  {
   "cell_type": "code",
   "execution_count": 197,
   "id": "565a7289",
   "metadata": {},
   "outputs": [],
   "source": [
    "zz=xx[xx['Predictions Vanilla']==xx['Ground truth']]"
   ]
  },
  {
   "cell_type": "code",
   "execution_count": 198,
   "id": "d7a85f2a",
   "metadata": {},
   "outputs": [
    {
     "data": {
      "text/html": [
       "<div>\n",
       "<style scoped>\n",
       "    .dataframe tbody tr th:only-of-type {\n",
       "        vertical-align: middle;\n",
       "    }\n",
       "\n",
       "    .dataframe tbody tr th {\n",
       "        vertical-align: top;\n",
       "    }\n",
       "\n",
       "    .dataframe thead th {\n",
       "        text-align: right;\n",
       "    }\n",
       "</style>\n",
       "<table border=\"1\" class=\"dataframe\">\n",
       "  <thead>\n",
       "    <tr style=\"text-align: right;\">\n",
       "      <th></th>\n",
       "      <th>Ground truth</th>\n",
       "      <th>Predictions Attention</th>\n",
       "      <th>Predictions Vanilla</th>\n",
       "    </tr>\n",
       "  </thead>\n",
       "  <tbody>\n",
       "    <tr>\n",
       "      <th>twitters</th>\n",
       "      <td>ट्विटर्स</td>\n",
       "      <td>ट्वियरटर्स</td>\n",
       "      <td>ट्विटर्स</td>\n",
       "    </tr>\n",
       "    <tr>\n",
       "      <th>ukhrul</th>\n",
       "      <td>उखरुल</td>\n",
       "      <td>उखरूल</td>\n",
       "      <td>उखरुल</td>\n",
       "    </tr>\n",
       "    <tr>\n",
       "      <th>iqbal</th>\n",
       "      <td>इक़बाल</td>\n",
       "      <td>इकबाल</td>\n",
       "      <td>इक़बाल</td>\n",
       "    </tr>\n",
       "    <tr>\n",
       "      <th>umanath</th>\n",
       "      <td>उमानाथ</td>\n",
       "      <td>उमनाथ</td>\n",
       "      <td>उमानाथ</td>\n",
       "    </tr>\n",
       "    <tr>\n",
       "      <th>sushrushaa</th>\n",
       "      <td>सुश्रुषा</td>\n",
       "      <td>सुष्रशषा</td>\n",
       "      <td>सुश्रुषा</td>\n",
       "    </tr>\n",
       "    <tr>\n",
       "      <th>...</th>\n",
       "      <td>...</td>\n",
       "      <td>...</td>\n",
       "      <td>...</td>\n",
       "    </tr>\n",
       "    <tr>\n",
       "      <th>prapt</th>\n",
       "      <td>प्राप्त</td>\n",
       "      <td>प्रप्त</td>\n",
       "      <td>प्राप्त</td>\n",
       "    </tr>\n",
       "    <tr>\n",
       "      <th>kanthahar</th>\n",
       "      <td>कंठहार</td>\n",
       "      <td>कंठहर</td>\n",
       "      <td>कंठहार</td>\n",
       "    </tr>\n",
       "    <tr>\n",
       "      <th>oxide</th>\n",
       "      <td>ऑक्साइड</td>\n",
       "      <td>आक्साइड</td>\n",
       "      <td>ऑक्साइड</td>\n",
       "    </tr>\n",
       "    <tr>\n",
       "      <th>shbana</th>\n",
       "      <td>शबाना</td>\n",
       "      <td>श्बाना</td>\n",
       "      <td>शबाना</td>\n",
       "    </tr>\n",
       "    <tr>\n",
       "      <th>khaatootolaa</th>\n",
       "      <td>खातूटोला</td>\n",
       "      <td>खातूतोला</td>\n",
       "      <td>खातूटोला</td>\n",
       "    </tr>\n",
       "  </tbody>\n",
       "</table>\n",
       "<p>385 rows × 3 columns</p>\n",
       "</div>"
      ],
      "text/plain": [
       "             Ground truth Predictions Attention Predictions Vanilla\n",
       "twitters         ट्विटर्स            ट्वियरटर्स            ट्विटर्स\n",
       "ukhrul              उखरुल                 उखरूल               उखरुल\n",
       "iqbal              इक़बाल                 इकबाल              इक़बाल\n",
       "umanath            उमानाथ                 उमनाथ              उमानाथ\n",
       "sushrushaa       सुश्रुषा              सुष्रशषा            सुश्रुषा\n",
       "...                   ...                   ...                 ...\n",
       "prapt             प्राप्त                प्रप्त             प्राप्त\n",
       "kanthahar          कंठहार                 कंठहर              कंठहार\n",
       "oxide             ऑक्साइड               आक्साइड             ऑक्साइड\n",
       "shbana              शबाना                श्बाना               शबाना\n",
       "khaatootolaa     खातूटोला              खातूतोला            खातूटोला\n",
       "\n",
       "[385 rows x 3 columns]"
      ]
     },
     "execution_count": 198,
     "metadata": {},
     "output_type": "execute_result"
    }
   ],
   "source": [
    "zz"
   ]
  },
  {
   "cell_type": "code",
   "execution_count": 184,
   "id": "07e62ee1",
   "metadata": {},
   "outputs": [
    {
     "ename": "KeyError",
     "evalue": "'Predictions'",
     "output_type": "error",
     "traceback": [
      "\u001b[0;31m---------------------------------------------------------------------------\u001b[0m",
      "\u001b[0;31mKeyError\u001b[0m                                  Traceback (most recent call last)",
      "File \u001b[0;32m/opt/anaconda/envs/shared_conda_env/lib/python3.10/site-packages/pandas/core/indexes/base.py:3629\u001b[0m, in \u001b[0;36mIndex.get_loc\u001b[0;34m(self, key, method, tolerance)\u001b[0m\n\u001b[1;32m   3628\u001b[0m \u001b[38;5;28;01mtry\u001b[39;00m:\n\u001b[0;32m-> 3629\u001b[0m     \u001b[38;5;28;01mreturn\u001b[39;00m \u001b[38;5;28;43mself\u001b[39;49m\u001b[38;5;241;43m.\u001b[39;49m\u001b[43m_engine\u001b[49m\u001b[38;5;241;43m.\u001b[39;49m\u001b[43mget_loc\u001b[49m\u001b[43m(\u001b[49m\u001b[43mcasted_key\u001b[49m\u001b[43m)\u001b[49m\n\u001b[1;32m   3630\u001b[0m \u001b[38;5;28;01mexcept\u001b[39;00m \u001b[38;5;167;01mKeyError\u001b[39;00m \u001b[38;5;28;01mas\u001b[39;00m err:\n",
      "File \u001b[0;32m/opt/anaconda/envs/shared_conda_env/lib/python3.10/site-packages/pandas/_libs/index.pyx:136\u001b[0m, in \u001b[0;36mpandas._libs.index.IndexEngine.get_loc\u001b[0;34m()\u001b[0m\n",
      "File \u001b[0;32m/opt/anaconda/envs/shared_conda_env/lib/python3.10/site-packages/pandas/_libs/index.pyx:163\u001b[0m, in \u001b[0;36mpandas._libs.index.IndexEngine.get_loc\u001b[0;34m()\u001b[0m\n",
      "File \u001b[0;32mpandas/_libs/hashtable_class_helper.pxi:5198\u001b[0m, in \u001b[0;36mpandas._libs.hashtable.PyObjectHashTable.get_item\u001b[0;34m()\u001b[0m\n",
      "File \u001b[0;32mpandas/_libs/hashtable_class_helper.pxi:5206\u001b[0m, in \u001b[0;36mpandas._libs.hashtable.PyObjectHashTable.get_item\u001b[0;34m()\u001b[0m\n",
      "\u001b[0;31mKeyError\u001b[0m: 'Predictions'",
      "\nThe above exception was the direct cause of the following exception:\n",
      "\u001b[0;31mKeyError\u001b[0m                                  Traceback (most recent call last)",
      "Cell \u001b[0;32mIn [184], line 1\u001b[0m\n\u001b[0;32m----> 1\u001b[0m df_correct\u001b[38;5;241m=\u001b[39mdf[df[\u001b[38;5;124m'\u001b[39m\u001b[38;5;124mGround truth\u001b[39m\u001b[38;5;124m'\u001b[39m]\u001b[38;5;241m==\u001b[39m\u001b[43mdf\u001b[49m\u001b[43m[\u001b[49m\u001b[38;5;124;43m'\u001b[39;49m\u001b[38;5;124;43mPredictions\u001b[39;49m\u001b[38;5;124;43m'\u001b[39;49m\u001b[43m]\u001b[49m]\n",
      "File \u001b[0;32m/opt/anaconda/envs/shared_conda_env/lib/python3.10/site-packages/pandas/core/frame.py:3505\u001b[0m, in \u001b[0;36mDataFrame.__getitem__\u001b[0;34m(self, key)\u001b[0m\n\u001b[1;32m   3503\u001b[0m \u001b[38;5;28;01mif\u001b[39;00m \u001b[38;5;28mself\u001b[39m\u001b[38;5;241m.\u001b[39mcolumns\u001b[38;5;241m.\u001b[39mnlevels \u001b[38;5;241m>\u001b[39m \u001b[38;5;241m1\u001b[39m:\n\u001b[1;32m   3504\u001b[0m     \u001b[38;5;28;01mreturn\u001b[39;00m \u001b[38;5;28mself\u001b[39m\u001b[38;5;241m.\u001b[39m_getitem_multilevel(key)\n\u001b[0;32m-> 3505\u001b[0m indexer \u001b[38;5;241m=\u001b[39m \u001b[38;5;28;43mself\u001b[39;49m\u001b[38;5;241;43m.\u001b[39;49m\u001b[43mcolumns\u001b[49m\u001b[38;5;241;43m.\u001b[39;49m\u001b[43mget_loc\u001b[49m\u001b[43m(\u001b[49m\u001b[43mkey\u001b[49m\u001b[43m)\u001b[49m\n\u001b[1;32m   3506\u001b[0m \u001b[38;5;28;01mif\u001b[39;00m is_integer(indexer):\n\u001b[1;32m   3507\u001b[0m     indexer \u001b[38;5;241m=\u001b[39m [indexer]\n",
      "File \u001b[0;32m/opt/anaconda/envs/shared_conda_env/lib/python3.10/site-packages/pandas/core/indexes/base.py:3631\u001b[0m, in \u001b[0;36mIndex.get_loc\u001b[0;34m(self, key, method, tolerance)\u001b[0m\n\u001b[1;32m   3629\u001b[0m     \u001b[38;5;28;01mreturn\u001b[39;00m \u001b[38;5;28mself\u001b[39m\u001b[38;5;241m.\u001b[39m_engine\u001b[38;5;241m.\u001b[39mget_loc(casted_key)\n\u001b[1;32m   3630\u001b[0m \u001b[38;5;28;01mexcept\u001b[39;00m \u001b[38;5;167;01mKeyError\u001b[39;00m \u001b[38;5;28;01mas\u001b[39;00m err:\n\u001b[0;32m-> 3631\u001b[0m     \u001b[38;5;28;01mraise\u001b[39;00m \u001b[38;5;167;01mKeyError\u001b[39;00m(key) \u001b[38;5;28;01mfrom\u001b[39;00m \u001b[38;5;21;01merr\u001b[39;00m\n\u001b[1;32m   3632\u001b[0m \u001b[38;5;28;01mexcept\u001b[39;00m \u001b[38;5;167;01mTypeError\u001b[39;00m:\n\u001b[1;32m   3633\u001b[0m     \u001b[38;5;66;03m# If we have a listlike key, _check_indexing_error will raise\u001b[39;00m\n\u001b[1;32m   3634\u001b[0m     \u001b[38;5;66;03m#  InvalidIndexError. Otherwise we fall through and re-raise\u001b[39;00m\n\u001b[1;32m   3635\u001b[0m     \u001b[38;5;66;03m#  the TypeError.\u001b[39;00m\n\u001b[1;32m   3636\u001b[0m     \u001b[38;5;28mself\u001b[39m\u001b[38;5;241m.\u001b[39m_check_indexing_error(key)\n",
      "\u001b[0;31mKeyError\u001b[0m: 'Predictions'"
     ]
    }
   ],
   "source": [
    "df_correct=df[df['Ground truth']==df['Predictions']]"
   ]
  },
  {
   "cell_type": "code",
   "execution_count": 42,
   "id": "cd5fde00",
   "metadata": {},
   "outputs": [
    {
     "data": {
      "text/html": [
       "<div>\n",
       "<style scoped>\n",
       "    .dataframe tbody tr th:only-of-type {\n",
       "        vertical-align: middle;\n",
       "    }\n",
       "\n",
       "    .dataframe tbody tr th {\n",
       "        vertical-align: top;\n",
       "    }\n",
       "\n",
       "    .dataframe thead th {\n",
       "        text-align: right;\n",
       "    }\n",
       "</style>\n",
       "<table border=\"1\" class=\"dataframe\">\n",
       "  <thead>\n",
       "    <tr style=\"text-align: right;\">\n",
       "      <th></th>\n",
       "      <th>Ground truth</th>\n",
       "      <th>Predictions</th>\n",
       "    </tr>\n",
       "  </thead>\n",
       "  <tbody>\n",
       "    <tr>\n",
       "      <th>sikhaaega</th>\n",
       "      <td>सिखाएगा</td>\n",
       "      <td>सिखाएगा</td>\n",
       "    </tr>\n",
       "    <tr>\n",
       "      <th>tirunelveli</th>\n",
       "      <td>तिरुनेलवेली</td>\n",
       "      <td>तिरुनेलवेली</td>\n",
       "    </tr>\n",
       "    <tr>\n",
       "      <th>independence</th>\n",
       "      <td>इंडिपेंडेंस</td>\n",
       "      <td>इंडिपेंडेंस</td>\n",
       "    </tr>\n",
       "    <tr>\n",
       "      <th>speshiyon</th>\n",
       "      <td>स्पेशियों</td>\n",
       "      <td>स्पेशियों</td>\n",
       "    </tr>\n",
       "    <tr>\n",
       "      <th>kolhapur</th>\n",
       "      <td>कोल्हापुर</td>\n",
       "      <td>कोल्हापुर</td>\n",
       "    </tr>\n",
       "    <tr>\n",
       "      <th>...</th>\n",
       "      <td>...</td>\n",
       "      <td>...</td>\n",
       "    </tr>\n",
       "    <tr>\n",
       "      <th>khairati</th>\n",
       "      <td>खैराती</td>\n",
       "      <td>खैराती</td>\n",
       "    </tr>\n",
       "    <tr>\n",
       "      <th>deshke</th>\n",
       "      <td>देशके</td>\n",
       "      <td>देशके</td>\n",
       "    </tr>\n",
       "    <tr>\n",
       "      <th>seho</th>\n",
       "      <td>सेहो</td>\n",
       "      <td>सेहो</td>\n",
       "    </tr>\n",
       "    <tr>\n",
       "      <th>belcha</th>\n",
       "      <td>बेलचा</td>\n",
       "      <td>बेलचा</td>\n",
       "    </tr>\n",
       "    <tr>\n",
       "      <th>preranapuree</th>\n",
       "      <td>प्रेरणापुरी</td>\n",
       "      <td>प्रेरणापुरी</td>\n",
       "    </tr>\n",
       "  </tbody>\n",
       "</table>\n",
       "<p>1739 rows × 2 columns</p>\n",
       "</div>"
      ],
      "text/plain": [
       "             Ground truth  Predictions\n",
       "sikhaaega         सिखाएगा      सिखाएगा\n",
       "tirunelveli   तिरुनेलवेली  तिरुनेलवेली\n",
       "independence  इंडिपेंडेंस  इंडिपेंडेंस\n",
       "speshiyon       स्पेशियों    स्पेशियों\n",
       "kolhapur        कोल्हापुर    कोल्हापुर\n",
       "...                   ...          ...\n",
       "khairati           खैराती       खैराती\n",
       "deshke              देशके        देशके\n",
       "seho                 सेहो         सेहो\n",
       "belcha              बेलचा        बेलचा\n",
       "preranapuree  प्रेरणापुरी  प्रेरणापुरी\n",
       "\n",
       "[1739 rows x 2 columns]"
      ]
     },
     "execution_count": 42,
     "metadata": {},
     "output_type": "execute_result"
    }
   ],
   "source": [
    "df_correct"
   ]
  },
  {
   "cell_type": "code",
   "execution_count": 43,
   "id": "a885e7be",
   "metadata": {},
   "outputs": [],
   "source": [
    "df_incorrect=df[df['Ground truth']!=df['Predictions']]"
   ]
  },
  {
   "cell_type": "code",
   "execution_count": 44,
   "id": "f470e19e",
   "metadata": {},
   "outputs": [
    {
     "data": {
      "text/html": [
       "<div>\n",
       "<style scoped>\n",
       "    .dataframe tbody tr th:only-of-type {\n",
       "        vertical-align: middle;\n",
       "    }\n",
       "\n",
       "    .dataframe tbody tr th {\n",
       "        vertical-align: top;\n",
       "    }\n",
       "\n",
       "    .dataframe thead th {\n",
       "        text-align: right;\n",
       "    }\n",
       "</style>\n",
       "<table border=\"1\" class=\"dataframe\">\n",
       "  <thead>\n",
       "    <tr style=\"text-align: right;\">\n",
       "      <th></th>\n",
       "      <th>Ground truth</th>\n",
       "      <th>Predictions</th>\n",
       "    </tr>\n",
       "  </thead>\n",
       "  <tbody>\n",
       "    <tr>\n",
       "      <th>learn</th>\n",
       "      <td>लर्न</td>\n",
       "      <td>लियन</td>\n",
       "    </tr>\n",
       "    <tr>\n",
       "      <th>twitters</th>\n",
       "      <td>ट्विटर्स</td>\n",
       "      <td>ट्वियरटर्स</td>\n",
       "    </tr>\n",
       "    <tr>\n",
       "      <th>shurooh</th>\n",
       "      <td>शुरूः</td>\n",
       "      <td>शुरूह</td>\n",
       "    </tr>\n",
       "    <tr>\n",
       "      <th>ajhar</th>\n",
       "      <td>अजहर</td>\n",
       "      <td>अझर</td>\n",
       "    </tr>\n",
       "    <tr>\n",
       "      <th>karaar</th>\n",
       "      <td>क़रार</td>\n",
       "      <td>करार</td>\n",
       "    </tr>\n",
       "    <tr>\n",
       "      <th>...</th>\n",
       "      <td>...</td>\n",
       "      <td>...</td>\n",
       "    </tr>\n",
       "    <tr>\n",
       "      <th>miti</th>\n",
       "      <td>मिति</td>\n",
       "      <td>मिटी</td>\n",
       "    </tr>\n",
       "    <tr>\n",
       "      <th>saflata</th>\n",
       "      <td>सफ़लता</td>\n",
       "      <td>सफलाता</td>\n",
       "    </tr>\n",
       "    <tr>\n",
       "      <th>shbana</th>\n",
       "      <td>शबाना</td>\n",
       "      <td>श्बाना</td>\n",
       "    </tr>\n",
       "    <tr>\n",
       "      <th>khaatootolaa</th>\n",
       "      <td>खातूटोला</td>\n",
       "      <td>खातूतोला</td>\n",
       "    </tr>\n",
       "    <tr>\n",
       "      <th>shivastava</th>\n",
       "      <td>शिवास्तव</td>\n",
       "      <td>शिवास्ता</td>\n",
       "    </tr>\n",
       "  </tbody>\n",
       "</table>\n",
       "<p>2356 rows × 2 columns</p>\n",
       "</div>"
      ],
      "text/plain": [
       "             Ground truth Predictions\n",
       "learn                लर्न        लियन\n",
       "twitters         ट्विटर्स  ट्वियरटर्स\n",
       "shurooh             शुरूः       शुरूह\n",
       "ajhar                अजहर         अझर\n",
       "karaar              क़रार        करार\n",
       "...                   ...         ...\n",
       "miti                 मिति        मिटी\n",
       "saflata            सफ़लता      सफलाता\n",
       "shbana              शबाना      श्बाना\n",
       "khaatootolaa     खातूटोला    खातूतोला\n",
       "shivastava       शिवास्तव    शिवास्ता\n",
       "\n",
       "[2356 rows x 2 columns]"
      ]
     },
     "execution_count": 44,
     "metadata": {},
     "output_type": "execute_result"
    }
   ],
   "source": [
    "df_incorrect"
   ]
  },
  {
   "cell_type": "code",
   "execution_count": 72,
   "id": "d1eff744",
   "metadata": {},
   "outputs": [],
   "source": [
    "import copy\n",
    "E=copy.deepcopy(the_model.encoder)\n",
    "A=copy.deepcopy(the_model.decoder.attention)\n",
    "D=copy.deepcopy(the_model.decoder)\n"
   ]
  },
  {
   "cell_type": "code",
   "execution_count": 50,
   "id": "fd1d0d09",
   "metadata": {},
   "outputs": [],
   "source": [
    "test_single_dataloader = DataLoader(test_data, batch_size=1,shuffle=False)"
   ]
  },
  {
   "cell_type": "code",
   "execution_count": 51,
   "id": "14edef9a",
   "metadata": {},
   "outputs": [],
   "source": [
    "word=next(iter(test_single_dataloader))"
   ]
  },
  {
   "cell_type": "code",
   "execution_count": 52,
   "id": "354bc629",
   "metadata": {},
   "outputs": [
    {
     "data": {
      "text/plain": [
       "{'input': tensor([[ 0, 19,  4, 10,  7,  9,  9, 17, 13,  9,  1,  2,  2,  2,  2,  2,  2,  2,\n",
       "           2,  2,  2,  2,  2,  2,  2,  2,  2,  2,  2,  2]], device='cuda:0'),\n",
       " 'output': tensor([[ 0, 29,  4, 47,  9, 41, 22,  9,  1,  2,  2,  2,  2,  2,  2,  2,  2,  2,\n",
       "           2,  2,  2,  2,  2,  2,  2,  2,  2,  2,  2,  2]], device='cuda:0')}"
      ]
     },
     "execution_count": 52,
     "metadata": {},
     "output_type": "execute_result"
    }
   ],
   "source": [
    "word"
   ]
  },
  {
   "cell_type": "code",
   "execution_count": 153,
   "id": "12641cb5",
   "metadata": {},
   "outputs": [],
   "source": [
    "o,h,c=E(word['input'])"
   ]
  },
  {
   "cell_type": "code",
   "execution_count": 154,
   "id": "12d24c52",
   "metadata": {},
   "outputs": [],
   "source": [
    "atts=A(o,h)"
   ]
  },
  {
   "cell_type": "code",
   "execution_count": 159,
   "id": "81b4b86a",
   "metadata": {},
   "outputs": [],
   "source": [
    "dd=D.embedding(word['output']).squeeze(0)"
   ]
  },
  {
   "cell_type": "code",
   "execution_count": 160,
   "id": "3048a19d",
   "metadata": {},
   "outputs": [],
   "source": [
    "aa=atts.squeeze(0)"
   ]
  },
  {
   "cell_type": "code",
   "execution_count": 161,
   "id": "c562d734",
   "metadata": {},
   "outputs": [],
   "source": [
    "ee=E.embedding(word['input']).squeeze(0)"
   ]
  },
  {
   "cell_type": "code",
   "execution_count": 162,
   "id": "ec57d741",
   "metadata": {},
   "outputs": [],
   "source": [
    "jj=torch.multiply(ee.transpose(0,1),aa)"
   ]
  },
  {
   "cell_type": "code",
   "execution_count": 163,
   "id": "c4c65453",
   "metadata": {},
   "outputs": [
    {
     "data": {
      "text/plain": [
       "torch.Size([32, 30])"
      ]
     },
     "execution_count": 163,
     "metadata": {},
     "output_type": "execute_result"
    }
   ],
   "source": [
    "jj.shape"
   ]
  },
  {
   "cell_type": "code",
   "execution_count": 164,
   "id": "056d2784",
   "metadata": {},
   "outputs": [
    {
     "data": {
      "text/plain": [
       "tensor([[ 0.1035, -0.3291,  0.4867,  0.5475,  0.4460,  0.2327, -0.6832,  0.6169,\n",
       "         -0.2406, -0.1695,  0.4852,  0.1325,  0.0606, -0.9081, -0.6675, -0.6335],\n",
       "        [ 0.0470, -0.1499,  0.2212,  0.2489,  0.2028,  0.1059, -0.3110,  0.2807,\n",
       "         -0.1095, -0.0770,  0.2208,  0.0601,  0.0274, -0.4134, -0.3036, -0.2882],\n",
       "        [ 0.1114, -0.3534,  0.5240,  0.5891,  0.4799,  0.2502, -0.7344,  0.6634,\n",
       "         -0.2586, -0.1824,  0.5216,  0.1430,  0.0654, -0.9761, -0.7181, -0.6815],\n",
       "        [-0.0205,  0.0654, -0.0966, -0.1087, -0.0886, -0.0463,  0.1358, -0.1225,\n",
       "          0.0478,  0.0336, -0.0964, -0.0262, -0.0120,  0.1804,  0.1325,  0.1258],\n",
       "        [ 0.0290, -0.0914,  0.1366,  0.1531,  0.1250,  0.0653, -0.1907,  0.1725,\n",
       "         -0.0668, -0.0472,  0.1353,  0.0372,  0.0174, -0.2533, -0.1863, -0.1773],\n",
       "        [-0.2183,  0.6942, -1.0266, -1.1550, -0.9408, -0.4906,  1.4414, -1.3013,\n",
       "          0.5077,  0.3577, -1.0236, -0.2798, -0.1277,  1.9158,  1.4084,  1.3365],\n",
       "        [ 0.0227, -0.0746,  0.1068,  0.1211,  0.0987,  0.0518, -0.1532,  0.1374,\n",
       "         -0.0541, -0.0375,  0.1086,  0.0285,  0.0126, -0.2037, -0.1484, -0.1408],\n",
       "        [ 0.0574, -0.1855,  0.2700,  0.3050,  0.2484,  0.1298, -0.3830,  0.3447,\n",
       "         -0.1353, -0.0946,  0.2718,  0.0730,  0.0327, -0.5092, -0.3729, -0.3536],\n",
       "        [-0.1004,  0.3210, -0.4720, -0.5318, -0.4331, -0.2261,  0.6651, -0.5998,\n",
       "          0.2345,  0.1648, -0.4722, -0.1283, -0.0581,  0.8841,  0.6491,  0.6158],\n",
       "        [-0.2931,  0.9312, -1.3787, -1.5505, -1.2630, -0.6588,  1.9342, -1.7467,\n",
       "          0.6811,  0.4800, -1.3736, -0.3757, -0.1718,  2.5708,  1.8903,  1.7940],\n",
       "        [-0.3416,  1.0868, -1.6068, -1.8076, -1.4725, -0.7682,  2.2563, -2.0370,\n",
       "          0.7946,  0.5597, -1.6022, -0.4376, -0.1999,  2.9989,  2.2042,  2.0920],\n",
       "        [ 0.2927, -0.9295,  1.3769,  1.5484,  1.2612,  0.6576, -1.9310,  1.7440,\n",
       "         -0.6800, -0.4794,  1.3715,  0.3755,  0.1717, -2.5665, -1.8876, -1.7914],\n",
       "        [-0.1472,  0.4716, -0.6924, -0.7803, -0.6357, -0.3320,  0.9768, -0.8806,\n",
       "          0.3444,  0.2417, -0.6933, -0.1879, -0.0851,  1.2984,  0.9526,  0.9039],\n",
       "        [-0.1690,  0.5387, -0.7953, -0.8951, -0.7290, -0.3802,  1.1177, -1.0088,\n",
       "          0.3939,  0.2773, -0.7937, -0.2166, -0.0985,  1.4857,  1.0919,  1.0359],\n",
       "        [ 0.2103, -0.6672,  0.9893,  1.1122,  0.9060,  0.4724, -1.3866,  1.2526,\n",
       "         -0.4882, -0.3443,  0.9848,  0.2699,  0.1236, -1.8429, -1.3557, -1.2867],\n",
       "        [-0.5114,  1.6262, -2.4056, -2.7059, -2.2044, -1.1500,  3.3770, -3.0490,\n",
       "          1.1891,  0.8377, -2.3980, -0.6552, -0.2995,  4.4883,  3.2992,  3.1314],\n",
       "        [ 0.3055, -0.9720,  1.4370,  1.6167,  1.3169,  0.6869, -2.0178,  1.8217,\n",
       "         -0.7108, -0.5007,  1.4330,  0.3914,  0.1786, -2.6820, -1.9715, -1.8708],\n",
       "        [-0.1209,  0.3851, -0.5687, -0.6401, -0.5212, -0.2718,  0.7990, -0.7212,\n",
       "          0.2817,  0.1983, -0.5675, -0.1549, -0.0705,  1.0621,  0.7807,  0.7406],\n",
       "        [-0.0547,  0.1748, -0.2574, -0.2902, -0.2360, -0.1230,  0.3622, -0.3268,\n",
       "          0.1280,  0.0900, -0.2574, -0.0702, -0.0316,  0.4816,  0.3541,  0.3355],\n",
       "        [ 0.1123, -0.3563,  0.5285,  0.5942,  0.4839,  0.2522, -0.7404,  0.6690,\n",
       "         -0.2608, -0.1840,  0.5260,  0.1443,  0.0660, -0.9841, -0.7242, -0.6872],\n",
       "        [ 0.2311, -0.7340,  1.0869,  1.2221,  0.9958,  0.5196, -1.5249,  1.3770,\n",
       "         -0.5367, -0.3782,  1.0828,  0.2960,  0.1357, -2.0266, -1.4898, -1.4144],\n",
       "        [ 0.1053, -0.3381,  0.4951,  0.5585,  0.4547,  0.2375, -0.6996,  0.6303,\n",
       "         -0.2469, -0.1731,  0.4966,  0.1343,  0.0605, -0.9300, -0.6821, -0.6468],\n",
       "        [ 0.2283, -0.7277,  1.0739,  1.2089,  0.9845,  0.5135, -1.5096,  1.3624,\n",
       "         -0.5321, -0.3745,  1.0720,  0.2925,  0.1330, -2.0066, -1.4746, -1.3990],\n",
       "        [ 0.1675, -0.5310,  0.7881,  0.8858,  0.7215,  0.3760, -1.1038,  0.9973,\n",
       "         -0.3887, -0.2743,  0.7841,  0.2152,  0.0986, -1.4671, -1.0796, -1.0246],\n",
       "        [-0.5063,  1.6103, -2.3815, -2.6789, -2.1825, -1.1386,  3.3436, -3.0188,\n",
       "          1.1774,  0.8293, -2.3743, -0.6485, -0.2964,  4.4440,  3.2664,  3.1003],\n",
       "        [-0.4897,  1.5572, -2.3033, -2.5909, -2.1107, -1.1011,  3.2335, -2.9194,\n",
       "          1.1386,  0.8021, -2.2961, -0.6273, -0.2867,  4.2977,  3.1590,  2.9984],\n",
       "        [-0.1348,  0.4274, -0.6341, -0.7127, -0.5806, -0.3028,  0.8885, -0.8026,\n",
       "          0.3127,  0.2206, -0.6310, -0.1729, -0.0793,  1.1808,  0.8686,  0.8245],\n",
       "        [-0.0375,  0.1184, -0.1766, -0.1981, -0.1616, -0.0844,  0.2467, -0.2231,\n",
       "          0.0866,  0.0612, -0.1752, -0.0481, -0.0224,  0.3278,  0.2412,  0.2292],\n",
       "        [-0.3317,  1.0549, -1.5605, -1.7554, -1.4299, -0.7457,  2.1904, -1.9777,\n",
       "          0.7716,  0.5436, -1.5556, -0.4252, -0.1941,  2.9114,  2.1405,  2.0312],\n",
       "        [-0.1552,  0.4966, -0.7300, -0.8224, -0.6699, -0.3498,  1.0290, -0.9278,\n",
       "          0.3627,  0.2548, -0.7305, -0.1981, -0.0898,  1.3678,  1.0038,  0.9524],\n",
       "        [-0.3573,  1.1374, -1.6806, -1.8910, -1.5404, -0.8037,  2.3610, -2.1312,\n",
       "          0.8316,  0.5855, -1.6765, -0.4576, -0.2087,  3.1380,  2.3062,  2.1886],\n",
       "        [ 0.0520, -0.1635,  0.2446,  0.2743,  0.2235,  0.1165, -0.3408,  0.3084,\n",
       "         -0.1197, -0.0848,  0.2422,  0.0669,  0.0311, -0.4529, -0.3338, -0.3170]],\n",
       "       device='cuda:0', grad_fn=<MmBackward0>)"
      ]
     },
     "execution_count": 164,
     "metadata": {},
     "output_type": "execute_result"
    }
   ],
   "source": [
    "torch.matmul(jj,dd)"
   ]
  },
  {
   "cell_type": "code",
   "execution_count": 169,
   "id": "d82aa29e",
   "metadata": {},
   "outputs": [],
   "source": [
    "import seaborn as sns"
   ]
  },
  {
   "cell_type": "code",
   "execution_count": 172,
   "id": "bea85029",
   "metadata": {},
   "outputs": [],
   "source": [
    "import pandas as pd"
   ]
  },
  {
   "cell_type": "code",
   "execution_count": null,
   "id": "ffdc7629",
   "metadata": {},
   "outputs": [],
   "source": []
  },
  {
   "cell_type": "code",
   "execution_count": 171,
   "id": "24485be3",
   "metadata": {},
   "outputs": [
    {
     "ename": "ValueError",
     "evalue": "Shape of passed values is (32, 16), indices imply (29, 16)",
     "output_type": "error",
     "traceback": [
      "\u001b[0;31m---------------------------------------------------------------------------\u001b[0m",
      "\u001b[0;31mValueError\u001b[0m                                Traceback (most recent call last)",
      "Cell \u001b[0;32mIn [171], line 1\u001b[0m\n\u001b[0;32m----> 1\u001b[0m \u001b[43mpd\u001b[49m\u001b[38;5;241;43m.\u001b[39;49m\u001b[43mDataFrame\u001b[49m\u001b[43m(\u001b[49m\u001b[43mtorch\u001b[49m\u001b[38;5;241;43m.\u001b[39;49m\u001b[43mmatmul\u001b[49m\u001b[43m(\u001b[49m\u001b[43mjj\u001b[49m\u001b[43m,\u001b[49m\u001b[43mdd\u001b[49m\u001b[43m)\u001b[49m\u001b[38;5;241;43m.\u001b[39;49m\u001b[43mdetach\u001b[49m\u001b[43m(\u001b[49m\u001b[43m)\u001b[49m\u001b[38;5;241;43m.\u001b[39;49m\u001b[43mcpu\u001b[49m\u001b[43m(\u001b[49m\u001b[43m)\u001b[49m\u001b[38;5;241;43m.\u001b[39;49m\u001b[43mnumpy\u001b[49m\u001b[43m(\u001b[49m\u001b[43m)\u001b[49m\u001b[43m,\u001b[49m\u001b[43mindex\u001b[49m\u001b[38;5;241;43m=\u001b[39;49m\u001b[43mindex_to_english_alphabet\u001b[49m\u001b[43m)\u001b[49m\n",
      "File \u001b[0;32m/opt/anaconda/envs/shared_conda_env/lib/python3.10/site-packages/pandas/core/frame.py:694\u001b[0m, in \u001b[0;36mDataFrame.__init__\u001b[0;34m(self, data, index, columns, dtype, copy)\u001b[0m\n\u001b[1;32m    684\u001b[0m         mgr \u001b[38;5;241m=\u001b[39m dict_to_mgr(\n\u001b[1;32m    685\u001b[0m             \u001b[38;5;66;03m# error: Item \"ndarray\" of \"Union[ndarray, Series, Index]\" has no\u001b[39;00m\n\u001b[1;32m    686\u001b[0m             \u001b[38;5;66;03m# attribute \"name\"\u001b[39;00m\n\u001b[0;32m   (...)\u001b[0m\n\u001b[1;32m    691\u001b[0m             typ\u001b[38;5;241m=\u001b[39mmanager,\n\u001b[1;32m    692\u001b[0m         )\n\u001b[1;32m    693\u001b[0m     \u001b[38;5;28;01melse\u001b[39;00m:\n\u001b[0;32m--> 694\u001b[0m         mgr \u001b[38;5;241m=\u001b[39m \u001b[43mndarray_to_mgr\u001b[49m\u001b[43m(\u001b[49m\n\u001b[1;32m    695\u001b[0m \u001b[43m            \u001b[49m\u001b[43mdata\u001b[49m\u001b[43m,\u001b[49m\n\u001b[1;32m    696\u001b[0m \u001b[43m            \u001b[49m\u001b[43mindex\u001b[49m\u001b[43m,\u001b[49m\n\u001b[1;32m    697\u001b[0m \u001b[43m            \u001b[49m\u001b[43mcolumns\u001b[49m\u001b[43m,\u001b[49m\n\u001b[1;32m    698\u001b[0m \u001b[43m            \u001b[49m\u001b[43mdtype\u001b[49m\u001b[38;5;241;43m=\u001b[39;49m\u001b[43mdtype\u001b[49m\u001b[43m,\u001b[49m\n\u001b[1;32m    699\u001b[0m \u001b[43m            \u001b[49m\u001b[43mcopy\u001b[49m\u001b[38;5;241;43m=\u001b[39;49m\u001b[43mcopy\u001b[49m\u001b[43m,\u001b[49m\n\u001b[1;32m    700\u001b[0m \u001b[43m            \u001b[49m\u001b[43mtyp\u001b[49m\u001b[38;5;241;43m=\u001b[39;49m\u001b[43mmanager\u001b[49m\u001b[43m,\u001b[49m\n\u001b[1;32m    701\u001b[0m \u001b[43m        \u001b[49m\u001b[43m)\u001b[49m\n\u001b[1;32m    703\u001b[0m \u001b[38;5;66;03m# For data is list-like, or Iterable (will consume into list)\u001b[39;00m\n\u001b[1;32m    704\u001b[0m \u001b[38;5;28;01melif\u001b[39;00m is_list_like(data):\n",
      "File \u001b[0;32m/opt/anaconda/envs/shared_conda_env/lib/python3.10/site-packages/pandas/core/internals/construction.py:351\u001b[0m, in \u001b[0;36mndarray_to_mgr\u001b[0;34m(values, index, columns, dtype, copy, typ)\u001b[0m\n\u001b[1;32m    346\u001b[0m \u001b[38;5;66;03m# _prep_ndarray ensures that values.ndim == 2 at this point\u001b[39;00m\n\u001b[1;32m    347\u001b[0m index, columns \u001b[38;5;241m=\u001b[39m _get_axes(\n\u001b[1;32m    348\u001b[0m     values\u001b[38;5;241m.\u001b[39mshape[\u001b[38;5;241m0\u001b[39m], values\u001b[38;5;241m.\u001b[39mshape[\u001b[38;5;241m1\u001b[39m], index\u001b[38;5;241m=\u001b[39mindex, columns\u001b[38;5;241m=\u001b[39mcolumns\n\u001b[1;32m    349\u001b[0m )\n\u001b[0;32m--> 351\u001b[0m \u001b[43m_check_values_indices_shape_match\u001b[49m\u001b[43m(\u001b[49m\u001b[43mvalues\u001b[49m\u001b[43m,\u001b[49m\u001b[43m \u001b[49m\u001b[43mindex\u001b[49m\u001b[43m,\u001b[49m\u001b[43m \u001b[49m\u001b[43mcolumns\u001b[49m\u001b[43m)\u001b[49m\n\u001b[1;32m    353\u001b[0m \u001b[38;5;28;01mif\u001b[39;00m typ \u001b[38;5;241m==\u001b[39m \u001b[38;5;124m\"\u001b[39m\u001b[38;5;124marray\u001b[39m\u001b[38;5;124m\"\u001b[39m:\n\u001b[1;32m    355\u001b[0m     \u001b[38;5;28;01mif\u001b[39;00m \u001b[38;5;28missubclass\u001b[39m(values\u001b[38;5;241m.\u001b[39mdtype\u001b[38;5;241m.\u001b[39mtype, \u001b[38;5;28mstr\u001b[39m):\n",
      "File \u001b[0;32m/opt/anaconda/envs/shared_conda_env/lib/python3.10/site-packages/pandas/core/internals/construction.py:422\u001b[0m, in \u001b[0;36m_check_values_indices_shape_match\u001b[0;34m(values, index, columns)\u001b[0m\n\u001b[1;32m    420\u001b[0m passed \u001b[38;5;241m=\u001b[39m values\u001b[38;5;241m.\u001b[39mshape\n\u001b[1;32m    421\u001b[0m implied \u001b[38;5;241m=\u001b[39m (\u001b[38;5;28mlen\u001b[39m(index), \u001b[38;5;28mlen\u001b[39m(columns))\n\u001b[0;32m--> 422\u001b[0m \u001b[38;5;28;01mraise\u001b[39;00m \u001b[38;5;167;01mValueError\u001b[39;00m(\u001b[38;5;124mf\u001b[39m\u001b[38;5;124m\"\u001b[39m\u001b[38;5;124mShape of passed values is \u001b[39m\u001b[38;5;132;01m{\u001b[39;00mpassed\u001b[38;5;132;01m}\u001b[39;00m\u001b[38;5;124m, indices imply \u001b[39m\u001b[38;5;132;01m{\u001b[39;00mimplied\u001b[38;5;132;01m}\u001b[39;00m\u001b[38;5;124m\"\u001b[39m)\n",
      "\u001b[0;31mValueError\u001b[0m: Shape of passed values is (32, 16), indices imply (29, 16)"
     ]
    }
   ],
   "source": [
    "pd.DataFrame(torch.matmul(jj,dd).detach().cpu().numpy(),index=index_to_english_alphabet)"
   ]
  },
  {
   "cell_type": "code",
   "execution_count": 168,
   "id": "45e3af87",
   "metadata": {},
   "outputs": [
    {
     "data": {
      "text/plain": [
       "<AxesSubplot:>"
      ]
     },
     "execution_count": 168,
     "metadata": {},
     "output_type": "execute_result"
    },
    {
     "data": {
      "image/png": "[encoded data removed]",
      "text/plain": [
       "<Figure size 640x480 with 2 Axes>"
      ]
     },
     "metadata": {},
     "output_type": "display_data"
    }
   ],
   "source": [
    "sns.heatmap()"
   ]
  },
  {
   "cell_type": "code",
   "execution_count": null,
   "id": "513de1cb",
   "metadata": {},
   "outputs": [],
   "source": []
  },
  {
   "cell_type": "code",
   "execution_count": null,
   "id": "fa4d6c18",
   "metadata": {},
   "outputs": [],
   "source": []
  },
  {
   "cell_type": "code",
   "execution_count": 67,
   "id": "381529da",
   "metadata": {},
   "outputs": [],
   "source": [
    "A(o,h)"
   ]
  },
  {
   "cell_type": "code",
   "execution_count": 70,
   "id": "e9ef9406",
   "metadata": {},
   "outputs": [
    {
     "data": {
      "text/plain": [
       "torch.Size([1, 30])"
      ]
     },
     "execution_count": 70,
     "metadata": {},
     "output_type": "execute_result"
    }
   ],
   "source": [
    "atts.forward(o,h).shape"
   ]
  },
  {
   "cell_type": "code",
   "execution_count": null,
   "id": "9edff0d9",
   "metadata": {},
   "outputs": [],
   "source": []
  },
  {
   "cell_type": "code",
   "execution_count": null,
   "id": "14a652bb",
   "metadata": {},
   "outputs": [],
   "source": [
    "impor"
   ]
  }
 ],
 "metadata": {
  "kernelspec": {
   "display_name": "Python 3 (ipykernel)",
   "language": "python",
   "name": "python3"
  },
  "language_info": {
   "codemirror_mode": {
    "name": "ipython",
    "version": 3
   },
   "file_extension": ".py",
   "mimetype": "text/x-python",
   "name": "python",
   "nbconvert_exporter": "python",
   "pygments_lexer": "ipython3",
   "version": "3.10.6"
  }
 },
 "nbformat": 4,
 "nbformat_minor": 5
}
